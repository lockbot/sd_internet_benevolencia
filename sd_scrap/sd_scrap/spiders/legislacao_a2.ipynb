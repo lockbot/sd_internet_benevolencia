{
 "cells": [
  {
   "cell_type": "code",
   "execution_count": 162,
   "metadata": {
    "collapsed": true,
    "ExecuteTime": {
     "end_time": "2023-07-28T05:17:00.909851448Z",
     "start_time": "2023-07-28T05:16:59.899686039Z"
    }
   },
   "outputs": [],
   "source": [
    "import numpy as np\n",
    "import pandas as pd\n",
    "import re\n",
    "import time\n",
    "import random"
   ]
  },
  {
   "cell_type": "code",
   "execution_count": 163,
   "outputs": [],
   "source": [
    "# referente a celula com:\n",
    "# normalize textual columns #1 to #4 with transformers from huggingface\n",
    "from transformers import AutoTokenizer, AutoModelForSequenceClassification, AdamW\n",
    "import torch\n",
    "from torch.nn import BCEWithLogitsLoss"
   ],
   "metadata": {
    "collapsed": false,
    "ExecuteTime": {
     "end_time": "2023-07-28T05:17:00.915244173Z",
     "start_time": "2023-07-28T05:16:59.921727086Z"
    }
   }
  },
  {
   "cell_type": "code",
   "execution_count": 164,
   "outputs": [],
   "source": [
    "# new libraries for splitting qualitative data and fine tune it\n",
    "from sklearn.model_selection import train_test_split\n",
    "from torch.utils.data import DataLoader\n",
    "from sklearn.metrics import f1_score"
   ],
   "metadata": {
    "collapsed": false,
    "ExecuteTime": {
     "end_time": "2023-07-28T05:17:00.915457119Z",
     "start_time": "2023-07-28T05:16:59.921827003Z"
    }
   }
  },
  {
   "cell_type": "code",
   "execution_count": 165,
   "outputs": [],
   "source": [
    "with open('../../busca.txt', 'r') as f:\n",
    "    busca = '../../' + f.read()\n",
    "del f"
   ],
   "metadata": {
    "collapsed": false,
    "ExecuteTime": {
     "end_time": "2023-07-28T05:17:00.917942806Z",
     "start_time": "2023-07-28T05:16:59.921885007Z"
    }
   }
  },
  {
   "cell_type": "markdown",
   "source": [
    "## Análise e Tratamento inicial\n",
    "dos dados"
   ],
   "metadata": {
    "collapsed": false
   }
  },
  {
   "cell_type": "code",
   "execution_count": 166,
   "outputs": [],
   "source": [
    "# Adiciona file_name ao Data_Frame a partir do índica\n",
    "# Necessário para percorrer os arquivos txt\n",
    "file_name_series = pd.read_csv('../../importador_frequenciado.csv', index_col='id').sort_index().file_name\n",
    "df = pd.read_csv('../../exportador_frequenciado.csv', index_col='id').sort_index()\n",
    "df['file_name'] = file_name_series\n",
    "del file_name_series"
   ],
   "metadata": {
    "collapsed": false,
    "ExecuteTime": {
     "end_time": "2023-07-28T05:17:00.937445729Z",
     "start_time": "2023-07-28T05:16:59.925757455Z"
    }
   }
  },
  {
   "cell_type": "code",
   "execution_count": 167,
   "outputs": [
    {
     "data": {
      "text/plain": "           lei  nº lei        data  \\\nid                                   \n1     L-12.015   12015  07/08/2009   \n2     L-12.965   12965  23/04/2014   \n3     L-13.179   13179  22/10/2015   \n4     L-11.300   11300  10/05/2006   \n5     L-12.686   12686  18/07/2012   \n6     L-13.828   13828  13/05/2019   \n7      L-9.755    9755  16/12/1998   \n8     L-14.172   14172  10/06/2021   \n9     L-11.341   11341  07/08/2006   \n10    L-11.829   11829  25/11/2008   \n238   L-13.898   13898  11/11/2019   \n239    L-8.666    8666  21/06/1993   \n240   L-11.977   11977  07/07/2009   \n241   L-14.194   14194  20/08/2021   \n242   L-13.473   13473  08/08/2017   \n243    L-6.404    6404  15/12/1976   \n244  DEL-5.452    9503  23/09/1997   \n245   L-10.406    5452  01/05/1943   \n246    L-5.869    5869  11/01/1973   \n247    L-9.503   10406  10/01/2002   \n\n    assunto: emenda lei [f()] / é emendado [f(x)] outro assunto [o]  assunto  \\\nid                                                                             \n1                                             f()                 o        2   \n2                                            f(x)               NaN      128   \n3                                             NaN               NaN        2   \n4                                             f()                 o        4   \n5                                             NaN               NaN        9   \n6                                             f()               NaN        3   \n7                                             NaN               NaN        4   \n8                                            f(x)               NaN       12   \n9                                             f()               NaN        4   \n10                                            f()               NaN        5   \n238                                           NaN                 o       74   \n239                                          f(x)                 o       42   \n240                                      f();f(x)                 o       29   \n241                                           NaN                 o       83   \n242                                           NaN                 o       69   \n243                                      f();f(x)                 o       19   \n244                                      f();f(x)                 o       59   \n245                                      f();f(x)                 o      124   \n246                                           NaN                 o        0   \n247                                          f(x)                 o        2   \n\n     n_palavras freq_assunto                                      quais_f  \\\nid                                                                          \n1          1799       0,111%                        ('altera', 'l', 8069)   \n2          6698       1,911%                                          NaN   \n3           328       0,610%                                          NaN   \n4          1434       0,279%                            (None, 'l', 9504)   \n5           181       4,972%                                          NaN   \n6           229       1,310%                       ('altera', 'l', 12485)   \n7           658       0,608%                                          NaN   \n8          1903       0,631%                                          NaN   \n9           227       1,762%                        ('altera', 'l', 5869)   \n10          944       0,530%                        ('altera', 'l', 8069)   \n238       39480       0,187%                                          NaN   \n239       31432       0,134%                                          NaN   \n240       34503       0,084%  ('altera', 'l', 6015);('altera', 'l', 8036)   \n241       45722       0,182%                                          NaN   \n242       73454       0,094%                                          NaN   \n243       60010       0,032%                           (None, 'l', 14195)   \n244       62198       0,095%                           (None, 'l', 13281)   \n245      217821       0,057%                           (None, 'dl', 8080)   \n246         281       0,000%                                          NaN   \n247        4026       0,050%                                          NaN   \n\n                                              quais_fx  ...  \\\nid                                                      ...   \n1                                                  NaN  ...   \n2                         ('redação dada', 'l', 13709)  ...   \n3                                                  NaN  ...   \n4                                                  NaN  ...   \n5                                                  NaN  ...   \n6                                                  NaN  ...   \n7                                                  NaN  ...   \n8    ('redação dada', 'l', 14351);('instituído', 'l...  ...   \n9                                                  NaN  ...   \n10                                                 NaN  ...   \n238                                                NaN  ...   \n239  ('incluído', 'l', 12873);('incluído', 'l', 127...  ...   \n240  ('incluído', 'l', 13465);('revogado', 'l', 134...  ...   \n241                                                NaN  ...   \n242                                                NaN  ...   \n243  ('redação\\ndada', 'l', 14195);('votações', 'l'...  ...   \n244  ('aprovada', 'l', 5452);('redação dada', 'l', ...  ...   \n245  ('redação dada', 'l', 12873);('incluído', 'l',...  ...   \n246                                                NaN  ...   \n247  ('incluído', 'l', 14382);('revogado', 'l', 143...  ...   \n\n    função social especificamente ligada ao assunto  \\\nid                                                    \n1                                               ECA   \n2                                               NaN   \n3                                               NaN   \n4                                     transparência   \n5                                               NaN   \n6                                               NaN   \n7                                               NaN   \n8                                               NaN   \n9                                               NaN   \n10                                              NaN   \n238                                             NaN   \n239                                             NaN   \n240                                             NaN   \n241                                             NaN   \n242                                             NaN   \n243                                             NaN   \n244                                             NaN   \n245                                             NaN   \n246                                             NaN   \n247                                             NaN   \n\n    ramo (dogmático) do direito        ramo (sociológico) do direito  \\\nid                                                                     \n1                         penal  violência;violência sexual;infância   \n2                         civil                          comunicação   \n3                         civil                            econômico   \n4                     eleitoral                             político   \n5                administrativo                             nacional   \n6                         civil                            econômico   \n7                administrativo                          burocrático   \n8                administrativo                          educacional   \n9                    processual                          burocrático   \n10                        penal  violência sexual;violência;infância   \n238                         NaN                                  NaN   \n239                         NaN                                  NaN   \n240                         NaN                                  NaN   \n241                         NaN                                  NaN   \n242                         NaN                                  NaN   \n243                         NaN                                  NaN   \n244                         NaN                                  NaN   \n245                         NaN                                  NaN   \n246                         NaN                                  NaN   \n247                         NaN                                  NaN   \n\n    imposição/reconhecimento (pelo jurídico)  ferramenta/ambiente  \\\nid                                                                  \n1                                  reconhece             ambiente   \n2                                  reconhece  ferramenta;ambiente   \n3                                      impõe             ambiente   \n4                                      impõe           ferramenta   \n5                                      impõe             ambiente   \n6                                      impõe  ferramenta;ambiente   \n7                                        NaN           ferramenta   \n8                                      impõe           ferramenta   \n9                                  reconhece             ambiente   \n10                                 reconhece             ambiente   \n238                                      NaN                  NaN   \n239                                      NaN                  NaN   \n240                                      NaN                  NaN   \n241                                      NaN                  NaN   \n242                                      NaN                  NaN   \n243                                      NaN                  NaN   \n244                                      NaN                  NaN   \n245                                      NaN                  NaN   \n246                                      NaN                  NaN   \n247                                      NaN                  NaN   \n\n    Artigo 1 revogado efetivamente revogada [r] Unnamed: 27 Unnamed: 28  \\\nid                                                                        \n1                 NaN                       NaN         NaN         NaN   \n2                 NaN                       NaN         NaN         NaN   \n3                 NaN                       NaN         NaN         NaN   \n4                 NaN                       NaN         NaN         NaN   \n5                 NaN                       NaN         NaN         NaN   \n6                 NaN                       NaN         NaN         NaN   \n7                 NaN                       NaN         NaN         NaN   \n8                 NaN                       NaN         NaN         NaN   \n9                 NaN                         r         NaN         NaN   \n10                NaN                       NaN         NaN         NaN   \n238               NaN                       NaN         NaN         NaN   \n239               NaN                       NaN         NaN         NaN   \n240               NaN                       NaN         NaN         NaN   \n241               NaN                       NaN         NaN         NaN   \n242               NaN                       NaN         NaN         NaN   \n243               NaN                       NaN         NaN         NaN   \n244               NaN                       NaN         NaN         NaN   \n245               NaN                       NaN         NaN         NaN   \n246                 r                       NaN         NaN         NaN   \n247               NaN                       NaN         NaN         NaN   \n\n       file_name  \nid                \n1         l12015  \n2         l12965  \n3         l13179  \n4         l11300  \n5         l12686  \n6         l13828  \n7          l9755  \n8         l14172  \n9         l11341  \n10        l11829  \n238       l13898  \n239    l8666cons  \n240       l11977  \n241       l14194  \n242       l13473  \n243  l6404consol  \n244        l9503  \n245      del5452  \n246        l5869  \n247       l10406  \n\n[20 rows x 29 columns]",
      "text/html": "<div>\n<style scoped>\n    .dataframe tbody tr th:only-of-type {\n        vertical-align: middle;\n    }\n\n    .dataframe tbody tr th {\n        vertical-align: top;\n    }\n\n    .dataframe thead th {\n        text-align: right;\n    }\n</style>\n<table border=\"1\" class=\"dataframe\">\n  <thead>\n    <tr style=\"text-align: right;\">\n      <th></th>\n      <th>lei</th>\n      <th>nº lei</th>\n      <th>data</th>\n      <th>assunto: emenda lei [f()] / é emendado [f(x)]</th>\n      <th>outro assunto [o]</th>\n      <th>assunto</th>\n      <th>n_palavras</th>\n      <th>freq_assunto</th>\n      <th>quais_f</th>\n      <th>quais_fx</th>\n      <th>...</th>\n      <th>função social especificamente ligada ao assunto</th>\n      <th>ramo (dogmático) do direito</th>\n      <th>ramo (sociológico) do direito</th>\n      <th>imposição/reconhecimento (pelo jurídico)</th>\n      <th>ferramenta/ambiente</th>\n      <th>Artigo 1 revogado</th>\n      <th>efetivamente revogada [r]</th>\n      <th>Unnamed: 27</th>\n      <th>Unnamed: 28</th>\n      <th>file_name</th>\n    </tr>\n    <tr>\n      <th>id</th>\n      <th></th>\n      <th></th>\n      <th></th>\n      <th></th>\n      <th></th>\n      <th></th>\n      <th></th>\n      <th></th>\n      <th></th>\n      <th></th>\n      <th></th>\n      <th></th>\n      <th></th>\n      <th></th>\n      <th></th>\n      <th></th>\n      <th></th>\n      <th></th>\n      <th></th>\n      <th></th>\n      <th></th>\n    </tr>\n  </thead>\n  <tbody>\n    <tr>\n      <th>1</th>\n      <td>L-12.015</td>\n      <td>12015</td>\n      <td>07/08/2009</td>\n      <td>f()</td>\n      <td>o</td>\n      <td>2</td>\n      <td>1799</td>\n      <td>0,111%</td>\n      <td>('altera', 'l', 8069)</td>\n      <td>NaN</td>\n      <td>...</td>\n      <td>ECA</td>\n      <td>penal</td>\n      <td>violência;violência sexual;infância</td>\n      <td>reconhece</td>\n      <td>ambiente</td>\n      <td>NaN</td>\n      <td>NaN</td>\n      <td>NaN</td>\n      <td>NaN</td>\n      <td>l12015</td>\n    </tr>\n    <tr>\n      <th>2</th>\n      <td>L-12.965</td>\n      <td>12965</td>\n      <td>23/04/2014</td>\n      <td>f(x)</td>\n      <td>NaN</td>\n      <td>128</td>\n      <td>6698</td>\n      <td>1,911%</td>\n      <td>NaN</td>\n      <td>('redação dada', 'l', 13709)</td>\n      <td>...</td>\n      <td>NaN</td>\n      <td>civil</td>\n      <td>comunicação</td>\n      <td>reconhece</td>\n      <td>ferramenta;ambiente</td>\n      <td>NaN</td>\n      <td>NaN</td>\n      <td>NaN</td>\n      <td>NaN</td>\n      <td>l12965</td>\n    </tr>\n    <tr>\n      <th>3</th>\n      <td>L-13.179</td>\n      <td>13179</td>\n      <td>22/10/2015</td>\n      <td>NaN</td>\n      <td>NaN</td>\n      <td>2</td>\n      <td>328</td>\n      <td>0,610%</td>\n      <td>NaN</td>\n      <td>NaN</td>\n      <td>...</td>\n      <td>NaN</td>\n      <td>civil</td>\n      <td>econômico</td>\n      <td>impõe</td>\n      <td>ambiente</td>\n      <td>NaN</td>\n      <td>NaN</td>\n      <td>NaN</td>\n      <td>NaN</td>\n      <td>l13179</td>\n    </tr>\n    <tr>\n      <th>4</th>\n      <td>L-11.300</td>\n      <td>11300</td>\n      <td>10/05/2006</td>\n      <td>f()</td>\n      <td>o</td>\n      <td>4</td>\n      <td>1434</td>\n      <td>0,279%</td>\n      <td>(None, 'l', 9504)</td>\n      <td>NaN</td>\n      <td>...</td>\n      <td>transparência</td>\n      <td>eleitoral</td>\n      <td>político</td>\n      <td>impõe</td>\n      <td>ferramenta</td>\n      <td>NaN</td>\n      <td>NaN</td>\n      <td>NaN</td>\n      <td>NaN</td>\n      <td>l11300</td>\n    </tr>\n    <tr>\n      <th>5</th>\n      <td>L-12.686</td>\n      <td>12686</td>\n      <td>18/07/2012</td>\n      <td>NaN</td>\n      <td>NaN</td>\n      <td>9</td>\n      <td>181</td>\n      <td>4,972%</td>\n      <td>NaN</td>\n      <td>NaN</td>\n      <td>...</td>\n      <td>NaN</td>\n      <td>administrativo</td>\n      <td>nacional</td>\n      <td>impõe</td>\n      <td>ambiente</td>\n      <td>NaN</td>\n      <td>NaN</td>\n      <td>NaN</td>\n      <td>NaN</td>\n      <td>l12686</td>\n    </tr>\n    <tr>\n      <th>6</th>\n      <td>L-13.828</td>\n      <td>13828</td>\n      <td>13/05/2019</td>\n      <td>f()</td>\n      <td>NaN</td>\n      <td>3</td>\n      <td>229</td>\n      <td>1,310%</td>\n      <td>('altera', 'l', 12485)</td>\n      <td>NaN</td>\n      <td>...</td>\n      <td>NaN</td>\n      <td>civil</td>\n      <td>econômico</td>\n      <td>impõe</td>\n      <td>ferramenta;ambiente</td>\n      <td>NaN</td>\n      <td>NaN</td>\n      <td>NaN</td>\n      <td>NaN</td>\n      <td>l13828</td>\n    </tr>\n    <tr>\n      <th>7</th>\n      <td>L-9.755</td>\n      <td>9755</td>\n      <td>16/12/1998</td>\n      <td>NaN</td>\n      <td>NaN</td>\n      <td>4</td>\n      <td>658</td>\n      <td>0,608%</td>\n      <td>NaN</td>\n      <td>NaN</td>\n      <td>...</td>\n      <td>NaN</td>\n      <td>administrativo</td>\n      <td>burocrático</td>\n      <td>NaN</td>\n      <td>ferramenta</td>\n      <td>NaN</td>\n      <td>NaN</td>\n      <td>NaN</td>\n      <td>NaN</td>\n      <td>l9755</td>\n    </tr>\n    <tr>\n      <th>8</th>\n      <td>L-14.172</td>\n      <td>14172</td>\n      <td>10/06/2021</td>\n      <td>f(x)</td>\n      <td>NaN</td>\n      <td>12</td>\n      <td>1903</td>\n      <td>0,631%</td>\n      <td>NaN</td>\n      <td>('redação dada', 'l', 14351);('instituído', 'l...</td>\n      <td>...</td>\n      <td>NaN</td>\n      <td>administrativo</td>\n      <td>educacional</td>\n      <td>impõe</td>\n      <td>ferramenta</td>\n      <td>NaN</td>\n      <td>NaN</td>\n      <td>NaN</td>\n      <td>NaN</td>\n      <td>l14172</td>\n    </tr>\n    <tr>\n      <th>9</th>\n      <td>L-11.341</td>\n      <td>11341</td>\n      <td>07/08/2006</td>\n      <td>f()</td>\n      <td>NaN</td>\n      <td>4</td>\n      <td>227</td>\n      <td>1,762%</td>\n      <td>('altera', 'l', 5869)</td>\n      <td>NaN</td>\n      <td>...</td>\n      <td>NaN</td>\n      <td>processual</td>\n      <td>burocrático</td>\n      <td>reconhece</td>\n      <td>ambiente</td>\n      <td>NaN</td>\n      <td>r</td>\n      <td>NaN</td>\n      <td>NaN</td>\n      <td>l11341</td>\n    </tr>\n    <tr>\n      <th>10</th>\n      <td>L-11.829</td>\n      <td>11829</td>\n      <td>25/11/2008</td>\n      <td>f()</td>\n      <td>NaN</td>\n      <td>5</td>\n      <td>944</td>\n      <td>0,530%</td>\n      <td>('altera', 'l', 8069)</td>\n      <td>NaN</td>\n      <td>...</td>\n      <td>NaN</td>\n      <td>penal</td>\n      <td>violência sexual;violência;infância</td>\n      <td>reconhece</td>\n      <td>ambiente</td>\n      <td>NaN</td>\n      <td>NaN</td>\n      <td>NaN</td>\n      <td>NaN</td>\n      <td>l11829</td>\n    </tr>\n    <tr>\n      <th>238</th>\n      <td>L-13.898</td>\n      <td>13898</td>\n      <td>11/11/2019</td>\n      <td>NaN</td>\n      <td>o</td>\n      <td>74</td>\n      <td>39480</td>\n      <td>0,187%</td>\n      <td>NaN</td>\n      <td>NaN</td>\n      <td>...</td>\n      <td>NaN</td>\n      <td>NaN</td>\n      <td>NaN</td>\n      <td>NaN</td>\n      <td>NaN</td>\n      <td>NaN</td>\n      <td>NaN</td>\n      <td>NaN</td>\n      <td>NaN</td>\n      <td>l13898</td>\n    </tr>\n    <tr>\n      <th>239</th>\n      <td>L-8.666</td>\n      <td>8666</td>\n      <td>21/06/1993</td>\n      <td>f(x)</td>\n      <td>o</td>\n      <td>42</td>\n      <td>31432</td>\n      <td>0,134%</td>\n      <td>NaN</td>\n      <td>('incluído', 'l', 12873);('incluído', 'l', 127...</td>\n      <td>...</td>\n      <td>NaN</td>\n      <td>NaN</td>\n      <td>NaN</td>\n      <td>NaN</td>\n      <td>NaN</td>\n      <td>NaN</td>\n      <td>NaN</td>\n      <td>NaN</td>\n      <td>NaN</td>\n      <td>l8666cons</td>\n    </tr>\n    <tr>\n      <th>240</th>\n      <td>L-11.977</td>\n      <td>11977</td>\n      <td>07/07/2009</td>\n      <td>f();f(x)</td>\n      <td>o</td>\n      <td>29</td>\n      <td>34503</td>\n      <td>0,084%</td>\n      <td>('altera', 'l', 6015);('altera', 'l', 8036)</td>\n      <td>('incluído', 'l', 13465);('revogado', 'l', 134...</td>\n      <td>...</td>\n      <td>NaN</td>\n      <td>NaN</td>\n      <td>NaN</td>\n      <td>NaN</td>\n      <td>NaN</td>\n      <td>NaN</td>\n      <td>NaN</td>\n      <td>NaN</td>\n      <td>NaN</td>\n      <td>l11977</td>\n    </tr>\n    <tr>\n      <th>241</th>\n      <td>L-14.194</td>\n      <td>14194</td>\n      <td>20/08/2021</td>\n      <td>NaN</td>\n      <td>o</td>\n      <td>83</td>\n      <td>45722</td>\n      <td>0,182%</td>\n      <td>NaN</td>\n      <td>NaN</td>\n      <td>...</td>\n      <td>NaN</td>\n      <td>NaN</td>\n      <td>NaN</td>\n      <td>NaN</td>\n      <td>NaN</td>\n      <td>NaN</td>\n      <td>NaN</td>\n      <td>NaN</td>\n      <td>NaN</td>\n      <td>l14194</td>\n    </tr>\n    <tr>\n      <th>242</th>\n      <td>L-13.473</td>\n      <td>13473</td>\n      <td>08/08/2017</td>\n      <td>NaN</td>\n      <td>o</td>\n      <td>69</td>\n      <td>73454</td>\n      <td>0,094%</td>\n      <td>NaN</td>\n      <td>NaN</td>\n      <td>...</td>\n      <td>NaN</td>\n      <td>NaN</td>\n      <td>NaN</td>\n      <td>NaN</td>\n      <td>NaN</td>\n      <td>NaN</td>\n      <td>NaN</td>\n      <td>NaN</td>\n      <td>NaN</td>\n      <td>l13473</td>\n    </tr>\n    <tr>\n      <th>243</th>\n      <td>L-6.404</td>\n      <td>6404</td>\n      <td>15/12/1976</td>\n      <td>f();f(x)</td>\n      <td>o</td>\n      <td>19</td>\n      <td>60010</td>\n      <td>0,032%</td>\n      <td>(None, 'l', 14195)</td>\n      <td>('redação\\ndada', 'l', 14195);('votações', 'l'...</td>\n      <td>...</td>\n      <td>NaN</td>\n      <td>NaN</td>\n      <td>NaN</td>\n      <td>NaN</td>\n      <td>NaN</td>\n      <td>NaN</td>\n      <td>NaN</td>\n      <td>NaN</td>\n      <td>NaN</td>\n      <td>l6404consol</td>\n    </tr>\n    <tr>\n      <th>244</th>\n      <td>DEL-5.452</td>\n      <td>9503</td>\n      <td>23/09/1997</td>\n      <td>f();f(x)</td>\n      <td>o</td>\n      <td>59</td>\n      <td>62198</td>\n      <td>0,095%</td>\n      <td>(None, 'l', 13281)</td>\n      <td>('aprovada', 'l', 5452);('redação dada', 'l', ...</td>\n      <td>...</td>\n      <td>NaN</td>\n      <td>NaN</td>\n      <td>NaN</td>\n      <td>NaN</td>\n      <td>NaN</td>\n      <td>NaN</td>\n      <td>NaN</td>\n      <td>NaN</td>\n      <td>NaN</td>\n      <td>l9503</td>\n    </tr>\n    <tr>\n      <th>245</th>\n      <td>L-10.406</td>\n      <td>5452</td>\n      <td>01/05/1943</td>\n      <td>f();f(x)</td>\n      <td>o</td>\n      <td>124</td>\n      <td>217821</td>\n      <td>0,057%</td>\n      <td>(None, 'dl', 8080)</td>\n      <td>('redação dada', 'l', 12873);('incluído', 'l',...</td>\n      <td>...</td>\n      <td>NaN</td>\n      <td>NaN</td>\n      <td>NaN</td>\n      <td>NaN</td>\n      <td>NaN</td>\n      <td>NaN</td>\n      <td>NaN</td>\n      <td>NaN</td>\n      <td>NaN</td>\n      <td>del5452</td>\n    </tr>\n    <tr>\n      <th>246</th>\n      <td>L-5.869</td>\n      <td>5869</td>\n      <td>11/01/1973</td>\n      <td>NaN</td>\n      <td>o</td>\n      <td>0</td>\n      <td>281</td>\n      <td>0,000%</td>\n      <td>NaN</td>\n      <td>NaN</td>\n      <td>...</td>\n      <td>NaN</td>\n      <td>NaN</td>\n      <td>NaN</td>\n      <td>NaN</td>\n      <td>NaN</td>\n      <td>r</td>\n      <td>NaN</td>\n      <td>NaN</td>\n      <td>NaN</td>\n      <td>l5869</td>\n    </tr>\n    <tr>\n      <th>247</th>\n      <td>L-9.503</td>\n      <td>10406</td>\n      <td>10/01/2002</td>\n      <td>f(x)</td>\n      <td>o</td>\n      <td>2</td>\n      <td>4026</td>\n      <td>0,050%</td>\n      <td>NaN</td>\n      <td>('incluído', 'l', 14382);('revogado', 'l', 143...</td>\n      <td>...</td>\n      <td>NaN</td>\n      <td>NaN</td>\n      <td>NaN</td>\n      <td>NaN</td>\n      <td>NaN</td>\n      <td>NaN</td>\n      <td>NaN</td>\n      <td>NaN</td>\n      <td>NaN</td>\n      <td>l10406</td>\n    </tr>\n  </tbody>\n</table>\n<p>20 rows × 29 columns</p>\n</div>"
     },
     "execution_count": 167,
     "metadata": {},
     "output_type": "execute_result"
    }
   ],
   "source": [
    "pd.concat([df.head(10), df.tail(10)])"
   ],
   "metadata": {
    "collapsed": false,
    "ExecuteTime": {
     "end_time": "2023-07-28T05:17:00.938748677Z",
     "start_time": "2023-07-28T05:16:59.968053346Z"
    }
   }
  },
  {
   "cell_type": "code",
   "execution_count": 168,
   "outputs": [
    {
     "data": {
      "text/plain": "           lei  nº lei        data  \\\nid                                   \n1     L-12.015   12015  07/08/2009   \n2     L-12.965   12965  23/04/2014   \n3     L-13.179   13179  22/10/2015   \n4     L-11.300   11300  10/05/2006   \n5     L-12.686   12686  18/07/2012   \n6     L-13.828   13828  13/05/2019   \n7      L-9.755    9755  16/12/1998   \n8     L-14.172   14172  10/06/2021   \n9     L-11.341   11341  07/08/2006   \n10    L-11.829   11829  25/11/2008   \n238   L-13.898   13898  11/11/2019   \n239    L-8.666    8666  21/06/1993   \n240   L-11.977   11977  07/07/2009   \n241   L-14.194   14194  20/08/2021   \n242   L-13.473   13473  08/08/2017   \n243    L-6.404    6404  15/12/1976   \n244  DEL-5.452    9503  23/09/1997   \n245   L-10.406    5452  01/05/1943   \n246    L-5.869    5869  11/01/1973   \n247    L-9.503   10406  10/01/2002   \n\n    assunto: emenda lei [f()] / é emendado [f(x)] outro assunto [o]  assunto  \\\nid                                                                             \n1                                             f()                 o        2   \n2                                            f(x)               NaN      128   \n3                                             NaN               NaN        2   \n4                                             f()                 o        4   \n5                                             NaN               NaN        9   \n6                                             f()               NaN        3   \n7                                             NaN               NaN        4   \n8                                            f(x)               NaN       12   \n9                                             f()               NaN        4   \n10                                            f()               NaN        5   \n238                                           NaN                 o       74   \n239                                          f(x)                 o       42   \n240                                      f();f(x)                 o       29   \n241                                           NaN                 o       83   \n242                                           NaN                 o       69   \n243                                      f();f(x)                 o       19   \n244                                      f();f(x)                 o       59   \n245                                      f();f(x)                 o      124   \n246                                           NaN                 o        0   \n247                                          f(x)                 o        2   \n\n     n_palavras freq_assunto                                      quais_f  \\\nid                                                                          \n1          1799       0,111%                        ('altera', 'l', 8069)   \n2          6698       1,911%                                          NaN   \n3           328       0,610%                                          NaN   \n4          1434       0,279%                            (None, 'l', 9504)   \n5           181       4,972%                                          NaN   \n6           229       1,310%                       ('altera', 'l', 12485)   \n7           658       0,608%                                          NaN   \n8          1903       0,631%                                          NaN   \n9           227       1,762%                        ('altera', 'l', 5869)   \n10          944       0,530%                        ('altera', 'l', 8069)   \n238       39480       0,187%                                          NaN   \n239       31432       0,134%                                          NaN   \n240       34503       0,084%  ('altera', 'l', 6015);('altera', 'l', 8036)   \n241       45722       0,182%                                          NaN   \n242       73454       0,094%                                          NaN   \n243       60010       0,032%                           (None, 'l', 14195)   \n244       62198       0,095%                           (None, 'l', 13281)   \n245      217821       0,057%                           (None, 'dl', 8080)   \n246         281       0,000%                                          NaN   \n247        4026       0,050%                                          NaN   \n\n                                              quais_fx  ... benevolência  \\\nid                                                      ...                \n1                                                  NaN  ...       ameaça   \n2                         ('redação dada', 'l', 13709)  ...    benefício   \n3                                                  NaN  ...    benefício   \n4                                                  NaN  ...    benefício   \n5                                                  NaN  ...    benefício   \n6                                                  NaN  ...       ameaça   \n7                                                  NaN  ...       neutra   \n8    ('redação dada', 'l', 14351);('instituído', 'l...  ...    benefício   \n9                                                  NaN  ...    benefício   \n10                                                 NaN  ...       ameaça   \n238                                                NaN  ...          NaN   \n239  ('incluído', 'l', 12873);('incluído', 'l', 127...  ...          NaN   \n240  ('incluído', 'l', 13465);('revogado', 'l', 134...  ...          NaN   \n241                                                NaN  ...          NaN   \n242                                                NaN  ...          NaN   \n243  ('redação\\ndada', 'l', 14195);('votações', 'l'...  ...          NaN   \n244  ('aprovada', 'l', 5452);('redação dada', 'l', ...  ...          NaN   \n245  ('redação dada', 'l', 12873);('incluído', 'l',...  ...          NaN   \n246                                                NaN  ...          NaN   \n247  ('incluído', 'l', 14382);('revogado', 'l', 143...  ...          NaN   \n\n                      função social  \\\nid                                    \n1    segurança;segurança sexual;ECA   \n2        valoração;inclusão;consumo   \n3                   cultura;consumo   \n4          democracia;transparência   \n5             inclusão;nacionalismo   \n6                           consumo   \n7                     transparência   \n8                 inclusão;educação   \n9                       burocrática   \n10   ECA;segurança;segurança sexual   \n238                             NaN   \n239                             NaN   \n240                             NaN   \n241                             NaN   \n242                             NaN   \n243                             NaN   \n244                             NaN   \n245                             NaN   \n246                             NaN   \n247                             NaN   \n\n    função social especificamente ligada ao assunto  \\\nid                                                    \n1                                               ECA   \n2                                               NaN   \n3                                               NaN   \n4                                     transparência   \n5                                               NaN   \n6                                               NaN   \n7                                               NaN   \n8                                               NaN   \n9                                               NaN   \n10                                              NaN   \n238                                             NaN   \n239                                             NaN   \n240                                             NaN   \n241                                             NaN   \n242                                             NaN   \n243                                             NaN   \n244                                             NaN   \n245                                             NaN   \n246                                             NaN   \n247                                             NaN   \n\n    ramo (dogmático) do direito        ramo (sociológico) do direito  \\\nid                                                                     \n1                         penal  violência;violência sexual;infância   \n2                         civil                          comunicação   \n3                         civil                            econômico   \n4                     eleitoral                             político   \n5                administrativo                             nacional   \n6                         civil                            econômico   \n7                administrativo                          burocrático   \n8                administrativo                          educacional   \n9                    processual                          burocrático   \n10                        penal  violência sexual;violência;infância   \n238                         NaN                                  NaN   \n239                         NaN                                  NaN   \n240                         NaN                                  NaN   \n241                         NaN                                  NaN   \n242                         NaN                                  NaN   \n243                         NaN                                  NaN   \n244                         NaN                                  NaN   \n245                         NaN                                  NaN   \n246                         NaN                                  NaN   \n247                         NaN                                  NaN   \n\n    imposição/reconhecimento (pelo jurídico)  ferramenta/ambiente  \\\nid                                                                  \n1                                  reconhece             ambiente   \n2                                  reconhece  ferramenta;ambiente   \n3                                      impõe             ambiente   \n4                                      impõe           ferramenta   \n5                                      impõe             ambiente   \n6                                      impõe  ferramenta;ambiente   \n7                                        NaN           ferramenta   \n8                                      impõe           ferramenta   \n9                                  reconhece             ambiente   \n10                                 reconhece             ambiente   \n238                                      NaN                  NaN   \n239                                      NaN                  NaN   \n240                                      NaN                  NaN   \n241                                      NaN                  NaN   \n242                                      NaN                  NaN   \n243                                      NaN                  NaN   \n244                                      NaN                  NaN   \n245                                      NaN                  NaN   \n246                                      NaN                  NaN   \n247                                      NaN                  NaN   \n\n    Artigo 1 revogado efetivamente revogada [r]    file_name  \nid                                                            \n1                 NaN                       NaN       l12015  \n2                 NaN                       NaN       l12965  \n3                 NaN                       NaN       l13179  \n4                 NaN                       NaN       l11300  \n5                 NaN                       NaN       l12686  \n6                 NaN                       NaN       l13828  \n7                 NaN                       NaN        l9755  \n8                 NaN                       NaN       l14172  \n9                 NaN                         r       l11341  \n10                NaN                       NaN       l11829  \n238               NaN                       NaN       l13898  \n239               NaN                       NaN    l8666cons  \n240               NaN                       NaN       l11977  \n241               NaN                       NaN       l14194  \n242               NaN                       NaN       l13473  \n243               NaN                       NaN  l6404consol  \n244               NaN                       NaN        l9503  \n245               NaN                       NaN      del5452  \n246                 r                       NaN        l5869  \n247               NaN                       NaN       l10406  \n\n[20 rows x 27 columns]",
      "text/html": "<div>\n<style scoped>\n    .dataframe tbody tr th:only-of-type {\n        vertical-align: middle;\n    }\n\n    .dataframe tbody tr th {\n        vertical-align: top;\n    }\n\n    .dataframe thead th {\n        text-align: right;\n    }\n</style>\n<table border=\"1\" class=\"dataframe\">\n  <thead>\n    <tr style=\"text-align: right;\">\n      <th></th>\n      <th>lei</th>\n      <th>nº lei</th>\n      <th>data</th>\n      <th>assunto: emenda lei [f()] / é emendado [f(x)]</th>\n      <th>outro assunto [o]</th>\n      <th>assunto</th>\n      <th>n_palavras</th>\n      <th>freq_assunto</th>\n      <th>quais_f</th>\n      <th>quais_fx</th>\n      <th>...</th>\n      <th>benevolência</th>\n      <th>função social</th>\n      <th>função social especificamente ligada ao assunto</th>\n      <th>ramo (dogmático) do direito</th>\n      <th>ramo (sociológico) do direito</th>\n      <th>imposição/reconhecimento (pelo jurídico)</th>\n      <th>ferramenta/ambiente</th>\n      <th>Artigo 1 revogado</th>\n      <th>efetivamente revogada [r]</th>\n      <th>file_name</th>\n    </tr>\n    <tr>\n      <th>id</th>\n      <th></th>\n      <th></th>\n      <th></th>\n      <th></th>\n      <th></th>\n      <th></th>\n      <th></th>\n      <th></th>\n      <th></th>\n      <th></th>\n      <th></th>\n      <th></th>\n      <th></th>\n      <th></th>\n      <th></th>\n      <th></th>\n      <th></th>\n      <th></th>\n      <th></th>\n      <th></th>\n      <th></th>\n    </tr>\n  </thead>\n  <tbody>\n    <tr>\n      <th>1</th>\n      <td>L-12.015</td>\n      <td>12015</td>\n      <td>07/08/2009</td>\n      <td>f()</td>\n      <td>o</td>\n      <td>2</td>\n      <td>1799</td>\n      <td>0,111%</td>\n      <td>('altera', 'l', 8069)</td>\n      <td>NaN</td>\n      <td>...</td>\n      <td>ameaça</td>\n      <td>segurança;segurança sexual;ECA</td>\n      <td>ECA</td>\n      <td>penal</td>\n      <td>violência;violência sexual;infância</td>\n      <td>reconhece</td>\n      <td>ambiente</td>\n      <td>NaN</td>\n      <td>NaN</td>\n      <td>l12015</td>\n    </tr>\n    <tr>\n      <th>2</th>\n      <td>L-12.965</td>\n      <td>12965</td>\n      <td>23/04/2014</td>\n      <td>f(x)</td>\n      <td>NaN</td>\n      <td>128</td>\n      <td>6698</td>\n      <td>1,911%</td>\n      <td>NaN</td>\n      <td>('redação dada', 'l', 13709)</td>\n      <td>...</td>\n      <td>benefício</td>\n      <td>valoração;inclusão;consumo</td>\n      <td>NaN</td>\n      <td>civil</td>\n      <td>comunicação</td>\n      <td>reconhece</td>\n      <td>ferramenta;ambiente</td>\n      <td>NaN</td>\n      <td>NaN</td>\n      <td>l12965</td>\n    </tr>\n    <tr>\n      <th>3</th>\n      <td>L-13.179</td>\n      <td>13179</td>\n      <td>22/10/2015</td>\n      <td>NaN</td>\n      <td>NaN</td>\n      <td>2</td>\n      <td>328</td>\n      <td>0,610%</td>\n      <td>NaN</td>\n      <td>NaN</td>\n      <td>...</td>\n      <td>benefício</td>\n      <td>cultura;consumo</td>\n      <td>NaN</td>\n      <td>civil</td>\n      <td>econômico</td>\n      <td>impõe</td>\n      <td>ambiente</td>\n      <td>NaN</td>\n      <td>NaN</td>\n      <td>l13179</td>\n    </tr>\n    <tr>\n      <th>4</th>\n      <td>L-11.300</td>\n      <td>11300</td>\n      <td>10/05/2006</td>\n      <td>f()</td>\n      <td>o</td>\n      <td>4</td>\n      <td>1434</td>\n      <td>0,279%</td>\n      <td>(None, 'l', 9504)</td>\n      <td>NaN</td>\n      <td>...</td>\n      <td>benefício</td>\n      <td>democracia;transparência</td>\n      <td>transparência</td>\n      <td>eleitoral</td>\n      <td>político</td>\n      <td>impõe</td>\n      <td>ferramenta</td>\n      <td>NaN</td>\n      <td>NaN</td>\n      <td>l11300</td>\n    </tr>\n    <tr>\n      <th>5</th>\n      <td>L-12.686</td>\n      <td>12686</td>\n      <td>18/07/2012</td>\n      <td>NaN</td>\n      <td>NaN</td>\n      <td>9</td>\n      <td>181</td>\n      <td>4,972%</td>\n      <td>NaN</td>\n      <td>NaN</td>\n      <td>...</td>\n      <td>benefício</td>\n      <td>inclusão;nacionalismo</td>\n      <td>NaN</td>\n      <td>administrativo</td>\n      <td>nacional</td>\n      <td>impõe</td>\n      <td>ambiente</td>\n      <td>NaN</td>\n      <td>NaN</td>\n      <td>l12686</td>\n    </tr>\n    <tr>\n      <th>6</th>\n      <td>L-13.828</td>\n      <td>13828</td>\n      <td>13/05/2019</td>\n      <td>f()</td>\n      <td>NaN</td>\n      <td>3</td>\n      <td>229</td>\n      <td>1,310%</td>\n      <td>('altera', 'l', 12485)</td>\n      <td>NaN</td>\n      <td>...</td>\n      <td>ameaça</td>\n      <td>consumo</td>\n      <td>NaN</td>\n      <td>civil</td>\n      <td>econômico</td>\n      <td>impõe</td>\n      <td>ferramenta;ambiente</td>\n      <td>NaN</td>\n      <td>NaN</td>\n      <td>l13828</td>\n    </tr>\n    <tr>\n      <th>7</th>\n      <td>L-9.755</td>\n      <td>9755</td>\n      <td>16/12/1998</td>\n      <td>NaN</td>\n      <td>NaN</td>\n      <td>4</td>\n      <td>658</td>\n      <td>0,608%</td>\n      <td>NaN</td>\n      <td>NaN</td>\n      <td>...</td>\n      <td>neutra</td>\n      <td>transparência</td>\n      <td>NaN</td>\n      <td>administrativo</td>\n      <td>burocrático</td>\n      <td>NaN</td>\n      <td>ferramenta</td>\n      <td>NaN</td>\n      <td>NaN</td>\n      <td>l9755</td>\n    </tr>\n    <tr>\n      <th>8</th>\n      <td>L-14.172</td>\n      <td>14172</td>\n      <td>10/06/2021</td>\n      <td>f(x)</td>\n      <td>NaN</td>\n      <td>12</td>\n      <td>1903</td>\n      <td>0,631%</td>\n      <td>NaN</td>\n      <td>('redação dada', 'l', 14351);('instituído', 'l...</td>\n      <td>...</td>\n      <td>benefício</td>\n      <td>inclusão;educação</td>\n      <td>NaN</td>\n      <td>administrativo</td>\n      <td>educacional</td>\n      <td>impõe</td>\n      <td>ferramenta</td>\n      <td>NaN</td>\n      <td>NaN</td>\n      <td>l14172</td>\n    </tr>\n    <tr>\n      <th>9</th>\n      <td>L-11.341</td>\n      <td>11341</td>\n      <td>07/08/2006</td>\n      <td>f()</td>\n      <td>NaN</td>\n      <td>4</td>\n      <td>227</td>\n      <td>1,762%</td>\n      <td>('altera', 'l', 5869)</td>\n      <td>NaN</td>\n      <td>...</td>\n      <td>benefício</td>\n      <td>burocrática</td>\n      <td>NaN</td>\n      <td>processual</td>\n      <td>burocrático</td>\n      <td>reconhece</td>\n      <td>ambiente</td>\n      <td>NaN</td>\n      <td>r</td>\n      <td>l11341</td>\n    </tr>\n    <tr>\n      <th>10</th>\n      <td>L-11.829</td>\n      <td>11829</td>\n      <td>25/11/2008</td>\n      <td>f()</td>\n      <td>NaN</td>\n      <td>5</td>\n      <td>944</td>\n      <td>0,530%</td>\n      <td>('altera', 'l', 8069)</td>\n      <td>NaN</td>\n      <td>...</td>\n      <td>ameaça</td>\n      <td>ECA;segurança;segurança sexual</td>\n      <td>NaN</td>\n      <td>penal</td>\n      <td>violência sexual;violência;infância</td>\n      <td>reconhece</td>\n      <td>ambiente</td>\n      <td>NaN</td>\n      <td>NaN</td>\n      <td>l11829</td>\n    </tr>\n    <tr>\n      <th>238</th>\n      <td>L-13.898</td>\n      <td>13898</td>\n      <td>11/11/2019</td>\n      <td>NaN</td>\n      <td>o</td>\n      <td>74</td>\n      <td>39480</td>\n      <td>0,187%</td>\n      <td>NaN</td>\n      <td>NaN</td>\n      <td>...</td>\n      <td>NaN</td>\n      <td>NaN</td>\n      <td>NaN</td>\n      <td>NaN</td>\n      <td>NaN</td>\n      <td>NaN</td>\n      <td>NaN</td>\n      <td>NaN</td>\n      <td>NaN</td>\n      <td>l13898</td>\n    </tr>\n    <tr>\n      <th>239</th>\n      <td>L-8.666</td>\n      <td>8666</td>\n      <td>21/06/1993</td>\n      <td>f(x)</td>\n      <td>o</td>\n      <td>42</td>\n      <td>31432</td>\n      <td>0,134%</td>\n      <td>NaN</td>\n      <td>('incluído', 'l', 12873);('incluído', 'l', 127...</td>\n      <td>...</td>\n      <td>NaN</td>\n      <td>NaN</td>\n      <td>NaN</td>\n      <td>NaN</td>\n      <td>NaN</td>\n      <td>NaN</td>\n      <td>NaN</td>\n      <td>NaN</td>\n      <td>NaN</td>\n      <td>l8666cons</td>\n    </tr>\n    <tr>\n      <th>240</th>\n      <td>L-11.977</td>\n      <td>11977</td>\n      <td>07/07/2009</td>\n      <td>f();f(x)</td>\n      <td>o</td>\n      <td>29</td>\n      <td>34503</td>\n      <td>0,084%</td>\n      <td>('altera', 'l', 6015);('altera', 'l', 8036)</td>\n      <td>('incluído', 'l', 13465);('revogado', 'l', 134...</td>\n      <td>...</td>\n      <td>NaN</td>\n      <td>NaN</td>\n      <td>NaN</td>\n      <td>NaN</td>\n      <td>NaN</td>\n      <td>NaN</td>\n      <td>NaN</td>\n      <td>NaN</td>\n      <td>NaN</td>\n      <td>l11977</td>\n    </tr>\n    <tr>\n      <th>241</th>\n      <td>L-14.194</td>\n      <td>14194</td>\n      <td>20/08/2021</td>\n      <td>NaN</td>\n      <td>o</td>\n      <td>83</td>\n      <td>45722</td>\n      <td>0,182%</td>\n      <td>NaN</td>\n      <td>NaN</td>\n      <td>...</td>\n      <td>NaN</td>\n      <td>NaN</td>\n      <td>NaN</td>\n      <td>NaN</td>\n      <td>NaN</td>\n      <td>NaN</td>\n      <td>NaN</td>\n      <td>NaN</td>\n      <td>NaN</td>\n      <td>l14194</td>\n    </tr>\n    <tr>\n      <th>242</th>\n      <td>L-13.473</td>\n      <td>13473</td>\n      <td>08/08/2017</td>\n      <td>NaN</td>\n      <td>o</td>\n      <td>69</td>\n      <td>73454</td>\n      <td>0,094%</td>\n      <td>NaN</td>\n      <td>NaN</td>\n      <td>...</td>\n      <td>NaN</td>\n      <td>NaN</td>\n      <td>NaN</td>\n      <td>NaN</td>\n      <td>NaN</td>\n      <td>NaN</td>\n      <td>NaN</td>\n      <td>NaN</td>\n      <td>NaN</td>\n      <td>l13473</td>\n    </tr>\n    <tr>\n      <th>243</th>\n      <td>L-6.404</td>\n      <td>6404</td>\n      <td>15/12/1976</td>\n      <td>f();f(x)</td>\n      <td>o</td>\n      <td>19</td>\n      <td>60010</td>\n      <td>0,032%</td>\n      <td>(None, 'l', 14195)</td>\n      <td>('redação\\ndada', 'l', 14195);('votações', 'l'...</td>\n      <td>...</td>\n      <td>NaN</td>\n      <td>NaN</td>\n      <td>NaN</td>\n      <td>NaN</td>\n      <td>NaN</td>\n      <td>NaN</td>\n      <td>NaN</td>\n      <td>NaN</td>\n      <td>NaN</td>\n      <td>l6404consol</td>\n    </tr>\n    <tr>\n      <th>244</th>\n      <td>DEL-5.452</td>\n      <td>9503</td>\n      <td>23/09/1997</td>\n      <td>f();f(x)</td>\n      <td>o</td>\n      <td>59</td>\n      <td>62198</td>\n      <td>0,095%</td>\n      <td>(None, 'l', 13281)</td>\n      <td>('aprovada', 'l', 5452);('redação dada', 'l', ...</td>\n      <td>...</td>\n      <td>NaN</td>\n      <td>NaN</td>\n      <td>NaN</td>\n      <td>NaN</td>\n      <td>NaN</td>\n      <td>NaN</td>\n      <td>NaN</td>\n      <td>NaN</td>\n      <td>NaN</td>\n      <td>l9503</td>\n    </tr>\n    <tr>\n      <th>245</th>\n      <td>L-10.406</td>\n      <td>5452</td>\n      <td>01/05/1943</td>\n      <td>f();f(x)</td>\n      <td>o</td>\n      <td>124</td>\n      <td>217821</td>\n      <td>0,057%</td>\n      <td>(None, 'dl', 8080)</td>\n      <td>('redação dada', 'l', 12873);('incluído', 'l',...</td>\n      <td>...</td>\n      <td>NaN</td>\n      <td>NaN</td>\n      <td>NaN</td>\n      <td>NaN</td>\n      <td>NaN</td>\n      <td>NaN</td>\n      <td>NaN</td>\n      <td>NaN</td>\n      <td>NaN</td>\n      <td>del5452</td>\n    </tr>\n    <tr>\n      <th>246</th>\n      <td>L-5.869</td>\n      <td>5869</td>\n      <td>11/01/1973</td>\n      <td>NaN</td>\n      <td>o</td>\n      <td>0</td>\n      <td>281</td>\n      <td>0,000%</td>\n      <td>NaN</td>\n      <td>NaN</td>\n      <td>...</td>\n      <td>NaN</td>\n      <td>NaN</td>\n      <td>NaN</td>\n      <td>NaN</td>\n      <td>NaN</td>\n      <td>NaN</td>\n      <td>NaN</td>\n      <td>r</td>\n      <td>NaN</td>\n      <td>l5869</td>\n    </tr>\n    <tr>\n      <th>247</th>\n      <td>L-9.503</td>\n      <td>10406</td>\n      <td>10/01/2002</td>\n      <td>f(x)</td>\n      <td>o</td>\n      <td>2</td>\n      <td>4026</td>\n      <td>0,050%</td>\n      <td>NaN</td>\n      <td>('incluído', 'l', 14382);('revogado', 'l', 143...</td>\n      <td>...</td>\n      <td>NaN</td>\n      <td>NaN</td>\n      <td>NaN</td>\n      <td>NaN</td>\n      <td>NaN</td>\n      <td>NaN</td>\n      <td>NaN</td>\n      <td>NaN</td>\n      <td>NaN</td>\n      <td>l10406</td>\n    </tr>\n  </tbody>\n</table>\n<p>20 rows × 27 columns</p>\n</div>"
     },
     "metadata": {},
     "output_type": "display_data"
    }
   ],
   "source": [
    "df = df.loc[:,~df.columns.str.match(r'Unnamed')]\n",
    "display(pd.concat([df.head(10), df.tail(10)]))"
   ],
   "metadata": {
    "collapsed": false,
    "ExecuteTime": {
     "end_time": "2023-07-28T05:17:00.940601878Z",
     "start_time": "2023-07-28T05:16:59.986300097Z"
    }
   }
  },
  {
   "cell_type": "code",
   "execution_count": 169,
   "outputs": [
    {
     "name": "stdout",
     "output_type": "stream",
     "text": [
      "<class 'pandas.core.frame.DataFrame'>\n",
      "Int64Index: 247 entries, 1 to 247\n",
      "Data columns (total 27 columns):\n",
      " #   Column                                           Non-Null Count  Dtype  \n",
      "---  ------                                           --------------  -----  \n",
      " 0   lei                                              247 non-null    object \n",
      " 1   nº lei                                           247 non-null    int64  \n",
      " 2   data                                             247 non-null    object \n",
      " 3   assunto: emenda lei [f()] / é emendado [f(x)]    170 non-null    object \n",
      " 4   outro assunto [o]                                204 non-null    object \n",
      " 5   assunto                                          247 non-null    int64  \n",
      " 6   n_palavras                                       247 non-null    int64  \n",
      " 7   freq_assunto                                     247 non-null    float64\n",
      " 8   quais_f                                          124 non-null    object \n",
      " 9   quais_fx                                         105 non-null    object \n",
      " 10  quais_f_o                                        135 non-null    object \n",
      " 11  quais_fx_o                                       141 non-null    object \n",
      " 12  epígrafe                                         247 non-null    object \n",
      " 13  ementa                                           247 non-null    object \n",
      " 14  Artigo 1º                                        247 non-null    object \n",
      " 15  URL                                              247 non-null    object \n",
      " 16  dimensão                                         73 non-null     object \n",
      " 17  benevolência                                     73 non-null     object \n",
      " 18  função social                                    73 non-null     object \n",
      " 19  função social especificamente ligada ao assunto  30 non-null     object \n",
      " 20  ramo (dogmático) do direito                      73 non-null     object \n",
      " 21  ramo (sociológico) do direito                    73 non-null     object \n",
      " 22  imposição/reconhecimento (pelo jurídico)         68 non-null     object \n",
      " 23  ferramenta/ambiente                              73 non-null     object \n",
      " 24  Artigo 1 revogado                                8 non-null      object \n",
      " 25  efetivamente revogada [r]                        5 non-null      object \n",
      " 26  file_name                                        247 non-null    object \n",
      "dtypes: float64(1), int64(3), object(23)\n",
      "memory usage: 54.0+ KB\n"
     ]
    },
    {
     "data": {
      "text/plain": "None"
     },
     "metadata": {},
     "output_type": "display_data"
    },
    {
     "name": "stdout",
     "output_type": "stream",
     "text": [
      "__________________________________________________\n",
      "lei\n"
     ]
    },
    {
     "data": {
      "text/plain": "L-12.015    1\nL-13.281    1\nL-10.179    1\nLCP-196     1\nL-14.046    1\n           ..\nL-12.192    1\nL-13.019    1\nL-14.109    1\nL-13.499    1\nL-9.503     1\nName: lei, Length: 247, dtype: int64"
     },
     "metadata": {},
     "output_type": "display_data"
    },
    {
     "name": "stdout",
     "output_type": "stream",
     "text": [
      "_____\n",
      "nº lei\n"
     ]
    },
    {
     "data": {
      "text/plain": "12015    1\n13281    1\n10179    1\n196      1\n14046    1\n        ..\n12192    1\n13019    1\n14109    1\n13499    1\n10406    1\nName: nº lei, Length: 247, dtype: int64"
     },
     "metadata": {},
     "output_type": "display_data"
    },
    {
     "name": "stdout",
     "output_type": "stream",
     "text": [
      "_____\n",
      "data\n"
     ]
    },
    {
     "data": {
      "text/plain": "26/06/2015    3\n21/12/2022    3\n30/11/2012    2\n11/08/2004    2\n27/05/2009    2\n             ..\n31/07/2014    1\n16/12/2020    1\n26/10/2017    1\n29/03/2021    1\n10/01/2002    1\nName: data, Length: 238, dtype: int64"
     },
     "metadata": {},
     "output_type": "display_data"
    },
    {
     "name": "stdout",
     "output_type": "stream",
     "text": [
      "_____\n",
      "assunto: emenda lei [f()] / é emendado [f(x)]\n"
     ]
    },
    {
     "data": {
      "text/plain": "f()         63\nf();f(x)    59\nf(x)        46\n;f()         2\nName: assunto: emenda lei [f()] / é emendado [f(x)], dtype: int64"
     },
     "metadata": {},
     "output_type": "display_data"
    },
    {
     "name": "stdout",
     "output_type": "stream",
     "text": [
      "_____\n",
      "outro assunto [o]\n"
     ]
    },
    {
     "data": {
      "text/plain": "o      202\no;?      2\nName: outro assunto [o], dtype: int64"
     },
     "metadata": {},
     "output_type": "display_data"
    },
    {
     "name": "stdout",
     "output_type": "stream",
     "text": [
      "_____\n",
      "assunto\n"
     ]
    },
    {
     "data": {
      "text/plain": "2      22\n5      20\n4      19\n1      17\n3      17\n       ..\n35      1\n49      1\n95      1\n28      1\n124     1\nName: assunto, Length: 71, dtype: int64"
     },
     "metadata": {},
     "output_type": "display_data"
    },
    {
     "name": "stdout",
     "output_type": "stream",
     "text": [
      "_____\n",
      "n_palavras\n"
     ]
    },
    {
     "data": {
      "text/plain": "489      2\n1799     1\n10494    1\n3672     1\n3859     1\n        ..\n23887    1\n2107     1\n539      1\n7019     1\n4026     1\nName: n_palavras, Length: 246, dtype: int64"
     },
     "metadata": {},
     "output_type": "display_data"
    },
    {
     "name": "stdout",
     "output_type": "stream",
     "text": [
      "_____\n",
      "freq_assunto\n"
     ]
    },
    {
     "data": {
      "text/plain": "0.00127    4\n0.00053    4\n0.00142    3\n0.00048    3\n0.00060    3\n          ..\n0.00696    1\n0.00174    1\n0.00287    1\n0.00281    1\n0.00057    1\nName: freq_assunto, Length: 195, dtype: int64"
     },
     "metadata": {},
     "output_type": "display_data"
    },
    {
     "name": "stdout",
     "output_type": "stream",
     "text": [
      "_____\n",
      "quais_f\n"
     ]
    },
    {
     "data": {
      "text/plain": "('altera', 'l', 8069)                                                                    5\n('altera', 'l', 10833)                                                                   2\n('altera', 'l', 10933)                                                                   2\n('altera', 'l', 10233)                                                                   2\n('altera', 'l', 8212)                                                                    2\n                                                                                        ..\n(None, 'l', 10940)                                                                       1\n('altera', 'l', 6404)                                                                    1\n('altera', 'l', 10826)                                                                   1\n('revoga', 'l', 13488);('altera', 'l', 9504);(None, 'dl', 5452);('altera', 'l', 9096)    1\n(None, 'dl', 8080)                                                                       1\nName: quais_f, Length: 110, dtype: int64"
     },
     "metadata": {},
     "output_type": "display_data"
    },
    {
     "name": "stdout",
     "output_type": "stream",
     "text": [
      "_____\n",
      "quais_fx\n"
     ]
    },
    {
     "data": {
      "text/plain": "('aprovada', 'l', 5452)                                                                                                                                                                                                                                                                                                                                                                                                                                                                                                                                                            12\n('aprovada', 'l', 5452);('aprovada', 'dl', 5452)                                                                                                                                                                                                                                                                                                                                                                                                                                                                                                                                    2\n('redação dada', 'l', 13709)                                                                                                                                                                                                                                                                                                                                                                                                                                                                                                                                                        1\n('redação dada', 'l', 13682);('incluído', 'l', 13682)                                                                                                                                                                                                                                                                                                                                                                                                                                                                                                                               1\n('incluído', 'l', 12873);('incluído', 'l', 12715);('revogado', 'l', 12715);('redação dada', 'l', 14195);('incluído', 'l', 14195);('revogado', 'l', 14195);('incluída', 'l', 12715);('incluída', 'l', 14195);('redação\\ndada', 'l', 13043);('redação dada', 'l', 13043);('redação\\ndada', 'l', 12715);('incluído', 'l', 13043);('redação dada', 'l', 12715)                                                                                                                                                                                                                          1\n                                                                                                                                                                                                                                                                                                                                                                                                                                                                                                                                                                                   ..\n('redação dada', 'l', 13284);('redação dada', 'l', 13173);('incluído', 'l', 13173);('incluído', 'l', 13284);('revogado', 'l', 13284);('redação\\ndada', 'l', 13284)                                                                                                                                                                                                                                                                                                                                                                                                                  1\n('incluído', 'l', 13488);('redação dada', 'l', 13165);('incluído', 'l', 14291);('redação dada', 'l', 9504);('incluído', 'l', 13165);('aprovada', 'l', 5452);('revogado', 'l', 13165);('redação\\ndada', 'l', 14063);('incluído', 'l', 9504);('redação dada', 'l', 13877);('revogado', 'l', 9504);('redação dada', 'l', 14063);('incluído', 'l', 13877);('redação dada', 'l', 12891);('incluído', 'l', 12891);('renumerado', 'l', 13877);('incluído', 'l', 14192);('redação dada', 'l', 12034);('incluído', 'l', 12034);('redação dada', 'l', 13488);('redação dada', 'l', 14291)     1\n('incluído', 'l', 14065);('redação dada', 'l', 14065);('redação dada', 'l', 14035);('incluído', 'l', 14035)                                                                                                                                                                                                                                                                                                                                                                                                                                                                         1\n('redação dada', 'l', 14273)                                                                                                                                                                                                                                                                                                                                                                                                                                                                                                                                                        1\n('incluído', 'l', 14382);('revogado', 'l', 14382);('revogado', 'l', 12010);('redação dada', 'l', 13146)                                                                                                                                                                                                                                                                                                                                                                                                                                                                             1\nName: quais_fx, Length: 93, dtype: int64"
     },
     "metadata": {},
     "output_type": "display_data"
    },
    {
     "name": "stdout",
     "output_type": "stream",
     "text": [
      "_____\n",
      "quais_f_o\n"
     ]
    },
    {
     "data": {
      "text/plain": "('altera', 'l', 9008)                                                                                                                                                                                                                                                                                                           2\n(None, 'l', 4)                                                                                                                                                                                                                                                                                                                  2\n('altera', 'l', 5474);(None, 'l', 9432);(None, 'dl', 2784);(None, 'l', 6);('altera', 'l', 11033);('altera', 'l', 9432)                                                                                                                                                                                                          1\n(None, 'l', 10684);('altera', 'l', 9317);('altera', 'l', 8383);('altera', 'l', 8387);('altera', 'l', 8248);('altera', 'l', 8850);(None, 'l', 10865);(None, 'dl', 37);('altera', 'l', 9493);('altera', 'l', 4502);('altera', 'l', 8631);('altera', 'l', 10753);('altera', 'dl', 399);('altera', 'l', 10637);(None, 'l', 8857)    1\n(None, 'l', 10424)                                                                                                                                                                                                                                                                                                              1\n                                                                                                                                                                                                                                                                                                                               ..\n('revoga', 'l', 13989)                                                                                                                                                                                                                                                                                                          1\n('altera', 'l', 8934);('revoga', 'dl', 1715)                                                                                                                                                                                                                                                                                    1\n(None, 'l', 101);(None, 'l', 2009)                                                                                                                                                                                                                                                                                              1\n('altera', 'l', 10973);(None, 'l', 11273)                                                                                                                                                                                                                                                                                       1\n(None, 'dl', 8737);(None, 'l', 5686);(None, 'l', 13467);(None, 'dl', 8740);(None, 'dl', 229);(None, 'dl', 8987);(None, 'l', 6514);(None, 'dl', 926);(None, 'l', 8630);(None, 'l', 13103)                                                                                                                                        1\nName: quais_f_o, Length: 133, dtype: int64"
     },
     "metadata": {},
     "output_type": "display_data"
    },
    {
     "name": "stdout",
     "output_type": "stream",
     "text": [
      "_____\n",
      "quais_fx_o\n"
     ]
    },
    {
     "data": {
      "text/plain": "('revogado', 'l', 11692)                                                                                                                                                                      2\n('instituídos', 'l', 2288);('alterado', 'l', 102)                                                                                                                                             2\n('redação dada', 'l', 13001);('incluído', 'l', 10279);('renumerado', 'l', 10279);('incluído', 'l', 13001);('incluído', 'l', 14119);('redação\\ndada', 'l', 13001)                              1\n('revogado', 'l', 13756)                                                                                                                                                                      1\n('redação dada', 'l', 13813);('instituído', 'l', 11124);('revogado', 'l', 13813)                                                                                                              1\n                                                                                                                                                                                             ..\n('revogado', 'l', 14375)                                                                                                                                                                      1\n('introduzidas', 'l', 135)                                                                                                                                                                    1\n('redação\\ndada', 'l', 11086);('incluído', 'l', 11086);('estabelecida', 'l', 198);('redação dada', 'l', 11086)                                                                                1\n('revogado', 'l', 14460)                                                                                                                                                                      1\n('redação dada', 'l', 11107);('redação dada', 'l', 13874);('incluído', 'l', 13874);('incluído', 'l', 12441);('redação dada', 'l', 11127);('incluído', 'l', 11127);('incluído', 'l', 10825)    1\nName: quais_fx_o, Length: 139, dtype: int64"
     },
     "metadata": {},
     "output_type": "display_data"
    },
    {
     "name": "stdout",
     "output_type": "stream",
     "text": [
      "_____\n",
      "epígrafe\n"
     ]
    },
    {
     "data": {
      "text/plain": "LEI Nº 12.015, DE 7 DE AGOSTO DE 2009.              1\nLEI Nº 13.281, DE 4 DE MAIO DE 2016.                1\nLEI Nº 10.179, DE 6 DE FEVEREIRO DE 2001.           1\nLEI COMPLEMENTAR Nº 196, DE 24 DE AGOSTO DE 2022    1\nLEI Nº 14.046, DE 24 DE AGOSTO DE 2020              1\n                                                   ..\nLEI Nº 12.192, DE 14 DE JANEIRO DE 2010.            1\nLEI Nº 13.019, DE 31 DE JULHO DE 2014.              1\nLEI Nº 14.109, DE 16 DE DEZEMBRO DE 2020            1\nLEI Nº 13.499, DE 26 DE OUTUBRO DE 2017.            1\nLEI Nº 10.406, DE 10 DE JANEIRO DE 2002             1\nName: epígrafe, Length: 247, dtype: int64"
     },
     "metadata": {},
     "output_type": "display_data"
    },
    {
     "name": "stdout",
     "output_type": "stream",
     "text": [
      "_____\n",
      "ementa\n"
     ]
    },
    {
     "data": {
      "text/plain": "Altera a Lei nº 10.933, de 11 de agosto de 2004, que dispõe sobre o Plano Plurianual para o período 2004/2007.                                                                                                                                                                                                                                                                                                                                                                                                                                                                                                                                                                                                                                                                                                                                                                                                                                                                                                                                                                                                                                                                      2\nAltera o Título VI da Parte Especial do Decreto-Lei nº 2.848, de 7 de dezembro de 1940 - Código Penal, e o art. 1º da Lei nº 8.072, de 25 de julho de 1990, que dispõe sobre os crimes hediondos, nos termos do inciso XLIII do art. 5º da Constituição Federal e revoga a Lei nº 2.252, de 1º de julho de 1954, que trata de corrupção de menores.                                                                                                                                                                                                                                                                                                                                                                                                                                                                                                                                                                                                                                                                                                                                                                                                                                 1\nAltera a Lei nº 9.503, de 23 de setembro de 1997 (Código de Trânsito Brasileiro), e a Lei nº 13.146, de 6 de julho de 2015.                                                                                                                                                                                                                                                                                                                                                                                                                                                                                                                                                                                                                                                                                                                                                                                                                                                                                                                                                                                                                                                         1\nDispõe sobre os títulos da dívida pública de responsabilidade do Tesouro Nacional, consolidando a legislação em vigor sobre a matéria.                                                                                                                                                                                                                                                                                                                                                                                                                                                                                                                                                                                                                                                                                                                                                                                                                                                                                                                                                                                                                                              1\nAltera a Lei Complementar nº 130, de 17 de abril de 2009 (Lei do Sistema Nacional de Crédito Cooperativo), para incluir as confederações de serviço constituídas por cooperativas centrais de crédito entre as instituições integrantes do Sistema Nacional de Crédito Cooperativo e entre as instituições a serem autorizadas a funcionar pelo Banco Central do Brasil; e dá outras providências.                                                                                                                                                                                                                                                                                                                                                                                                                                                                                                                                                                                                                                                                                                                                                                                  1\n                                                                                                                                                                                                                                                                                                                                                                                                                                                                                                                                                                                                                                                                                                                                                                                                                                                                                                                                                                                                                                                                                                                                                                                   ..\nDispõe sobre o depósito legal de obras musicais na Biblioteca Nacional.                                                                                                                                                                                                                                                                                                                                                                                                                                                                                                                                                                                                                                                                                                                                                                                                                                                                                                                                                                                                                                                                                                             1\nEstabelece o regime jurídico das parcerias voluntárias, envolvendo ou não transferências de recursos financeiros, entre a administração pública e as organizações da sociedade civil, em regime de mútua cooperação, para a consecução de finalidades de interesse público; define diretrizes para a política de fomento e de colaboração com organizações da sociedade civil; institui o termo de colaboração e o termo de fomento; e altera as Leis nºs 8.429, de 2 de junho de 1992, e 9.790, de 23 de março de 1999. Estabelece o regime jurídico das parcerias entre a administração pública e as organizações da sociedade civil, em regime de mútua cooperação, para a consecução de finalidades de interesse público e recíproco, mediante a execução de atividades ou de projetos previamente estabelecidos em planos de trabalho inseridos em termos de colaboração, em termos de fomento ou em acordos de cooperação; define diretrizes para a política de fomento, de colaboração e de cooperação com organizações da sociedade civil; e altera as Leis nºs 8.429, de 2 de junho de 1992, e 9.790, de 23 de março de 1999. (Redação dada pela Lei nº 13.204, de 2015    1\nAltera as Leis nºs 9.472, de 16 de julho de 1997, e 9.998, de 17 de agosto de 2000, para dispor sobre a finalidade, a destinação dos recursos, a administração e os objetivos do Fundo de Universalização dos Serviços de Telecomunicações (Fust                                                                                                                                                                                                                                                                                                                                                                                                                                                                                                                                                                                                                                                                                                                                                                                                                                                                                                                                    1\nEstabelece critérios para a celebração de aditivos contratuais relativos às outorgas nos contratos de parceria no setor aeroportuário.                                                                                                                                                                                                                                                                                                                                                                                                                                                                                                                                                                                                                                                                                                                                                                                                                                                                                                                                                                                                                                              1\nInstitui o Código Civil.                                                                                                                                                                                                                                                                                                                                                                                                                                                                                                                                                                                                                                                                                                                                                                                                                                                                                                                                                                                                                                                                                                                                                            1\nName: ementa, Length: 246, dtype: int64"
     },
     "metadata": {},
     "output_type": "display_data"
    },
    {
     "name": "stdout",
     "output_type": "stream",
     "text": [
      "_____\n",
      "Artigo 1º\n"
     ]
    },
    {
     "data": {
      "text/plain": "Esta Lei altera o Título VI da Parte Especial do Decreto-Lei nº 2.848, de 7 de dezembro de 1940 - Código Penal, e o art. 1º da Lei no 8.072, de 25 de julho de 1990, que dispõe sobre os crimes hediondos, nos termos do inciso XLIII do art. 5º da Constituição Federal.                                                                                                                                                                                 1\nA Lei nº 9.503, de 23 de setembro de 1997 (Código de Trânsito Brasileiro) , passa a vigorar com as seguintes alterações: (Vigência)                                                                                                                                                                                                                                                                                                                       1\nFica o Poder Executivo autorizado a emitir títulos da dívida pública, de responsabilidade do Tesouro Nacional, com a finalidade de:                                                                                                                                                                                                                                                                                                                       1\nA Lei Complementar nº 130, de 17 de abril de 2009 (Lei do Sistema Nacional de Crédito Cooperativo), passa a vigorar com as seguintes alterações:                                                                                                                                                                                                                                                                                                          1\nEsta Lei dispõe sobre medidas emergenciais para atenuar os efeitos da crise decorrente da pandemia da **covid-19** nos setores de turismo e de cultura. (Redação dada pela Medida Provisória nº 1.036, de 2021)                                                                                                                                                                                                                                           1\n                                                                                                                                                                                                                                                                                                                                                                                                                                                         ..\nEsta Lei regulamenta o depósito legal de obras musicais na Biblioteca Nacional, com o intuito de assegurar o registro, a guarda e a divulgação da produção musical brasileira, bem como a preservação da memória fonográfica nacional.                                                                                                                                                                                                                    1\nEsta Lei institui normas gerais para as parcerias entre a administração pública e organizações da sociedade civil, em regime de mútua cooperação, para a consecução de finalidades de interesse público e recíproco, mediante a execução de atividades ou de projetos previamente estabelecidos em planos de trabalho inseridos em termos de colaboração, em termos de fomento ou em acordos de cooperação. (Redação dada pela Lei nº 13.204, de 2015)    1\nEsta Lei dispõe sobre a finalidade, a destinação dos recursos, a administração e os objetivos do Fundo de Universalização dos Serviços de Telecomunicações (Fust).                                                                                                                                                                                                                                                                                        1\nFica admitida a celebração de aditivos contratuais que versem sobre a alteração do cronograma de pagamentos das outorgas nos contratos de parceria no setor aeroportuário celebrados até 31 de dezembro de 2016, observado o disposto nesta Lei e no ato de regulamentação do Ministério dos Transportes, Portos e Aviação Civil.                                                                                                                         1\nToda pessoa é capaz de direitos e deveres na ordem civil.                                                                                                                                                                                                                                                                                                                                                                                                 1\nName: Artigo 1º, Length: 247, dtype: int64"
     },
     "metadata": {},
     "output_type": "display_data"
    },
    {
     "name": "stdout",
     "output_type": "stream",
     "text": [
      "_____\n",
      "URL\n"
     ]
    },
    {
     "data": {
      "text/plain": "https://www.planalto.gov.br/ccivil_03/_ato2007-2010/2009/lei/l12015.htm    1\nhttps://www.planalto.gov.br/ccivil_03/_ato2015-2018/2016/lei/l13281.htm    1\nhttps://www.planalto.gov.br/ccivil_03/leis/leis_2001/l10179.htm            1\nhttps://www.planalto.gov.br/ccivil_03/leis/lcp/lcp196.htm                  1\nhttps://www.planalto.gov.br/ccivil_03/_ato2019-2022/2020/lei/l14046.htm    1\n                                                                          ..\nhttps://www.planalto.gov.br/ccivil_03/_ato2007-2010/2010/lei/l12192.htm    1\nhttps://www.planalto.gov.br/ccivil_03/_ato2011-2014/2014/lei/l13019.htm    1\nhttps://www.planalto.gov.br/ccivil_03/_ato2019-2022/2020/lei/l14109.htm    1\nhttps://www.planalto.gov.br/ccivil_03/_ato2015-2018/2017/lei/l13499.htm    1\nhttps://www.planalto.gov.br/ccivil_03/leis/2002/l10406.htm                 1\nName: URL, Length: 247, dtype: int64"
     },
     "metadata": {},
     "output_type": "display_data"
    },
    {
     "name": "stdout",
     "output_type": "stream",
     "text": [
      "_____\n",
      "dimensão\n"
     ]
    },
    {
     "data": {
      "text/plain": "normativa               50\nontológica              14\nnormativa;ontológica     5\nontológica;normativa     4\nName: dimensão, dtype: int64"
     },
     "metadata": {},
     "output_type": "display_data"
    },
    {
     "name": "stdout",
     "output_type": "stream",
     "text": [
      "_____\n",
      "benevolência\n"
     ]
    },
    {
     "data": {
      "text/plain": "benefício           48\nameaça              11\nneutra               8\nameaça;benefício     2\nameaça;?             2\n?                    2\nName: benevolência, dtype: int64"
     },
     "metadata": {},
     "output_type": "display_data"
    },
    {
     "name": "stdout",
     "output_type": "stream",
     "text": [
      "_____\n",
      "função social\n"
     ]
    },
    {
     "data": {
      "text/plain": "comercial                                              8\ntransparência                                          4\ntransparência;fiscal                                   3\ndemocracia;transparência                               3\ninclusão                                               3\ndireitos trabalhistas                                  3\ndemocracia                                             3\nsegurança;controle;privacidade;segurança sexual;ECA    2\nburocrática;transparência                              2\nsegurança;integridade                                  2\ncomercial;saúde                                        2\neducação;transparência                                 2\nsegurança;segurança sexual;ECA                         2\nburocrática                                            2\nsegurança;propriedade                                  2\ninclusão;educação                                      2\ncultura;consumo                                        1\ninclusão;nacionalismo                                  1\ninclusão;comercial                                     1\ninclusão;esporte                                       1\nfiscal                                                 1\nsegurança;consumo;saúde                                1\nconsumo                                                1\nsaúde;fiscal                                           1\nfiscal;inclusão;educação                               1\ninclusão;meio ambiente                                 1\nindivíduo;propriedade;burocrática                      1\ncomercial;ciência                                      1\neducação;ciência;transparência                         1\nburocrático;fiscal;transparência                       1\ncomercial;educação                                     1\neducação                                               1\ninclusão;saúde                                         1\ninclusão;burocrática                                   1\nburocrática;mediação                                   1\nsaúde;transparência;comercial                          1\nvaloração;inclusão;consumo                             1\nindivíduo;democracia;integridade                       1\nECA;segurança;segurança sexual                         1\nindivíduo;propriedade;privacidade                      1\neducação;inclusão                                      1\nsaúde;transparência;consumo                            1\ncomunicação;organização comunitária                    1\nfiscal;burocrático                                     1\nName: função social, dtype: int64"
     },
     "metadata": {},
     "output_type": "display_data"
    },
    {
     "name": "stdout",
     "output_type": "stream",
     "text": [
      "_____\n",
      "função social especificamente ligada ao assunto\n"
     ]
    },
    {
     "data": {
      "text/plain": "transparência                     11\ndemocracia                         2\ncomercial                          2\ndireitos trabalhistas              2\n?                                  2\ninclusão                           2\nECA                                1\nsegurança;segurança sexual;ECA     1\ntransparência;tributação           1\ndireitos trabalhistas;salário      1\nburocrática;mediação               1\ninclusão;burocrática               1\ntansparência                       1\ninclusão;esporte                   1\nfiscal                             1\nName: função social especificamente ligada ao assunto, dtype: int64"
     },
     "metadata": {},
     "output_type": "display_data"
    },
    {
     "name": "stdout",
     "output_type": "stream",
     "text": [
      "_____\n",
      "ramo (dogmático) do direito\n"
     ]
    },
    {
     "data": {
      "text/plain": "administrativo                 19\ncivil                          16\npenal                           9\norçamentário                    7\neleitoral                       6\ntributário                      5\nprocessual                      3\ntrabalhista                     3\nadministrativo;orçamentário     2\ncomercial;administrativo        1\ncomercial                       1\ncivil;administrativo            1\nName: ramo (dogmático) do direito, dtype: int64"
     },
     "metadata": {},
     "output_type": "display_data"
    },
    {
     "name": "stdout",
     "output_type": "stream",
     "text": [
      "_____\n",
      "ramo (sociológico) do direito\n"
     ]
    },
    {
     "data": {
      "text/plain": "econômico                              18\nburocrático                             9\nburocrático;econômico                   8\npolítico                                7\neducação                                7\ntrabalho;econômico                      3\nviolência;violência sexual;infância     2\ncriminal                                2\nciminal;ética                           2\neconômico;saúde                         2\nsegurança                               2\ncomunicação                             1\nciminal                                 1\nsaúde                                   1\nindividualização                        1\nética                                   1\nviolência sexual;violência;infância     1\neducacional                             1\nnacional                                1\neconômico;educação                      1\neconômico;rural                         1\ncultura;esporte                         1\nName: ramo (sociológico) do direito, dtype: int64"
     },
     "metadata": {},
     "output_type": "display_data"
    },
    {
     "name": "stdout",
     "output_type": "stream",
     "text": [
      "_____\n",
      "imposição/reconhecimento (pelo jurídico)\n"
     ]
    },
    {
     "data": {
      "text/plain": "reconhece          31\nimpõe              31\nimpõe;reconhece     4\n?                   2\nName: imposição/reconhecimento (pelo jurídico), dtype: int64"
     },
     "metadata": {},
     "output_type": "display_data"
    },
    {
     "name": "stdout",
     "output_type": "stream",
     "text": [
      "_____\n",
      "ferramenta/ambiente\n"
     ]
    },
    {
     "data": {
      "text/plain": "ferramenta             37\nambiente               20\nambiente;ferramenta     8\nferramenta;ambiente     6\n?                       2\nName: ferramenta/ambiente, dtype: int64"
     },
     "metadata": {},
     "output_type": "display_data"
    },
    {
     "name": "stdout",
     "output_type": "stream",
     "text": [
      "_____\n",
      "Artigo 1 revogado\n"
     ]
    },
    {
     "data": {
      "text/plain": "r    8\nName: Artigo 1 revogado, dtype: int64"
     },
     "metadata": {},
     "output_type": "display_data"
    },
    {
     "name": "stdout",
     "output_type": "stream",
     "text": [
      "_____\n",
      "efetivamente revogada [r]\n"
     ]
    },
    {
     "data": {
      "text/plain": "r       4\n1/2r    1\nName: efetivamente revogada [r], dtype: int64"
     },
     "metadata": {},
     "output_type": "display_data"
    },
    {
     "name": "stdout",
     "output_type": "stream",
     "text": [
      "_____\n",
      "file_name\n"
     ]
    },
    {
     "data": {
      "text/plain": "l12015    1\nl13281    1\nl10179    1\nlcp196    1\nl14046    1\n         ..\nl12192    1\nl13019    1\nl14109    1\nl13499    1\nl10406    1\nName: file_name, Length: 247, dtype: int64"
     },
     "metadata": {},
     "output_type": "display_data"
    },
    {
     "name": "stdout",
     "output_type": "stream",
     "text": [
      "_____\n"
     ]
    }
   ],
   "source": [
    "# Vamos substituir freq_assunto que está formatada em porcentagem por um float\n",
    "# Após isso uma análise de value_counts para observar se há valores fora do padrão\n",
    "# Ou mal escritos como \"otológica\" ao invés de \"ontológica\" e \"normativo\" ao invés de \"normativa\"\n",
    "# Os exemplos acima já foram tratados na fonte e recarregados\n",
    "df['freq_assunto'] = df['freq_assunto'].str.replace(',', '.').str.replace('%', '').astype(float) / 100\n",
    "display(df.info())\n",
    "print(\"_\"*50)\n",
    "for col in df.columns:\n",
    "    print(col)\n",
    "    display(df[col].value_counts())\n",
    "    print(\"_\"*5)"
   ],
   "metadata": {
    "collapsed": false,
    "ExecuteTime": {
     "end_time": "2023-07-28T05:17:01.061936900Z",
     "start_time": "2023-07-28T05:17:00.013729926Z"
    }
   }
  },
  {
   "cell_type": "markdown",
   "source": [
    "#### Eliminação de colunas inúteis para análise"
   ],
   "metadata": {
    "collapsed": false
   }
  },
  {
   "cell_type": "code",
   "execution_count": 170,
   "outputs": [
    {
     "name": "stdout",
     "output_type": "stream",
     "text": [
      "<class 'pandas.core.frame.DataFrame'>\n",
      "Int64Index: 247 entries, 1 to 247\n",
      "Data columns (total 17 columns):\n",
      " #   Column                    Non-Null Count  Dtype  \n",
      "---  ------                    --------------  -----  \n",
      " 0   assunto_f_ou_fx           170 non-null    object \n",
      " 1   outro_assunto             204 non-null    object \n",
      " 2   n_palavras                247 non-null    int64  \n",
      " 3   freq_assunto              247 non-null    float64\n",
      " 4   ementa                    247 non-null    object \n",
      " 5   artigo_1                  247 non-null    object \n",
      " 6   dimensao                  73 non-null     object \n",
      " 7   benevolencia              73 non-null     object \n",
      " 8   funcao_social             73 non-null     object \n",
      " 9   funcao_social_assunto     30 non-null     object \n",
      " 10  ramo_dogmatico            73 non-null     object \n",
      " 11  ramo_sociologico          73 non-null     object \n",
      " 12  imposicao_reconhecimento  68 non-null     object \n",
      " 13  ferramenta_ambiente       73 non-null     object \n",
      " 14  artigo_1_revogado         8 non-null      object \n",
      " 15  efetivamente_revogada     5 non-null      object \n",
      " 16  file_name                 247 non-null    object \n",
      "dtypes: float64(1), int64(1), object(15)\n",
      "memory usage: 34.7+ KB\n"
     ]
    },
    {
     "data": {
      "text/plain": "None"
     },
     "metadata": {},
     "output_type": "display_data"
    }
   ],
   "source": [
    "'''\n",
    " 0   lei                                              247 non-null    object\n",
    " 1   nº lei                                           247 non-null    int64\n",
    " 2   data                                             247 non-null    object\n",
    " 3   assunto: emenda lei [f()] / é emendado [f(x)]    170 non-null    object\n",
    " 4   outro assunto [o]                                204 non-null    object\n",
    " 5   assunto                                          247 non-null    int64\n",
    " 6   n_palavras                                       247 non-null    int64\n",
    " 7   freq_assunto                                     247 non-null    float64\n",
    " 8   quais_f                                          124 non-null    object\n",
    " 9   quais_fx                                         105 non-null    object\n",
    " 10  quais_f_o                                        135 non-null    object\n",
    " 11  quais_fx_o                                       141 non-null    object\n",
    " 12  epígrafe                                         247 non-null    object\n",
    " 13  ementa                                           247 non-null    object\n",
    " 14  Artigo 1º                                        247 non-null    object\n",
    " 15  URL                                              247 non-null    object\n",
    " 16  dimensão                                         73 non-null     object\n",
    " 17  benevolência                                     73 non-null     object\n",
    " 18  função social                                    73 non-null     object\n",
    " 19  função social especificamente ligada ao assunto  30 non-null     object\n",
    " 20  ramo (dogmático) do direito                      73 non-null     object\n",
    " 21  ramo (sociológico) do direito                    73 non-null     object\n",
    " 22  imposição/reconhecimento (pelo jurídico)         68 non-null     object\n",
    " 23  ferramenta/ambiente                              73 non-null     object\n",
    " 24  Artigo 1 revogado                                8 non-null      object\n",
    " 25  efetivamente revogada [r]                        5 non-null      object\n",
    " 26  file_name                                        247 non-null    object\n",
    "'''\n",
    "# Colunas inúteis para remover 0, 1, 2, 5, 8, 9, 10, 11, 12, 15\n",
    "# Ou seja: lei, nº lei, data, assunto, quais_f, quais_fx, quais_f_o, quais_fx_o, epígrafe, URL\n",
    "df.rename(columns={'nº lei':'n_lei', 'assunto: emenda lei [f()] / é emendado [f(x)]':'assunto_f_ou_fx', 'outro assunto [o]':'outro_assunto', 'epígrafe':'epigrafe', 'Artigo 1º': 'artigo_1', 'URL':'url', 'dimensão':'dimensao', 'benevolência':'benevolencia', 'função social':'funcao_social', 'função social especificamente ligada ao assunto':'funcao_social_assunto', 'ramo (dogmático) do direito':'ramo_dogmatico', 'ramo (sociológico) do direito':'ramo_sociologico', 'imposição/reconhecimento (pelo jurídico)':'imposicao_reconhecimento', 'ferramenta/ambiente':'ferramenta_ambiente', 'Artigo 1 revogado':'artigo_1_revogado', 'efetivamente revogada [r]':'efetivamente_revogada'}, inplace=True)\n",
    "df_old0 = df.copy()\n",
    "\n",
    "df.drop(columns=['lei', 'n_lei', 'data', 'assunto', 'quais_f', 'quais_fx', 'quais_f_o', 'quais_fx_o', 'epigrafe', 'url'], inplace=True)\n",
    "display(df.info())"
   ],
   "metadata": {
    "collapsed": false,
    "ExecuteTime": {
     "end_time": "2023-07-28T05:17:01.150796421Z",
     "start_time": "2023-07-28T05:17:00.115240069Z"
    }
   }
  },
  {
   "cell_type": "markdown",
   "source": [
    "##### Adicionar coluna \"internacional\"\n",
    "além disso substituir já algumas colunas por 1 ou 0"
   ],
   "metadata": {
    "collapsed": false
   }
  },
  {
   "cell_type": "code",
   "execution_count": 171,
   "outputs": [
    {
     "data": {
      "text/plain": "   assunto_f_ou_fx outro_assunto  n_palavras  freq_assunto  \\\nid                                                           \n1              f()             o        1799       0.00111   \n2             f(x)           NaN        6698       0.01911   \n3              NaN           NaN         328       0.00610   \n4              f()             o        1434       0.00279   \n5              NaN           NaN         181       0.04972   \n6              f()           NaN         229       0.01310   \n7              NaN           NaN         658       0.00608   \n8             f(x)           NaN        1903       0.00631   \n9              f()           NaN         227       0.01762   \n10             f()           NaN         944       0.00530   \n11        f();f(x)           NaN       16589       0.00157   \n12             f()           NaN        1974       0.01925   \n13             NaN           NaN         635       0.01575   \n14             f()           NaN         786       0.00891   \n15             NaN           NaN         198       0.01010   \n16             f()           NaN         307       0.02280   \n17             f()             o         626       0.00958   \n18        f();f(x)             o        3730       0.00590   \n19             f()           NaN         767       0.01565   \n20             f()           NaN         528       0.01515   \n21             NaN           NaN        1027       0.02824   \n22             f()           NaN         513       0.00780   \n23        f();f(x)             o        8160       0.00221   \n24             NaN             o         874       0.00686   \n25             NaN           NaN        1539       0.00455   \n26             f()             o         778       0.00257   \n27             f()             o        1358       0.00074   \n28            f(x)             o        1647       0.00243   \n29            f(x)             o        7404       0.00216   \n30        f();f(x)             o        7410       0.00526   \n31             f()           NaN       12853       0.00638   \n32        f();f(x)           NaN       22658       0.00260   \n33        f();f(x)             o       13914       0.00453   \n34             NaN           NaN         321       0.01869   \n35             NaN           NaN         272       0.01471   \n36             NaN           NaN         580       0.00517   \n37             f()           NaN        2787       0.03409   \n38             f()           NaN         206       0.01942   \n39             NaN           o;?         259       0.01931   \n40             NaN             o         684       0.00585   \n\n                                               ementa  \\\nid                                                      \n1   Altera o Título VI da Parte Especial do Decret...   \n2   Estabelece princípios, garantias, direitos e d...   \n3   Obriga o fornecedor de ingresso para evento cu...   \n4   Dispõe sobre propaganda, financiamento e prest...   \n5   Normatiza a divulgação de documentos instituci...   \n6   Altera a Lei nº 12.485, de 12 de setembro de 2...   \n7   Dispõe sobre a criação de \"homepage\" na \"Inter...   \n8   Dispõe sobre a garantia de acesso à internet, ...   \n9   Altera o parágrafo único do art. 541 do Código...   \n10  Altera a Lei nº 8.069, de 13 de julho de 1990 ...   \n11  Dispõe sobre a proteção de dados pessoais e al...   \n12  Institui o Programa Internet Brasil; e altera ...   \n13  Altera o Decreto-Lei nº 2.848, de 7 de dezembr...   \n14  Altera a Lei nº 8.069, de 13 de julho de 1990 ...   \n15  Acrescenta inciso V ao art. 1º da Lei nº 10.44...   \n16  Institui o Diário Eletrônico da Ordem dos Advo...   \n17  Altera a Lei nº 8.069, de 13 de julho de 1990,...   \n18  Altera as Leis nº 9.504, de 30 de setembro de ...   \n19  Altera a Lei nº 10.406, de 10 de janeiro de 20...   \n20  Altera a Lei nº 11.903, de 14 de janeiro de 20...   \n21  Institui a Política de Inovação Educação Conec...   \n22  Altera a redação do § 1º do art. 47 da Lei nº ...   \n23  Altera as Leis nº 9.504, de 30 de setembro de ...   \n24  Dispõe sobre medidas de proteção asseguradas a...   \n25  Dispõe sobre o direito de resposta ou retifica...   \n26  Altera dispositivos da Lei nº 9.294, de 15 de ...   \n27  Autoriza pagamentos antecipados nas licitações...   \n28  Dispõe sobre o pagamento de auxílio-alimentaçã...   \n29  Autoriza o Poder Executivo federal a dispor so...   \n30  Altera as Leis nºˢ 9.096, de 19 de setembro de...   \n31  Dispõe sobre o Sistema Eletrônico dos Registro...   \n32  Altera a alíquota das contribuições previdenci...   \n33  Dispõe sobre a facilitação para abertura de em...   \n34  Altera o Decreto-Lei nº 2.848, de 7 de dezembr...   \n35  Altera o art. 19 do Regulamento a que se refer...   \n36  Dispõe sobre a tipificação criminal de delitos...   \n37  Dispõe sobre a informatização do processo judi...   \n38  Altera a Lei nº 10.446, de 8 de maio de 2002, ...   \n39  Altera a Lei nº 9.099, de 26 de setembro de 19...   \n40  Estabelece procedimento alternativo para a con...   \n\n                                             artigo_1              dimensao  \\\nid                                                                            \n1   Esta Lei altera o Título VI da Parte Especial ...             normativa   \n2   Esta Lei estabelece princípios, garantias, dir...            ontológica   \n3   O fornecedor de ingresso para evento cultural ...             normativa   \n4   A Lei nº 9.504, de 30 de setembro de 1997, pas...             normativa   \n5   Esta Lei normatiza a divulgação de documentos ...             normativa   \n6   Esta Lei altera a Lei nº 12.485, de 12 de sete...             normativa   \n7   O Tribunal de Contas da União criará _homepage...            ontológica   \n8   Esta Lei dispõe sobre a assistência da União a...             normativa   \n9   O parágrafo único do art. 541 da Lei nº 5.869,...             normativa   \n10  Os arts. 240 e 241 da Lei nº 8.069, de 13 de j...             normativa   \n11  Esta Lei dispõe sobre o tratamento de dados pe...            ontológica   \n12  Fica instituído o Programa Internet Brasil, no...             normativa   \n13  O Decreto-Lei nº 2.848, de 7 de dezembro de 19...             normativa   \n14  O Capítulo III do Título VI da Parte Especial ...             normativa   \n15  O art. 1º da Lei nº 10.446, de 8 de maio de 20...  normativa;ontológica   \n16  Fica instituído o Diário Eletrônico da Ordem d...            ontológica   \n17  O parágrafo único do art. 143 da Lei nº 8.069,...             normativa   \n18  A Lei nº 9.504, de 30 de setembro de 1997 , pa...             normativa   \n19  Esta Lei altera a Lei nº 10.406, de 10 de jane...            ontológica   \n20  A Lei nº 11.903, de 14 de janeiro de 2009, pas...             normativa   \n21  É instituída a Política de Inovação Educação C...            ontológica   \n22  O § 1º do art. 47 da Lei nº 9.394, de 20 de de...             normativa   \n23  Esta Lei modifica as Leis nº 9.504, de 30 de s...             normativa   \n24  Esta Lei dispõe sobre medidas de proteção asse...             normativa   \n25  Esta Lei disciplina o exercício do direito de ...             normativa   \n26  A Lei nº 9.294, de 15 de julho de 1996, passa ...             normativa   \n27  A administração pública dos entes federativos,...             normativa   \n28  Esta Lei dispõe sobre o pagamento de auxílio-a...             normativa   \n29  Esta Lei autoriza o Poder Executivo federal a ...             normativa   \n30  Esta Lei altera as Leis nºˢ 9.096, de 19 de se...  ontológica;normativa   \n31  Esta Lei dispõe sobre o Sistema Eletrônico dos...  ontológica;normativa   \n32  Fica instituído o Programa Nacional de Apoio à...  ontológica;normativa   \n33  Esta Lei dispõe sobre a facilitação para abert...  ontológica;normativa   \n34  Esta Lei altera o Decreto-Lei nº 2.848, de 7 d...             normativa   \n35  O art. 19 do Regulamento a que se refere o Dec...             normativa   \n36  Esta Lei dispõe sobre a tipificação criminal d...             normativa   \n37  O uso de meio eletrônico na tramitação de proc...             normativa   \n38  O **caput** do art. 1º da Lei nº 10.446, de 8 ...  normativa;ontológica   \n39  Esta Lei altera a Lei nº 9.099, de 26 de setem...             normativa   \n40  Esta Lei altera a Lei nº 6.815, de 19 de agost...             normativa   \n\n        benevolencia                                      funcao_social  \\\nid                                                                        \n1             ameaça                     segurança;segurança sexual;ECA   \n2          benefício                         valoração;inclusão;consumo   \n3          benefício                                    cultura;consumo   \n4          benefício                           democracia;transparência   \n5          benefício                              inclusão;nacionalismo   \n6             ameaça                                            consumo   \n7             neutra                                      transparência   \n8          benefício                                  inclusão;educação   \n9          benefício                                        burocrática   \n10            ameaça                     ECA;segurança;segurança sexual   \n11            ameaça                  indivíduo;propriedade;privacidade   \n12         benefício                                  inclusão;educação   \n13            ameaça                              segurança;propriedade   \n14  ameaça;benefício  segurança;controle;privacidade;segurança sexua...   \n15            ameaça                            segurança;consumo;saúde   \n16         benefício                                      transparência   \n17            ameaça                     segurança;segurança sexual;ECA   \n18            neutra                                         democracia   \n19         benefício                comunicação;organização comunitária   \n20         benefício                        saúde;transparência;consumo   \n21         benefício                                  educação;inclusão   \n22         benefício                             educação;transparência   \n23         benefício                                         democracia   \n24         benefício                              direitos trabalhistas   \n25            neutra                   indivíduo;democracia;integridade   \n26            ameaça                                    comercial;saúde   \n27         benefício                                          comercial   \n28          ameaça;?                              direitos trabalhistas   \n29          ameaça;?                              direitos trabalhistas   \n30            neutra                                         democracia   \n31            neutra                                          comercial   \n32         benefício                      saúde;transparência;comercial   \n33         benefício                                          comercial   \n34  ameaça;benefício  segurança;controle;privacidade;segurança sexua...   \n35         benefício                                          comercial   \n36            ameaça                              segurança;propriedade   \n37         benefício                                        burocrática   \n38            ameaça                              segurança;integridade   \n39         benefício                               burocrática;mediação   \n40         benefício                               inclusão;burocrática   \n\n             funcao_social_assunto  ramo_dogmatico  \\\nid                                                   \n1                              ECA           penal   \n2                              NaN           civil   \n3                              NaN           civil   \n4                    transparência       eleitoral   \n5                              NaN  administrativo   \n6                              NaN           civil   \n7                              NaN  administrativo   \n8                              NaN  administrativo   \n9                              NaN      processual   \n10                             NaN           penal   \n11                             NaN           civil   \n12                             NaN  administrativo   \n13                             NaN           penal   \n14                             NaN           penal   \n15                             NaN           penal   \n16                             NaN  administrativo   \n17  segurança;segurança sexual;ECA           penal   \n18                      democracia       eleitoral   \n19                             NaN           civil   \n20                             NaN  administrativo   \n21                             NaN           civil   \n22                             NaN           civil   \n23        transparência;tributação       eleitoral   \n24   direitos trabalhistas;salário     trabalhista   \n25                             NaN           civil   \n26                       comercial           civil   \n27                   transparência    orçamentário   \n28           direitos trabalhistas     trabalhista   \n29           direitos trabalhistas     trabalhista   \n30                      democracia       eleitoral   \n31                             NaN      tributário   \n32                             NaN      tributário   \n33                       comercial      tributário   \n34                             NaN           civil   \n35                             NaN           civil   \n36                             NaN           penal   \n37                             NaN      processual   \n38                             NaN           penal   \n39            burocrática;mediação      processual   \n40            inclusão;burocrática           civil   \n\n                       ramo_sociologico imposicao_reconhecimento  \\\nid                                                                 \n1   violência;violência sexual;infância                reconhece   \n2                           comunicação                reconhece   \n3                             econômico                    impõe   \n4                              político                    impõe   \n5                              nacional                    impõe   \n6                             econômico                    impõe   \n7                           burocrático                      NaN   \n8                           educacional                    impõe   \n9                           burocrático                reconhece   \n10  violência sexual;violência;infância                reconhece   \n11                     individualização                reconhece   \n12                             educação                    impõe   \n13                             criminal                reconhece   \n14                            segurança                reconhece   \n15                              ciminal                reconhece   \n16                          burocrático                reconhece   \n17  violência;violência sexual;infância                reconhece   \n18                             político          impõe;reconhece   \n19                             político                reconhece   \n20                                saúde                    impõe   \n21                             educação                    impõe   \n22                             educação                    impõe   \n23                             político                    impõe   \n24                   trabalho;econômico                    impõe   \n25                                ética          impõe;reconhece   \n26                            econômico                    impõe   \n27                burocrático;econômico                reconhece   \n28                   trabalho;econômico                reconhece   \n29                   trabalho;econômico                reconhece   \n30                             político          impõe;reconhece   \n31                            econômico                    impõe   \n32                      econômico;saúde                    impõe   \n33                            econômico                    impõe   \n34                            segurança                reconhece   \n35                            econômico                reconhece   \n36                             criminal                reconhece   \n37                          burocrático                    impõe   \n38                        ciminal;ética                reconhece   \n39                          burocrático                    impõe   \n40                          burocrático          impõe;reconhece   \n\n    ferramenta_ambiente artigo_1_revogado efetivamente_revogada file_name  \\\nid                                                                          \n1              ambiente               NaN                   NaN    l12015   \n2   ferramenta;ambiente               NaN                   NaN    l12965   \n3              ambiente               NaN                   NaN    l13179   \n4            ferramenta               NaN                   NaN    l11300   \n5              ambiente               NaN                   NaN    l12686   \n6   ferramenta;ambiente               NaN                   NaN    l13828   \n7            ferramenta               NaN                   NaN     l9755   \n8            ferramenta               NaN                   NaN    l14172   \n9              ambiente               NaN                     r    l11341   \n10             ambiente               NaN                   NaN    l11829   \n11  ambiente;ferramenta               NaN                   NaN    l13709   \n12           ferramenta               NaN                   NaN    l14351   \n13  ambiente;ferramenta               NaN                   NaN    l14155   \n14           ferramenta               NaN                   NaN    l13441   \n15             ambiente               NaN                   NaN    l12894   \n16           ferramenta               NaN                   NaN    l13688   \n17             ambiente               NaN                     r   l10.764   \n18           ferramenta               NaN                   NaN    l13488   \n19             ambiente               NaN                   NaN    l14309   \n20             ambiente               NaN                   NaN    l14338   \n21           ferramenta               NaN                   NaN    l14180   \n22           ferramenta               NaN                   NaN    l13168   \n23           ferramenta               NaN                   NaN    l13165   \n24  ferramenta;ambiente               NaN                   NaN    l14297   \n25             ambiente               NaN                   NaN    l13188   \n26             ambiente               NaN                   NaN    l10167   \n27             ambiente               NaN                   NaN    l14065   \n28             ambiente               NaN                   NaN    l14442   \n29             ambiente               NaN                   NaN    l14437   \n30           ferramenta               NaN                   NaN    l12034   \n31             ambiente               NaN                   NaN    l14382   \n32           ferramenta               NaN                   NaN    l12715   \n33           ferramenta               NaN                   NaN    l14195   \n34           ferramenta               NaN                   NaN    l12735   \n35  ferramenta;ambiente               NaN                   NaN    l13138   \n36           ferramenta               NaN                  1/2r    l12737   \n37           ferramenta               NaN                     r    l11419   \n38             ambiente               NaN                   NaN    l13642   \n39  ambiente;ferramenta               NaN                   NaN    l13994   \n40           ferramenta               NaN                     r    l12968   \n\n    internacional  \nid                 \n1             0.0  \n2             0.0  \n3             0.0  \n4             0.0  \n5             0.0  \n6             0.0  \n7             0.0  \n8             0.0  \n9             0.0  \n10            0.0  \n11            0.0  \n12            0.0  \n13            0.0  \n14            0.0  \n15            1.0  \n16            0.0  \n17            0.0  \n18            0.0  \n19            0.0  \n20            0.0  \n21            0.0  \n22            0.0  \n23            0.0  \n24            0.0  \n25            0.0  \n26            0.0  \n27            0.0  \n28            0.0  \n29            0.0  \n30            0.0  \n31            0.0  \n32            0.0  \n33            1.0  \n34            0.0  \n35            0.0  \n36            0.0  \n37            0.0  \n38            0.0  \n39            0.0  \n40            1.0  ",
      "text/html": "<div>\n<style scoped>\n    .dataframe tbody tr th:only-of-type {\n        vertical-align: middle;\n    }\n\n    .dataframe tbody tr th {\n        vertical-align: top;\n    }\n\n    .dataframe thead th {\n        text-align: right;\n    }\n</style>\n<table border=\"1\" class=\"dataframe\">\n  <thead>\n    <tr style=\"text-align: right;\">\n      <th></th>\n      <th>assunto_f_ou_fx</th>\n      <th>outro_assunto</th>\n      <th>n_palavras</th>\n      <th>freq_assunto</th>\n      <th>ementa</th>\n      <th>artigo_1</th>\n      <th>dimensao</th>\n      <th>benevolencia</th>\n      <th>funcao_social</th>\n      <th>funcao_social_assunto</th>\n      <th>ramo_dogmatico</th>\n      <th>ramo_sociologico</th>\n      <th>imposicao_reconhecimento</th>\n      <th>ferramenta_ambiente</th>\n      <th>artigo_1_revogado</th>\n      <th>efetivamente_revogada</th>\n      <th>file_name</th>\n      <th>internacional</th>\n    </tr>\n    <tr>\n      <th>id</th>\n      <th></th>\n      <th></th>\n      <th></th>\n      <th></th>\n      <th></th>\n      <th></th>\n      <th></th>\n      <th></th>\n      <th></th>\n      <th></th>\n      <th></th>\n      <th></th>\n      <th></th>\n      <th></th>\n      <th></th>\n      <th></th>\n      <th></th>\n      <th></th>\n    </tr>\n  </thead>\n  <tbody>\n    <tr>\n      <th>1</th>\n      <td>f()</td>\n      <td>o</td>\n      <td>1799</td>\n      <td>0.00111</td>\n      <td>Altera o Título VI da Parte Especial do Decret...</td>\n      <td>Esta Lei altera o Título VI da Parte Especial ...</td>\n      <td>normativa</td>\n      <td>ameaça</td>\n      <td>segurança;segurança sexual;ECA</td>\n      <td>ECA</td>\n      <td>penal</td>\n      <td>violência;violência sexual;infância</td>\n      <td>reconhece</td>\n      <td>ambiente</td>\n      <td>NaN</td>\n      <td>NaN</td>\n      <td>l12015</td>\n      <td>0.0</td>\n    </tr>\n    <tr>\n      <th>2</th>\n      <td>f(x)</td>\n      <td>NaN</td>\n      <td>6698</td>\n      <td>0.01911</td>\n      <td>Estabelece princípios, garantias, direitos e d...</td>\n      <td>Esta Lei estabelece princípios, garantias, dir...</td>\n      <td>ontológica</td>\n      <td>benefício</td>\n      <td>valoração;inclusão;consumo</td>\n      <td>NaN</td>\n      <td>civil</td>\n      <td>comunicação</td>\n      <td>reconhece</td>\n      <td>ferramenta;ambiente</td>\n      <td>NaN</td>\n      <td>NaN</td>\n      <td>l12965</td>\n      <td>0.0</td>\n    </tr>\n    <tr>\n      <th>3</th>\n      <td>NaN</td>\n      <td>NaN</td>\n      <td>328</td>\n      <td>0.00610</td>\n      <td>Obriga o fornecedor de ingresso para evento cu...</td>\n      <td>O fornecedor de ingresso para evento cultural ...</td>\n      <td>normativa</td>\n      <td>benefício</td>\n      <td>cultura;consumo</td>\n      <td>NaN</td>\n      <td>civil</td>\n      <td>econômico</td>\n      <td>impõe</td>\n      <td>ambiente</td>\n      <td>NaN</td>\n      <td>NaN</td>\n      <td>l13179</td>\n      <td>0.0</td>\n    </tr>\n    <tr>\n      <th>4</th>\n      <td>f()</td>\n      <td>o</td>\n      <td>1434</td>\n      <td>0.00279</td>\n      <td>Dispõe sobre propaganda, financiamento e prest...</td>\n      <td>A Lei nº 9.504, de 30 de setembro de 1997, pas...</td>\n      <td>normativa</td>\n      <td>benefício</td>\n      <td>democracia;transparência</td>\n      <td>transparência</td>\n      <td>eleitoral</td>\n      <td>político</td>\n      <td>impõe</td>\n      <td>ferramenta</td>\n      <td>NaN</td>\n      <td>NaN</td>\n      <td>l11300</td>\n      <td>0.0</td>\n    </tr>\n    <tr>\n      <th>5</th>\n      <td>NaN</td>\n      <td>NaN</td>\n      <td>181</td>\n      <td>0.04972</td>\n      <td>Normatiza a divulgação de documentos instituci...</td>\n      <td>Esta Lei normatiza a divulgação de documentos ...</td>\n      <td>normativa</td>\n      <td>benefício</td>\n      <td>inclusão;nacionalismo</td>\n      <td>NaN</td>\n      <td>administrativo</td>\n      <td>nacional</td>\n      <td>impõe</td>\n      <td>ambiente</td>\n      <td>NaN</td>\n      <td>NaN</td>\n      <td>l12686</td>\n      <td>0.0</td>\n    </tr>\n    <tr>\n      <th>6</th>\n      <td>f()</td>\n      <td>NaN</td>\n      <td>229</td>\n      <td>0.01310</td>\n      <td>Altera a Lei nº 12.485, de 12 de setembro de 2...</td>\n      <td>Esta Lei altera a Lei nº 12.485, de 12 de sete...</td>\n      <td>normativa</td>\n      <td>ameaça</td>\n      <td>consumo</td>\n      <td>NaN</td>\n      <td>civil</td>\n      <td>econômico</td>\n      <td>impõe</td>\n      <td>ferramenta;ambiente</td>\n      <td>NaN</td>\n      <td>NaN</td>\n      <td>l13828</td>\n      <td>0.0</td>\n    </tr>\n    <tr>\n      <th>7</th>\n      <td>NaN</td>\n      <td>NaN</td>\n      <td>658</td>\n      <td>0.00608</td>\n      <td>Dispõe sobre a criação de \"homepage\" na \"Inter...</td>\n      <td>O Tribunal de Contas da União criará _homepage...</td>\n      <td>ontológica</td>\n      <td>neutra</td>\n      <td>transparência</td>\n      <td>NaN</td>\n      <td>administrativo</td>\n      <td>burocrático</td>\n      <td>NaN</td>\n      <td>ferramenta</td>\n      <td>NaN</td>\n      <td>NaN</td>\n      <td>l9755</td>\n      <td>0.0</td>\n    </tr>\n    <tr>\n      <th>8</th>\n      <td>f(x)</td>\n      <td>NaN</td>\n      <td>1903</td>\n      <td>0.00631</td>\n      <td>Dispõe sobre a garantia de acesso à internet, ...</td>\n      <td>Esta Lei dispõe sobre a assistência da União a...</td>\n      <td>normativa</td>\n      <td>benefício</td>\n      <td>inclusão;educação</td>\n      <td>NaN</td>\n      <td>administrativo</td>\n      <td>educacional</td>\n      <td>impõe</td>\n      <td>ferramenta</td>\n      <td>NaN</td>\n      <td>NaN</td>\n      <td>l14172</td>\n      <td>0.0</td>\n    </tr>\n    <tr>\n      <th>9</th>\n      <td>f()</td>\n      <td>NaN</td>\n      <td>227</td>\n      <td>0.01762</td>\n      <td>Altera o parágrafo único do art. 541 do Código...</td>\n      <td>O parágrafo único do art. 541 da Lei nº 5.869,...</td>\n      <td>normativa</td>\n      <td>benefício</td>\n      <td>burocrática</td>\n      <td>NaN</td>\n      <td>processual</td>\n      <td>burocrático</td>\n      <td>reconhece</td>\n      <td>ambiente</td>\n      <td>NaN</td>\n      <td>r</td>\n      <td>l11341</td>\n      <td>0.0</td>\n    </tr>\n    <tr>\n      <th>10</th>\n      <td>f()</td>\n      <td>NaN</td>\n      <td>944</td>\n      <td>0.00530</td>\n      <td>Altera a Lei nº 8.069, de 13 de julho de 1990 ...</td>\n      <td>Os arts. 240 e 241 da Lei nº 8.069, de 13 de j...</td>\n      <td>normativa</td>\n      <td>ameaça</td>\n      <td>ECA;segurança;segurança sexual</td>\n      <td>NaN</td>\n      <td>penal</td>\n      <td>violência sexual;violência;infância</td>\n      <td>reconhece</td>\n      <td>ambiente</td>\n      <td>NaN</td>\n      <td>NaN</td>\n      <td>l11829</td>\n      <td>0.0</td>\n    </tr>\n    <tr>\n      <th>11</th>\n      <td>f();f(x)</td>\n      <td>NaN</td>\n      <td>16589</td>\n      <td>0.00157</td>\n      <td>Dispõe sobre a proteção de dados pessoais e al...</td>\n      <td>Esta Lei dispõe sobre o tratamento de dados pe...</td>\n      <td>ontológica</td>\n      <td>ameaça</td>\n      <td>indivíduo;propriedade;privacidade</td>\n      <td>NaN</td>\n      <td>civil</td>\n      <td>individualização</td>\n      <td>reconhece</td>\n      <td>ambiente;ferramenta</td>\n      <td>NaN</td>\n      <td>NaN</td>\n      <td>l13709</td>\n      <td>0.0</td>\n    </tr>\n    <tr>\n      <th>12</th>\n      <td>f()</td>\n      <td>NaN</td>\n      <td>1974</td>\n      <td>0.01925</td>\n      <td>Institui o Programa Internet Brasil; e altera ...</td>\n      <td>Fica instituído o Programa Internet Brasil, no...</td>\n      <td>normativa</td>\n      <td>benefício</td>\n      <td>inclusão;educação</td>\n      <td>NaN</td>\n      <td>administrativo</td>\n      <td>educação</td>\n      <td>impõe</td>\n      <td>ferramenta</td>\n      <td>NaN</td>\n      <td>NaN</td>\n      <td>l14351</td>\n      <td>0.0</td>\n    </tr>\n    <tr>\n      <th>13</th>\n      <td>NaN</td>\n      <td>NaN</td>\n      <td>635</td>\n      <td>0.01575</td>\n      <td>Altera o Decreto-Lei nº 2.848, de 7 de dezembr...</td>\n      <td>O Decreto-Lei nº 2.848, de 7 de dezembro de 19...</td>\n      <td>normativa</td>\n      <td>ameaça</td>\n      <td>segurança;propriedade</td>\n      <td>NaN</td>\n      <td>penal</td>\n      <td>criminal</td>\n      <td>reconhece</td>\n      <td>ambiente;ferramenta</td>\n      <td>NaN</td>\n      <td>NaN</td>\n      <td>l14155</td>\n      <td>0.0</td>\n    </tr>\n    <tr>\n      <th>14</th>\n      <td>f()</td>\n      <td>NaN</td>\n      <td>786</td>\n      <td>0.00891</td>\n      <td>Altera a Lei nº 8.069, de 13 de julho de 1990 ...</td>\n      <td>O Capítulo III do Título VI da Parte Especial ...</td>\n      <td>normativa</td>\n      <td>ameaça;benefício</td>\n      <td>segurança;controle;privacidade;segurança sexua...</td>\n      <td>NaN</td>\n      <td>penal</td>\n      <td>segurança</td>\n      <td>reconhece</td>\n      <td>ferramenta</td>\n      <td>NaN</td>\n      <td>NaN</td>\n      <td>l13441</td>\n      <td>0.0</td>\n    </tr>\n    <tr>\n      <th>15</th>\n      <td>NaN</td>\n      <td>NaN</td>\n      <td>198</td>\n      <td>0.01010</td>\n      <td>Acrescenta inciso V ao art. 1º da Lei nº 10.44...</td>\n      <td>O art. 1º da Lei nº 10.446, de 8 de maio de 20...</td>\n      <td>normativa;ontológica</td>\n      <td>ameaça</td>\n      <td>segurança;consumo;saúde</td>\n      <td>NaN</td>\n      <td>penal</td>\n      <td>ciminal</td>\n      <td>reconhece</td>\n      <td>ambiente</td>\n      <td>NaN</td>\n      <td>NaN</td>\n      <td>l12894</td>\n      <td>1.0</td>\n    </tr>\n    <tr>\n      <th>16</th>\n      <td>f()</td>\n      <td>NaN</td>\n      <td>307</td>\n      <td>0.02280</td>\n      <td>Institui o Diário Eletrônico da Ordem dos Advo...</td>\n      <td>Fica instituído o Diário Eletrônico da Ordem d...</td>\n      <td>ontológica</td>\n      <td>benefício</td>\n      <td>transparência</td>\n      <td>NaN</td>\n      <td>administrativo</td>\n      <td>burocrático</td>\n      <td>reconhece</td>\n      <td>ferramenta</td>\n      <td>NaN</td>\n      <td>NaN</td>\n      <td>l13688</td>\n      <td>0.0</td>\n    </tr>\n    <tr>\n      <th>17</th>\n      <td>f()</td>\n      <td>o</td>\n      <td>626</td>\n      <td>0.00958</td>\n      <td>Altera a Lei nº 8.069, de 13 de julho de 1990,...</td>\n      <td>O parágrafo único do art. 143 da Lei nº 8.069,...</td>\n      <td>normativa</td>\n      <td>ameaça</td>\n      <td>segurança;segurança sexual;ECA</td>\n      <td>segurança;segurança sexual;ECA</td>\n      <td>penal</td>\n      <td>violência;violência sexual;infância</td>\n      <td>reconhece</td>\n      <td>ambiente</td>\n      <td>NaN</td>\n      <td>r</td>\n      <td>l10.764</td>\n      <td>0.0</td>\n    </tr>\n    <tr>\n      <th>18</th>\n      <td>f();f(x)</td>\n      <td>o</td>\n      <td>3730</td>\n      <td>0.00590</td>\n      <td>Altera as Leis nº 9.504, de 30 de setembro de ...</td>\n      <td>A Lei nº 9.504, de 30 de setembro de 1997 , pa...</td>\n      <td>normativa</td>\n      <td>neutra</td>\n      <td>democracia</td>\n      <td>democracia</td>\n      <td>eleitoral</td>\n      <td>político</td>\n      <td>impõe;reconhece</td>\n      <td>ferramenta</td>\n      <td>NaN</td>\n      <td>NaN</td>\n      <td>l13488</td>\n      <td>0.0</td>\n    </tr>\n    <tr>\n      <th>19</th>\n      <td>f()</td>\n      <td>NaN</td>\n      <td>767</td>\n      <td>0.01565</td>\n      <td>Altera a Lei nº 10.406, de 10 de janeiro de 20...</td>\n      <td>Esta Lei altera a Lei nº 10.406, de 10 de jane...</td>\n      <td>ontológica</td>\n      <td>benefício</td>\n      <td>comunicação;organização comunitária</td>\n      <td>NaN</td>\n      <td>civil</td>\n      <td>político</td>\n      <td>reconhece</td>\n      <td>ambiente</td>\n      <td>NaN</td>\n      <td>NaN</td>\n      <td>l14309</td>\n      <td>0.0</td>\n    </tr>\n    <tr>\n      <th>20</th>\n      <td>f()</td>\n      <td>NaN</td>\n      <td>528</td>\n      <td>0.01515</td>\n      <td>Altera a Lei nº 11.903, de 14 de janeiro de 20...</td>\n      <td>A Lei nº 11.903, de 14 de janeiro de 2009, pas...</td>\n      <td>normativa</td>\n      <td>benefício</td>\n      <td>saúde;transparência;consumo</td>\n      <td>NaN</td>\n      <td>administrativo</td>\n      <td>saúde</td>\n      <td>impõe</td>\n      <td>ambiente</td>\n      <td>NaN</td>\n      <td>NaN</td>\n      <td>l14338</td>\n      <td>0.0</td>\n    </tr>\n    <tr>\n      <th>21</th>\n      <td>NaN</td>\n      <td>NaN</td>\n      <td>1027</td>\n      <td>0.02824</td>\n      <td>Institui a Política de Inovação Educação Conec...</td>\n      <td>É instituída a Política de Inovação Educação C...</td>\n      <td>ontológica</td>\n      <td>benefício</td>\n      <td>educação;inclusão</td>\n      <td>NaN</td>\n      <td>civil</td>\n      <td>educação</td>\n      <td>impõe</td>\n      <td>ferramenta</td>\n      <td>NaN</td>\n      <td>NaN</td>\n      <td>l14180</td>\n      <td>0.0</td>\n    </tr>\n    <tr>\n      <th>22</th>\n      <td>f()</td>\n      <td>NaN</td>\n      <td>513</td>\n      <td>0.00780</td>\n      <td>Altera a redação do § 1º do art. 47 da Lei nº ...</td>\n      <td>O § 1º do art. 47 da Lei nº 9.394, de 20 de de...</td>\n      <td>normativa</td>\n      <td>benefício</td>\n      <td>educação;transparência</td>\n      <td>NaN</td>\n      <td>civil</td>\n      <td>educação</td>\n      <td>impõe</td>\n      <td>ferramenta</td>\n      <td>NaN</td>\n      <td>NaN</td>\n      <td>l13168</td>\n      <td>0.0</td>\n    </tr>\n    <tr>\n      <th>23</th>\n      <td>f();f(x)</td>\n      <td>o</td>\n      <td>8160</td>\n      <td>0.00221</td>\n      <td>Altera as Leis nº 9.504, de 30 de setembro de ...</td>\n      <td>Esta Lei modifica as Leis nº 9.504, de 30 de s...</td>\n      <td>normativa</td>\n      <td>benefício</td>\n      <td>democracia</td>\n      <td>transparência;tributação</td>\n      <td>eleitoral</td>\n      <td>político</td>\n      <td>impõe</td>\n      <td>ferramenta</td>\n      <td>NaN</td>\n      <td>NaN</td>\n      <td>l13165</td>\n      <td>0.0</td>\n    </tr>\n    <tr>\n      <th>24</th>\n      <td>NaN</td>\n      <td>o</td>\n      <td>874</td>\n      <td>0.00686</td>\n      <td>Dispõe sobre medidas de proteção asseguradas a...</td>\n      <td>Esta Lei dispõe sobre medidas de proteção asse...</td>\n      <td>normativa</td>\n      <td>benefício</td>\n      <td>direitos trabalhistas</td>\n      <td>direitos trabalhistas;salário</td>\n      <td>trabalhista</td>\n      <td>trabalho;econômico</td>\n      <td>impõe</td>\n      <td>ferramenta;ambiente</td>\n      <td>NaN</td>\n      <td>NaN</td>\n      <td>l14297</td>\n      <td>0.0</td>\n    </tr>\n    <tr>\n      <th>25</th>\n      <td>NaN</td>\n      <td>NaN</td>\n      <td>1539</td>\n      <td>0.00455</td>\n      <td>Dispõe sobre o direito de resposta ou retifica...</td>\n      <td>Esta Lei disciplina o exercício do direito de ...</td>\n      <td>normativa</td>\n      <td>neutra</td>\n      <td>indivíduo;democracia;integridade</td>\n      <td>NaN</td>\n      <td>civil</td>\n      <td>ética</td>\n      <td>impõe;reconhece</td>\n      <td>ambiente</td>\n      <td>NaN</td>\n      <td>NaN</td>\n      <td>l13188</td>\n      <td>0.0</td>\n    </tr>\n    <tr>\n      <th>26</th>\n      <td>f()</td>\n      <td>o</td>\n      <td>778</td>\n      <td>0.00257</td>\n      <td>Altera dispositivos da Lei nº 9.294, de 15 de ...</td>\n      <td>A Lei nº 9.294, de 15 de julho de 1996, passa ...</td>\n      <td>normativa</td>\n      <td>ameaça</td>\n      <td>comercial;saúde</td>\n      <td>comercial</td>\n      <td>civil</td>\n      <td>econômico</td>\n      <td>impõe</td>\n      <td>ambiente</td>\n      <td>NaN</td>\n      <td>NaN</td>\n      <td>l10167</td>\n      <td>0.0</td>\n    </tr>\n    <tr>\n      <th>27</th>\n      <td>f()</td>\n      <td>o</td>\n      <td>1358</td>\n      <td>0.00074</td>\n      <td>Autoriza pagamentos antecipados nas licitações...</td>\n      <td>A administração pública dos entes federativos,...</td>\n      <td>normativa</td>\n      <td>benefício</td>\n      <td>comercial</td>\n      <td>transparência</td>\n      <td>orçamentário</td>\n      <td>burocrático;econômico</td>\n      <td>reconhece</td>\n      <td>ambiente</td>\n      <td>NaN</td>\n      <td>NaN</td>\n      <td>l14065</td>\n      <td>0.0</td>\n    </tr>\n    <tr>\n      <th>28</th>\n      <td>f(x)</td>\n      <td>o</td>\n      <td>1647</td>\n      <td>0.00243</td>\n      <td>Dispõe sobre o pagamento de auxílio-alimentaçã...</td>\n      <td>Esta Lei dispõe sobre o pagamento de auxílio-a...</td>\n      <td>normativa</td>\n      <td>ameaça;?</td>\n      <td>direitos trabalhistas</td>\n      <td>direitos trabalhistas</td>\n      <td>trabalhista</td>\n      <td>trabalho;econômico</td>\n      <td>reconhece</td>\n      <td>ambiente</td>\n      <td>NaN</td>\n      <td>NaN</td>\n      <td>l14442</td>\n      <td>0.0</td>\n    </tr>\n    <tr>\n      <th>29</th>\n      <td>f(x)</td>\n      <td>o</td>\n      <td>7404</td>\n      <td>0.00216</td>\n      <td>Autoriza o Poder Executivo federal a dispor so...</td>\n      <td>Esta Lei autoriza o Poder Executivo federal a ...</td>\n      <td>normativa</td>\n      <td>ameaça;?</td>\n      <td>direitos trabalhistas</td>\n      <td>direitos trabalhistas</td>\n      <td>trabalhista</td>\n      <td>trabalho;econômico</td>\n      <td>reconhece</td>\n      <td>ambiente</td>\n      <td>NaN</td>\n      <td>NaN</td>\n      <td>l14437</td>\n      <td>0.0</td>\n    </tr>\n    <tr>\n      <th>30</th>\n      <td>f();f(x)</td>\n      <td>o</td>\n      <td>7410</td>\n      <td>0.00526</td>\n      <td>Altera as Leis nºˢ 9.096, de 19 de setembro de...</td>\n      <td>Esta Lei altera as Leis nºˢ 9.096, de 19 de se...</td>\n      <td>ontológica;normativa</td>\n      <td>neutra</td>\n      <td>democracia</td>\n      <td>democracia</td>\n      <td>eleitoral</td>\n      <td>político</td>\n      <td>impõe;reconhece</td>\n      <td>ferramenta</td>\n      <td>NaN</td>\n      <td>NaN</td>\n      <td>l12034</td>\n      <td>0.0</td>\n    </tr>\n    <tr>\n      <th>31</th>\n      <td>f()</td>\n      <td>NaN</td>\n      <td>12853</td>\n      <td>0.00638</td>\n      <td>Dispõe sobre o Sistema Eletrônico dos Registro...</td>\n      <td>Esta Lei dispõe sobre o Sistema Eletrônico dos...</td>\n      <td>ontológica;normativa</td>\n      <td>neutra</td>\n      <td>comercial</td>\n      <td>NaN</td>\n      <td>tributário</td>\n      <td>econômico</td>\n      <td>impõe</td>\n      <td>ambiente</td>\n      <td>NaN</td>\n      <td>NaN</td>\n      <td>l14382</td>\n      <td>0.0</td>\n    </tr>\n    <tr>\n      <th>32</th>\n      <td>f();f(x)</td>\n      <td>NaN</td>\n      <td>22658</td>\n      <td>0.00260</td>\n      <td>Altera a alíquota das contribuições previdenci...</td>\n      <td>Fica instituído o Programa Nacional de Apoio à...</td>\n      <td>ontológica;normativa</td>\n      <td>benefício</td>\n      <td>saúde;transparência;comercial</td>\n      <td>NaN</td>\n      <td>tributário</td>\n      <td>econômico;saúde</td>\n      <td>impõe</td>\n      <td>ferramenta</td>\n      <td>NaN</td>\n      <td>NaN</td>\n      <td>l12715</td>\n      <td>0.0</td>\n    </tr>\n    <tr>\n      <th>33</th>\n      <td>f();f(x)</td>\n      <td>o</td>\n      <td>13914</td>\n      <td>0.00453</td>\n      <td>Dispõe sobre a facilitação para abertura de em...</td>\n      <td>Esta Lei dispõe sobre a facilitação para abert...</td>\n      <td>ontológica;normativa</td>\n      <td>benefício</td>\n      <td>comercial</td>\n      <td>comercial</td>\n      <td>tributário</td>\n      <td>econômico</td>\n      <td>impõe</td>\n      <td>ferramenta</td>\n      <td>NaN</td>\n      <td>NaN</td>\n      <td>l14195</td>\n      <td>1.0</td>\n    </tr>\n    <tr>\n      <th>34</th>\n      <td>NaN</td>\n      <td>NaN</td>\n      <td>321</td>\n      <td>0.01869</td>\n      <td>Altera o Decreto-Lei nº 2.848, de 7 de dezembr...</td>\n      <td>Esta Lei altera o Decreto-Lei nº 2.848, de 7 d...</td>\n      <td>normativa</td>\n      <td>ameaça;benefício</td>\n      <td>segurança;controle;privacidade;segurança sexua...</td>\n      <td>NaN</td>\n      <td>civil</td>\n      <td>segurança</td>\n      <td>reconhece</td>\n      <td>ferramenta</td>\n      <td>NaN</td>\n      <td>NaN</td>\n      <td>l12735</td>\n      <td>0.0</td>\n    </tr>\n    <tr>\n      <th>35</th>\n      <td>NaN</td>\n      <td>NaN</td>\n      <td>272</td>\n      <td>0.01471</td>\n      <td>Altera o art. 19 do Regulamento a que se refer...</td>\n      <td>O art. 19 do Regulamento a que se refere o Dec...</td>\n      <td>normativa</td>\n      <td>benefício</td>\n      <td>comercial</td>\n      <td>NaN</td>\n      <td>civil</td>\n      <td>econômico</td>\n      <td>reconhece</td>\n      <td>ferramenta;ambiente</td>\n      <td>NaN</td>\n      <td>NaN</td>\n      <td>l13138</td>\n      <td>0.0</td>\n    </tr>\n    <tr>\n      <th>36</th>\n      <td>NaN</td>\n      <td>NaN</td>\n      <td>580</td>\n      <td>0.00517</td>\n      <td>Dispõe sobre a tipificação criminal de delitos...</td>\n      <td>Esta Lei dispõe sobre a tipificação criminal d...</td>\n      <td>normativa</td>\n      <td>ameaça</td>\n      <td>segurança;propriedade</td>\n      <td>NaN</td>\n      <td>penal</td>\n      <td>criminal</td>\n      <td>reconhece</td>\n      <td>ferramenta</td>\n      <td>NaN</td>\n      <td>1/2r</td>\n      <td>l12737</td>\n      <td>0.0</td>\n    </tr>\n    <tr>\n      <th>37</th>\n      <td>f()</td>\n      <td>NaN</td>\n      <td>2787</td>\n      <td>0.03409</td>\n      <td>Dispõe sobre a informatização do processo judi...</td>\n      <td>O uso de meio eletrônico na tramitação de proc...</td>\n      <td>normativa</td>\n      <td>benefício</td>\n      <td>burocrática</td>\n      <td>NaN</td>\n      <td>processual</td>\n      <td>burocrático</td>\n      <td>impõe</td>\n      <td>ferramenta</td>\n      <td>NaN</td>\n      <td>r</td>\n      <td>l11419</td>\n      <td>0.0</td>\n    </tr>\n    <tr>\n      <th>38</th>\n      <td>f()</td>\n      <td>NaN</td>\n      <td>206</td>\n      <td>0.01942</td>\n      <td>Altera a Lei nº 10.446, de 8 de maio de 2002, ...</td>\n      <td>O **caput** do art. 1º da Lei nº 10.446, de 8 ...</td>\n      <td>normativa;ontológica</td>\n      <td>ameaça</td>\n      <td>segurança;integridade</td>\n      <td>NaN</td>\n      <td>penal</td>\n      <td>ciminal;ética</td>\n      <td>reconhece</td>\n      <td>ambiente</td>\n      <td>NaN</td>\n      <td>NaN</td>\n      <td>l13642</td>\n      <td>0.0</td>\n    </tr>\n    <tr>\n      <th>39</th>\n      <td>NaN</td>\n      <td>o;?</td>\n      <td>259</td>\n      <td>0.01931</td>\n      <td>Altera a Lei nº 9.099, de 26 de setembro de 19...</td>\n      <td>Esta Lei altera a Lei nº 9.099, de 26 de setem...</td>\n      <td>normativa</td>\n      <td>benefício</td>\n      <td>burocrática;mediação</td>\n      <td>burocrática;mediação</td>\n      <td>processual</td>\n      <td>burocrático</td>\n      <td>impõe</td>\n      <td>ambiente;ferramenta</td>\n      <td>NaN</td>\n      <td>NaN</td>\n      <td>l13994</td>\n      <td>0.0</td>\n    </tr>\n    <tr>\n      <th>40</th>\n      <td>NaN</td>\n      <td>o</td>\n      <td>684</td>\n      <td>0.00585</td>\n      <td>Estabelece procedimento alternativo para a con...</td>\n      <td>Esta Lei altera a Lei nº 6.815, de 19 de agost...</td>\n      <td>normativa</td>\n      <td>benefício</td>\n      <td>inclusão;burocrática</td>\n      <td>inclusão;burocrática</td>\n      <td>civil</td>\n      <td>burocrático</td>\n      <td>impõe;reconhece</td>\n      <td>ferramenta</td>\n      <td>NaN</td>\n      <td>r</td>\n      <td>l12968</td>\n      <td>1.0</td>\n    </tr>\n  </tbody>\n</table>\n</div>"
     },
     "metadata": {},
     "output_type": "display_data"
    }
   ],
   "source": [
    "regex_internacional = r'internacio|exporta|importa|passaporte|(?<!em língua )estrangeir|exterior'\n",
    "# WRONG: df['internacional'] = 1 if df['Artigo 1º'].str.contains(regex_internacional, flags=re.IGNORECASE) | df['ementa'].str.contains(regex_internacional, flags=re.IGNORECASE) else 0\n",
    "# ALSO WRONG: df['internacional'] = df[df['Artigo 1º'].str.contains(regex_internacional, flags=re.IGNORECASE) | df['ementa'].str.contains(regex_internacional, flags=re.IGNORECASE)]\n",
    "for index, row in df.iterrows():\n",
    "    if re.search(regex_internacional, row['artigo_1'], flags=re.IGNORECASE) or re.search(regex_internacional, row['ementa'], flags=re.IGNORECASE):\n",
    "        df.at[index, 'internacional'] = 1\n",
    "    else:\n",
    "        df.at[index, 'internacional'] = 0\n",
    "\n",
    "display(df.head(40))"
   ],
   "metadata": {
    "collapsed": false,
    "ExecuteTime": {
     "end_time": "2023-07-28T05:17:01.708696366Z",
     "start_time": "2023-07-28T05:17:00.133723794Z"
    }
   }
  },
  {
   "cell_type": "code",
   "execution_count": 172,
   "outputs": [
    {
     "data": {
      "text/plain": "0.0    231\n1.0     16\nName: internacional, dtype: int64"
     },
     "execution_count": 172,
     "metadata": {},
     "output_type": "execute_result"
    }
   ],
   "source": [
    "df['internacional'].value_counts()"
   ],
   "metadata": {
    "collapsed": false,
    "ExecuteTime": {
     "end_time": "2023-07-28T05:17:01.783201094Z",
     "start_time": "2023-07-28T05:17:00.195353118Z"
    }
   }
  },
  {
   "cell_type": "code",
   "execution_count": 173,
   "outputs": [
    {
     "data": {
      "text/plain": "    outro_assunto  n_palavras  freq_assunto  \\\nid                                            \n1             1.0        1799       0.00111   \n2             0.0        6698       0.01911   \n3             0.0         328       0.00610   \n4             1.0        1434       0.00279   \n5             0.0         181       0.04972   \n6             0.0         229       0.01310   \n7             0.0         658       0.00608   \n8             0.0        1903       0.00631   \n9             0.0         227       0.01762   \n10            0.0         944       0.00530   \n11            0.0       16589       0.00157   \n12            0.0        1974       0.01925   \n13            0.0         635       0.01575   \n14            0.0         786       0.00891   \n15            0.0         198       0.01010   \n16            0.0         307       0.02280   \n17            1.0         626       0.00958   \n18            1.0        3730       0.00590   \n19            0.0         767       0.01565   \n20            0.0         528       0.01515   \n21            0.0        1027       0.02824   \n22            0.0         513       0.00780   \n23            1.0        8160       0.00221   \n24            1.0         874       0.00686   \n25            0.0        1539       0.00455   \n26            1.0         778       0.00257   \n27            1.0        1358       0.00074   \n28            1.0        1647       0.00243   \n29            1.0        7404       0.00216   \n30            1.0        7410       0.00526   \n31            0.0       12853       0.00638   \n32            0.0       22658       0.00260   \n33            1.0       13914       0.00453   \n34            0.0         321       0.01869   \n35            0.0         272       0.01471   \n36            0.0         580       0.00517   \n37            0.0        2787       0.03409   \n38            0.0         206       0.01942   \n39            0.5         259       0.01931   \n40            1.0         684       0.00585   \n\n                                               ementa  \\\nid                                                      \n1   Altera o Título VI da Parte Especial do Decret...   \n2   Estabelece princípios, garantias, direitos e d...   \n3   Obriga o fornecedor de ingresso para evento cu...   \n4   Dispõe sobre propaganda, financiamento e prest...   \n5   Normatiza a divulgação de documentos instituci...   \n6   Altera a Lei nº 12.485, de 12 de setembro de 2...   \n7   Dispõe sobre a criação de \"homepage\" na \"Inter...   \n8   Dispõe sobre a garantia de acesso à internet, ...   \n9   Altera o parágrafo único do art. 541 do Código...   \n10  Altera a Lei nº 8.069, de 13 de julho de 1990 ...   \n11  Dispõe sobre a proteção de dados pessoais e al...   \n12  Institui o Programa Internet Brasil; e altera ...   \n13  Altera o Decreto-Lei nº 2.848, de 7 de dezembr...   \n14  Altera a Lei nº 8.069, de 13 de julho de 1990 ...   \n15  Acrescenta inciso V ao art. 1º da Lei nº 10.44...   \n16  Institui o Diário Eletrônico da Ordem dos Advo...   \n17  Altera a Lei nº 8.069, de 13 de julho de 1990,...   \n18  Altera as Leis nº 9.504, de 30 de setembro de ...   \n19  Altera a Lei nº 10.406, de 10 de janeiro de 20...   \n20  Altera a Lei nº 11.903, de 14 de janeiro de 20...   \n21  Institui a Política de Inovação Educação Conec...   \n22  Altera a redação do § 1º do art. 47 da Lei nº ...   \n23  Altera as Leis nº 9.504, de 30 de setembro de ...   \n24  Dispõe sobre medidas de proteção asseguradas a...   \n25  Dispõe sobre o direito de resposta ou retifica...   \n26  Altera dispositivos da Lei nº 9.294, de 15 de ...   \n27  Autoriza pagamentos antecipados nas licitações...   \n28  Dispõe sobre o pagamento de auxílio-alimentaçã...   \n29  Autoriza o Poder Executivo federal a dispor so...   \n30  Altera as Leis nºˢ 9.096, de 19 de setembro de...   \n31  Dispõe sobre o Sistema Eletrônico dos Registro...   \n32  Altera a alíquota das contribuições previdenci...   \n33  Dispõe sobre a facilitação para abertura de em...   \n34  Altera o Decreto-Lei nº 2.848, de 7 de dezembr...   \n35  Altera o art. 19 do Regulamento a que se refer...   \n36  Dispõe sobre a tipificação criminal de delitos...   \n37  Dispõe sobre a informatização do processo judi...   \n38  Altera a Lei nº 10.446, de 8 de maio de 2002, ...   \n39  Altera a Lei nº 9.099, de 26 de setembro de 19...   \n40  Estabelece procedimento alternativo para a con...   \n\n                                             artigo_1              dimensao  \\\nid                                                                            \n1   Esta Lei altera o Título VI da Parte Especial ...             normativa   \n2   Esta Lei estabelece princípios, garantias, dir...            ontológica   \n3   O fornecedor de ingresso para evento cultural ...             normativa   \n4   A Lei nº 9.504, de 30 de setembro de 1997, pas...             normativa   \n5   Esta Lei normatiza a divulgação de documentos ...             normativa   \n6   Esta Lei altera a Lei nº 12.485, de 12 de sete...             normativa   \n7   O Tribunal de Contas da União criará _homepage...            ontológica   \n8   Esta Lei dispõe sobre a assistência da União a...             normativa   \n9   O parágrafo único do art. 541 da Lei nº 5.869,...             normativa   \n10  Os arts. 240 e 241 da Lei nº 8.069, de 13 de j...             normativa   \n11  Esta Lei dispõe sobre o tratamento de dados pe...            ontológica   \n12  Fica instituído o Programa Internet Brasil, no...             normativa   \n13  O Decreto-Lei nº 2.848, de 7 de dezembro de 19...             normativa   \n14  O Capítulo III do Título VI da Parte Especial ...             normativa   \n15  O art. 1º da Lei nº 10.446, de 8 de maio de 20...  normativa;ontológica   \n16  Fica instituído o Diário Eletrônico da Ordem d...            ontológica   \n17  O parágrafo único do art. 143 da Lei nº 8.069,...             normativa   \n18  A Lei nº 9.504, de 30 de setembro de 1997 , pa...             normativa   \n19  Esta Lei altera a Lei nº 10.406, de 10 de jane...            ontológica   \n20  A Lei nº 11.903, de 14 de janeiro de 2009, pas...             normativa   \n21  É instituída a Política de Inovação Educação C...            ontológica   \n22  O § 1º do art. 47 da Lei nº 9.394, de 20 de de...             normativa   \n23  Esta Lei modifica as Leis nº 9.504, de 30 de s...             normativa   \n24  Esta Lei dispõe sobre medidas de proteção asse...             normativa   \n25  Esta Lei disciplina o exercício do direito de ...             normativa   \n26  A Lei nº 9.294, de 15 de julho de 1996, passa ...             normativa   \n27  A administração pública dos entes federativos,...             normativa   \n28  Esta Lei dispõe sobre o pagamento de auxílio-a...             normativa   \n29  Esta Lei autoriza o Poder Executivo federal a ...             normativa   \n30  Esta Lei altera as Leis nºˢ 9.096, de 19 de se...  ontológica;normativa   \n31  Esta Lei dispõe sobre o Sistema Eletrônico dos...  ontológica;normativa   \n32  Fica instituído o Programa Nacional de Apoio à...  ontológica;normativa   \n33  Esta Lei dispõe sobre a facilitação para abert...  ontológica;normativa   \n34  Esta Lei altera o Decreto-Lei nº 2.848, de 7 d...             normativa   \n35  O art. 19 do Regulamento a que se refere o Dec...             normativa   \n36  Esta Lei dispõe sobre a tipificação criminal d...             normativa   \n37  O uso de meio eletrônico na tramitação de proc...             normativa   \n38  O **caput** do art. 1º da Lei nº 10.446, de 8 ...  normativa;ontológica   \n39  Esta Lei altera a Lei nº 9.099, de 26 de setem...             normativa   \n40  Esta Lei altera a Lei nº 6.815, de 19 de agost...             normativa   \n\n        benevolencia                                      funcao_social  \\\nid                                                                        \n1             ameaça                     segurança;segurança sexual;ECA   \n2          benefício                         valoração;inclusão;consumo   \n3          benefício                                    cultura;consumo   \n4          benefício                           democracia;transparência   \n5          benefício                              inclusão;nacionalismo   \n6             ameaça                                            consumo   \n7             neutra                                      transparência   \n8          benefício                                  inclusão;educação   \n9          benefício                                        burocrática   \n10            ameaça                     ECA;segurança;segurança sexual   \n11            ameaça                  indivíduo;propriedade;privacidade   \n12         benefício                                  inclusão;educação   \n13            ameaça                              segurança;propriedade   \n14  ameaça;benefício  segurança;controle;privacidade;segurança sexua...   \n15            ameaça                            segurança;consumo;saúde   \n16         benefício                                      transparência   \n17            ameaça                     segurança;segurança sexual;ECA   \n18            neutra                                         democracia   \n19         benefício                comunicação;organização comunitária   \n20         benefício                        saúde;transparência;consumo   \n21         benefício                                  educação;inclusão   \n22         benefício                             educação;transparência   \n23         benefício                                         democracia   \n24         benefício                              direitos trabalhistas   \n25            neutra                   indivíduo;democracia;integridade   \n26            ameaça                                    comercial;saúde   \n27         benefício                                          comercial   \n28          ameaça;?                              direitos trabalhistas   \n29          ameaça;?                              direitos trabalhistas   \n30            neutra                                         democracia   \n31            neutra                                          comercial   \n32         benefício                      saúde;transparência;comercial   \n33         benefício                                          comercial   \n34  ameaça;benefício  segurança;controle;privacidade;segurança sexua...   \n35         benefício                                          comercial   \n36            ameaça                              segurança;propriedade   \n37         benefício                                        burocrática   \n38            ameaça                              segurança;integridade   \n39         benefício                               burocrática;mediação   \n40         benefício                               inclusão;burocrática   \n\n             funcao_social_assunto  ramo_dogmatico  \\\nid                                                   \n1                              ECA           penal   \n2                              NaN           civil   \n3                              NaN           civil   \n4                    transparência       eleitoral   \n5                              NaN  administrativo   \n6                              NaN           civil   \n7                              NaN  administrativo   \n8                              NaN  administrativo   \n9                              NaN      processual   \n10                             NaN           penal   \n11                             NaN           civil   \n12                             NaN  administrativo   \n13                             NaN           penal   \n14                             NaN           penal   \n15                             NaN           penal   \n16                             NaN  administrativo   \n17  segurança;segurança sexual;ECA           penal   \n18                      democracia       eleitoral   \n19                             NaN           civil   \n20                             NaN  administrativo   \n21                             NaN           civil   \n22                             NaN           civil   \n23        transparência;tributação       eleitoral   \n24   direitos trabalhistas;salário     trabalhista   \n25                             NaN           civil   \n26                       comercial           civil   \n27                   transparência    orçamentário   \n28           direitos trabalhistas     trabalhista   \n29           direitos trabalhistas     trabalhista   \n30                      democracia       eleitoral   \n31                             NaN      tributário   \n32                             NaN      tributário   \n33                       comercial      tributário   \n34                             NaN           civil   \n35                             NaN           civil   \n36                             NaN           penal   \n37                             NaN      processual   \n38                             NaN           penal   \n39            burocrática;mediação      processual   \n40            inclusão;burocrática           civil   \n\n                       ramo_sociologico imposicao_reconhecimento  \\\nid                                                                 \n1   violência;violência sexual;infância                reconhece   \n2                           comunicação                reconhece   \n3                             econômico                    impõe   \n4                              político                    impõe   \n5                              nacional                    impõe   \n6                             econômico                    impõe   \n7                           burocrático                      NaN   \n8                           educacional                    impõe   \n9                           burocrático                reconhece   \n10  violência sexual;violência;infância                reconhece   \n11                     individualização                reconhece   \n12                             educação                    impõe   \n13                             criminal                reconhece   \n14                            segurança                reconhece   \n15                              ciminal                reconhece   \n16                          burocrático                reconhece   \n17  violência;violência sexual;infância                reconhece   \n18                             político          impõe;reconhece   \n19                             político                reconhece   \n20                                saúde                    impõe   \n21                             educação                    impõe   \n22                             educação                    impõe   \n23                             político                    impõe   \n24                   trabalho;econômico                    impõe   \n25                                ética          impõe;reconhece   \n26                            econômico                    impõe   \n27                burocrático;econômico                reconhece   \n28                   trabalho;econômico                reconhece   \n29                   trabalho;econômico                reconhece   \n30                             político          impõe;reconhece   \n31                            econômico                    impõe   \n32                      econômico;saúde                    impõe   \n33                            econômico                    impõe   \n34                            segurança                reconhece   \n35                            econômico                reconhece   \n36                             criminal                reconhece   \n37                          burocrático                    impõe   \n38                        ciminal;ética                reconhece   \n39                          burocrático                    impõe   \n40                          burocrático          impõe;reconhece   \n\n    ferramenta_ambiente  artigo_1_revogado  efetivamente_revogada file_name  \\\nid                                                                            \n1              ambiente                  0                    0.0    l12015   \n2   ferramenta;ambiente                  0                    0.0    l12965   \n3              ambiente                  0                    0.0    l13179   \n4            ferramenta                  0                    0.0    l11300   \n5              ambiente                  0                    0.0    l12686   \n6   ferramenta;ambiente                  0                    0.0    l13828   \n7            ferramenta                  0                    0.0     l9755   \n8            ferramenta                  0                    0.0    l14172   \n9              ambiente                  0                    1.0    l11341   \n10             ambiente                  0                    0.0    l11829   \n11  ambiente;ferramenta                  0                    0.0    l13709   \n12           ferramenta                  0                    0.0    l14351   \n13  ambiente;ferramenta                  0                    0.0    l14155   \n14           ferramenta                  0                    0.0    l13441   \n15             ambiente                  0                    0.0    l12894   \n16           ferramenta                  0                    0.0    l13688   \n17             ambiente                  0                    1.0   l10.764   \n18           ferramenta                  0                    0.0    l13488   \n19             ambiente                  0                    0.0    l14309   \n20             ambiente                  0                    0.0    l14338   \n21           ferramenta                  0                    0.0    l14180   \n22           ferramenta                  0                    0.0    l13168   \n23           ferramenta                  0                    0.0    l13165   \n24  ferramenta;ambiente                  0                    0.0    l14297   \n25             ambiente                  0                    0.0    l13188   \n26             ambiente                  0                    0.0    l10167   \n27             ambiente                  0                    0.0    l14065   \n28             ambiente                  0                    0.0    l14442   \n29             ambiente                  0                    0.0    l14437   \n30           ferramenta                  0                    0.0    l12034   \n31             ambiente                  0                    0.0    l14382   \n32           ferramenta                  0                    0.0    l12715   \n33           ferramenta                  0                    0.0    l14195   \n34           ferramenta                  0                    0.0    l12735   \n35  ferramenta;ambiente                  0                    0.0    l13138   \n36           ferramenta                  0                    0.5    l12737   \n37           ferramenta                  0                    1.0    l11419   \n38             ambiente                  0                    0.0    l13642   \n39  ambiente;ferramenta                  0                    0.0    l13994   \n40           ferramenta                  0                    1.0    l12968   \n\n    internacional    f   fx  \nid                           \n1             0.0  1.0  0.0  \n2             0.0  0.0  1.0  \n3             0.0  0.0  0.0  \n4             0.0  1.0  0.0  \n5             0.0  0.0  0.0  \n6             0.0  1.0  0.0  \n7             0.0  0.0  0.0  \n8             0.0  0.0  1.0  \n9             0.0  1.0  0.0  \n10            0.0  1.0  0.0  \n11            0.0  1.0  1.0  \n12            0.0  1.0  0.0  \n13            0.0  0.0  0.0  \n14            0.0  1.0  0.0  \n15            1.0  0.0  0.0  \n16            0.0  1.0  0.0  \n17            0.0  1.0  0.0  \n18            0.0  1.0  1.0  \n19            0.0  1.0  0.0  \n20            0.0  1.0  0.0  \n21            0.0  0.0  0.0  \n22            0.0  1.0  0.0  \n23            0.0  1.0  1.0  \n24            0.0  0.0  0.0  \n25            0.0  0.0  0.0  \n26            0.0  1.0  0.0  \n27            0.0  1.0  0.0  \n28            0.0  0.0  1.0  \n29            0.0  0.0  1.0  \n30            0.0  1.0  1.0  \n31            0.0  1.0  0.0  \n32            0.0  1.0  1.0  \n33            1.0  1.0  1.0  \n34            0.0  0.0  0.0  \n35            0.0  0.0  0.0  \n36            0.0  0.0  0.0  \n37            0.0  1.0  0.0  \n38            0.0  1.0  0.0  \n39            0.0  0.0  0.0  \n40            1.0  0.0  0.0  ",
      "text/html": "<div>\n<style scoped>\n    .dataframe tbody tr th:only-of-type {\n        vertical-align: middle;\n    }\n\n    .dataframe tbody tr th {\n        vertical-align: top;\n    }\n\n    .dataframe thead th {\n        text-align: right;\n    }\n</style>\n<table border=\"1\" class=\"dataframe\">\n  <thead>\n    <tr style=\"text-align: right;\">\n      <th></th>\n      <th>outro_assunto</th>\n      <th>n_palavras</th>\n      <th>freq_assunto</th>\n      <th>ementa</th>\n      <th>artigo_1</th>\n      <th>dimensao</th>\n      <th>benevolencia</th>\n      <th>funcao_social</th>\n      <th>funcao_social_assunto</th>\n      <th>ramo_dogmatico</th>\n      <th>ramo_sociologico</th>\n      <th>imposicao_reconhecimento</th>\n      <th>ferramenta_ambiente</th>\n      <th>artigo_1_revogado</th>\n      <th>efetivamente_revogada</th>\n      <th>file_name</th>\n      <th>internacional</th>\n      <th>f</th>\n      <th>fx</th>\n    </tr>\n    <tr>\n      <th>id</th>\n      <th></th>\n      <th></th>\n      <th></th>\n      <th></th>\n      <th></th>\n      <th></th>\n      <th></th>\n      <th></th>\n      <th></th>\n      <th></th>\n      <th></th>\n      <th></th>\n      <th></th>\n      <th></th>\n      <th></th>\n      <th></th>\n      <th></th>\n      <th></th>\n      <th></th>\n    </tr>\n  </thead>\n  <tbody>\n    <tr>\n      <th>1</th>\n      <td>1.0</td>\n      <td>1799</td>\n      <td>0.00111</td>\n      <td>Altera o Título VI da Parte Especial do Decret...</td>\n      <td>Esta Lei altera o Título VI da Parte Especial ...</td>\n      <td>normativa</td>\n      <td>ameaça</td>\n      <td>segurança;segurança sexual;ECA</td>\n      <td>ECA</td>\n      <td>penal</td>\n      <td>violência;violência sexual;infância</td>\n      <td>reconhece</td>\n      <td>ambiente</td>\n      <td>0</td>\n      <td>0.0</td>\n      <td>l12015</td>\n      <td>0.0</td>\n      <td>1.0</td>\n      <td>0.0</td>\n    </tr>\n    <tr>\n      <th>2</th>\n      <td>0.0</td>\n      <td>6698</td>\n      <td>0.01911</td>\n      <td>Estabelece princípios, garantias, direitos e d...</td>\n      <td>Esta Lei estabelece princípios, garantias, dir...</td>\n      <td>ontológica</td>\n      <td>benefício</td>\n      <td>valoração;inclusão;consumo</td>\n      <td>NaN</td>\n      <td>civil</td>\n      <td>comunicação</td>\n      <td>reconhece</td>\n      <td>ferramenta;ambiente</td>\n      <td>0</td>\n      <td>0.0</td>\n      <td>l12965</td>\n      <td>0.0</td>\n      <td>0.0</td>\n      <td>1.0</td>\n    </tr>\n    <tr>\n      <th>3</th>\n      <td>0.0</td>\n      <td>328</td>\n      <td>0.00610</td>\n      <td>Obriga o fornecedor de ingresso para evento cu...</td>\n      <td>O fornecedor de ingresso para evento cultural ...</td>\n      <td>normativa</td>\n      <td>benefício</td>\n      <td>cultura;consumo</td>\n      <td>NaN</td>\n      <td>civil</td>\n      <td>econômico</td>\n      <td>impõe</td>\n      <td>ambiente</td>\n      <td>0</td>\n      <td>0.0</td>\n      <td>l13179</td>\n      <td>0.0</td>\n      <td>0.0</td>\n      <td>0.0</td>\n    </tr>\n    <tr>\n      <th>4</th>\n      <td>1.0</td>\n      <td>1434</td>\n      <td>0.00279</td>\n      <td>Dispõe sobre propaganda, financiamento e prest...</td>\n      <td>A Lei nº 9.504, de 30 de setembro de 1997, pas...</td>\n      <td>normativa</td>\n      <td>benefício</td>\n      <td>democracia;transparência</td>\n      <td>transparência</td>\n      <td>eleitoral</td>\n      <td>político</td>\n      <td>impõe</td>\n      <td>ferramenta</td>\n      <td>0</td>\n      <td>0.0</td>\n      <td>l11300</td>\n      <td>0.0</td>\n      <td>1.0</td>\n      <td>0.0</td>\n    </tr>\n    <tr>\n      <th>5</th>\n      <td>0.0</td>\n      <td>181</td>\n      <td>0.04972</td>\n      <td>Normatiza a divulgação de documentos instituci...</td>\n      <td>Esta Lei normatiza a divulgação de documentos ...</td>\n      <td>normativa</td>\n      <td>benefício</td>\n      <td>inclusão;nacionalismo</td>\n      <td>NaN</td>\n      <td>administrativo</td>\n      <td>nacional</td>\n      <td>impõe</td>\n      <td>ambiente</td>\n      <td>0</td>\n      <td>0.0</td>\n      <td>l12686</td>\n      <td>0.0</td>\n      <td>0.0</td>\n      <td>0.0</td>\n    </tr>\n    <tr>\n      <th>6</th>\n      <td>0.0</td>\n      <td>229</td>\n      <td>0.01310</td>\n      <td>Altera a Lei nº 12.485, de 12 de setembro de 2...</td>\n      <td>Esta Lei altera a Lei nº 12.485, de 12 de sete...</td>\n      <td>normativa</td>\n      <td>ameaça</td>\n      <td>consumo</td>\n      <td>NaN</td>\n      <td>civil</td>\n      <td>econômico</td>\n      <td>impõe</td>\n      <td>ferramenta;ambiente</td>\n      <td>0</td>\n      <td>0.0</td>\n      <td>l13828</td>\n      <td>0.0</td>\n      <td>1.0</td>\n      <td>0.0</td>\n    </tr>\n    <tr>\n      <th>7</th>\n      <td>0.0</td>\n      <td>658</td>\n      <td>0.00608</td>\n      <td>Dispõe sobre a criação de \"homepage\" na \"Inter...</td>\n      <td>O Tribunal de Contas da União criará _homepage...</td>\n      <td>ontológica</td>\n      <td>neutra</td>\n      <td>transparência</td>\n      <td>NaN</td>\n      <td>administrativo</td>\n      <td>burocrático</td>\n      <td>NaN</td>\n      <td>ferramenta</td>\n      <td>0</td>\n      <td>0.0</td>\n      <td>l9755</td>\n      <td>0.0</td>\n      <td>0.0</td>\n      <td>0.0</td>\n    </tr>\n    <tr>\n      <th>8</th>\n      <td>0.0</td>\n      <td>1903</td>\n      <td>0.00631</td>\n      <td>Dispõe sobre a garantia de acesso à internet, ...</td>\n      <td>Esta Lei dispõe sobre a assistência da União a...</td>\n      <td>normativa</td>\n      <td>benefício</td>\n      <td>inclusão;educação</td>\n      <td>NaN</td>\n      <td>administrativo</td>\n      <td>educacional</td>\n      <td>impõe</td>\n      <td>ferramenta</td>\n      <td>0</td>\n      <td>0.0</td>\n      <td>l14172</td>\n      <td>0.0</td>\n      <td>0.0</td>\n      <td>1.0</td>\n    </tr>\n    <tr>\n      <th>9</th>\n      <td>0.0</td>\n      <td>227</td>\n      <td>0.01762</td>\n      <td>Altera o parágrafo único do art. 541 do Código...</td>\n      <td>O parágrafo único do art. 541 da Lei nº 5.869,...</td>\n      <td>normativa</td>\n      <td>benefício</td>\n      <td>burocrática</td>\n      <td>NaN</td>\n      <td>processual</td>\n      <td>burocrático</td>\n      <td>reconhece</td>\n      <td>ambiente</td>\n      <td>0</td>\n      <td>1.0</td>\n      <td>l11341</td>\n      <td>0.0</td>\n      <td>1.0</td>\n      <td>0.0</td>\n    </tr>\n    <tr>\n      <th>10</th>\n      <td>0.0</td>\n      <td>944</td>\n      <td>0.00530</td>\n      <td>Altera a Lei nº 8.069, de 13 de julho de 1990 ...</td>\n      <td>Os arts. 240 e 241 da Lei nº 8.069, de 13 de j...</td>\n      <td>normativa</td>\n      <td>ameaça</td>\n      <td>ECA;segurança;segurança sexual</td>\n      <td>NaN</td>\n      <td>penal</td>\n      <td>violência sexual;violência;infância</td>\n      <td>reconhece</td>\n      <td>ambiente</td>\n      <td>0</td>\n      <td>0.0</td>\n      <td>l11829</td>\n      <td>0.0</td>\n      <td>1.0</td>\n      <td>0.0</td>\n    </tr>\n    <tr>\n      <th>11</th>\n      <td>0.0</td>\n      <td>16589</td>\n      <td>0.00157</td>\n      <td>Dispõe sobre a proteção de dados pessoais e al...</td>\n      <td>Esta Lei dispõe sobre o tratamento de dados pe...</td>\n      <td>ontológica</td>\n      <td>ameaça</td>\n      <td>indivíduo;propriedade;privacidade</td>\n      <td>NaN</td>\n      <td>civil</td>\n      <td>individualização</td>\n      <td>reconhece</td>\n      <td>ambiente;ferramenta</td>\n      <td>0</td>\n      <td>0.0</td>\n      <td>l13709</td>\n      <td>0.0</td>\n      <td>1.0</td>\n      <td>1.0</td>\n    </tr>\n    <tr>\n      <th>12</th>\n      <td>0.0</td>\n      <td>1974</td>\n      <td>0.01925</td>\n      <td>Institui o Programa Internet Brasil; e altera ...</td>\n      <td>Fica instituído o Programa Internet Brasil, no...</td>\n      <td>normativa</td>\n      <td>benefício</td>\n      <td>inclusão;educação</td>\n      <td>NaN</td>\n      <td>administrativo</td>\n      <td>educação</td>\n      <td>impõe</td>\n      <td>ferramenta</td>\n      <td>0</td>\n      <td>0.0</td>\n      <td>l14351</td>\n      <td>0.0</td>\n      <td>1.0</td>\n      <td>0.0</td>\n    </tr>\n    <tr>\n      <th>13</th>\n      <td>0.0</td>\n      <td>635</td>\n      <td>0.01575</td>\n      <td>Altera o Decreto-Lei nº 2.848, de 7 de dezembr...</td>\n      <td>O Decreto-Lei nº 2.848, de 7 de dezembro de 19...</td>\n      <td>normativa</td>\n      <td>ameaça</td>\n      <td>segurança;propriedade</td>\n      <td>NaN</td>\n      <td>penal</td>\n      <td>criminal</td>\n      <td>reconhece</td>\n      <td>ambiente;ferramenta</td>\n      <td>0</td>\n      <td>0.0</td>\n      <td>l14155</td>\n      <td>0.0</td>\n      <td>0.0</td>\n      <td>0.0</td>\n    </tr>\n    <tr>\n      <th>14</th>\n      <td>0.0</td>\n      <td>786</td>\n      <td>0.00891</td>\n      <td>Altera a Lei nº 8.069, de 13 de julho de 1990 ...</td>\n      <td>O Capítulo III do Título VI da Parte Especial ...</td>\n      <td>normativa</td>\n      <td>ameaça;benefício</td>\n      <td>segurança;controle;privacidade;segurança sexua...</td>\n      <td>NaN</td>\n      <td>penal</td>\n      <td>segurança</td>\n      <td>reconhece</td>\n      <td>ferramenta</td>\n      <td>0</td>\n      <td>0.0</td>\n      <td>l13441</td>\n      <td>0.0</td>\n      <td>1.0</td>\n      <td>0.0</td>\n    </tr>\n    <tr>\n      <th>15</th>\n      <td>0.0</td>\n      <td>198</td>\n      <td>0.01010</td>\n      <td>Acrescenta inciso V ao art. 1º da Lei nº 10.44...</td>\n      <td>O art. 1º da Lei nº 10.446, de 8 de maio de 20...</td>\n      <td>normativa;ontológica</td>\n      <td>ameaça</td>\n      <td>segurança;consumo;saúde</td>\n      <td>NaN</td>\n      <td>penal</td>\n      <td>ciminal</td>\n      <td>reconhece</td>\n      <td>ambiente</td>\n      <td>0</td>\n      <td>0.0</td>\n      <td>l12894</td>\n      <td>1.0</td>\n      <td>0.0</td>\n      <td>0.0</td>\n    </tr>\n    <tr>\n      <th>16</th>\n      <td>0.0</td>\n      <td>307</td>\n      <td>0.02280</td>\n      <td>Institui o Diário Eletrônico da Ordem dos Advo...</td>\n      <td>Fica instituído o Diário Eletrônico da Ordem d...</td>\n      <td>ontológica</td>\n      <td>benefício</td>\n      <td>transparência</td>\n      <td>NaN</td>\n      <td>administrativo</td>\n      <td>burocrático</td>\n      <td>reconhece</td>\n      <td>ferramenta</td>\n      <td>0</td>\n      <td>0.0</td>\n      <td>l13688</td>\n      <td>0.0</td>\n      <td>1.0</td>\n      <td>0.0</td>\n    </tr>\n    <tr>\n      <th>17</th>\n      <td>1.0</td>\n      <td>626</td>\n      <td>0.00958</td>\n      <td>Altera a Lei nº 8.069, de 13 de julho de 1990,...</td>\n      <td>O parágrafo único do art. 143 da Lei nº 8.069,...</td>\n      <td>normativa</td>\n      <td>ameaça</td>\n      <td>segurança;segurança sexual;ECA</td>\n      <td>segurança;segurança sexual;ECA</td>\n      <td>penal</td>\n      <td>violência;violência sexual;infância</td>\n      <td>reconhece</td>\n      <td>ambiente</td>\n      <td>0</td>\n      <td>1.0</td>\n      <td>l10.764</td>\n      <td>0.0</td>\n      <td>1.0</td>\n      <td>0.0</td>\n    </tr>\n    <tr>\n      <th>18</th>\n      <td>1.0</td>\n      <td>3730</td>\n      <td>0.00590</td>\n      <td>Altera as Leis nº 9.504, de 30 de setembro de ...</td>\n      <td>A Lei nº 9.504, de 30 de setembro de 1997 , pa...</td>\n      <td>normativa</td>\n      <td>neutra</td>\n      <td>democracia</td>\n      <td>democracia</td>\n      <td>eleitoral</td>\n      <td>político</td>\n      <td>impõe;reconhece</td>\n      <td>ferramenta</td>\n      <td>0</td>\n      <td>0.0</td>\n      <td>l13488</td>\n      <td>0.0</td>\n      <td>1.0</td>\n      <td>1.0</td>\n    </tr>\n    <tr>\n      <th>19</th>\n      <td>0.0</td>\n      <td>767</td>\n      <td>0.01565</td>\n      <td>Altera a Lei nº 10.406, de 10 de janeiro de 20...</td>\n      <td>Esta Lei altera a Lei nº 10.406, de 10 de jane...</td>\n      <td>ontológica</td>\n      <td>benefício</td>\n      <td>comunicação;organização comunitária</td>\n      <td>NaN</td>\n      <td>civil</td>\n      <td>político</td>\n      <td>reconhece</td>\n      <td>ambiente</td>\n      <td>0</td>\n      <td>0.0</td>\n      <td>l14309</td>\n      <td>0.0</td>\n      <td>1.0</td>\n      <td>0.0</td>\n    </tr>\n    <tr>\n      <th>20</th>\n      <td>0.0</td>\n      <td>528</td>\n      <td>0.01515</td>\n      <td>Altera a Lei nº 11.903, de 14 de janeiro de 20...</td>\n      <td>A Lei nº 11.903, de 14 de janeiro de 2009, pas...</td>\n      <td>normativa</td>\n      <td>benefício</td>\n      <td>saúde;transparência;consumo</td>\n      <td>NaN</td>\n      <td>administrativo</td>\n      <td>saúde</td>\n      <td>impõe</td>\n      <td>ambiente</td>\n      <td>0</td>\n      <td>0.0</td>\n      <td>l14338</td>\n      <td>0.0</td>\n      <td>1.0</td>\n      <td>0.0</td>\n    </tr>\n    <tr>\n      <th>21</th>\n      <td>0.0</td>\n      <td>1027</td>\n      <td>0.02824</td>\n      <td>Institui a Política de Inovação Educação Conec...</td>\n      <td>É instituída a Política de Inovação Educação C...</td>\n      <td>ontológica</td>\n      <td>benefício</td>\n      <td>educação;inclusão</td>\n      <td>NaN</td>\n      <td>civil</td>\n      <td>educação</td>\n      <td>impõe</td>\n      <td>ferramenta</td>\n      <td>0</td>\n      <td>0.0</td>\n      <td>l14180</td>\n      <td>0.0</td>\n      <td>0.0</td>\n      <td>0.0</td>\n    </tr>\n    <tr>\n      <th>22</th>\n      <td>0.0</td>\n      <td>513</td>\n      <td>0.00780</td>\n      <td>Altera a redação do § 1º do art. 47 da Lei nº ...</td>\n      <td>O § 1º do art. 47 da Lei nº 9.394, de 20 de de...</td>\n      <td>normativa</td>\n      <td>benefício</td>\n      <td>educação;transparência</td>\n      <td>NaN</td>\n      <td>civil</td>\n      <td>educação</td>\n      <td>impõe</td>\n      <td>ferramenta</td>\n      <td>0</td>\n      <td>0.0</td>\n      <td>l13168</td>\n      <td>0.0</td>\n      <td>1.0</td>\n      <td>0.0</td>\n    </tr>\n    <tr>\n      <th>23</th>\n      <td>1.0</td>\n      <td>8160</td>\n      <td>0.00221</td>\n      <td>Altera as Leis nº 9.504, de 30 de setembro de ...</td>\n      <td>Esta Lei modifica as Leis nº 9.504, de 30 de s...</td>\n      <td>normativa</td>\n      <td>benefício</td>\n      <td>democracia</td>\n      <td>transparência;tributação</td>\n      <td>eleitoral</td>\n      <td>político</td>\n      <td>impõe</td>\n      <td>ferramenta</td>\n      <td>0</td>\n      <td>0.0</td>\n      <td>l13165</td>\n      <td>0.0</td>\n      <td>1.0</td>\n      <td>1.0</td>\n    </tr>\n    <tr>\n      <th>24</th>\n      <td>1.0</td>\n      <td>874</td>\n      <td>0.00686</td>\n      <td>Dispõe sobre medidas de proteção asseguradas a...</td>\n      <td>Esta Lei dispõe sobre medidas de proteção asse...</td>\n      <td>normativa</td>\n      <td>benefício</td>\n      <td>direitos trabalhistas</td>\n      <td>direitos trabalhistas;salário</td>\n      <td>trabalhista</td>\n      <td>trabalho;econômico</td>\n      <td>impõe</td>\n      <td>ferramenta;ambiente</td>\n      <td>0</td>\n      <td>0.0</td>\n      <td>l14297</td>\n      <td>0.0</td>\n      <td>0.0</td>\n      <td>0.0</td>\n    </tr>\n    <tr>\n      <th>25</th>\n      <td>0.0</td>\n      <td>1539</td>\n      <td>0.00455</td>\n      <td>Dispõe sobre o direito de resposta ou retifica...</td>\n      <td>Esta Lei disciplina o exercício do direito de ...</td>\n      <td>normativa</td>\n      <td>neutra</td>\n      <td>indivíduo;democracia;integridade</td>\n      <td>NaN</td>\n      <td>civil</td>\n      <td>ética</td>\n      <td>impõe;reconhece</td>\n      <td>ambiente</td>\n      <td>0</td>\n      <td>0.0</td>\n      <td>l13188</td>\n      <td>0.0</td>\n      <td>0.0</td>\n      <td>0.0</td>\n    </tr>\n    <tr>\n      <th>26</th>\n      <td>1.0</td>\n      <td>778</td>\n      <td>0.00257</td>\n      <td>Altera dispositivos da Lei nº 9.294, de 15 de ...</td>\n      <td>A Lei nº 9.294, de 15 de julho de 1996, passa ...</td>\n      <td>normativa</td>\n      <td>ameaça</td>\n      <td>comercial;saúde</td>\n      <td>comercial</td>\n      <td>civil</td>\n      <td>econômico</td>\n      <td>impõe</td>\n      <td>ambiente</td>\n      <td>0</td>\n      <td>0.0</td>\n      <td>l10167</td>\n      <td>0.0</td>\n      <td>1.0</td>\n      <td>0.0</td>\n    </tr>\n    <tr>\n      <th>27</th>\n      <td>1.0</td>\n      <td>1358</td>\n      <td>0.00074</td>\n      <td>Autoriza pagamentos antecipados nas licitações...</td>\n      <td>A administração pública dos entes federativos,...</td>\n      <td>normativa</td>\n      <td>benefício</td>\n      <td>comercial</td>\n      <td>transparência</td>\n      <td>orçamentário</td>\n      <td>burocrático;econômico</td>\n      <td>reconhece</td>\n      <td>ambiente</td>\n      <td>0</td>\n      <td>0.0</td>\n      <td>l14065</td>\n      <td>0.0</td>\n      <td>1.0</td>\n      <td>0.0</td>\n    </tr>\n    <tr>\n      <th>28</th>\n      <td>1.0</td>\n      <td>1647</td>\n      <td>0.00243</td>\n      <td>Dispõe sobre o pagamento de auxílio-alimentaçã...</td>\n      <td>Esta Lei dispõe sobre o pagamento de auxílio-a...</td>\n      <td>normativa</td>\n      <td>ameaça;?</td>\n      <td>direitos trabalhistas</td>\n      <td>direitos trabalhistas</td>\n      <td>trabalhista</td>\n      <td>trabalho;econômico</td>\n      <td>reconhece</td>\n      <td>ambiente</td>\n      <td>0</td>\n      <td>0.0</td>\n      <td>l14442</td>\n      <td>0.0</td>\n      <td>0.0</td>\n      <td>1.0</td>\n    </tr>\n    <tr>\n      <th>29</th>\n      <td>1.0</td>\n      <td>7404</td>\n      <td>0.00216</td>\n      <td>Autoriza o Poder Executivo federal a dispor so...</td>\n      <td>Esta Lei autoriza o Poder Executivo federal a ...</td>\n      <td>normativa</td>\n      <td>ameaça;?</td>\n      <td>direitos trabalhistas</td>\n      <td>direitos trabalhistas</td>\n      <td>trabalhista</td>\n      <td>trabalho;econômico</td>\n      <td>reconhece</td>\n      <td>ambiente</td>\n      <td>0</td>\n      <td>0.0</td>\n      <td>l14437</td>\n      <td>0.0</td>\n      <td>0.0</td>\n      <td>1.0</td>\n    </tr>\n    <tr>\n      <th>30</th>\n      <td>1.0</td>\n      <td>7410</td>\n      <td>0.00526</td>\n      <td>Altera as Leis nºˢ 9.096, de 19 de setembro de...</td>\n      <td>Esta Lei altera as Leis nºˢ 9.096, de 19 de se...</td>\n      <td>ontológica;normativa</td>\n      <td>neutra</td>\n      <td>democracia</td>\n      <td>democracia</td>\n      <td>eleitoral</td>\n      <td>político</td>\n      <td>impõe;reconhece</td>\n      <td>ferramenta</td>\n      <td>0</td>\n      <td>0.0</td>\n      <td>l12034</td>\n      <td>0.0</td>\n      <td>1.0</td>\n      <td>1.0</td>\n    </tr>\n    <tr>\n      <th>31</th>\n      <td>0.0</td>\n      <td>12853</td>\n      <td>0.00638</td>\n      <td>Dispõe sobre o Sistema Eletrônico dos Registro...</td>\n      <td>Esta Lei dispõe sobre o Sistema Eletrônico dos...</td>\n      <td>ontológica;normativa</td>\n      <td>neutra</td>\n      <td>comercial</td>\n      <td>NaN</td>\n      <td>tributário</td>\n      <td>econômico</td>\n      <td>impõe</td>\n      <td>ambiente</td>\n      <td>0</td>\n      <td>0.0</td>\n      <td>l14382</td>\n      <td>0.0</td>\n      <td>1.0</td>\n      <td>0.0</td>\n    </tr>\n    <tr>\n      <th>32</th>\n      <td>0.0</td>\n      <td>22658</td>\n      <td>0.00260</td>\n      <td>Altera a alíquota das contribuições previdenci...</td>\n      <td>Fica instituído o Programa Nacional de Apoio à...</td>\n      <td>ontológica;normativa</td>\n      <td>benefício</td>\n      <td>saúde;transparência;comercial</td>\n      <td>NaN</td>\n      <td>tributário</td>\n      <td>econômico;saúde</td>\n      <td>impõe</td>\n      <td>ferramenta</td>\n      <td>0</td>\n      <td>0.0</td>\n      <td>l12715</td>\n      <td>0.0</td>\n      <td>1.0</td>\n      <td>1.0</td>\n    </tr>\n    <tr>\n      <th>33</th>\n      <td>1.0</td>\n      <td>13914</td>\n      <td>0.00453</td>\n      <td>Dispõe sobre a facilitação para abertura de em...</td>\n      <td>Esta Lei dispõe sobre a facilitação para abert...</td>\n      <td>ontológica;normativa</td>\n      <td>benefício</td>\n      <td>comercial</td>\n      <td>comercial</td>\n      <td>tributário</td>\n      <td>econômico</td>\n      <td>impõe</td>\n      <td>ferramenta</td>\n      <td>0</td>\n      <td>0.0</td>\n      <td>l14195</td>\n      <td>1.0</td>\n      <td>1.0</td>\n      <td>1.0</td>\n    </tr>\n    <tr>\n      <th>34</th>\n      <td>0.0</td>\n      <td>321</td>\n      <td>0.01869</td>\n      <td>Altera o Decreto-Lei nº 2.848, de 7 de dezembr...</td>\n      <td>Esta Lei altera o Decreto-Lei nº 2.848, de 7 d...</td>\n      <td>normativa</td>\n      <td>ameaça;benefício</td>\n      <td>segurança;controle;privacidade;segurança sexua...</td>\n      <td>NaN</td>\n      <td>civil</td>\n      <td>segurança</td>\n      <td>reconhece</td>\n      <td>ferramenta</td>\n      <td>0</td>\n      <td>0.0</td>\n      <td>l12735</td>\n      <td>0.0</td>\n      <td>0.0</td>\n      <td>0.0</td>\n    </tr>\n    <tr>\n      <th>35</th>\n      <td>0.0</td>\n      <td>272</td>\n      <td>0.01471</td>\n      <td>Altera o art. 19 do Regulamento a que se refer...</td>\n      <td>O art. 19 do Regulamento a que se refere o Dec...</td>\n      <td>normativa</td>\n      <td>benefício</td>\n      <td>comercial</td>\n      <td>NaN</td>\n      <td>civil</td>\n      <td>econômico</td>\n      <td>reconhece</td>\n      <td>ferramenta;ambiente</td>\n      <td>0</td>\n      <td>0.0</td>\n      <td>l13138</td>\n      <td>0.0</td>\n      <td>0.0</td>\n      <td>0.0</td>\n    </tr>\n    <tr>\n      <th>36</th>\n      <td>0.0</td>\n      <td>580</td>\n      <td>0.00517</td>\n      <td>Dispõe sobre a tipificação criminal de delitos...</td>\n      <td>Esta Lei dispõe sobre a tipificação criminal d...</td>\n      <td>normativa</td>\n      <td>ameaça</td>\n      <td>segurança;propriedade</td>\n      <td>NaN</td>\n      <td>penal</td>\n      <td>criminal</td>\n      <td>reconhece</td>\n      <td>ferramenta</td>\n      <td>0</td>\n      <td>0.5</td>\n      <td>l12737</td>\n      <td>0.0</td>\n      <td>0.0</td>\n      <td>0.0</td>\n    </tr>\n    <tr>\n      <th>37</th>\n      <td>0.0</td>\n      <td>2787</td>\n      <td>0.03409</td>\n      <td>Dispõe sobre a informatização do processo judi...</td>\n      <td>O uso de meio eletrônico na tramitação de proc...</td>\n      <td>normativa</td>\n      <td>benefício</td>\n      <td>burocrática</td>\n      <td>NaN</td>\n      <td>processual</td>\n      <td>burocrático</td>\n      <td>impõe</td>\n      <td>ferramenta</td>\n      <td>0</td>\n      <td>1.0</td>\n      <td>l11419</td>\n      <td>0.0</td>\n      <td>1.0</td>\n      <td>0.0</td>\n    </tr>\n    <tr>\n      <th>38</th>\n      <td>0.0</td>\n      <td>206</td>\n      <td>0.01942</td>\n      <td>Altera a Lei nº 10.446, de 8 de maio de 2002, ...</td>\n      <td>O **caput** do art. 1º da Lei nº 10.446, de 8 ...</td>\n      <td>normativa;ontológica</td>\n      <td>ameaça</td>\n      <td>segurança;integridade</td>\n      <td>NaN</td>\n      <td>penal</td>\n      <td>ciminal;ética</td>\n      <td>reconhece</td>\n      <td>ambiente</td>\n      <td>0</td>\n      <td>0.0</td>\n      <td>l13642</td>\n      <td>0.0</td>\n      <td>1.0</td>\n      <td>0.0</td>\n    </tr>\n    <tr>\n      <th>39</th>\n      <td>0.5</td>\n      <td>259</td>\n      <td>0.01931</td>\n      <td>Altera a Lei nº 9.099, de 26 de setembro de 19...</td>\n      <td>Esta Lei altera a Lei nº 9.099, de 26 de setem...</td>\n      <td>normativa</td>\n      <td>benefício</td>\n      <td>burocrática;mediação</td>\n      <td>burocrática;mediação</td>\n      <td>processual</td>\n      <td>burocrático</td>\n      <td>impõe</td>\n      <td>ambiente;ferramenta</td>\n      <td>0</td>\n      <td>0.0</td>\n      <td>l13994</td>\n      <td>0.0</td>\n      <td>0.0</td>\n      <td>0.0</td>\n    </tr>\n    <tr>\n      <th>40</th>\n      <td>1.0</td>\n      <td>684</td>\n      <td>0.00585</td>\n      <td>Estabelece procedimento alternativo para a con...</td>\n      <td>Esta Lei altera a Lei nº 6.815, de 19 de agost...</td>\n      <td>normativa</td>\n      <td>benefício</td>\n      <td>inclusão;burocrática</td>\n      <td>inclusão;burocrática</td>\n      <td>civil</td>\n      <td>burocrático</td>\n      <td>impõe;reconhece</td>\n      <td>ferramenta</td>\n      <td>0</td>\n      <td>1.0</td>\n      <td>l12968</td>\n      <td>1.0</td>\n      <td>0.0</td>\n      <td>0.0</td>\n    </tr>\n  </tbody>\n</table>\n</div>"
     },
     "metadata": {},
     "output_type": "display_data"
    }
   ],
   "source": [
    "#já substituir colunas existentes por 1 ou 0 ou 0.5\n",
    "for index, row in df.iterrows():\n",
    "    list_f_or_fx = str(row['assunto_f_ou_fx']).split(';')\n",
    "    halfador = False\n",
    "    for item in list_f_or_fx:\n",
    "        if not halfador:\n",
    "            if item == '':\n",
    "                halfador = True\n",
    "            elif item == 'f()':\n",
    "                df.at[index, 'f'] = 1\n",
    "            elif item == 'f(x)':\n",
    "                df.at[index, 'fx'] = 1\n",
    "        else:\n",
    "            if item == 'f()':\n",
    "                df.at[index, 'f'] = 0.5\n",
    "            elif item == 'f(x)':\n",
    "                df.at[index, 'fx'] = 0.5\n",
    "\n",
    "df.drop(columns=['assunto_f_ou_fx'], inplace=True)\n",
    "df['f'] = df['f'].fillna(0)\n",
    "df['fx'] = df['fx'].fillna(0)\n",
    "\n",
    "df['outro_assunto'] = df['outro_assunto'].fillna(0).replace('o', 1).replace('o;?', 0.5)\n",
    "df['artigo_1_revogado'] = df['artigo_1_revogado'].fillna(0).replace('r', 1).replace('1/2r', 0.5)\n",
    "df['efetivamente_revogada'] = df['efetivamente_revogada'].fillna(0).replace('r', 1).replace('1/2r', 0.5)\n",
    "display(df.head(40))"
   ],
   "metadata": {
    "collapsed": false,
    "ExecuteTime": {
     "end_time": "2023-07-28T05:17:01.860533607Z",
     "start_time": "2023-07-28T05:17:00.200738781Z"
    }
   }
  },
  {
   "cell_type": "markdown",
   "source": [
    "#### Multi-label classification\n",
    "#### Antes de prosseguir para a exploração dos arquivos txt\n",
    "Faremos uma conversão das colunas com diversos elementos separados por ';' para listas e com essas listas detectar todas as ocorrências únicas e criar colunas de categorias existentes."
   ],
   "metadata": {
    "collapsed": false
   }
  },
  {
   "cell_type": "code",
   "execution_count": 174,
   "outputs": [],
   "source": [
    "# make a temporary dataframe with columns dimensao, benevolencia, funcao_social, funcao_social_assunto, ramo_dogmatico, ramo_sociologico, imposicao_reconhecimento, ferramenta_ambiente\n",
    "df_temp = df[['dimensao', 'benevolencia', 'funcao_social', 'funcao_social_assunto', 'ramo_dogmatico', 'ramo_sociologico', 'imposicao_reconhecimento', 'ferramenta_ambiente']].copy()\n",
    "for column in df_temp.columns:\n",
    "    '''\n",
    "    value_counted = df_temp[column].value_counts()\n",
    "    # real_value_counted will be a set of unique values\n",
    "    real_value_counted = set()\n",
    "    # now we iterate over the value_counted Series\n",
    "    for index, value in value_counted.items():\n",
    "        if not re.search(r';', index):\n",
    "            # if there is no ';' in the value, we add it to the set\n",
    "            real_value_counted.add(index)\n",
    "        else:\n",
    "            # if there is a ';' in the value, we split it and iterate over the list\n",
    "            for item in index.split(';'):\n",
    "                # if the item is not empty, we add it to the set\n",
    "                if item != '':\n",
    "                    real_value_counted.add(item)\n",
    "    # now we iterate over the set and create a new column for each item\n",
    "    for item in real_value_counted:\n",
    "        df_temp[column + '_' + item] = 0\n",
    "    #'''\n",
    "    # now we iterate over the rows of the temporary dataframe\n",
    "    for index, row in df_temp.iterrows():\n",
    "        # if the value of the row is not empty, we split it and iterate over the list\n",
    "        if row[column] != '' and row[column] is not np.NaN:\n",
    "            halfador = False\n",
    "            if '?' in str(row[column]):\n",
    "                halfador = True\n",
    "            for item in str(row[column]).split(';'):\n",
    "                # if the item is not empty, we set the value of the column to 1\n",
    "                if item != '' and item != '?':\n",
    "                    df_temp.at[index, column + '_' + item] = 1\n",
    "                    if halfador:\n",
    "                        df_temp.at[index, column + '_' + item] /= 2\n",
    "    # now we drop the column\n",
    "    df_temp.drop(columns=[column], inplace=True)\n",
    "    df.drop(columns=[column], inplace=True)"
   ],
   "metadata": {
    "collapsed": false,
    "ExecuteTime": {
     "end_time": "2023-07-28T05:17:01.955339445Z",
     "start_time": "2023-07-28T05:17:00.278504124Z"
    }
   }
  },
  {
   "cell_type": "markdown",
   "source": [
    "# Sobre a benevolência neutra\n",
    "Critérios:\n",
    "Se foi identificado que a lei manifesta apenas particularidades técnicas do \"como\" tratar a internet/tecnologia, então é neutra.\n",
    "Se foram identificadas tanto ameaças quanto benefícios, então é neutra.\n",
    "Se foi identificado de forma controversa se a lei é ameaça ou benefício, por exemplo os casos 'ameaça;?' (ameaça para quem?), então é neutra."
   ],
   "metadata": {
    "collapsed": false
   }
  },
  {
   "cell_type": "code",
   "execution_count": 175,
   "outputs": [
    {
     "data": {
      "text/plain": "    outro_assunto  n_palavras  freq_assunto  \\\nid                                            \n1             1.0        1799       0.00111   \n2             0.0        6698       0.01911   \n3             0.0         328       0.00610   \n4             1.0        1434       0.00279   \n5             0.0         181       0.04972   \n6             0.0         229       0.01310   \n7             0.0         658       0.00608   \n8             0.0        1903       0.00631   \n9             0.0         227       0.01762   \n10            0.0         944       0.00530   \n11            0.0       16589       0.00157   \n12            0.0        1974       0.01925   \n13            0.0         635       0.01575   \n14            0.0         786       0.00891   \n15            0.0         198       0.01010   \n16            0.0         307       0.02280   \n17            1.0         626       0.00958   \n18            1.0        3730       0.00590   \n19            0.0         767       0.01565   \n20            0.0         528       0.01515   \n21            0.0        1027       0.02824   \n22            0.0         513       0.00780   \n23            1.0        8160       0.00221   \n24            1.0         874       0.00686   \n25            0.0        1539       0.00455   \n26            1.0         778       0.00257   \n27            1.0        1358       0.00074   \n28            1.0        1647       0.00243   \n29            1.0        7404       0.00216   \n30            1.0        7410       0.00526   \n31            0.0       12853       0.00638   \n32            0.0       22658       0.00260   \n33            1.0       13914       0.00453   \n34            0.0         321       0.01869   \n35            0.0         272       0.01471   \n36            0.0         580       0.00517   \n37            0.0        2787       0.03409   \n38            0.0         206       0.01942   \n39            0.5         259       0.01931   \n40            1.0         684       0.00585   \n\n                                               ementa  \\\nid                                                      \n1   Altera o Título VI da Parte Especial do Decret...   \n2   Estabelece princípios, garantias, direitos e d...   \n3   Obriga o fornecedor de ingresso para evento cu...   \n4   Dispõe sobre propaganda, financiamento e prest...   \n5   Normatiza a divulgação de documentos instituci...   \n6   Altera a Lei nº 12.485, de 12 de setembro de 2...   \n7   Dispõe sobre a criação de \"homepage\" na \"Inter...   \n8   Dispõe sobre a garantia de acesso à internet, ...   \n9   Altera o parágrafo único do art. 541 do Código...   \n10  Altera a Lei nº 8.069, de 13 de julho de 1990 ...   \n11  Dispõe sobre a proteção de dados pessoais e al...   \n12  Institui o Programa Internet Brasil; e altera ...   \n13  Altera o Decreto-Lei nº 2.848, de 7 de dezembr...   \n14  Altera a Lei nº 8.069, de 13 de julho de 1990 ...   \n15  Acrescenta inciso V ao art. 1º da Lei nº 10.44...   \n16  Institui o Diário Eletrônico da Ordem dos Advo...   \n17  Altera a Lei nº 8.069, de 13 de julho de 1990,...   \n18  Altera as Leis nº 9.504, de 30 de setembro de ...   \n19  Altera a Lei nº 10.406, de 10 de janeiro de 20...   \n20  Altera a Lei nº 11.903, de 14 de janeiro de 20...   \n21  Institui a Política de Inovação Educação Conec...   \n22  Altera a redação do § 1º do art. 47 da Lei nº ...   \n23  Altera as Leis nº 9.504, de 30 de setembro de ...   \n24  Dispõe sobre medidas de proteção asseguradas a...   \n25  Dispõe sobre o direito de resposta ou retifica...   \n26  Altera dispositivos da Lei nº 9.294, de 15 de ...   \n27  Autoriza pagamentos antecipados nas licitações...   \n28  Dispõe sobre o pagamento de auxílio-alimentaçã...   \n29  Autoriza o Poder Executivo federal a dispor so...   \n30  Altera as Leis nºˢ 9.096, de 19 de setembro de...   \n31  Dispõe sobre o Sistema Eletrônico dos Registro...   \n32  Altera a alíquota das contribuições previdenci...   \n33  Dispõe sobre a facilitação para abertura de em...   \n34  Altera o Decreto-Lei nº 2.848, de 7 de dezembr...   \n35  Altera o art. 19 do Regulamento a que se refer...   \n36  Dispõe sobre a tipificação criminal de delitos...   \n37  Dispõe sobre a informatização do processo judi...   \n38  Altera a Lei nº 10.446, de 8 de maio de 2002, ...   \n39  Altera a Lei nº 9.099, de 26 de setembro de 19...   \n40  Estabelece procedimento alternativo para a con...   \n\n                                             artigo_1  artigo_1_revogado  \\\nid                                                                         \n1   Esta Lei altera o Título VI da Parte Especial ...                  0   \n2   Esta Lei estabelece princípios, garantias, dir...                  0   \n3   O fornecedor de ingresso para evento cultural ...                  0   \n4   A Lei nº 9.504, de 30 de setembro de 1997, pas...                  0   \n5   Esta Lei normatiza a divulgação de documentos ...                  0   \n6   Esta Lei altera a Lei nº 12.485, de 12 de sete...                  0   \n7   O Tribunal de Contas da União criará _homepage...                  0   \n8   Esta Lei dispõe sobre a assistência da União a...                  0   \n9   O parágrafo único do art. 541 da Lei nº 5.869,...                  0   \n10  Os arts. 240 e 241 da Lei nº 8.069, de 13 de j...                  0   \n11  Esta Lei dispõe sobre o tratamento de dados pe...                  0   \n12  Fica instituído o Programa Internet Brasil, no...                  0   \n13  O Decreto-Lei nº 2.848, de 7 de dezembro de 19...                  0   \n14  O Capítulo III do Título VI da Parte Especial ...                  0   \n15  O art. 1º da Lei nº 10.446, de 8 de maio de 20...                  0   \n16  Fica instituído o Diário Eletrônico da Ordem d...                  0   \n17  O parágrafo único do art. 143 da Lei nº 8.069,...                  0   \n18  A Lei nº 9.504, de 30 de setembro de 1997 , pa...                  0   \n19  Esta Lei altera a Lei nº 10.406, de 10 de jane...                  0   \n20  A Lei nº 11.903, de 14 de janeiro de 2009, pas...                  0   \n21  É instituída a Política de Inovação Educação C...                  0   \n22  O § 1º do art. 47 da Lei nº 9.394, de 20 de de...                  0   \n23  Esta Lei modifica as Leis nº 9.504, de 30 de s...                  0   \n24  Esta Lei dispõe sobre medidas de proteção asse...                  0   \n25  Esta Lei disciplina o exercício do direito de ...                  0   \n26  A Lei nº 9.294, de 15 de julho de 1996, passa ...                  0   \n27  A administração pública dos entes federativos,...                  0   \n28  Esta Lei dispõe sobre o pagamento de auxílio-a...                  0   \n29  Esta Lei autoriza o Poder Executivo federal a ...                  0   \n30  Esta Lei altera as Leis nºˢ 9.096, de 19 de se...                  0   \n31  Esta Lei dispõe sobre o Sistema Eletrônico dos...                  0   \n32  Fica instituído o Programa Nacional de Apoio à...                  0   \n33  Esta Lei dispõe sobre a facilitação para abert...                  0   \n34  Esta Lei altera o Decreto-Lei nº 2.848, de 7 d...                  0   \n35  O art. 19 do Regulamento a que se refere o Dec...                  0   \n36  Esta Lei dispõe sobre a tipificação criminal d...                  0   \n37  O uso de meio eletrônico na tramitação de proc...                  0   \n38  O **caput** do art. 1º da Lei nº 10.446, de 8 ...                  0   \n39  Esta Lei altera a Lei nº 9.099, de 26 de setem...                  0   \n40  Esta Lei altera a Lei nº 6.815, de 19 de agost...                  0   \n\n    efetivamente_revogada file_name  internacional    f  ...  \\\nid                                                       ...   \n1                     0.0    l12015            0.0  1.0  ...   \n2                     0.0    l12965            0.0  0.0  ...   \n3                     0.0    l13179            0.0  0.0  ...   \n4                     0.0    l11300            0.0  1.0  ...   \n5                     0.0    l12686            0.0  0.0  ...   \n6                     0.0    l13828            0.0  1.0  ...   \n7                     0.0     l9755            0.0  0.0  ...   \n8                     0.0    l14172            0.0  0.0  ...   \n9                     1.0    l11341            0.0  1.0  ...   \n10                    0.0    l11829            0.0  1.0  ...   \n11                    0.0    l13709            0.0  1.0  ...   \n12                    0.0    l14351            0.0  1.0  ...   \n13                    0.0    l14155            0.0  0.0  ...   \n14                    0.0    l13441            0.0  1.0  ...   \n15                    0.0    l12894            1.0  0.0  ...   \n16                    0.0    l13688            0.0  1.0  ...   \n17                    1.0   l10.764            0.0  1.0  ...   \n18                    0.0    l13488            0.0  1.0  ...   \n19                    0.0    l14309            0.0  1.0  ...   \n20                    0.0    l14338            0.0  1.0  ...   \n21                    0.0    l14180            0.0  0.0  ...   \n22                    0.0    l13168            0.0  1.0  ...   \n23                    0.0    l13165            0.0  1.0  ...   \n24                    0.0    l14297            0.0  0.0  ...   \n25                    0.0    l13188            0.0  0.0  ...   \n26                    0.0    l10167            0.0  1.0  ...   \n27                    0.0    l14065            0.0  1.0  ...   \n28                    0.0    l14442            0.0  0.0  ...   \n29                    0.0    l14437            0.0  0.0  ...   \n30                    0.0    l12034            0.0  1.0  ...   \n31                    0.0    l14382            0.0  1.0  ...   \n32                    0.0    l12715            0.0  1.0  ...   \n33                    0.0    l14195            1.0  1.0  ...   \n34                    0.0    l12735            0.0  0.0  ...   \n35                    0.0    l13138            0.0  0.0  ...   \n36                    0.5    l12737            0.0  0.0  ...   \n37                    1.0    l11419            0.0  1.0  ...   \n38                    0.0    l13642            0.0  1.0  ...   \n39                    0.0    l13994            0.0  0.0  ...   \n40                    1.0    l12968            1.0  0.0  ...   \n\n    ramo_sociologico_saúde  ramo_sociologico_trabalho  ramo_sociologico_ética  \\\nid                                                                              \n1                      NaN                        NaN                     NaN   \n2                      NaN                        NaN                     NaN   \n3                      NaN                        NaN                     NaN   \n4                      NaN                        NaN                     NaN   \n5                      NaN                        NaN                     NaN   \n6                      NaN                        NaN                     NaN   \n7                      NaN                        NaN                     NaN   \n8                      NaN                        NaN                     NaN   \n9                      NaN                        NaN                     NaN   \n10                     NaN                        NaN                     NaN   \n11                     NaN                        NaN                     NaN   \n12                     NaN                        NaN                     NaN   \n13                     NaN                        NaN                     NaN   \n14                     NaN                        NaN                     NaN   \n15                     NaN                        NaN                     NaN   \n16                     NaN                        NaN                     NaN   \n17                     NaN                        NaN                     NaN   \n18                     NaN                        NaN                     NaN   \n19                     NaN                        NaN                     NaN   \n20                     1.0                        NaN                     NaN   \n21                     NaN                        NaN                     NaN   \n22                     NaN                        NaN                     NaN   \n23                     NaN                        NaN                     NaN   \n24                     NaN                        1.0                     NaN   \n25                     NaN                        NaN                     1.0   \n26                     NaN                        NaN                     NaN   \n27                     NaN                        NaN                     NaN   \n28                     NaN                        1.0                     NaN   \n29                     NaN                        1.0                     NaN   \n30                     NaN                        NaN                     NaN   \n31                     NaN                        NaN                     NaN   \n32                     1.0                        NaN                     NaN   \n33                     NaN                        NaN                     NaN   \n34                     NaN                        NaN                     NaN   \n35                     NaN                        NaN                     NaN   \n36                     NaN                        NaN                     NaN   \n37                     NaN                        NaN                     NaN   \n38                     NaN                        NaN                     1.0   \n39                     NaN                        NaN                     NaN   \n40                     NaN                        NaN                     NaN   \n\n    ramo_sociologico_rural  ramo_sociologico_cultura  \\\nid                                                     \n1                      NaN                       NaN   \n2                      NaN                       NaN   \n3                      NaN                       NaN   \n4                      NaN                       NaN   \n5                      NaN                       NaN   \n6                      NaN                       NaN   \n7                      NaN                       NaN   \n8                      NaN                       NaN   \n9                      NaN                       NaN   \n10                     NaN                       NaN   \n11                     NaN                       NaN   \n12                     NaN                       NaN   \n13                     NaN                       NaN   \n14                     NaN                       NaN   \n15                     NaN                       NaN   \n16                     NaN                       NaN   \n17                     NaN                       NaN   \n18                     NaN                       NaN   \n19                     NaN                       NaN   \n20                     NaN                       NaN   \n21                     NaN                       NaN   \n22                     NaN                       NaN   \n23                     NaN                       NaN   \n24                     NaN                       NaN   \n25                     NaN                       NaN   \n26                     NaN                       NaN   \n27                     NaN                       NaN   \n28                     NaN                       NaN   \n29                     NaN                       NaN   \n30                     NaN                       NaN   \n31                     NaN                       NaN   \n32                     NaN                       NaN   \n33                     NaN                       NaN   \n34                     NaN                       NaN   \n35                     NaN                       NaN   \n36                     NaN                       NaN   \n37                     NaN                       NaN   \n38                     NaN                       NaN   \n39                     NaN                       NaN   \n40                     NaN                       NaN   \n\n    ramo_sociologico_esporte  imposicao_reconhecimento_reconhece  \\\nid                                                                 \n1                        NaN                                 1.0   \n2                        NaN                                 1.0   \n3                        NaN                                 NaN   \n4                        NaN                                 NaN   \n5                        NaN                                 NaN   \n6                        NaN                                 NaN   \n7                        NaN                                 NaN   \n8                        NaN                                 NaN   \n9                        NaN                                 1.0   \n10                       NaN                                 1.0   \n11                       NaN                                 1.0   \n12                       NaN                                 NaN   \n13                       NaN                                 1.0   \n14                       NaN                                 1.0   \n15                       NaN                                 1.0   \n16                       NaN                                 1.0   \n17                       NaN                                 1.0   \n18                       NaN                                 1.0   \n19                       NaN                                 1.0   \n20                       NaN                                 NaN   \n21                       NaN                                 NaN   \n22                       NaN                                 NaN   \n23                       NaN                                 NaN   \n24                       NaN                                 NaN   \n25                       NaN                                 1.0   \n26                       NaN                                 NaN   \n27                       NaN                                 1.0   \n28                       NaN                                 1.0   \n29                       NaN                                 1.0   \n30                       NaN                                 1.0   \n31                       NaN                                 NaN   \n32                       NaN                                 NaN   \n33                       NaN                                 NaN   \n34                       NaN                                 1.0   \n35                       NaN                                 1.0   \n36                       NaN                                 1.0   \n37                       NaN                                 NaN   \n38                       NaN                                 1.0   \n39                       NaN                                 NaN   \n40                       NaN                                 1.0   \n\n    imposicao_reconhecimento_impõe  ferramenta_ambiente_ambiente  \\\nid                                                                 \n1                              NaN                           1.0   \n2                              NaN                           1.0   \n3                              1.0                           1.0   \n4                              1.0                           NaN   \n5                              1.0                           1.0   \n6                              1.0                           1.0   \n7                              NaN                           NaN   \n8                              1.0                           NaN   \n9                              NaN                           1.0   \n10                             NaN                           1.0   \n11                             NaN                           1.0   \n12                             1.0                           NaN   \n13                             NaN                           1.0   \n14                             NaN                           NaN   \n15                             NaN                           1.0   \n16                             NaN                           NaN   \n17                             NaN                           1.0   \n18                             1.0                           NaN   \n19                             NaN                           1.0   \n20                             1.0                           1.0   \n21                             1.0                           NaN   \n22                             1.0                           NaN   \n23                             1.0                           NaN   \n24                             1.0                           1.0   \n25                             1.0                           1.0   \n26                             1.0                           1.0   \n27                             NaN                           1.0   \n28                             NaN                           1.0   \n29                             NaN                           1.0   \n30                             1.0                           NaN   \n31                             1.0                           1.0   \n32                             1.0                           NaN   \n33                             1.0                           NaN   \n34                             NaN                           NaN   \n35                             NaN                           1.0   \n36                             NaN                           NaN   \n37                             1.0                           NaN   \n38                             NaN                           1.0   \n39                             1.0                           1.0   \n40                             1.0                           NaN   \n\n    ferramenta_ambiente_ferramenta  \nid                                  \n1                              NaN  \n2                              1.0  \n3                              NaN  \n4                              1.0  \n5                              NaN  \n6                              1.0  \n7                              1.0  \n8                              1.0  \n9                              NaN  \n10                             NaN  \n11                             1.0  \n12                             1.0  \n13                             1.0  \n14                             1.0  \n15                             NaN  \n16                             1.0  \n17                             NaN  \n18                             1.0  \n19                             NaN  \n20                             NaN  \n21                             1.0  \n22                             1.0  \n23                             1.0  \n24                             1.0  \n25                             NaN  \n26                             NaN  \n27                             NaN  \n28                             NaN  \n29                             NaN  \n30                             1.0  \n31                             NaN  \n32                             1.0  \n33                             1.0  \n34                             1.0  \n35                             1.0  \n36                             1.0  \n37                             1.0  \n38                             NaN  \n39                             1.0  \n40                             1.0  \n\n[40 rows x 92 columns]",
      "text/html": "<div>\n<style scoped>\n    .dataframe tbody tr th:only-of-type {\n        vertical-align: middle;\n    }\n\n    .dataframe tbody tr th {\n        vertical-align: top;\n    }\n\n    .dataframe thead th {\n        text-align: right;\n    }\n</style>\n<table border=\"1\" class=\"dataframe\">\n  <thead>\n    <tr style=\"text-align: right;\">\n      <th></th>\n      <th>outro_assunto</th>\n      <th>n_palavras</th>\n      <th>freq_assunto</th>\n      <th>ementa</th>\n      <th>artigo_1</th>\n      <th>artigo_1_revogado</th>\n      <th>efetivamente_revogada</th>\n      <th>file_name</th>\n      <th>internacional</th>\n      <th>f</th>\n      <th>...</th>\n      <th>ramo_sociologico_saúde</th>\n      <th>ramo_sociologico_trabalho</th>\n      <th>ramo_sociologico_ética</th>\n      <th>ramo_sociologico_rural</th>\n      <th>ramo_sociologico_cultura</th>\n      <th>ramo_sociologico_esporte</th>\n      <th>imposicao_reconhecimento_reconhece</th>\n      <th>imposicao_reconhecimento_impõe</th>\n      <th>ferramenta_ambiente_ambiente</th>\n      <th>ferramenta_ambiente_ferramenta</th>\n    </tr>\n    <tr>\n      <th>id</th>\n      <th></th>\n      <th></th>\n      <th></th>\n      <th></th>\n      <th></th>\n      <th></th>\n      <th></th>\n      <th></th>\n      <th></th>\n      <th></th>\n      <th></th>\n      <th></th>\n      <th></th>\n      <th></th>\n      <th></th>\n      <th></th>\n      <th></th>\n      <th></th>\n      <th></th>\n      <th></th>\n      <th></th>\n    </tr>\n  </thead>\n  <tbody>\n    <tr>\n      <th>1</th>\n      <td>1.0</td>\n      <td>1799</td>\n      <td>0.00111</td>\n      <td>Altera o Título VI da Parte Especial do Decret...</td>\n      <td>Esta Lei altera o Título VI da Parte Especial ...</td>\n      <td>0</td>\n      <td>0.0</td>\n      <td>l12015</td>\n      <td>0.0</td>\n      <td>1.0</td>\n      <td>...</td>\n      <td>NaN</td>\n      <td>NaN</td>\n      <td>NaN</td>\n      <td>NaN</td>\n      <td>NaN</td>\n      <td>NaN</td>\n      <td>1.0</td>\n      <td>NaN</td>\n      <td>1.0</td>\n      <td>NaN</td>\n    </tr>\n    <tr>\n      <th>2</th>\n      <td>0.0</td>\n      <td>6698</td>\n      <td>0.01911</td>\n      <td>Estabelece princípios, garantias, direitos e d...</td>\n      <td>Esta Lei estabelece princípios, garantias, dir...</td>\n      <td>0</td>\n      <td>0.0</td>\n      <td>l12965</td>\n      <td>0.0</td>\n      <td>0.0</td>\n      <td>...</td>\n      <td>NaN</td>\n      <td>NaN</td>\n      <td>NaN</td>\n      <td>NaN</td>\n      <td>NaN</td>\n      <td>NaN</td>\n      <td>1.0</td>\n      <td>NaN</td>\n      <td>1.0</td>\n      <td>1.0</td>\n    </tr>\n    <tr>\n      <th>3</th>\n      <td>0.0</td>\n      <td>328</td>\n      <td>0.00610</td>\n      <td>Obriga o fornecedor de ingresso para evento cu...</td>\n      <td>O fornecedor de ingresso para evento cultural ...</td>\n      <td>0</td>\n      <td>0.0</td>\n      <td>l13179</td>\n      <td>0.0</td>\n      <td>0.0</td>\n      <td>...</td>\n      <td>NaN</td>\n      <td>NaN</td>\n      <td>NaN</td>\n      <td>NaN</td>\n      <td>NaN</td>\n      <td>NaN</td>\n      <td>NaN</td>\n      <td>1.0</td>\n      <td>1.0</td>\n      <td>NaN</td>\n    </tr>\n    <tr>\n      <th>4</th>\n      <td>1.0</td>\n      <td>1434</td>\n      <td>0.00279</td>\n      <td>Dispõe sobre propaganda, financiamento e prest...</td>\n      <td>A Lei nº 9.504, de 30 de setembro de 1997, pas...</td>\n      <td>0</td>\n      <td>0.0</td>\n      <td>l11300</td>\n      <td>0.0</td>\n      <td>1.0</td>\n      <td>...</td>\n      <td>NaN</td>\n      <td>NaN</td>\n      <td>NaN</td>\n      <td>NaN</td>\n      <td>NaN</td>\n      <td>NaN</td>\n      <td>NaN</td>\n      <td>1.0</td>\n      <td>NaN</td>\n      <td>1.0</td>\n    </tr>\n    <tr>\n      <th>5</th>\n      <td>0.0</td>\n      <td>181</td>\n      <td>0.04972</td>\n      <td>Normatiza a divulgação de documentos instituci...</td>\n      <td>Esta Lei normatiza a divulgação de documentos ...</td>\n      <td>0</td>\n      <td>0.0</td>\n      <td>l12686</td>\n      <td>0.0</td>\n      <td>0.0</td>\n      <td>...</td>\n      <td>NaN</td>\n      <td>NaN</td>\n      <td>NaN</td>\n      <td>NaN</td>\n      <td>NaN</td>\n      <td>NaN</td>\n      <td>NaN</td>\n      <td>1.0</td>\n      <td>1.0</td>\n      <td>NaN</td>\n    </tr>\n    <tr>\n      <th>6</th>\n      <td>0.0</td>\n      <td>229</td>\n      <td>0.01310</td>\n      <td>Altera a Lei nº 12.485, de 12 de setembro de 2...</td>\n      <td>Esta Lei altera a Lei nº 12.485, de 12 de sete...</td>\n      <td>0</td>\n      <td>0.0</td>\n      <td>l13828</td>\n      <td>0.0</td>\n      <td>1.0</td>\n      <td>...</td>\n      <td>NaN</td>\n      <td>NaN</td>\n      <td>NaN</td>\n      <td>NaN</td>\n      <td>NaN</td>\n      <td>NaN</td>\n      <td>NaN</td>\n      <td>1.0</td>\n      <td>1.0</td>\n      <td>1.0</td>\n    </tr>\n    <tr>\n      <th>7</th>\n      <td>0.0</td>\n      <td>658</td>\n      <td>0.00608</td>\n      <td>Dispõe sobre a criação de \"homepage\" na \"Inter...</td>\n      <td>O Tribunal de Contas da União criará _homepage...</td>\n      <td>0</td>\n      <td>0.0</td>\n      <td>l9755</td>\n      <td>0.0</td>\n      <td>0.0</td>\n      <td>...</td>\n      <td>NaN</td>\n      <td>NaN</td>\n      <td>NaN</td>\n      <td>NaN</td>\n      <td>NaN</td>\n      <td>NaN</td>\n      <td>NaN</td>\n      <td>NaN</td>\n      <td>NaN</td>\n      <td>1.0</td>\n    </tr>\n    <tr>\n      <th>8</th>\n      <td>0.0</td>\n      <td>1903</td>\n      <td>0.00631</td>\n      <td>Dispõe sobre a garantia de acesso à internet, ...</td>\n      <td>Esta Lei dispõe sobre a assistência da União a...</td>\n      <td>0</td>\n      <td>0.0</td>\n      <td>l14172</td>\n      <td>0.0</td>\n      <td>0.0</td>\n      <td>...</td>\n      <td>NaN</td>\n      <td>NaN</td>\n      <td>NaN</td>\n      <td>NaN</td>\n      <td>NaN</td>\n      <td>NaN</td>\n      <td>NaN</td>\n      <td>1.0</td>\n      <td>NaN</td>\n      <td>1.0</td>\n    </tr>\n    <tr>\n      <th>9</th>\n      <td>0.0</td>\n      <td>227</td>\n      <td>0.01762</td>\n      <td>Altera o parágrafo único do art. 541 do Código...</td>\n      <td>O parágrafo único do art. 541 da Lei nº 5.869,...</td>\n      <td>0</td>\n      <td>1.0</td>\n      <td>l11341</td>\n      <td>0.0</td>\n      <td>1.0</td>\n      <td>...</td>\n      <td>NaN</td>\n      <td>NaN</td>\n      <td>NaN</td>\n      <td>NaN</td>\n      <td>NaN</td>\n      <td>NaN</td>\n      <td>1.0</td>\n      <td>NaN</td>\n      <td>1.0</td>\n      <td>NaN</td>\n    </tr>\n    <tr>\n      <th>10</th>\n      <td>0.0</td>\n      <td>944</td>\n      <td>0.00530</td>\n      <td>Altera a Lei nº 8.069, de 13 de julho de 1990 ...</td>\n      <td>Os arts. 240 e 241 da Lei nº 8.069, de 13 de j...</td>\n      <td>0</td>\n      <td>0.0</td>\n      <td>l11829</td>\n      <td>0.0</td>\n      <td>1.0</td>\n      <td>...</td>\n      <td>NaN</td>\n      <td>NaN</td>\n      <td>NaN</td>\n      <td>NaN</td>\n      <td>NaN</td>\n      <td>NaN</td>\n      <td>1.0</td>\n      <td>NaN</td>\n      <td>1.0</td>\n      <td>NaN</td>\n    </tr>\n    <tr>\n      <th>11</th>\n      <td>0.0</td>\n      <td>16589</td>\n      <td>0.00157</td>\n      <td>Dispõe sobre a proteção de dados pessoais e al...</td>\n      <td>Esta Lei dispõe sobre o tratamento de dados pe...</td>\n      <td>0</td>\n      <td>0.0</td>\n      <td>l13709</td>\n      <td>0.0</td>\n      <td>1.0</td>\n      <td>...</td>\n      <td>NaN</td>\n      <td>NaN</td>\n      <td>NaN</td>\n      <td>NaN</td>\n      <td>NaN</td>\n      <td>NaN</td>\n      <td>1.0</td>\n      <td>NaN</td>\n      <td>1.0</td>\n      <td>1.0</td>\n    </tr>\n    <tr>\n      <th>12</th>\n      <td>0.0</td>\n      <td>1974</td>\n      <td>0.01925</td>\n      <td>Institui o Programa Internet Brasil; e altera ...</td>\n      <td>Fica instituído o Programa Internet Brasil, no...</td>\n      <td>0</td>\n      <td>0.0</td>\n      <td>l14351</td>\n      <td>0.0</td>\n      <td>1.0</td>\n      <td>...</td>\n      <td>NaN</td>\n      <td>NaN</td>\n      <td>NaN</td>\n      <td>NaN</td>\n      <td>NaN</td>\n      <td>NaN</td>\n      <td>NaN</td>\n      <td>1.0</td>\n      <td>NaN</td>\n      <td>1.0</td>\n    </tr>\n    <tr>\n      <th>13</th>\n      <td>0.0</td>\n      <td>635</td>\n      <td>0.01575</td>\n      <td>Altera o Decreto-Lei nº 2.848, de 7 de dezembr...</td>\n      <td>O Decreto-Lei nº 2.848, de 7 de dezembro de 19...</td>\n      <td>0</td>\n      <td>0.0</td>\n      <td>l14155</td>\n      <td>0.0</td>\n      <td>0.0</td>\n      <td>...</td>\n      <td>NaN</td>\n      <td>NaN</td>\n      <td>NaN</td>\n      <td>NaN</td>\n      <td>NaN</td>\n      <td>NaN</td>\n      <td>1.0</td>\n      <td>NaN</td>\n      <td>1.0</td>\n      <td>1.0</td>\n    </tr>\n    <tr>\n      <th>14</th>\n      <td>0.0</td>\n      <td>786</td>\n      <td>0.00891</td>\n      <td>Altera a Lei nº 8.069, de 13 de julho de 1990 ...</td>\n      <td>O Capítulo III do Título VI da Parte Especial ...</td>\n      <td>0</td>\n      <td>0.0</td>\n      <td>l13441</td>\n      <td>0.0</td>\n      <td>1.0</td>\n      <td>...</td>\n      <td>NaN</td>\n      <td>NaN</td>\n      <td>NaN</td>\n      <td>NaN</td>\n      <td>NaN</td>\n      <td>NaN</td>\n      <td>1.0</td>\n      <td>NaN</td>\n      <td>NaN</td>\n      <td>1.0</td>\n    </tr>\n    <tr>\n      <th>15</th>\n      <td>0.0</td>\n      <td>198</td>\n      <td>0.01010</td>\n      <td>Acrescenta inciso V ao art. 1º da Lei nº 10.44...</td>\n      <td>O art. 1º da Lei nº 10.446, de 8 de maio de 20...</td>\n      <td>0</td>\n      <td>0.0</td>\n      <td>l12894</td>\n      <td>1.0</td>\n      <td>0.0</td>\n      <td>...</td>\n      <td>NaN</td>\n      <td>NaN</td>\n      <td>NaN</td>\n      <td>NaN</td>\n      <td>NaN</td>\n      <td>NaN</td>\n      <td>1.0</td>\n      <td>NaN</td>\n      <td>1.0</td>\n      <td>NaN</td>\n    </tr>\n    <tr>\n      <th>16</th>\n      <td>0.0</td>\n      <td>307</td>\n      <td>0.02280</td>\n      <td>Institui o Diário Eletrônico da Ordem dos Advo...</td>\n      <td>Fica instituído o Diário Eletrônico da Ordem d...</td>\n      <td>0</td>\n      <td>0.0</td>\n      <td>l13688</td>\n      <td>0.0</td>\n      <td>1.0</td>\n      <td>...</td>\n      <td>NaN</td>\n      <td>NaN</td>\n      <td>NaN</td>\n      <td>NaN</td>\n      <td>NaN</td>\n      <td>NaN</td>\n      <td>1.0</td>\n      <td>NaN</td>\n      <td>NaN</td>\n      <td>1.0</td>\n    </tr>\n    <tr>\n      <th>17</th>\n      <td>1.0</td>\n      <td>626</td>\n      <td>0.00958</td>\n      <td>Altera a Lei nº 8.069, de 13 de julho de 1990,...</td>\n      <td>O parágrafo único do art. 143 da Lei nº 8.069,...</td>\n      <td>0</td>\n      <td>1.0</td>\n      <td>l10.764</td>\n      <td>0.0</td>\n      <td>1.0</td>\n      <td>...</td>\n      <td>NaN</td>\n      <td>NaN</td>\n      <td>NaN</td>\n      <td>NaN</td>\n      <td>NaN</td>\n      <td>NaN</td>\n      <td>1.0</td>\n      <td>NaN</td>\n      <td>1.0</td>\n      <td>NaN</td>\n    </tr>\n    <tr>\n      <th>18</th>\n      <td>1.0</td>\n      <td>3730</td>\n      <td>0.00590</td>\n      <td>Altera as Leis nº 9.504, de 30 de setembro de ...</td>\n      <td>A Lei nº 9.504, de 30 de setembro de 1997 , pa...</td>\n      <td>0</td>\n      <td>0.0</td>\n      <td>l13488</td>\n      <td>0.0</td>\n      <td>1.0</td>\n      <td>...</td>\n      <td>NaN</td>\n      <td>NaN</td>\n      <td>NaN</td>\n      <td>NaN</td>\n      <td>NaN</td>\n      <td>NaN</td>\n      <td>1.0</td>\n      <td>1.0</td>\n      <td>NaN</td>\n      <td>1.0</td>\n    </tr>\n    <tr>\n      <th>19</th>\n      <td>0.0</td>\n      <td>767</td>\n      <td>0.01565</td>\n      <td>Altera a Lei nº 10.406, de 10 de janeiro de 20...</td>\n      <td>Esta Lei altera a Lei nº 10.406, de 10 de jane...</td>\n      <td>0</td>\n      <td>0.0</td>\n      <td>l14309</td>\n      <td>0.0</td>\n      <td>1.0</td>\n      <td>...</td>\n      <td>NaN</td>\n      <td>NaN</td>\n      <td>NaN</td>\n      <td>NaN</td>\n      <td>NaN</td>\n      <td>NaN</td>\n      <td>1.0</td>\n      <td>NaN</td>\n      <td>1.0</td>\n      <td>NaN</td>\n    </tr>\n    <tr>\n      <th>20</th>\n      <td>0.0</td>\n      <td>528</td>\n      <td>0.01515</td>\n      <td>Altera a Lei nº 11.903, de 14 de janeiro de 20...</td>\n      <td>A Lei nº 11.903, de 14 de janeiro de 2009, pas...</td>\n      <td>0</td>\n      <td>0.0</td>\n      <td>l14338</td>\n      <td>0.0</td>\n      <td>1.0</td>\n      <td>...</td>\n      <td>1.0</td>\n      <td>NaN</td>\n      <td>NaN</td>\n      <td>NaN</td>\n      <td>NaN</td>\n      <td>NaN</td>\n      <td>NaN</td>\n      <td>1.0</td>\n      <td>1.0</td>\n      <td>NaN</td>\n    </tr>\n    <tr>\n      <th>21</th>\n      <td>0.0</td>\n      <td>1027</td>\n      <td>0.02824</td>\n      <td>Institui a Política de Inovação Educação Conec...</td>\n      <td>É instituída a Política de Inovação Educação C...</td>\n      <td>0</td>\n      <td>0.0</td>\n      <td>l14180</td>\n      <td>0.0</td>\n      <td>0.0</td>\n      <td>...</td>\n      <td>NaN</td>\n      <td>NaN</td>\n      <td>NaN</td>\n      <td>NaN</td>\n      <td>NaN</td>\n      <td>NaN</td>\n      <td>NaN</td>\n      <td>1.0</td>\n      <td>NaN</td>\n      <td>1.0</td>\n    </tr>\n    <tr>\n      <th>22</th>\n      <td>0.0</td>\n      <td>513</td>\n      <td>0.00780</td>\n      <td>Altera a redação do § 1º do art. 47 da Lei nº ...</td>\n      <td>O § 1º do art. 47 da Lei nº 9.394, de 20 de de...</td>\n      <td>0</td>\n      <td>0.0</td>\n      <td>l13168</td>\n      <td>0.0</td>\n      <td>1.0</td>\n      <td>...</td>\n      <td>NaN</td>\n      <td>NaN</td>\n      <td>NaN</td>\n      <td>NaN</td>\n      <td>NaN</td>\n      <td>NaN</td>\n      <td>NaN</td>\n      <td>1.0</td>\n      <td>NaN</td>\n      <td>1.0</td>\n    </tr>\n    <tr>\n      <th>23</th>\n      <td>1.0</td>\n      <td>8160</td>\n      <td>0.00221</td>\n      <td>Altera as Leis nº 9.504, de 30 de setembro de ...</td>\n      <td>Esta Lei modifica as Leis nº 9.504, de 30 de s...</td>\n      <td>0</td>\n      <td>0.0</td>\n      <td>l13165</td>\n      <td>0.0</td>\n      <td>1.0</td>\n      <td>...</td>\n      <td>NaN</td>\n      <td>NaN</td>\n      <td>NaN</td>\n      <td>NaN</td>\n      <td>NaN</td>\n      <td>NaN</td>\n      <td>NaN</td>\n      <td>1.0</td>\n      <td>NaN</td>\n      <td>1.0</td>\n    </tr>\n    <tr>\n      <th>24</th>\n      <td>1.0</td>\n      <td>874</td>\n      <td>0.00686</td>\n      <td>Dispõe sobre medidas de proteção asseguradas a...</td>\n      <td>Esta Lei dispõe sobre medidas de proteção asse...</td>\n      <td>0</td>\n      <td>0.0</td>\n      <td>l14297</td>\n      <td>0.0</td>\n      <td>0.0</td>\n      <td>...</td>\n      <td>NaN</td>\n      <td>1.0</td>\n      <td>NaN</td>\n      <td>NaN</td>\n      <td>NaN</td>\n      <td>NaN</td>\n      <td>NaN</td>\n      <td>1.0</td>\n      <td>1.0</td>\n      <td>1.0</td>\n    </tr>\n    <tr>\n      <th>25</th>\n      <td>0.0</td>\n      <td>1539</td>\n      <td>0.00455</td>\n      <td>Dispõe sobre o direito de resposta ou retifica...</td>\n      <td>Esta Lei disciplina o exercício do direito de ...</td>\n      <td>0</td>\n      <td>0.0</td>\n      <td>l13188</td>\n      <td>0.0</td>\n      <td>0.0</td>\n      <td>...</td>\n      <td>NaN</td>\n      <td>NaN</td>\n      <td>1.0</td>\n      <td>NaN</td>\n      <td>NaN</td>\n      <td>NaN</td>\n      <td>1.0</td>\n      <td>1.0</td>\n      <td>1.0</td>\n      <td>NaN</td>\n    </tr>\n    <tr>\n      <th>26</th>\n      <td>1.0</td>\n      <td>778</td>\n      <td>0.00257</td>\n      <td>Altera dispositivos da Lei nº 9.294, de 15 de ...</td>\n      <td>A Lei nº 9.294, de 15 de julho de 1996, passa ...</td>\n      <td>0</td>\n      <td>0.0</td>\n      <td>l10167</td>\n      <td>0.0</td>\n      <td>1.0</td>\n      <td>...</td>\n      <td>NaN</td>\n      <td>NaN</td>\n      <td>NaN</td>\n      <td>NaN</td>\n      <td>NaN</td>\n      <td>NaN</td>\n      <td>NaN</td>\n      <td>1.0</td>\n      <td>1.0</td>\n      <td>NaN</td>\n    </tr>\n    <tr>\n      <th>27</th>\n      <td>1.0</td>\n      <td>1358</td>\n      <td>0.00074</td>\n      <td>Autoriza pagamentos antecipados nas licitações...</td>\n      <td>A administração pública dos entes federativos,...</td>\n      <td>0</td>\n      <td>0.0</td>\n      <td>l14065</td>\n      <td>0.0</td>\n      <td>1.0</td>\n      <td>...</td>\n      <td>NaN</td>\n      <td>NaN</td>\n      <td>NaN</td>\n      <td>NaN</td>\n      <td>NaN</td>\n      <td>NaN</td>\n      <td>1.0</td>\n      <td>NaN</td>\n      <td>1.0</td>\n      <td>NaN</td>\n    </tr>\n    <tr>\n      <th>28</th>\n      <td>1.0</td>\n      <td>1647</td>\n      <td>0.00243</td>\n      <td>Dispõe sobre o pagamento de auxílio-alimentaçã...</td>\n      <td>Esta Lei dispõe sobre o pagamento de auxílio-a...</td>\n      <td>0</td>\n      <td>0.0</td>\n      <td>l14442</td>\n      <td>0.0</td>\n      <td>0.0</td>\n      <td>...</td>\n      <td>NaN</td>\n      <td>1.0</td>\n      <td>NaN</td>\n      <td>NaN</td>\n      <td>NaN</td>\n      <td>NaN</td>\n      <td>1.0</td>\n      <td>NaN</td>\n      <td>1.0</td>\n      <td>NaN</td>\n    </tr>\n    <tr>\n      <th>29</th>\n      <td>1.0</td>\n      <td>7404</td>\n      <td>0.00216</td>\n      <td>Autoriza o Poder Executivo federal a dispor so...</td>\n      <td>Esta Lei autoriza o Poder Executivo federal a ...</td>\n      <td>0</td>\n      <td>0.0</td>\n      <td>l14437</td>\n      <td>0.0</td>\n      <td>0.0</td>\n      <td>...</td>\n      <td>NaN</td>\n      <td>1.0</td>\n      <td>NaN</td>\n      <td>NaN</td>\n      <td>NaN</td>\n      <td>NaN</td>\n      <td>1.0</td>\n      <td>NaN</td>\n      <td>1.0</td>\n      <td>NaN</td>\n    </tr>\n    <tr>\n      <th>30</th>\n      <td>1.0</td>\n      <td>7410</td>\n      <td>0.00526</td>\n      <td>Altera as Leis nºˢ 9.096, de 19 de setembro de...</td>\n      <td>Esta Lei altera as Leis nºˢ 9.096, de 19 de se...</td>\n      <td>0</td>\n      <td>0.0</td>\n      <td>l12034</td>\n      <td>0.0</td>\n      <td>1.0</td>\n      <td>...</td>\n      <td>NaN</td>\n      <td>NaN</td>\n      <td>NaN</td>\n      <td>NaN</td>\n      <td>NaN</td>\n      <td>NaN</td>\n      <td>1.0</td>\n      <td>1.0</td>\n      <td>NaN</td>\n      <td>1.0</td>\n    </tr>\n    <tr>\n      <th>31</th>\n      <td>0.0</td>\n      <td>12853</td>\n      <td>0.00638</td>\n      <td>Dispõe sobre o Sistema Eletrônico dos Registro...</td>\n      <td>Esta Lei dispõe sobre o Sistema Eletrônico dos...</td>\n      <td>0</td>\n      <td>0.0</td>\n      <td>l14382</td>\n      <td>0.0</td>\n      <td>1.0</td>\n      <td>...</td>\n      <td>NaN</td>\n      <td>NaN</td>\n      <td>NaN</td>\n      <td>NaN</td>\n      <td>NaN</td>\n      <td>NaN</td>\n      <td>NaN</td>\n      <td>1.0</td>\n      <td>1.0</td>\n      <td>NaN</td>\n    </tr>\n    <tr>\n      <th>32</th>\n      <td>0.0</td>\n      <td>22658</td>\n      <td>0.00260</td>\n      <td>Altera a alíquota das contribuições previdenci...</td>\n      <td>Fica instituído o Programa Nacional de Apoio à...</td>\n      <td>0</td>\n      <td>0.0</td>\n      <td>l12715</td>\n      <td>0.0</td>\n      <td>1.0</td>\n      <td>...</td>\n      <td>1.0</td>\n      <td>NaN</td>\n      <td>NaN</td>\n      <td>NaN</td>\n      <td>NaN</td>\n      <td>NaN</td>\n      <td>NaN</td>\n      <td>1.0</td>\n      <td>NaN</td>\n      <td>1.0</td>\n    </tr>\n    <tr>\n      <th>33</th>\n      <td>1.0</td>\n      <td>13914</td>\n      <td>0.00453</td>\n      <td>Dispõe sobre a facilitação para abertura de em...</td>\n      <td>Esta Lei dispõe sobre a facilitação para abert...</td>\n      <td>0</td>\n      <td>0.0</td>\n      <td>l14195</td>\n      <td>1.0</td>\n      <td>1.0</td>\n      <td>...</td>\n      <td>NaN</td>\n      <td>NaN</td>\n      <td>NaN</td>\n      <td>NaN</td>\n      <td>NaN</td>\n      <td>NaN</td>\n      <td>NaN</td>\n      <td>1.0</td>\n      <td>NaN</td>\n      <td>1.0</td>\n    </tr>\n    <tr>\n      <th>34</th>\n      <td>0.0</td>\n      <td>321</td>\n      <td>0.01869</td>\n      <td>Altera o Decreto-Lei nº 2.848, de 7 de dezembr...</td>\n      <td>Esta Lei altera o Decreto-Lei nº 2.848, de 7 d...</td>\n      <td>0</td>\n      <td>0.0</td>\n      <td>l12735</td>\n      <td>0.0</td>\n      <td>0.0</td>\n      <td>...</td>\n      <td>NaN</td>\n      <td>NaN</td>\n      <td>NaN</td>\n      <td>NaN</td>\n      <td>NaN</td>\n      <td>NaN</td>\n      <td>1.0</td>\n      <td>NaN</td>\n      <td>NaN</td>\n      <td>1.0</td>\n    </tr>\n    <tr>\n      <th>35</th>\n      <td>0.0</td>\n      <td>272</td>\n      <td>0.01471</td>\n      <td>Altera o art. 19 do Regulamento a que se refer...</td>\n      <td>O art. 19 do Regulamento a que se refere o Dec...</td>\n      <td>0</td>\n      <td>0.0</td>\n      <td>l13138</td>\n      <td>0.0</td>\n      <td>0.0</td>\n      <td>...</td>\n      <td>NaN</td>\n      <td>NaN</td>\n      <td>NaN</td>\n      <td>NaN</td>\n      <td>NaN</td>\n      <td>NaN</td>\n      <td>1.0</td>\n      <td>NaN</td>\n      <td>1.0</td>\n      <td>1.0</td>\n    </tr>\n    <tr>\n      <th>36</th>\n      <td>0.0</td>\n      <td>580</td>\n      <td>0.00517</td>\n      <td>Dispõe sobre a tipificação criminal de delitos...</td>\n      <td>Esta Lei dispõe sobre a tipificação criminal d...</td>\n      <td>0</td>\n      <td>0.5</td>\n      <td>l12737</td>\n      <td>0.0</td>\n      <td>0.0</td>\n      <td>...</td>\n      <td>NaN</td>\n      <td>NaN</td>\n      <td>NaN</td>\n      <td>NaN</td>\n      <td>NaN</td>\n      <td>NaN</td>\n      <td>1.0</td>\n      <td>NaN</td>\n      <td>NaN</td>\n      <td>1.0</td>\n    </tr>\n    <tr>\n      <th>37</th>\n      <td>0.0</td>\n      <td>2787</td>\n      <td>0.03409</td>\n      <td>Dispõe sobre a informatização do processo judi...</td>\n      <td>O uso de meio eletrônico na tramitação de proc...</td>\n      <td>0</td>\n      <td>1.0</td>\n      <td>l11419</td>\n      <td>0.0</td>\n      <td>1.0</td>\n      <td>...</td>\n      <td>NaN</td>\n      <td>NaN</td>\n      <td>NaN</td>\n      <td>NaN</td>\n      <td>NaN</td>\n      <td>NaN</td>\n      <td>NaN</td>\n      <td>1.0</td>\n      <td>NaN</td>\n      <td>1.0</td>\n    </tr>\n    <tr>\n      <th>38</th>\n      <td>0.0</td>\n      <td>206</td>\n      <td>0.01942</td>\n      <td>Altera a Lei nº 10.446, de 8 de maio de 2002, ...</td>\n      <td>O **caput** do art. 1º da Lei nº 10.446, de 8 ...</td>\n      <td>0</td>\n      <td>0.0</td>\n      <td>l13642</td>\n      <td>0.0</td>\n      <td>1.0</td>\n      <td>...</td>\n      <td>NaN</td>\n      <td>NaN</td>\n      <td>1.0</td>\n      <td>NaN</td>\n      <td>NaN</td>\n      <td>NaN</td>\n      <td>1.0</td>\n      <td>NaN</td>\n      <td>1.0</td>\n      <td>NaN</td>\n    </tr>\n    <tr>\n      <th>39</th>\n      <td>0.5</td>\n      <td>259</td>\n      <td>0.01931</td>\n      <td>Altera a Lei nº 9.099, de 26 de setembro de 19...</td>\n      <td>Esta Lei altera a Lei nº 9.099, de 26 de setem...</td>\n      <td>0</td>\n      <td>0.0</td>\n      <td>l13994</td>\n      <td>0.0</td>\n      <td>0.0</td>\n      <td>...</td>\n      <td>NaN</td>\n      <td>NaN</td>\n      <td>NaN</td>\n      <td>NaN</td>\n      <td>NaN</td>\n      <td>NaN</td>\n      <td>NaN</td>\n      <td>1.0</td>\n      <td>1.0</td>\n      <td>1.0</td>\n    </tr>\n    <tr>\n      <th>40</th>\n      <td>1.0</td>\n      <td>684</td>\n      <td>0.00585</td>\n      <td>Estabelece procedimento alternativo para a con...</td>\n      <td>Esta Lei altera a Lei nº 6.815, de 19 de agost...</td>\n      <td>0</td>\n      <td>1.0</td>\n      <td>l12968</td>\n      <td>1.0</td>\n      <td>0.0</td>\n      <td>...</td>\n      <td>NaN</td>\n      <td>NaN</td>\n      <td>NaN</td>\n      <td>NaN</td>\n      <td>NaN</td>\n      <td>NaN</td>\n      <td>1.0</td>\n      <td>1.0</td>\n      <td>NaN</td>\n      <td>1.0</td>\n    </tr>\n  </tbody>\n</table>\n<p>40 rows × 92 columns</p>\n</div>"
     },
     "metadata": {},
     "output_type": "display_data"
    }
   ],
   "source": [
    "# Create a mask where both 'benevolencia_benefício' and 'benevolencia_ameaça' are not NaN\n",
    "mask = df_temp[['benevolencia_benefício', 'benevolencia_ameaça']].notna().all(axis=1)\n",
    "\n",
    "# Set 'benevolencia_neutra' to 1 where 'benevolencia_benefício' and 'benevolencia_ameaça' are both 1\n",
    "df_temp.loc[mask & ((df_temp['benevolencia_benefício'] == 1) & (df_temp['benevolencia_ameaça'] == 1)), 'benevolencia_neutra'] = 1.0\n",
    "\n",
    "# Set 'benevolencia_neutra' to 0 where 'benevolencia_benefício' and 'benevolencia_ameaça' are both 0\n",
    "df_temp.loc[mask & ((df_temp['benevolencia_benefício'] == 0) & (df_temp['benevolencia_ameaça'] == 0)), 'benevolencia_neutra'] = 0.0\n",
    "\n",
    "# Set 'benevolencia_neutra' to 1.0 where 'benevolencia_benefício' or 'benevolencia_ameaça' is 0.5\n",
    "df_temp.loc[mask & ((df_temp['benevolencia_benefício'] == 0.5) | (df_temp['benevolencia_ameaça'] == 0.5)), 'benevolencia_neutra'] = 1.0\n",
    "\n",
    "df = pd.concat([df, df_temp], axis=1)\n",
    "\n",
    "display(df.head(40))\n",
    "del df_temp\n",
    "del mask\n",
    "# del real_value_counted\n",
    "# del value_counted"
   ],
   "metadata": {
    "collapsed": false,
    "ExecuteTime": {
     "end_time": "2023-07-28T05:17:01.959017812Z",
     "start_time": "2023-07-28T05:17:00.489843206Z"
    }
   }
  },
  {
   "cell_type": "code",
   "execution_count": 176,
   "outputs": [
    {
     "data": {
      "text/plain": "       outro_assunto     n_palavras  freq_assunto  artigo_1_revogado  \\\ncount     247.000000     247.000000    247.000000         247.000000   \nmean        0.821862   12433.400810      0.004009           0.032389   \nstd         0.380746   19845.630897      0.006443           0.177390   \nmin         0.000000     181.000000      0.000000           0.000000   \n25%         1.000000    1901.500000      0.000800           0.000000   \n50%         1.000000    5429.000000      0.001660           0.000000   \n75%         1.000000   15188.000000      0.003985           0.000000   \nmax         1.000000  217821.000000      0.049720           1.000000   \n\n       efetivamente_revogada  internacional           f          fx  \\\ncount             247.000000     247.000000  247.000000  247.000000   \nmean                0.018219       0.064777    0.497976    0.425101   \nstd                 0.130166       0.246632    0.498979    0.495362   \nmin                 0.000000       0.000000    0.000000    0.000000   \n25%                 0.000000       0.000000    0.000000    0.000000   \n50%                 0.000000       0.000000    0.500000    0.000000   \n75%                 0.000000       0.000000    1.000000    1.000000   \nmax                 1.000000       1.000000    1.000000    1.000000   \n\n       dimensao_normativa  dimensao_ontológica  ...  ramo_sociologico_saúde  \\\ncount                59.0                 23.0  ...                     3.0   \nmean                  1.0                  1.0  ...                     1.0   \nstd                   0.0                  0.0  ...                     0.0   \nmin                   1.0                  1.0  ...                     1.0   \n25%                   1.0                  1.0  ...                     1.0   \n50%                   1.0                  1.0  ...                     1.0   \n75%                   1.0                  1.0  ...                     1.0   \nmax                   1.0                  1.0  ...                     1.0   \n\n       ramo_sociologico_trabalho  ramo_sociologico_ética  \\\ncount                        3.0                     3.0   \nmean                         1.0                     1.0   \nstd                          0.0                     0.0   \nmin                          1.0                     1.0   \n25%                          1.0                     1.0   \n50%                          1.0                     1.0   \n75%                          1.0                     1.0   \nmax                          1.0                     1.0   \n\n       ramo_sociologico_rural  ramo_sociologico_cultura  \\\ncount                     1.0                       1.0   \nmean                      1.0                       1.0   \nstd                       NaN                       NaN   \nmin                       1.0                       1.0   \n25%                       1.0                       1.0   \n50%                       1.0                       1.0   \n75%                       1.0                       1.0   \nmax                       1.0                       1.0   \n\n       ramo_sociologico_esporte  imposicao_reconhecimento_reconhece  \\\ncount                       1.0                                35.0   \nmean                        1.0                                 1.0   \nstd                         NaN                                 0.0   \nmin                         1.0                                 1.0   \n25%                         1.0                                 1.0   \n50%                         1.0                                 1.0   \n75%                         1.0                                 1.0   \nmax                         1.0                                 1.0   \n\n       imposicao_reconhecimento_impõe  ferramenta_ambiente_ambiente  \\\ncount                            35.0                          34.0   \nmean                              1.0                           1.0   \nstd                               0.0                           0.0   \nmin                               1.0                           1.0   \n25%                               1.0                           1.0   \n50%                               1.0                           1.0   \n75%                               1.0                           1.0   \nmax                               1.0                           1.0   \n\n       ferramenta_ambiente_ferramenta  \ncount                            51.0  \nmean                              1.0  \nstd                               0.0  \nmin                               1.0  \n25%                               1.0  \n50%                               1.0  \n75%                               1.0  \nmax                               1.0  \n\n[8 rows x 89 columns]",
      "text/html": "<div>\n<style scoped>\n    .dataframe tbody tr th:only-of-type {\n        vertical-align: middle;\n    }\n\n    .dataframe tbody tr th {\n        vertical-align: top;\n    }\n\n    .dataframe thead th {\n        text-align: right;\n    }\n</style>\n<table border=\"1\" class=\"dataframe\">\n  <thead>\n    <tr style=\"text-align: right;\">\n      <th></th>\n      <th>outro_assunto</th>\n      <th>n_palavras</th>\n      <th>freq_assunto</th>\n      <th>artigo_1_revogado</th>\n      <th>efetivamente_revogada</th>\n      <th>internacional</th>\n      <th>f</th>\n      <th>fx</th>\n      <th>dimensao_normativa</th>\n      <th>dimensao_ontológica</th>\n      <th>...</th>\n      <th>ramo_sociologico_saúde</th>\n      <th>ramo_sociologico_trabalho</th>\n      <th>ramo_sociologico_ética</th>\n      <th>ramo_sociologico_rural</th>\n      <th>ramo_sociologico_cultura</th>\n      <th>ramo_sociologico_esporte</th>\n      <th>imposicao_reconhecimento_reconhece</th>\n      <th>imposicao_reconhecimento_impõe</th>\n      <th>ferramenta_ambiente_ambiente</th>\n      <th>ferramenta_ambiente_ferramenta</th>\n    </tr>\n  </thead>\n  <tbody>\n    <tr>\n      <th>count</th>\n      <td>247.000000</td>\n      <td>247.000000</td>\n      <td>247.000000</td>\n      <td>247.000000</td>\n      <td>247.000000</td>\n      <td>247.000000</td>\n      <td>247.000000</td>\n      <td>247.000000</td>\n      <td>59.0</td>\n      <td>23.0</td>\n      <td>...</td>\n      <td>3.0</td>\n      <td>3.0</td>\n      <td>3.0</td>\n      <td>1.0</td>\n      <td>1.0</td>\n      <td>1.0</td>\n      <td>35.0</td>\n      <td>35.0</td>\n      <td>34.0</td>\n      <td>51.0</td>\n    </tr>\n    <tr>\n      <th>mean</th>\n      <td>0.821862</td>\n      <td>12433.400810</td>\n      <td>0.004009</td>\n      <td>0.032389</td>\n      <td>0.018219</td>\n      <td>0.064777</td>\n      <td>0.497976</td>\n      <td>0.425101</td>\n      <td>1.0</td>\n      <td>1.0</td>\n      <td>...</td>\n      <td>1.0</td>\n      <td>1.0</td>\n      <td>1.0</td>\n      <td>1.0</td>\n      <td>1.0</td>\n      <td>1.0</td>\n      <td>1.0</td>\n      <td>1.0</td>\n      <td>1.0</td>\n      <td>1.0</td>\n    </tr>\n    <tr>\n      <th>std</th>\n      <td>0.380746</td>\n      <td>19845.630897</td>\n      <td>0.006443</td>\n      <td>0.177390</td>\n      <td>0.130166</td>\n      <td>0.246632</td>\n      <td>0.498979</td>\n      <td>0.495362</td>\n      <td>0.0</td>\n      <td>0.0</td>\n      <td>...</td>\n      <td>0.0</td>\n      <td>0.0</td>\n      <td>0.0</td>\n      <td>NaN</td>\n      <td>NaN</td>\n      <td>NaN</td>\n      <td>0.0</td>\n      <td>0.0</td>\n      <td>0.0</td>\n      <td>0.0</td>\n    </tr>\n    <tr>\n      <th>min</th>\n      <td>0.000000</td>\n      <td>181.000000</td>\n      <td>0.000000</td>\n      <td>0.000000</td>\n      <td>0.000000</td>\n      <td>0.000000</td>\n      <td>0.000000</td>\n      <td>0.000000</td>\n      <td>1.0</td>\n      <td>1.0</td>\n      <td>...</td>\n      <td>1.0</td>\n      <td>1.0</td>\n      <td>1.0</td>\n      <td>1.0</td>\n      <td>1.0</td>\n      <td>1.0</td>\n      <td>1.0</td>\n      <td>1.0</td>\n      <td>1.0</td>\n      <td>1.0</td>\n    </tr>\n    <tr>\n      <th>25%</th>\n      <td>1.000000</td>\n      <td>1901.500000</td>\n      <td>0.000800</td>\n      <td>0.000000</td>\n      <td>0.000000</td>\n      <td>0.000000</td>\n      <td>0.000000</td>\n      <td>0.000000</td>\n      <td>1.0</td>\n      <td>1.0</td>\n      <td>...</td>\n      <td>1.0</td>\n      <td>1.0</td>\n      <td>1.0</td>\n      <td>1.0</td>\n      <td>1.0</td>\n      <td>1.0</td>\n      <td>1.0</td>\n      <td>1.0</td>\n      <td>1.0</td>\n      <td>1.0</td>\n    </tr>\n    <tr>\n      <th>50%</th>\n      <td>1.000000</td>\n      <td>5429.000000</td>\n      <td>0.001660</td>\n      <td>0.000000</td>\n      <td>0.000000</td>\n      <td>0.000000</td>\n      <td>0.500000</td>\n      <td>0.000000</td>\n      <td>1.0</td>\n      <td>1.0</td>\n      <td>...</td>\n      <td>1.0</td>\n      <td>1.0</td>\n      <td>1.0</td>\n      <td>1.0</td>\n      <td>1.0</td>\n      <td>1.0</td>\n      <td>1.0</td>\n      <td>1.0</td>\n      <td>1.0</td>\n      <td>1.0</td>\n    </tr>\n    <tr>\n      <th>75%</th>\n      <td>1.000000</td>\n      <td>15188.000000</td>\n      <td>0.003985</td>\n      <td>0.000000</td>\n      <td>0.000000</td>\n      <td>0.000000</td>\n      <td>1.000000</td>\n      <td>1.000000</td>\n      <td>1.0</td>\n      <td>1.0</td>\n      <td>...</td>\n      <td>1.0</td>\n      <td>1.0</td>\n      <td>1.0</td>\n      <td>1.0</td>\n      <td>1.0</td>\n      <td>1.0</td>\n      <td>1.0</td>\n      <td>1.0</td>\n      <td>1.0</td>\n      <td>1.0</td>\n    </tr>\n    <tr>\n      <th>max</th>\n      <td>1.000000</td>\n      <td>217821.000000</td>\n      <td>0.049720</td>\n      <td>1.000000</td>\n      <td>1.000000</td>\n      <td>1.000000</td>\n      <td>1.000000</td>\n      <td>1.000000</td>\n      <td>1.0</td>\n      <td>1.0</td>\n      <td>...</td>\n      <td>1.0</td>\n      <td>1.0</td>\n      <td>1.0</td>\n      <td>1.0</td>\n      <td>1.0</td>\n      <td>1.0</td>\n      <td>1.0</td>\n      <td>1.0</td>\n      <td>1.0</td>\n      <td>1.0</td>\n    </tr>\n  </tbody>\n</table>\n<p>8 rows × 89 columns</p>\n</div>"
     },
     "metadata": {},
     "output_type": "display_data"
    }
   ],
   "source": [
    "display(df.describe())"
   ],
   "metadata": {
    "collapsed": false,
    "ExecuteTime": {
     "end_time": "2023-07-28T05:17:01.967709711Z",
     "start_time": "2023-07-28T05:17:00.535037692Z"
    }
   }
  },
  {
   "cell_type": "code",
   "execution_count": 177,
   "outputs": [
    {
     "name": "stdout",
     "output_type": "stream",
     "text": [
      "<class 'pandas.core.frame.DataFrame'>\n",
      "Int64Index: 247 entries, 1 to 247\n",
      "Data columns (total 92 columns):\n",
      " #   Column                                       Non-Null Count  Dtype  \n",
      "---  ------                                       --------------  -----  \n",
      " 0   outro_assunto                                247 non-null    float64\n",
      " 1   n_palavras                                   247 non-null    int64  \n",
      " 2   freq_assunto                                 247 non-null    float64\n",
      " 3   ementa                                       247 non-null    object \n",
      " 4   artigo_1                                     247 non-null    object \n",
      " 5   artigo_1_revogado                            247 non-null    int64  \n",
      " 6   efetivamente_revogada                        247 non-null    float64\n",
      " 7   file_name                                    247 non-null    object \n",
      " 8   internacional                                247 non-null    float64\n",
      " 9   f                                            247 non-null    float64\n",
      " 10  fx                                           247 non-null    float64\n",
      " 11  dimensao_normativa                           59 non-null     float64\n",
      " 12  dimensao_ontológica                          23 non-null     float64\n",
      " 13  benevolencia_ameaça                          15 non-null     float64\n",
      " 14  benevolencia_benefício                       50 non-null     float64\n",
      " 15  benevolencia_neutra                          10 non-null     float64\n",
      " 16  funcao_social_segurança                      10 non-null     float64\n",
      " 17  funcao_social_segurança sexual               5 non-null      float64\n",
      " 18  funcao_social_ECA                            5 non-null      float64\n",
      " 19  funcao_social_valoração                      1 non-null      float64\n",
      " 20  funcao_social_inclusão                       14 non-null     float64\n",
      " 21  funcao_social_consumo                        5 non-null      float64\n",
      " 22  funcao_social_cultura                        1 non-null      float64\n",
      " 23  funcao_social_democracia                     7 non-null      float64\n",
      " 24  funcao_social_transparência                  18 non-null     float64\n",
      " 25  funcao_social_nacionalismo                   1 non-null      float64\n",
      " 26  funcao_social_educação                       9 non-null      float64\n",
      " 27  funcao_social_burocrática                    7 non-null      float64\n",
      " 28  funcao_social_indivíduo                      3 non-null      float64\n",
      " 29  funcao_social_propriedade                    4 non-null      float64\n",
      " 30  funcao_social_privacidade                    3 non-null      float64\n",
      " 31  funcao_social_controle                       2 non-null      float64\n",
      " 32  funcao_social_saúde                          7 non-null      float64\n",
      " 33  funcao_social_comunicação                    1 non-null      float64\n",
      " 34  funcao_social_organização comunitária        1 non-null      float64\n",
      " 35  funcao_social_direitos trabalhistas          3 non-null      float64\n",
      " 36  funcao_social_integridade                    3 non-null      float64\n",
      " 37  funcao_social_comercial                      14 non-null     float64\n",
      " 38  funcao_social_mediação                       1 non-null      float64\n",
      " 39  funcao_social_burocrático                    2 non-null      float64\n",
      " 40  funcao_social_fiscal                         8 non-null      float64\n",
      " 41  funcao_social_esporte                        1 non-null      float64\n",
      " 42  funcao_social_meio ambiente                  1 non-null      float64\n",
      " 43  funcao_social_ciência                        2 non-null      float64\n",
      " 44  funcao_social_assunto_ECA                    2 non-null      float64\n",
      " 45  funcao_social_assunto_transparência          12 non-null     float64\n",
      " 46  funcao_social_assunto_segurança              1 non-null      float64\n",
      " 47  funcao_social_assunto_segurança sexual       1 non-null      float64\n",
      " 48  funcao_social_assunto_democracia             2 non-null      float64\n",
      " 49  funcao_social_assunto_tributação             1 non-null      float64\n",
      " 50  funcao_social_assunto_direitos trabalhistas  3 non-null      float64\n",
      " 51  funcao_social_assunto_salário                1 non-null      float64\n",
      " 52  funcao_social_assunto_comercial              2 non-null      float64\n",
      " 53  funcao_social_assunto_burocrática            2 non-null      float64\n",
      " 54  funcao_social_assunto_mediação               1 non-null      float64\n",
      " 55  funcao_social_assunto_inclusão               4 non-null      float64\n",
      " 56  funcao_social_assunto_tansparência           1 non-null      float64\n",
      " 57  funcao_social_assunto_esporte                1 non-null      float64\n",
      " 58  funcao_social_assunto_fiscal                 1 non-null      float64\n",
      " 59  ramo_dogmatico_penal                         9 non-null      float64\n",
      " 60  ramo_dogmatico_civil                         17 non-null     float64\n",
      " 61  ramo_dogmatico_eleitoral                     6 non-null      float64\n",
      " 62  ramo_dogmatico_administrativo                23 non-null     float64\n",
      " 63  ramo_dogmatico_processual                    3 non-null      float64\n",
      " 64  ramo_dogmatico_trabalhista                   3 non-null      float64\n",
      " 65  ramo_dogmatico_orçamentário                  9 non-null      float64\n",
      " 66  ramo_dogmatico_tributário                    5 non-null      float64\n",
      " 67  ramo_dogmatico_comercial                     2 non-null      float64\n",
      " 68  ramo_sociologico_violência                   3 non-null      float64\n",
      " 69  ramo_sociologico_violência sexual            3 non-null      float64\n",
      " 70  ramo_sociologico_infância                    3 non-null      float64\n",
      " 71  ramo_sociologico_comunicação                 1 non-null      float64\n",
      " 72  ramo_sociologico_econômico                   33 non-null     float64\n",
      " 73  ramo_sociologico_político                    7 non-null      float64\n",
      " 74  ramo_sociologico_nacional                    1 non-null      float64\n",
      " 75  ramo_sociologico_burocrático                 17 non-null     float64\n",
      " 76  ramo_sociologico_educacional                 1 non-null      float64\n",
      " 77  ramo_sociologico_individualização            1 non-null      float64\n",
      " 78  ramo_sociologico_educação                    8 non-null      float64\n",
      " 79  ramo_sociologico_criminal                    2 non-null      float64\n",
      " 80  ramo_sociologico_segurança                   2 non-null      float64\n",
      " 81  ramo_sociologico_ciminal                     3 non-null      float64\n",
      " 82  ramo_sociologico_saúde                       3 non-null      float64\n",
      " 83  ramo_sociologico_trabalho                    3 non-null      float64\n",
      " 84  ramo_sociologico_ética                       3 non-null      float64\n",
      " 85  ramo_sociologico_rural                       1 non-null      float64\n",
      " 86  ramo_sociologico_cultura                     1 non-null      float64\n",
      " 87  ramo_sociologico_esporte                     1 non-null      float64\n",
      " 88  imposicao_reconhecimento_reconhece           35 non-null     float64\n",
      " 89  imposicao_reconhecimento_impõe               35 non-null     float64\n",
      " 90  ferramenta_ambiente_ambiente                 34 non-null     float64\n",
      " 91  ferramenta_ambiente_ferramenta               51 non-null     float64\n",
      "dtypes: float64(87), int64(2), object(3)\n",
      "memory usage: 187.6+ KB\n"
     ]
    },
    {
     "data": {
      "text/plain": "None"
     },
     "metadata": {},
     "output_type": "display_data"
    }
   ],
   "source": [
    "display(df.info())"
   ],
   "metadata": {
    "collapsed": false,
    "ExecuteTime": {
     "end_time": "2023-07-28T05:17:01.968585923Z",
     "start_time": "2023-07-28T05:17:00.652456557Z"
    }
   }
  },
  {
   "cell_type": "code",
   "execution_count": 178,
   "outputs": [],
   "source": [
    "regex = r'(?<=\\n\\n)((.|\\n.)+(internet|on-line|online|tecnol|digital|computador|computaciona|eletron|eletrôn|não presencial|virtual|virtuais|banda.larga| redes?\\s|veículo de comunicação social)(.|\\n.)+(?=\\n\\n))'"
   ],
   "metadata": {
    "collapsed": false,
    "ExecuteTime": {
     "end_time": "2023-07-28T05:17:01.968736190Z",
     "start_time": "2023-07-28T05:17:00.698128474Z"
    }
   }
  },
  {
   "cell_type": "code",
   "execution_count": 179,
   "outputs": [],
   "source": [
    "def preprocess_text(text):\n",
    "    # Replace all newline characters with a space\n",
    "    text = text.replace('\\n', ' ')\n",
    "\n",
    "    # Remove all words ending in a dot followed by a space\n",
    "    text = re.sub(r'\\b\\w+\\.\\s', '', text)\n",
    "\n",
    "    # Remove all special characters\n",
    "    text = re.sub(r'[^\\w\\s]', '', text)\n",
    "\n",
    "    # Remove all numbers\n",
    "    text = re.sub(r'\\d+', '', text)\n",
    "\n",
    "    # Remove all words with less than 3 letters\n",
    "    text = re.sub(r'\\b\\w{1,2}\\b', '', text)\n",
    "\n",
    "    # Remove all duplicate spaces\n",
    "    text = re.sub(r'\\s+', ' ', text)\n",
    "\n",
    "    return text.lower()"
   ],
   "metadata": {
    "collapsed": false,
    "ExecuteTime": {
     "end_time": "2023-07-28T05:17:01.968829881Z",
     "start_time": "2023-07-28T05:17:00.698234303Z"
    }
   }
  },
  {
   "cell_type": "code",
   "execution_count": 180,
   "outputs": [],
   "source": [
    "def lists_of_law_interaction(file_name):\n",
    "    with open(busca + \"/txt_laws/\" + file_name + \".txt\", 'r') as f:\n",
    "        f_r = f.read()\n",
    "\n",
    "        table_found = re.search(r'\\|\\s+\\|\\s+\\|\\s+[\\|\\s]*', 'r')\n",
    "\n",
    "        if table_found:\n",
    "            f_r = f_r[:table_found.start()]\n",
    "            # the line above is doing the following:\n",
    "            # if there is a table, it will cut the text before the table\n",
    "            # and by cut I mean it will only consider the text before the table\n",
    "        all_groups1 = [groups[0] for groups in re.findall(regex, f_r)]\n",
    "        # above is almost correct, but I don't want to append to my list if the string starts with ~~\n",
    "        all_occ_curr = [preprocess_text(group) for group in all_groups1 if not group.startswith('~~')]\n",
    "        all_occ_ncurr = [preprocess_text(group) for group in all_groups1 if group.startswith('~~')]\n",
    "    return bool(table_found), all_occ_curr, all_occ_ncurr"
   ],
   "metadata": {
    "collapsed": false,
    "ExecuteTime": {
     "end_time": "2023-07-28T05:17:01.968911076Z",
     "start_time": "2023-07-28T05:17:00.698349254Z"
    }
   }
  },
  {
   "cell_type": "code",
   "execution_count": 181,
   "outputs": [],
   "source": [
    "def create_table_found_and_ocorrencias(row):\n",
    "    file_name = row.file_name\n",
    "    table_found, all_occ_curr, all_occ_ncurr = lists_of_law_interaction(file_name)\n",
    "    row['table_found'] = 1 if table_found else 0\n",
    "    row['all_occ_curr'] = all_occ_curr\n",
    "    row['all_occ_ncurr'] = all_occ_ncurr\n",
    "    return row"
   ],
   "metadata": {
    "collapsed": false,
    "ExecuteTime": {
     "end_time": "2023-07-28T05:17:01.968989172Z",
     "start_time": "2023-07-28T05:17:00.698405584Z"
    }
   }
  },
  {
   "cell_type": "markdown",
   "source": [
    "##### Temporary action"
   ],
   "metadata": {
    "collapsed": false
   }
  },
  {
   "cell_type": "code",
   "execution_count": 182,
   "outputs": [],
   "source": [
    "# for now I'll drop efetivamente_revogada column because to analyze it I should go in depth in other laws my law changes\n",
    "df.drop(['efetivamente_revogada'], axis=1, inplace=True)"
   ],
   "metadata": {
    "collapsed": false,
    "ExecuteTime": {
     "end_time": "2023-07-28T05:17:01.969068071Z",
     "start_time": "2023-07-28T05:17:00.698456979Z"
    }
   }
  },
  {
   "cell_type": "code",
   "execution_count": 183,
   "outputs": [
    {
     "data": {
      "text/plain": "    outro_assunto  n_palavras  freq_assunto  \\\nid                                            \n1             1.0        1799       0.00111   \n2             0.0        6698       0.01911   \n3             0.0         328       0.00610   \n4             1.0        1434       0.00279   \n5             0.0         181       0.04972   \n\n                                               ementa  \\\nid                                                      \n1   Altera o Título VI da Parte Especial do Decret...   \n2   Estabelece princípios, garantias, direitos e d...   \n3   Obriga o fornecedor de ingresso para evento cu...   \n4   Dispõe sobre propaganda, financiamento e prest...   \n5   Normatiza a divulgação de documentos instituci...   \n\n                                             artigo_1  artigo_1_revogado  \\\nid                                                                         \n1   Esta Lei altera o Título VI da Parte Especial ...                  0   \n2   Esta Lei estabelece princípios, garantias, dir...                  0   \n3   O fornecedor de ingresso para evento cultural ...                  0   \n4   A Lei nº 9.504, de 30 de setembro de 1997, pas...                  0   \n5   Esta Lei normatiza a divulgação de documentos ...                  0   \n\n    internacional    f   fx  dimensao_normativa  ...  ramo_sociologico_rural  \\\nid                                               ...                           \n1             0.0  1.0  0.0                 1.0  ...                     NaN   \n2             0.0  0.0  1.0                 NaN  ...                     NaN   \n3             0.0  0.0  0.0                 1.0  ...                     NaN   \n4             0.0  1.0  0.0                 1.0  ...                     NaN   \n5             0.0  0.0  0.0                 1.0  ...                     NaN   \n\n    ramo_sociologico_cultura  ramo_sociologico_esporte  \\\nid                                                       \n1                        NaN                       NaN   \n2                        NaN                       NaN   \n3                        NaN                       NaN   \n4                        NaN                       NaN   \n5                        NaN                       NaN   \n\n    imposicao_reconhecimento_reconhece  imposicao_reconhecimento_impõe  \\\nid                                                                       \n1                                  1.0                             NaN   \n2                                  1.0                             NaN   \n3                                  NaN                             1.0   \n4                                  NaN                             1.0   \n5                                  NaN                             1.0   \n\n    ferramenta_ambiente_ambiente  ferramenta_ambiente_ferramenta  table_found  \\\nid                                                                              \n1                            1.0                             NaN            0   \n2                            1.0                             1.0            0   \n3                            1.0                             NaN            0   \n4                            NaN                             1.0            0   \n5                            1.0                             NaN            0   \n\n                                         all_occ_curr  \\\nid                                                      \n1   [ _o_ incorre nas penas previstas caput deste ...   \n2   [ esta lei estabelece princípios garantias dir...   \n3   [obriga fornecedor ingresso para evento cultur...   \n4   [ cheques cruzados nominais transferência elet...   \n5   [normatiza divulgação documentos institucionai...   \n\n                                        all_occ_ncurr  \nid                                                     \n1                                                  []  \n2   [vii aplicações internet conjunto funcionalida...  \n3                                                  []  \n4                                                  []  \n5                                                  []  \n\n[5 rows x 93 columns]",
      "text/html": "<div>\n<style scoped>\n    .dataframe tbody tr th:only-of-type {\n        vertical-align: middle;\n    }\n\n    .dataframe tbody tr th {\n        vertical-align: top;\n    }\n\n    .dataframe thead th {\n        text-align: right;\n    }\n</style>\n<table border=\"1\" class=\"dataframe\">\n  <thead>\n    <tr style=\"text-align: right;\">\n      <th></th>\n      <th>outro_assunto</th>\n      <th>n_palavras</th>\n      <th>freq_assunto</th>\n      <th>ementa</th>\n      <th>artigo_1</th>\n      <th>artigo_1_revogado</th>\n      <th>internacional</th>\n      <th>f</th>\n      <th>fx</th>\n      <th>dimensao_normativa</th>\n      <th>...</th>\n      <th>ramo_sociologico_rural</th>\n      <th>ramo_sociologico_cultura</th>\n      <th>ramo_sociologico_esporte</th>\n      <th>imposicao_reconhecimento_reconhece</th>\n      <th>imposicao_reconhecimento_impõe</th>\n      <th>ferramenta_ambiente_ambiente</th>\n      <th>ferramenta_ambiente_ferramenta</th>\n      <th>table_found</th>\n      <th>all_occ_curr</th>\n      <th>all_occ_ncurr</th>\n    </tr>\n    <tr>\n      <th>id</th>\n      <th></th>\n      <th></th>\n      <th></th>\n      <th></th>\n      <th></th>\n      <th></th>\n      <th></th>\n      <th></th>\n      <th></th>\n      <th></th>\n      <th></th>\n      <th></th>\n      <th></th>\n      <th></th>\n      <th></th>\n      <th></th>\n      <th></th>\n      <th></th>\n      <th></th>\n      <th></th>\n      <th></th>\n    </tr>\n  </thead>\n  <tbody>\n    <tr>\n      <th>1</th>\n      <td>1.0</td>\n      <td>1799</td>\n      <td>0.00111</td>\n      <td>Altera o Título VI da Parte Especial do Decret...</td>\n      <td>Esta Lei altera o Título VI da Parte Especial ...</td>\n      <td>0</td>\n      <td>0.0</td>\n      <td>1.0</td>\n      <td>0.0</td>\n      <td>1.0</td>\n      <td>...</td>\n      <td>NaN</td>\n      <td>NaN</td>\n      <td>NaN</td>\n      <td>1.0</td>\n      <td>NaN</td>\n      <td>1.0</td>\n      <td>NaN</td>\n      <td>0</td>\n      <td>[ _o_ incorre nas penas previstas caput deste ...</td>\n      <td>[]</td>\n    </tr>\n    <tr>\n      <th>2</th>\n      <td>0.0</td>\n      <td>6698</td>\n      <td>0.01911</td>\n      <td>Estabelece princípios, garantias, direitos e d...</td>\n      <td>Esta Lei estabelece princípios, garantias, dir...</td>\n      <td>0</td>\n      <td>0.0</td>\n      <td>0.0</td>\n      <td>1.0</td>\n      <td>NaN</td>\n      <td>...</td>\n      <td>NaN</td>\n      <td>NaN</td>\n      <td>NaN</td>\n      <td>1.0</td>\n      <td>NaN</td>\n      <td>1.0</td>\n      <td>1.0</td>\n      <td>0</td>\n      <td>[ esta lei estabelece princípios garantias dir...</td>\n      <td>[vii aplicações internet conjunto funcionalida...</td>\n    </tr>\n    <tr>\n      <th>3</th>\n      <td>0.0</td>\n      <td>328</td>\n      <td>0.00610</td>\n      <td>Obriga o fornecedor de ingresso para evento cu...</td>\n      <td>O fornecedor de ingresso para evento cultural ...</td>\n      <td>0</td>\n      <td>0.0</td>\n      <td>0.0</td>\n      <td>0.0</td>\n      <td>1.0</td>\n      <td>...</td>\n      <td>NaN</td>\n      <td>NaN</td>\n      <td>NaN</td>\n      <td>NaN</td>\n      <td>1.0</td>\n      <td>1.0</td>\n      <td>NaN</td>\n      <td>0</td>\n      <td>[obriga fornecedor ingresso para evento cultur...</td>\n      <td>[]</td>\n    </tr>\n    <tr>\n      <th>4</th>\n      <td>1.0</td>\n      <td>1434</td>\n      <td>0.00279</td>\n      <td>Dispõe sobre propaganda, financiamento e prest...</td>\n      <td>A Lei nº 9.504, de 30 de setembro de 1997, pas...</td>\n      <td>0</td>\n      <td>0.0</td>\n      <td>1.0</td>\n      <td>0.0</td>\n      <td>1.0</td>\n      <td>...</td>\n      <td>NaN</td>\n      <td>NaN</td>\n      <td>NaN</td>\n      <td>NaN</td>\n      <td>1.0</td>\n      <td>NaN</td>\n      <td>1.0</td>\n      <td>0</td>\n      <td>[ cheques cruzados nominais transferência elet...</td>\n      <td>[]</td>\n    </tr>\n    <tr>\n      <th>5</th>\n      <td>0.0</td>\n      <td>181</td>\n      <td>0.04972</td>\n      <td>Normatiza a divulgação de documentos instituci...</td>\n      <td>Esta Lei normatiza a divulgação de documentos ...</td>\n      <td>0</td>\n      <td>0.0</td>\n      <td>0.0</td>\n      <td>0.0</td>\n      <td>1.0</td>\n      <td>...</td>\n      <td>NaN</td>\n      <td>NaN</td>\n      <td>NaN</td>\n      <td>NaN</td>\n      <td>1.0</td>\n      <td>1.0</td>\n      <td>NaN</td>\n      <td>0</td>\n      <td>[normatiza divulgação documentos institucionai...</td>\n      <td>[]</td>\n    </tr>\n  </tbody>\n</table>\n<p>5 rows × 93 columns</p>\n</div>"
     },
     "execution_count": 183,
     "metadata": {},
     "output_type": "execute_result"
    }
   ],
   "source": [
    "df = df.apply(create_table_found_and_ocorrencias, axis=1)\n",
    "df.drop(columns=['file_name'], inplace=True)\n",
    "df.head()"
   ],
   "metadata": {
    "collapsed": false,
    "ExecuteTime": {
     "end_time": "2023-07-28T05:17:04.477158155Z",
     "start_time": "2023-07-28T05:17:00.698506167Z"
    }
   }
  },
  {
   "cell_type": "code",
   "execution_count": 184,
   "outputs": [
    {
     "name": "stdout",
     "output_type": "stream",
     "text": [
      "<class 'pandas.core.frame.DataFrame'>\n",
      "RangeIndex: 3383 entries, 0 to 3382\n",
      "Data columns (total 94 columns):\n",
      " #   Column                                       Non-Null Count  Dtype  \n",
      "---  ------                                       --------------  -----  \n",
      " 0   original_id                                  3383 non-null   int64  \n",
      " 1   ementa                                       3383 non-null   object \n",
      " 2   artigo_1                                     3383 non-null   object \n",
      " 3   ocorrencia                                   3095 non-null   object \n",
      " 4   ocorrencia_revogada                          276 non-null    object \n",
      " 5   table_found                                  3383 non-null   int64  \n",
      " 6   outro_assunto                                3383 non-null   float64\n",
      " 7   n_palavras                                   3383 non-null   int64  \n",
      " 8   freq_assunto                                 3383 non-null   float64\n",
      " 9   artigo_1_revogado                            3383 non-null   int64  \n",
      " 10  internacional                                3383 non-null   float64\n",
      " 11  f                                            3383 non-null   float64\n",
      " 12  fx                                           3383 non-null   float64\n",
      " 13  dimensao_normativa                           732 non-null    float64\n",
      " 14  dimensao_ontológica                          533 non-null    float64\n",
      " 15  benevolencia_ameaça                          63 non-null     float64\n",
      " 16  benevolencia_benefício                       757 non-null    float64\n",
      " 17  benevolencia_neutra                          233 non-null    float64\n",
      " 18  funcao_social_segurança                      27 non-null     float64\n",
      " 19  funcao_social_segurança sexual               16 non-null     float64\n",
      " 20  funcao_social_ECA                            16 non-null     float64\n",
      " 21  funcao_social_valoração                      84 non-null     float64\n",
      " 22  funcao_social_inclusão                       192 non-null    float64\n",
      " 23  funcao_social_consumo                        94 non-null     float64\n",
      " 24  funcao_social_cultura                        2 non-null      float64\n",
      " 25  funcao_social_democracia                     156 non-null    float64\n",
      " 26  funcao_social_transparência                  344 non-null    float64\n",
      " 27  funcao_social_nacionalismo                   2 non-null      float64\n",
      " 28  funcao_social_educação                       112 non-null    float64\n",
      " 29  funcao_social_burocrática                    163 non-null    float64\n",
      " 30  funcao_social_indivíduo                      59 non-null     float64\n",
      " 31  funcao_social_propriedade                    60 non-null     float64\n",
      " 32  funcao_social_privacidade                    29 non-null     float64\n",
      " 33  funcao_social_controle                       10 non-null     float64\n",
      " 34  funcao_social_saúde                          50 non-null     float64\n",
      " 35  funcao_social_comunicação                    10 non-null     float64\n",
      " 36  funcao_social_organização comunitária        10 non-null     float64\n",
      " 37  funcao_social_direitos trabalhistas          18 non-null     float64\n",
      " 38  funcao_social_integridade                    9 non-null      float64\n",
      " 39  funcao_social_comercial                      251 non-null    float64\n",
      " 40  funcao_social_mediação                       4 non-null      float64\n",
      " 41  funcao_social_burocrático                    12 non-null     float64\n",
      " 42  funcao_social_fiscal                         132 non-null    float64\n",
      " 43  funcao_social_esporte                        7 non-null      float64\n",
      " 44  funcao_social_meio ambiente                  26 non-null     float64\n",
      " 45  funcao_social_ciência                        28 non-null     float64\n",
      " 46  funcao_social_assunto_ECA                    3 non-null      float64\n",
      " 47  funcao_social_assunto_transparência          237 non-null    float64\n",
      " 48  funcao_social_assunto_segurança              2 non-null      float64\n",
      " 49  funcao_social_assunto_segurança sexual       2 non-null      float64\n",
      " 50  funcao_social_assunto_democracia             41 non-null     float64\n",
      " 51  funcao_social_assunto_tributação             15 non-null     float64\n",
      " 52  funcao_social_assunto_direitos trabalhistas  18 non-null     float64\n",
      " 53  funcao_social_assunto_salário                5 non-null      float64\n",
      " 54  funcao_social_assunto_comercial              34 non-null     float64\n",
      " 55  funcao_social_assunto_burocrática            8 non-null      float64\n",
      " 56  funcao_social_assunto_mediação               4 non-null      float64\n",
      " 57  funcao_social_assunto_inclusão               23 non-null     float64\n",
      " 58  funcao_social_assunto_tansparência           8 non-null      float64\n",
      " 59  funcao_social_assunto_esporte                7 non-null      float64\n",
      " 60  funcao_social_assunto_fiscal                 7 non-null      float64\n",
      " 61  ramo_dogmatico_penal                         23 non-null     float64\n",
      " 62  ramo_dogmatico_civil                         263 non-null    float64\n",
      " 63  ramo_dogmatico_eleitoral                     150 non-null    float64\n",
      " 64  ramo_dogmatico_administrativo                253 non-null    float64\n",
      " 65  ramo_dogmatico_processual                    59 non-null     float64\n",
      " 66  ramo_dogmatico_trabalhista                   18 non-null     float64\n",
      " 67  ramo_dogmatico_orçamentário                  139 non-null    float64\n",
      " 68  ramo_dogmatico_tributário                    187 non-null    float64\n",
      " 69  ramo_dogmatico_comercial                     2 non-null      float64\n",
      " 70  ramo_sociologico_violência                   6 non-null      float64\n",
      " 71  ramo_sociologico_violência sexual            6 non-null      float64\n",
      " 72  ramo_sociologico_infância                    6 non-null      float64\n",
      " 73  ramo_sociologico_comunicação                 84 non-null     float64\n",
      " 74  ramo_sociologico_econômico                   456 non-null    float64\n",
      " 75  ramo_sociologico_político                    160 non-null    float64\n",
      " 76  ramo_sociologico_nacional                    2 non-null      float64\n",
      " 77  ramo_sociologico_burocrático                 252 non-null    float64\n",
      " 78  ramo_sociologico_educacional                 10 non-null     float64\n",
      " 79  ramo_sociologico_individualização            19 non-null     float64\n",
      " 80  ramo_sociologico_educação                    127 non-null    float64\n",
      " 81  ramo_sociologico_criminal                    7 non-null      float64\n",
      " 82  ramo_sociologico_segurança                   10 non-null     float64\n",
      " 83  ramo_sociologico_ciminal                     4 non-null      float64\n",
      " 84  ramo_sociologico_saúde                       37 non-null     float64\n",
      " 85  ramo_sociologico_trabalho                    18 non-null     float64\n",
      " 86  ramo_sociologico_ética                       9 non-null      float64\n",
      " 87  ramo_sociologico_rural                       9 non-null      float64\n",
      " 88  ramo_sociologico_cultura                     7 non-null      float64\n",
      " 89  ramo_sociologico_esporte                     7 non-null      float64\n",
      " 90  imposicao_reconhecimento_reconhece           407 non-null    float64\n",
      " 91  imposicao_reconhecimento_impõe               658 non-null    float64\n",
      " 92  ferramenta_ambiente_ambiente                 374 non-null    float64\n",
      " 93  ferramenta_ambiente_ferramenta               870 non-null    float64\n",
      "dtypes: float64(86), int64(4), object(4)\n",
      "memory usage: 2.4+ MB\n"
     ]
    }
   ],
   "source": [
    "df_old1 = df.copy()\n",
    "\n",
    "# Initialize a list to hold the new rows\n",
    "new_rows = []\n",
    "\n",
    "for index, row in df.iterrows():\n",
    "    if len(row['all_occ_curr']) == 0 and len(row['all_occ_ncurr']) == 0:\n",
    "        # Exclude 'all_occ_curr' and 'all_occ_ncurr' from the row dictionary\n",
    "        # handle the order of the columns and append what is left\n",
    "        row_dict = {'original_id': index, 'ementa': row['ementa'], 'artigo_1': row['artigo_1'],\n",
    "                    'ocorrencia': np.nan, 'ocorrencia_revogada': np.nan, 'table_found': row['table_found'],\n",
    "                    **{col: row[col] for col in df.columns if col not in ['ementa', 'artigo_1', 'all_occ_curr', 'all_occ_ncurr']}}\n",
    "        new_rows.append(row_dict)\n",
    "    else:\n",
    "        for occ in row['all_occ_curr']:\n",
    "            # Exclude 'all_occ_curr' and 'all_occ_ncurr' from the row dictionary\n",
    "            # handle the order of the columns and append what is left\n",
    "            row_dict = {'original_id': index, 'ementa': row['ementa'], 'artigo_1': row['artigo_1'],\n",
    "                        'ocorrencia': occ, 'ocorrencia_revogada': np.nan, 'table_found': row['table_found'],\n",
    "                        **{col: row[col] for col in df.columns if col not in ['ementa', 'artigo_1', 'all_occ_curr', 'all_occ_ncurr']}}\n",
    "            new_rows.append(row_dict)\n",
    "\n",
    "        for nocc in row['all_occ_ncurr']:\n",
    "            # Exclude 'all_occ_curr' and 'all_occ_ncurr' from the row dictionary\n",
    "            # handle the order of the columns and append what is left\n",
    "            row_dict = {'original_id': index, 'ementa': row['ementa'], 'artigo_1': row['artigo_1'],\n",
    "                        'ocorrencia': np.nan, 'ocorrencia_revogada': nocc, 'table_found': row['table_found'],\n",
    "                        **{col: row[col] for col in df.columns if col not in ['ementa', 'artigo_1', 'all_occ_curr', 'all_occ_ncurr']}}\n",
    "            new_rows.append(row_dict)\n",
    "\n",
    "# Convert the list of dictionaries to a DataFrame\n",
    "df = pd.DataFrame(new_rows)\n",
    "df.info()"
   ],
   "metadata": {
    "collapsed": false,
    "ExecuteTime": {
     "end_time": "2023-07-28T05:17:05.673317322Z",
     "start_time": "2023-07-28T05:17:04.458023049Z"
    }
   }
  },
  {
   "cell_type": "code",
   "execution_count": 185,
   "outputs": [
    {
     "data": {
      "text/plain": "0    False\n1    False\n2    False\n3    False\n4    False\ndtype: bool"
     },
     "metadata": {},
     "output_type": "display_data"
    },
    {
     "data": {
      "text/plain": "3378    True\n3379    True\n3380    True\n3381    True\n3382    True\ndtype: bool"
     },
     "metadata": {},
     "output_type": "display_data"
    },
    {
     "data": {
      "text/plain": "   original_id                                             ementa  \\\n0            1  Altera o Título VI da Parte Especial do Decret...   \n1            2  Estabelece princípios, garantias, direitos e d...   \n2            2  Estabelece princípios, garantias, direitos e d...   \n3            2  Estabelece princípios, garantias, direitos e d...   \n4            2  Estabelece princípios, garantias, direitos e d...   \n\n                                            artigo_1  \\\n0  Esta Lei altera o Título VI da Parte Especial ...   \n1  Esta Lei estabelece princípios, garantias, dir...   \n2  Esta Lei estabelece princípios, garantias, dir...   \n3  Esta Lei estabelece princípios, garantias, dir...   \n4  Esta Lei estabelece princípios, garantias, dir...   \n\n                                          ocorrencia ocorrencia_revogada  \\\n0   _o_ incorre nas penas previstas caput deste a...                 NaN   \n1   esta lei estabelece princípios garantias dire...                 NaN   \n2   disciplina uso internet brasil tem como funda...                 NaN   \n3   disciplina uso internet brasil tem seguintes ...                 NaN   \n4  viii liberdade dos modelos negócios promovidos...                 NaN   \n\n   table_found  outro_assunto  n_palavras  freq_assunto  artigo_1_revogado  \\\n0            0            1.0        1799       0.00111                  0   \n1            0            0.0        6698       0.01911                  0   \n2            0            0.0        6698       0.01911                  0   \n3            0            0.0        6698       0.01911                  0   \n4            0            0.0        6698       0.01911                  0   \n\n   ...  ramo_sociologico_saúde  ramo_sociologico_trabalho  \\\n0  ...                     0.0                        0.0   \n1  ...                     0.0                        0.0   \n2  ...                     0.0                        0.0   \n3  ...                     0.0                        0.0   \n4  ...                     0.0                        0.0   \n\n   ramo_sociologico_ética  ramo_sociologico_rural  ramo_sociologico_cultura  \\\n0                     0.0                     0.0                       0.0   \n1                     0.0                     0.0                       0.0   \n2                     0.0                     0.0                       0.0   \n3                     0.0                     0.0                       0.0   \n4                     0.0                     0.0                       0.0   \n\n   ramo_sociologico_esporte  imposicao_reconhecimento_reconhece  \\\n0                       0.0                                 1.0   \n1                       0.0                                 1.0   \n2                       0.0                                 1.0   \n3                       0.0                                 1.0   \n4                       0.0                                 1.0   \n\n   imposicao_reconhecimento_impõe  ferramenta_ambiente_ambiente  \\\n0                             0.0                           1.0   \n1                             0.0                           1.0   \n2                             0.0                           1.0   \n3                             0.0                           1.0   \n4                             0.0                           1.0   \n\n   ferramenta_ambiente_ferramenta  \n0                             0.0  \n1                             1.0  \n2                             1.0  \n3                             1.0  \n4                             1.0  \n\n[5 rows x 94 columns]",
      "text/html": "<div>\n<style scoped>\n    .dataframe tbody tr th:only-of-type {\n        vertical-align: middle;\n    }\n\n    .dataframe tbody tr th {\n        vertical-align: top;\n    }\n\n    .dataframe thead th {\n        text-align: right;\n    }\n</style>\n<table border=\"1\" class=\"dataframe\">\n  <thead>\n    <tr style=\"text-align: right;\">\n      <th></th>\n      <th>original_id</th>\n      <th>ementa</th>\n      <th>artigo_1</th>\n      <th>ocorrencia</th>\n      <th>ocorrencia_revogada</th>\n      <th>table_found</th>\n      <th>outro_assunto</th>\n      <th>n_palavras</th>\n      <th>freq_assunto</th>\n      <th>artigo_1_revogado</th>\n      <th>...</th>\n      <th>ramo_sociologico_saúde</th>\n      <th>ramo_sociologico_trabalho</th>\n      <th>ramo_sociologico_ética</th>\n      <th>ramo_sociologico_rural</th>\n      <th>ramo_sociologico_cultura</th>\n      <th>ramo_sociologico_esporte</th>\n      <th>imposicao_reconhecimento_reconhece</th>\n      <th>imposicao_reconhecimento_impõe</th>\n      <th>ferramenta_ambiente_ambiente</th>\n      <th>ferramenta_ambiente_ferramenta</th>\n    </tr>\n  </thead>\n  <tbody>\n    <tr>\n      <th>0</th>\n      <td>1</td>\n      <td>Altera o Título VI da Parte Especial do Decret...</td>\n      <td>Esta Lei altera o Título VI da Parte Especial ...</td>\n      <td>_o_ incorre nas penas previstas caput deste a...</td>\n      <td>NaN</td>\n      <td>0</td>\n      <td>1.0</td>\n      <td>1799</td>\n      <td>0.00111</td>\n      <td>0</td>\n      <td>...</td>\n      <td>0.0</td>\n      <td>0.0</td>\n      <td>0.0</td>\n      <td>0.0</td>\n      <td>0.0</td>\n      <td>0.0</td>\n      <td>1.0</td>\n      <td>0.0</td>\n      <td>1.0</td>\n      <td>0.0</td>\n    </tr>\n    <tr>\n      <th>1</th>\n      <td>2</td>\n      <td>Estabelece princípios, garantias, direitos e d...</td>\n      <td>Esta Lei estabelece princípios, garantias, dir...</td>\n      <td>esta lei estabelece princípios garantias dire...</td>\n      <td>NaN</td>\n      <td>0</td>\n      <td>0.0</td>\n      <td>6698</td>\n      <td>0.01911</td>\n      <td>0</td>\n      <td>...</td>\n      <td>0.0</td>\n      <td>0.0</td>\n      <td>0.0</td>\n      <td>0.0</td>\n      <td>0.0</td>\n      <td>0.0</td>\n      <td>1.0</td>\n      <td>0.0</td>\n      <td>1.0</td>\n      <td>1.0</td>\n    </tr>\n    <tr>\n      <th>2</th>\n      <td>2</td>\n      <td>Estabelece princípios, garantias, direitos e d...</td>\n      <td>Esta Lei estabelece princípios, garantias, dir...</td>\n      <td>disciplina uso internet brasil tem como funda...</td>\n      <td>NaN</td>\n      <td>0</td>\n      <td>0.0</td>\n      <td>6698</td>\n      <td>0.01911</td>\n      <td>0</td>\n      <td>...</td>\n      <td>0.0</td>\n      <td>0.0</td>\n      <td>0.0</td>\n      <td>0.0</td>\n      <td>0.0</td>\n      <td>0.0</td>\n      <td>1.0</td>\n      <td>0.0</td>\n      <td>1.0</td>\n      <td>1.0</td>\n    </tr>\n    <tr>\n      <th>3</th>\n      <td>2</td>\n      <td>Estabelece princípios, garantias, direitos e d...</td>\n      <td>Esta Lei estabelece princípios, garantias, dir...</td>\n      <td>disciplina uso internet brasil tem seguintes ...</td>\n      <td>NaN</td>\n      <td>0</td>\n      <td>0.0</td>\n      <td>6698</td>\n      <td>0.01911</td>\n      <td>0</td>\n      <td>...</td>\n      <td>0.0</td>\n      <td>0.0</td>\n      <td>0.0</td>\n      <td>0.0</td>\n      <td>0.0</td>\n      <td>0.0</td>\n      <td>1.0</td>\n      <td>0.0</td>\n      <td>1.0</td>\n      <td>1.0</td>\n    </tr>\n    <tr>\n      <th>4</th>\n      <td>2</td>\n      <td>Estabelece princípios, garantias, direitos e d...</td>\n      <td>Esta Lei estabelece princípios, garantias, dir...</td>\n      <td>viii liberdade dos modelos negócios promovidos...</td>\n      <td>NaN</td>\n      <td>0</td>\n      <td>0.0</td>\n      <td>6698</td>\n      <td>0.01911</td>\n      <td>0</td>\n      <td>...</td>\n      <td>0.0</td>\n      <td>0.0</td>\n      <td>0.0</td>\n      <td>0.0</td>\n      <td>0.0</td>\n      <td>0.0</td>\n      <td>1.0</td>\n      <td>0.0</td>\n      <td>1.0</td>\n      <td>1.0</td>\n    </tr>\n  </tbody>\n</table>\n<p>5 rows × 94 columns</p>\n</div>"
     },
     "metadata": {},
     "output_type": "display_data"
    },
    {
     "data": {
      "text/plain": "      original_id                                       ementa  \\\n3378          245  Aprova a Consolidação das Leis do Trabalho.   \n3379          245  Aprova a Consolidação das Leis do Trabalho.   \n3380          246         Institui o Código de Processo Civil.   \n3381          247                     Institui o Código Civil.   \n3382          247                     Institui o Código Civil.   \n\n                                               artigo_1 ocorrencia  \\\n3378  Fica aprovada a Consolidação das Leis do Traba...        NaN   \n3379  Fica aprovada a Consolidação das Leis do Traba...        NaN   \n3380  A jurisdição civil, contenciosa e voluntária, ...        NaN   \n3381  Toda pessoa é capaz de direitos e deveres na o...        NaN   \n3382  Toda pessoa é capaz de direitos e deveres na o...        NaN   \n\n                                    ocorrencia_revogada  table_found  \\\n3378   valor multa será reduzido trinta por cento in...            0   \n3379   valor multa será reduzido cinquenta por cento...            0   \n3380                                                NaN            0   \n3381   pessoas jurídicas direito privado sem prejuíz...            0   \n3382   pessoas jurídicas direito privado sem prejuíz...            0   \n\n      outro_assunto  n_palavras  freq_assunto  artigo_1_revogado  ...  \\\n3378            1.0      217821       0.00057                  0  ...   \n3379            1.0      217821       0.00057                  0  ...   \n3380            1.0         281       0.00000                  1  ...   \n3381            1.0        4026       0.00050                  0  ...   \n3382            1.0        4026       0.00050                  0  ...   \n\n      ramo_sociologico_saúde  ramo_sociologico_trabalho  \\\n3378                     NaN                        NaN   \n3379                     NaN                        NaN   \n3380                     NaN                        NaN   \n3381                     NaN                        NaN   \n3382                     NaN                        NaN   \n\n      ramo_sociologico_ética  ramo_sociologico_rural  \\\n3378                     NaN                     NaN   \n3379                     NaN                     NaN   \n3380                     NaN                     NaN   \n3381                     NaN                     NaN   \n3382                     NaN                     NaN   \n\n      ramo_sociologico_cultura  ramo_sociologico_esporte  \\\n3378                       NaN                       NaN   \n3379                       NaN                       NaN   \n3380                       NaN                       NaN   \n3381                       NaN                       NaN   \n3382                       NaN                       NaN   \n\n      imposicao_reconhecimento_reconhece  imposicao_reconhecimento_impõe  \\\n3378                                 NaN                             NaN   \n3379                                 NaN                             NaN   \n3380                                 NaN                             NaN   \n3381                                 NaN                             NaN   \n3382                                 NaN                             NaN   \n\n      ferramenta_ambiente_ambiente  ferramenta_ambiente_ferramenta  \n3378                           NaN                             NaN  \n3379                           NaN                             NaN  \n3380                           NaN                             NaN  \n3381                           NaN                             NaN  \n3382                           NaN                             NaN  \n\n[5 rows x 94 columns]",
      "text/html": "<div>\n<style scoped>\n    .dataframe tbody tr th:only-of-type {\n        vertical-align: middle;\n    }\n\n    .dataframe tbody tr th {\n        vertical-align: top;\n    }\n\n    .dataframe thead th {\n        text-align: right;\n    }\n</style>\n<table border=\"1\" class=\"dataframe\">\n  <thead>\n    <tr style=\"text-align: right;\">\n      <th></th>\n      <th>original_id</th>\n      <th>ementa</th>\n      <th>artigo_1</th>\n      <th>ocorrencia</th>\n      <th>ocorrencia_revogada</th>\n      <th>table_found</th>\n      <th>outro_assunto</th>\n      <th>n_palavras</th>\n      <th>freq_assunto</th>\n      <th>artigo_1_revogado</th>\n      <th>...</th>\n      <th>ramo_sociologico_saúde</th>\n      <th>ramo_sociologico_trabalho</th>\n      <th>ramo_sociologico_ética</th>\n      <th>ramo_sociologico_rural</th>\n      <th>ramo_sociologico_cultura</th>\n      <th>ramo_sociologico_esporte</th>\n      <th>imposicao_reconhecimento_reconhece</th>\n      <th>imposicao_reconhecimento_impõe</th>\n      <th>ferramenta_ambiente_ambiente</th>\n      <th>ferramenta_ambiente_ferramenta</th>\n    </tr>\n  </thead>\n  <tbody>\n    <tr>\n      <th>3378</th>\n      <td>245</td>\n      <td>Aprova a Consolidação das Leis do Trabalho.</td>\n      <td>Fica aprovada a Consolidação das Leis do Traba...</td>\n      <td>NaN</td>\n      <td>valor multa será reduzido trinta por cento in...</td>\n      <td>0</td>\n      <td>1.0</td>\n      <td>217821</td>\n      <td>0.00057</td>\n      <td>0</td>\n      <td>...</td>\n      <td>NaN</td>\n      <td>NaN</td>\n      <td>NaN</td>\n      <td>NaN</td>\n      <td>NaN</td>\n      <td>NaN</td>\n      <td>NaN</td>\n      <td>NaN</td>\n      <td>NaN</td>\n      <td>NaN</td>\n    </tr>\n    <tr>\n      <th>3379</th>\n      <td>245</td>\n      <td>Aprova a Consolidação das Leis do Trabalho.</td>\n      <td>Fica aprovada a Consolidação das Leis do Traba...</td>\n      <td>NaN</td>\n      <td>valor multa será reduzido cinquenta por cento...</td>\n      <td>0</td>\n      <td>1.0</td>\n      <td>217821</td>\n      <td>0.00057</td>\n      <td>0</td>\n      <td>...</td>\n      <td>NaN</td>\n      <td>NaN</td>\n      <td>NaN</td>\n      <td>NaN</td>\n      <td>NaN</td>\n      <td>NaN</td>\n      <td>NaN</td>\n      <td>NaN</td>\n      <td>NaN</td>\n      <td>NaN</td>\n    </tr>\n    <tr>\n      <th>3380</th>\n      <td>246</td>\n      <td>Institui o Código de Processo Civil.</td>\n      <td>A jurisdição civil, contenciosa e voluntária, ...</td>\n      <td>NaN</td>\n      <td>NaN</td>\n      <td>0</td>\n      <td>1.0</td>\n      <td>281</td>\n      <td>0.00000</td>\n      <td>1</td>\n      <td>...</td>\n      <td>NaN</td>\n      <td>NaN</td>\n      <td>NaN</td>\n      <td>NaN</td>\n      <td>NaN</td>\n      <td>NaN</td>\n      <td>NaN</td>\n      <td>NaN</td>\n      <td>NaN</td>\n      <td>NaN</td>\n    </tr>\n    <tr>\n      <th>3381</th>\n      <td>247</td>\n      <td>Institui o Código Civil.</td>\n      <td>Toda pessoa é capaz de direitos e deveres na o...</td>\n      <td>NaN</td>\n      <td>pessoas jurídicas direito privado sem prejuíz...</td>\n      <td>0</td>\n      <td>1.0</td>\n      <td>4026</td>\n      <td>0.00050</td>\n      <td>0</td>\n      <td>...</td>\n      <td>NaN</td>\n      <td>NaN</td>\n      <td>NaN</td>\n      <td>NaN</td>\n      <td>NaN</td>\n      <td>NaN</td>\n      <td>NaN</td>\n      <td>NaN</td>\n      <td>NaN</td>\n      <td>NaN</td>\n    </tr>\n    <tr>\n      <th>3382</th>\n      <td>247</td>\n      <td>Institui o Código Civil.</td>\n      <td>Toda pessoa é capaz de direitos e deveres na o...</td>\n      <td>NaN</td>\n      <td>pessoas jurídicas direito privado sem prejuíz...</td>\n      <td>0</td>\n      <td>1.0</td>\n      <td>4026</td>\n      <td>0.00050</td>\n      <td>0</td>\n      <td>...</td>\n      <td>NaN</td>\n      <td>NaN</td>\n      <td>NaN</td>\n      <td>NaN</td>\n      <td>NaN</td>\n      <td>NaN</td>\n      <td>NaN</td>\n      <td>NaN</td>\n      <td>NaN</td>\n      <td>NaN</td>\n    </tr>\n  </tbody>\n</table>\n<p>5 rows × 94 columns</p>\n</div>"
     },
     "metadata": {},
     "output_type": "display_data"
    }
   ],
   "source": [
    "# Select columns after the #12 column and check if all values are NaN\n",
    "is_all_nan = df.iloc[:, 13:].isna().all(axis=1)\n",
    "display(is_all_nan.head())\n",
    "display(is_all_nan.tail())\n",
    "\n",
    "\n",
    "# Replace NaN values with 0 in rows where not all values are NaN\n",
    "df.loc[~is_all_nan, df.columns[13:]] = df.loc[~is_all_nan, df.columns[13:]].fillna(0)\n",
    "display(df.head())\n",
    "display(df.tail())\n",
    "\n",
    "del is_all_nan"
   ],
   "metadata": {
    "collapsed": false,
    "ExecuteTime": {
     "end_time": "2023-07-28T05:17:05.749455461Z",
     "start_time": "2023-07-28T05:17:05.675163418Z"
    }
   }
  },
  {
   "cell_type": "code",
   "execution_count": 186,
   "outputs": [
    {
     "name": "stdout",
     "output_type": "stream",
     "text": [
      "<class 'pandas.core.frame.DataFrame'>\n",
      "RangeIndex: 3383 entries, 0 to 3382\n",
      "Data columns (total 94 columns):\n",
      " #   Column                                       Non-Null Count  Dtype  \n",
      "---  ------                                       --------------  -----  \n",
      " 0   original_id                                  3383 non-null   int64  \n",
      " 1   ementa                                       3383 non-null   object \n",
      " 2   artigo_1                                     3383 non-null   object \n",
      " 3   ocorrencia                                   3095 non-null   object \n",
      " 4   ocorrencia_revogada                          276 non-null    object \n",
      " 5   table_found                                  3383 non-null   int64  \n",
      " 6   outro_assunto                                3383 non-null   float64\n",
      " 7   n_palavras                                   3383 non-null   int64  \n",
      " 8   freq_assunto                                 3383 non-null   float64\n",
      " 9   artigo_1_revogado                            3383 non-null   int64  \n",
      " 10  internacional                                3383 non-null   float64\n",
      " 11  f                                            3383 non-null   float64\n",
      " 12  fx                                           3383 non-null   float64\n",
      " 13  dimensao_normativa                           1035 non-null   float64\n",
      " 14  dimensao_ontológica                          1035 non-null   float64\n",
      " 15  benevolencia_ameaça                          1035 non-null   float64\n",
      " 16  benevolencia_benefício                       1035 non-null   float64\n",
      " 17  benevolencia_neutra                          1035 non-null   float64\n",
      " 18  funcao_social_segurança                      1035 non-null   float64\n",
      " 19  funcao_social_segurança sexual               1035 non-null   float64\n",
      " 20  funcao_social_ECA                            1035 non-null   float64\n",
      " 21  funcao_social_valoração                      1035 non-null   float64\n",
      " 22  funcao_social_inclusão                       1035 non-null   float64\n",
      " 23  funcao_social_consumo                        1035 non-null   float64\n",
      " 24  funcao_social_cultura                        1035 non-null   float64\n",
      " 25  funcao_social_democracia                     1035 non-null   float64\n",
      " 26  funcao_social_transparência                  1035 non-null   float64\n",
      " 27  funcao_social_nacionalismo                   1035 non-null   float64\n",
      " 28  funcao_social_educação                       1035 non-null   float64\n",
      " 29  funcao_social_burocrática                    1035 non-null   float64\n",
      " 30  funcao_social_indivíduo                      1035 non-null   float64\n",
      " 31  funcao_social_propriedade                    1035 non-null   float64\n",
      " 32  funcao_social_privacidade                    1035 non-null   float64\n",
      " 33  funcao_social_controle                       1035 non-null   float64\n",
      " 34  funcao_social_saúde                          1035 non-null   float64\n",
      " 35  funcao_social_comunicação                    1035 non-null   float64\n",
      " 36  funcao_social_organização comunitária        1035 non-null   float64\n",
      " 37  funcao_social_direitos trabalhistas          1035 non-null   float64\n",
      " 38  funcao_social_integridade                    1035 non-null   float64\n",
      " 39  funcao_social_comercial                      1035 non-null   float64\n",
      " 40  funcao_social_mediação                       1035 non-null   float64\n",
      " 41  funcao_social_burocrático                    1035 non-null   float64\n",
      " 42  funcao_social_fiscal                         1035 non-null   float64\n",
      " 43  funcao_social_esporte                        1035 non-null   float64\n",
      " 44  funcao_social_meio ambiente                  1035 non-null   float64\n",
      " 45  funcao_social_ciência                        1035 non-null   float64\n",
      " 46  funcao_social_assunto_ECA                    1035 non-null   float64\n",
      " 47  funcao_social_assunto_transparência          1035 non-null   float64\n",
      " 48  funcao_social_assunto_segurança              1035 non-null   float64\n",
      " 49  funcao_social_assunto_segurança sexual       1035 non-null   float64\n",
      " 50  funcao_social_assunto_democracia             1035 non-null   float64\n",
      " 51  funcao_social_assunto_tributação             1035 non-null   float64\n",
      " 52  funcao_social_assunto_direitos trabalhistas  1035 non-null   float64\n",
      " 53  funcao_social_assunto_salário                1035 non-null   float64\n",
      " 54  funcao_social_assunto_comercial              1035 non-null   float64\n",
      " 55  funcao_social_assunto_burocrática            1035 non-null   float64\n",
      " 56  funcao_social_assunto_mediação               1035 non-null   float64\n",
      " 57  funcao_social_assunto_inclusão               1035 non-null   float64\n",
      " 58  funcao_social_assunto_tansparência           1035 non-null   float64\n",
      " 59  funcao_social_assunto_esporte                1035 non-null   float64\n",
      " 60  funcao_social_assunto_fiscal                 1035 non-null   float64\n",
      " 61  ramo_dogmatico_penal                         1035 non-null   float64\n",
      " 62  ramo_dogmatico_civil                         1035 non-null   float64\n",
      " 63  ramo_dogmatico_eleitoral                     1035 non-null   float64\n",
      " 64  ramo_dogmatico_administrativo                1035 non-null   float64\n",
      " 65  ramo_dogmatico_processual                    1035 non-null   float64\n",
      " 66  ramo_dogmatico_trabalhista                   1035 non-null   float64\n",
      " 67  ramo_dogmatico_orçamentário                  1035 non-null   float64\n",
      " 68  ramo_dogmatico_tributário                    1035 non-null   float64\n",
      " 69  ramo_dogmatico_comercial                     1035 non-null   float64\n",
      " 70  ramo_sociologico_violência                   1035 non-null   float64\n",
      " 71  ramo_sociologico_violência sexual            1035 non-null   float64\n",
      " 72  ramo_sociologico_infância                    1035 non-null   float64\n",
      " 73  ramo_sociologico_comunicação                 1035 non-null   float64\n",
      " 74  ramo_sociologico_econômico                   1035 non-null   float64\n",
      " 75  ramo_sociologico_político                    1035 non-null   float64\n",
      " 76  ramo_sociologico_nacional                    1035 non-null   float64\n",
      " 77  ramo_sociologico_burocrático                 1035 non-null   float64\n",
      " 78  ramo_sociologico_educacional                 1035 non-null   float64\n",
      " 79  ramo_sociologico_individualização            1035 non-null   float64\n",
      " 80  ramo_sociologico_educação                    1035 non-null   float64\n",
      " 81  ramo_sociologico_criminal                    1035 non-null   float64\n",
      " 82  ramo_sociologico_segurança                   1035 non-null   float64\n",
      " 83  ramo_sociologico_ciminal                     1035 non-null   float64\n",
      " 84  ramo_sociologico_saúde                       1035 non-null   float64\n",
      " 85  ramo_sociologico_trabalho                    1035 non-null   float64\n",
      " 86  ramo_sociologico_ética                       1035 non-null   float64\n",
      " 87  ramo_sociologico_rural                       1035 non-null   float64\n",
      " 88  ramo_sociologico_cultura                     1035 non-null   float64\n",
      " 89  ramo_sociologico_esporte                     1035 non-null   float64\n",
      " 90  imposicao_reconhecimento_reconhece           1035 non-null   float64\n",
      " 91  imposicao_reconhecimento_impõe               1035 non-null   float64\n",
      " 92  ferramenta_ambiente_ambiente                 1035 non-null   float64\n",
      " 93  ferramenta_ambiente_ferramenta               1035 non-null   float64\n",
      "dtypes: float64(86), int64(4), object(4)\n",
      "memory usage: 2.4+ MB\n"
     ]
    }
   ],
   "source": [
    "df.info()"
   ],
   "metadata": {
    "collapsed": false,
    "ExecuteTime": {
     "end_time": "2023-07-28T05:17:05.805379339Z",
     "start_time": "2023-07-28T05:17:05.742257145Z"
    }
   }
  },
  {
   "cell_type": "code",
   "execution_count": 187,
   "outputs": [
    {
     "data": {
      "text/plain": "   original_id                                             ementa  \\\n0            1  Altera o Título VI da Parte Especial do Decret...   \n1            2  Estabelece princípios, garantias, direitos e d...   \n2            2  Estabelece princípios, garantias, direitos e d...   \n3            2  Estabelece princípios, garantias, direitos e d...   \n4            2  Estabelece princípios, garantias, direitos e d...   \n\n                                            artigo_1  \\\n0  Esta Lei altera o Título VI da Parte Especial ...   \n1  Esta Lei estabelece princípios, garantias, dir...   \n2  Esta Lei estabelece princípios, garantias, dir...   \n3  Esta Lei estabelece princípios, garantias, dir...   \n4  Esta Lei estabelece princípios, garantias, dir...   \n\n                                          ocorrencia ocorrencia_revogada  \\\n0   _o_ incorre nas penas previstas caput deste a...                 NaN   \n1   esta lei estabelece princípios garantias dire...                 NaN   \n2   disciplina uso internet brasil tem como funda...                 NaN   \n3   disciplina uso internet brasil tem seguintes ...                 NaN   \n4  viii liberdade dos modelos negócios promovidos...                 NaN   \n\n   table_found  outro_assunto  n_palavras  freq_assunto  artigo_1_revogado  \\\n0            0            1.0        1799       0.00111                  0   \n1            0            0.0        6698       0.01911                  0   \n2            0            0.0        6698       0.01911                  0   \n3            0            0.0        6698       0.01911                  0   \n4            0            0.0        6698       0.01911                  0   \n\n   ...  ramo_sociologico_saúde  ramo_sociologico_trabalho  \\\n0  ...                     0.0                        0.0   \n1  ...                     0.0                        0.0   \n2  ...                     0.0                        0.0   \n3  ...                     0.0                        0.0   \n4  ...                     0.0                        0.0   \n\n   ramo_sociologico_ética  ramo_sociologico_rural  ramo_sociologico_cultura  \\\n0                     0.0                     0.0                       0.0   \n1                     0.0                     0.0                       0.0   \n2                     0.0                     0.0                       0.0   \n3                     0.0                     0.0                       0.0   \n4                     0.0                     0.0                       0.0   \n\n   ramo_sociologico_esporte  imposicao_reconhecimento_reconhece  \\\n0                       0.0                                 1.0   \n1                       0.0                                 1.0   \n2                       0.0                                 1.0   \n3                       0.0                                 1.0   \n4                       0.0                                 1.0   \n\n   imposicao_reconhecimento_impõe  ferramenta_ambiente_ambiente  \\\n0                             0.0                           1.0   \n1                             0.0                           1.0   \n2                             0.0                           1.0   \n3                             0.0                           1.0   \n4                             0.0                           1.0   \n\n   ferramenta_ambiente_ferramenta  \n0                             0.0  \n1                             1.0  \n2                             1.0  \n3                             1.0  \n4                             1.0  \n\n[5 rows x 94 columns]",
      "text/html": "<div>\n<style scoped>\n    .dataframe tbody tr th:only-of-type {\n        vertical-align: middle;\n    }\n\n    .dataframe tbody tr th {\n        vertical-align: top;\n    }\n\n    .dataframe thead th {\n        text-align: right;\n    }\n</style>\n<table border=\"1\" class=\"dataframe\">\n  <thead>\n    <tr style=\"text-align: right;\">\n      <th></th>\n      <th>original_id</th>\n      <th>ementa</th>\n      <th>artigo_1</th>\n      <th>ocorrencia</th>\n      <th>ocorrencia_revogada</th>\n      <th>table_found</th>\n      <th>outro_assunto</th>\n      <th>n_palavras</th>\n      <th>freq_assunto</th>\n      <th>artigo_1_revogado</th>\n      <th>...</th>\n      <th>ramo_sociologico_saúde</th>\n      <th>ramo_sociologico_trabalho</th>\n      <th>ramo_sociologico_ética</th>\n      <th>ramo_sociologico_rural</th>\n      <th>ramo_sociologico_cultura</th>\n      <th>ramo_sociologico_esporte</th>\n      <th>imposicao_reconhecimento_reconhece</th>\n      <th>imposicao_reconhecimento_impõe</th>\n      <th>ferramenta_ambiente_ambiente</th>\n      <th>ferramenta_ambiente_ferramenta</th>\n    </tr>\n  </thead>\n  <tbody>\n    <tr>\n      <th>0</th>\n      <td>1</td>\n      <td>Altera o Título VI da Parte Especial do Decret...</td>\n      <td>Esta Lei altera o Título VI da Parte Especial ...</td>\n      <td>_o_ incorre nas penas previstas caput deste a...</td>\n      <td>NaN</td>\n      <td>0</td>\n      <td>1.0</td>\n      <td>1799</td>\n      <td>0.00111</td>\n      <td>0</td>\n      <td>...</td>\n      <td>0.0</td>\n      <td>0.0</td>\n      <td>0.0</td>\n      <td>0.0</td>\n      <td>0.0</td>\n      <td>0.0</td>\n      <td>1.0</td>\n      <td>0.0</td>\n      <td>1.0</td>\n      <td>0.0</td>\n    </tr>\n    <tr>\n      <th>1</th>\n      <td>2</td>\n      <td>Estabelece princípios, garantias, direitos e d...</td>\n      <td>Esta Lei estabelece princípios, garantias, dir...</td>\n      <td>esta lei estabelece princípios garantias dire...</td>\n      <td>NaN</td>\n      <td>0</td>\n      <td>0.0</td>\n      <td>6698</td>\n      <td>0.01911</td>\n      <td>0</td>\n      <td>...</td>\n      <td>0.0</td>\n      <td>0.0</td>\n      <td>0.0</td>\n      <td>0.0</td>\n      <td>0.0</td>\n      <td>0.0</td>\n      <td>1.0</td>\n      <td>0.0</td>\n      <td>1.0</td>\n      <td>1.0</td>\n    </tr>\n    <tr>\n      <th>2</th>\n      <td>2</td>\n      <td>Estabelece princípios, garantias, direitos e d...</td>\n      <td>Esta Lei estabelece princípios, garantias, dir...</td>\n      <td>disciplina uso internet brasil tem como funda...</td>\n      <td>NaN</td>\n      <td>0</td>\n      <td>0.0</td>\n      <td>6698</td>\n      <td>0.01911</td>\n      <td>0</td>\n      <td>...</td>\n      <td>0.0</td>\n      <td>0.0</td>\n      <td>0.0</td>\n      <td>0.0</td>\n      <td>0.0</td>\n      <td>0.0</td>\n      <td>1.0</td>\n      <td>0.0</td>\n      <td>1.0</td>\n      <td>1.0</td>\n    </tr>\n    <tr>\n      <th>3</th>\n      <td>2</td>\n      <td>Estabelece princípios, garantias, direitos e d...</td>\n      <td>Esta Lei estabelece princípios, garantias, dir...</td>\n      <td>disciplina uso internet brasil tem seguintes ...</td>\n      <td>NaN</td>\n      <td>0</td>\n      <td>0.0</td>\n      <td>6698</td>\n      <td>0.01911</td>\n      <td>0</td>\n      <td>...</td>\n      <td>0.0</td>\n      <td>0.0</td>\n      <td>0.0</td>\n      <td>0.0</td>\n      <td>0.0</td>\n      <td>0.0</td>\n      <td>1.0</td>\n      <td>0.0</td>\n      <td>1.0</td>\n      <td>1.0</td>\n    </tr>\n    <tr>\n      <th>4</th>\n      <td>2</td>\n      <td>Estabelece princípios, garantias, direitos e d...</td>\n      <td>Esta Lei estabelece princípios, garantias, dir...</td>\n      <td>viii liberdade dos modelos negócios promovidos...</td>\n      <td>NaN</td>\n      <td>0</td>\n      <td>0.0</td>\n      <td>6698</td>\n      <td>0.01911</td>\n      <td>0</td>\n      <td>...</td>\n      <td>0.0</td>\n      <td>0.0</td>\n      <td>0.0</td>\n      <td>0.0</td>\n      <td>0.0</td>\n      <td>0.0</td>\n      <td>1.0</td>\n      <td>0.0</td>\n      <td>1.0</td>\n      <td>1.0</td>\n    </tr>\n  </tbody>\n</table>\n<p>5 rows × 94 columns</p>\n</div>"
     },
     "execution_count": 187,
     "metadata": {},
     "output_type": "execute_result"
    }
   ],
   "source": [
    "df.head()"
   ],
   "metadata": {
    "collapsed": false,
    "ExecuteTime": {
     "end_time": "2023-07-28T05:17:05.969868746Z",
     "start_time": "2023-07-28T05:17:05.777623811Z"
    }
   }
  },
  {
   "cell_type": "code",
   "execution_count": 188,
   "outputs": [
    {
     "name": "stdout",
     "output_type": "stream",
     "text": [
      "<class 'pandas.core.frame.DataFrame'>\n",
      "Int64Index: 1035 entries, 0 to 2916\n",
      "Data columns (total 94 columns):\n",
      " #   Column                                       Non-Null Count  Dtype  \n",
      "---  ------                                       --------------  -----  \n",
      " 0   original_id                                  1035 non-null   int64  \n",
      " 1   ementa                                       1035 non-null   object \n",
      " 2   artigo_1                                     1035 non-null   object \n",
      " 3   ocorrencia                                   962 non-null    object \n",
      " 4   ocorrencia_revogada                          68 non-null     object \n",
      " 5   table_found                                  1035 non-null   int64  \n",
      " 6   outro_assunto                                1035 non-null   float64\n",
      " 7   n_palavras                                   1035 non-null   int64  \n",
      " 8   freq_assunto                                 1035 non-null   float64\n",
      " 9   artigo_1_revogado                            1035 non-null   int64  \n",
      " 10  internacional                                1035 non-null   float64\n",
      " 11  f                                            1035 non-null   float64\n",
      " 12  fx                                           1035 non-null   float64\n",
      " 13  dimensao_normativa                           1035 non-null   float64\n",
      " 14  dimensao_ontológica                          1035 non-null   float64\n",
      " 15  benevolencia_ameaça                          1035 non-null   float64\n",
      " 16  benevolencia_benefício                       1035 non-null   float64\n",
      " 17  benevolencia_neutra                          1035 non-null   float64\n",
      " 18  funcao_social_segurança                      1035 non-null   float64\n",
      " 19  funcao_social_segurança sexual               1035 non-null   float64\n",
      " 20  funcao_social_ECA                            1035 non-null   float64\n",
      " 21  funcao_social_valoração                      1035 non-null   float64\n",
      " 22  funcao_social_inclusão                       1035 non-null   float64\n",
      " 23  funcao_social_consumo                        1035 non-null   float64\n",
      " 24  funcao_social_cultura                        1035 non-null   float64\n",
      " 25  funcao_social_democracia                     1035 non-null   float64\n",
      " 26  funcao_social_transparência                  1035 non-null   float64\n",
      " 27  funcao_social_nacionalismo                   1035 non-null   float64\n",
      " 28  funcao_social_educação                       1035 non-null   float64\n",
      " 29  funcao_social_burocrática                    1035 non-null   float64\n",
      " 30  funcao_social_indivíduo                      1035 non-null   float64\n",
      " 31  funcao_social_propriedade                    1035 non-null   float64\n",
      " 32  funcao_social_privacidade                    1035 non-null   float64\n",
      " 33  funcao_social_controle                       1035 non-null   float64\n",
      " 34  funcao_social_saúde                          1035 non-null   float64\n",
      " 35  funcao_social_comunicação                    1035 non-null   float64\n",
      " 36  funcao_social_organização comunitária        1035 non-null   float64\n",
      " 37  funcao_social_direitos trabalhistas          1035 non-null   float64\n",
      " 38  funcao_social_integridade                    1035 non-null   float64\n",
      " 39  funcao_social_comercial                      1035 non-null   float64\n",
      " 40  funcao_social_mediação                       1035 non-null   float64\n",
      " 41  funcao_social_burocrático                    1035 non-null   float64\n",
      " 42  funcao_social_fiscal                         1035 non-null   float64\n",
      " 43  funcao_social_esporte                        1035 non-null   float64\n",
      " 44  funcao_social_meio ambiente                  1035 non-null   float64\n",
      " 45  funcao_social_ciência                        1035 non-null   float64\n",
      " 46  funcao_social_assunto_ECA                    1035 non-null   float64\n",
      " 47  funcao_social_assunto_transparência          1035 non-null   float64\n",
      " 48  funcao_social_assunto_segurança              1035 non-null   float64\n",
      " 49  funcao_social_assunto_segurança sexual       1035 non-null   float64\n",
      " 50  funcao_social_assunto_democracia             1035 non-null   float64\n",
      " 51  funcao_social_assunto_tributação             1035 non-null   float64\n",
      " 52  funcao_social_assunto_direitos trabalhistas  1035 non-null   float64\n",
      " 53  funcao_social_assunto_salário                1035 non-null   float64\n",
      " 54  funcao_social_assunto_comercial              1035 non-null   float64\n",
      " 55  funcao_social_assunto_burocrática            1035 non-null   float64\n",
      " 56  funcao_social_assunto_mediação               1035 non-null   float64\n",
      " 57  funcao_social_assunto_inclusão               1035 non-null   float64\n",
      " 58  funcao_social_assunto_tansparência           1035 non-null   float64\n",
      " 59  funcao_social_assunto_esporte                1035 non-null   float64\n",
      " 60  funcao_social_assunto_fiscal                 1035 non-null   float64\n",
      " 61  ramo_dogmatico_penal                         1035 non-null   float64\n",
      " 62  ramo_dogmatico_civil                         1035 non-null   float64\n",
      " 63  ramo_dogmatico_eleitoral                     1035 non-null   float64\n",
      " 64  ramo_dogmatico_administrativo                1035 non-null   float64\n",
      " 65  ramo_dogmatico_processual                    1035 non-null   float64\n",
      " 66  ramo_dogmatico_trabalhista                   1035 non-null   float64\n",
      " 67  ramo_dogmatico_orçamentário                  1035 non-null   float64\n",
      " 68  ramo_dogmatico_tributário                    1035 non-null   float64\n",
      " 69  ramo_dogmatico_comercial                     1035 non-null   float64\n",
      " 70  ramo_sociologico_violência                   1035 non-null   float64\n",
      " 71  ramo_sociologico_violência sexual            1035 non-null   float64\n",
      " 72  ramo_sociologico_infância                    1035 non-null   float64\n",
      " 73  ramo_sociologico_comunicação                 1035 non-null   float64\n",
      " 74  ramo_sociologico_econômico                   1035 non-null   float64\n",
      " 75  ramo_sociologico_político                    1035 non-null   float64\n",
      " 76  ramo_sociologico_nacional                    1035 non-null   float64\n",
      " 77  ramo_sociologico_burocrático                 1035 non-null   float64\n",
      " 78  ramo_sociologico_educacional                 1035 non-null   float64\n",
      " 79  ramo_sociologico_individualização            1035 non-null   float64\n",
      " 80  ramo_sociologico_educação                    1035 non-null   float64\n",
      " 81  ramo_sociologico_criminal                    1035 non-null   float64\n",
      " 82  ramo_sociologico_segurança                   1035 non-null   float64\n",
      " 83  ramo_sociologico_ciminal                     1035 non-null   float64\n",
      " 84  ramo_sociologico_saúde                       1035 non-null   float64\n",
      " 85  ramo_sociologico_trabalho                    1035 non-null   float64\n",
      " 86  ramo_sociologico_ética                       1035 non-null   float64\n",
      " 87  ramo_sociologico_rural                       1035 non-null   float64\n",
      " 88  ramo_sociologico_cultura                     1035 non-null   float64\n",
      " 89  ramo_sociologico_esporte                     1035 non-null   float64\n",
      " 90  imposicao_reconhecimento_reconhece           1035 non-null   float64\n",
      " 91  imposicao_reconhecimento_impõe               1035 non-null   float64\n",
      " 92  ferramenta_ambiente_ambiente                 1035 non-null   float64\n",
      " 93  ferramenta_ambiente_ferramenta               1035 non-null   float64\n",
      "dtypes: float64(86), int64(4), object(4)\n",
      "memory usage: 768.2+ KB\n"
     ]
    }
   ],
   "source": [
    "df_all = df.copy()\n",
    "\n",
    "# keep only the rows for which the column #13 is not NaN\n",
    "df = df[~df.iloc[:, 13].isna()]\n",
    "df.info()"
   ],
   "metadata": {
    "collapsed": false,
    "ExecuteTime": {
     "end_time": "2023-07-28T05:17:05.970254072Z",
     "start_time": "2023-07-28T05:17:05.818100365Z"
    }
   }
  },
  {
   "cell_type": "markdown",
   "source": [
    "# Very proud of it\n",
    "## Data treated to a wide extent\n",
    "##### until now most things in this model are repeatable for many other sociological researches on the Brazilian Law\n",
    "with a few tweaks here and there because categories would change"
   ],
   "metadata": {
    "collapsed": false
   }
  },
  {
   "cell_type": "code",
   "execution_count": 189,
   "outputs": [],
   "source": [
    "# normalizethe column 'n_palavras' in the following way df_norm = (df - df.min()) / (df.max() - df.min())\n",
    "df['n_palavras'] = (df['n_palavras'] - df['n_palavras'].min()) / (df['n_palavras'].max() - df['n_palavras'].min())"
   ],
   "metadata": {
    "collapsed": false,
    "ExecuteTime": {
     "end_time": "2023-07-28T05:17:05.970449311Z",
     "start_time": "2023-07-28T05:17:05.818412147Z"
    }
   }
  },
  {
   "cell_type": "code",
   "execution_count": 190,
   "outputs": [
    {
     "data": {
      "text/plain": "0       0.040043\n1       0.161284\n2       0.161284\n3       0.161284\n4       0.161284\n          ...   \n2912    0.995966\n2913    0.995966\n2914    0.995966\n2915    0.995966\n2916    0.995966\nName: n_palavras, Length: 1035, dtype: float64"
     },
     "metadata": {},
     "output_type": "display_data"
    }
   ],
   "source": [
    "display(df.n_palavras)"
   ],
   "metadata": {
    "collapsed": false,
    "ExecuteTime": {
     "end_time": "2023-07-28T05:17:05.970717309Z",
     "start_time": "2023-07-28T05:17:05.818540897Z"
    }
   }
  },
  {
   "cell_type": "markdown",
   "source": [
    "# GPU TIME!"
   ],
   "metadata": {
    "collapsed": false
   }
  },
  {
   "cell_type": "code",
   "execution_count": 191,
   "outputs": [
    {
     "name": "stdout",
     "output_type": "stream",
     "text": [
      "There are 1 GPU(s) available.\n",
      "Device name: NVIDIA GeForce GTX 1050 Ti\n"
     ]
    }
   ],
   "source": [
    "# check if GPU is available\n",
    "if torch.cuda.is_available():\n",
    "    device = torch.device(\"cuda\")\n",
    "    print(f'There are {torch.cuda.device_count()} GPU(s) available.')\n",
    "    print('Device name:', torch.cuda.get_device_name(0))\n",
    "\n",
    "else:\n",
    "    print('No GPU available, using the CPU instead.')\n",
    "    device = torch.device(\"cpu\")\n"
   ],
   "metadata": {
    "collapsed": false,
    "ExecuteTime": {
     "end_time": "2023-07-28T05:17:05.970997901Z",
     "start_time": "2023-07-28T05:17:05.818648438Z"
    }
   }
  },
  {
   "cell_type": "code",
   "execution_count": 192,
   "outputs": [
    {
     "data": {
      "text/plain": "'\\n# normalize textual columns #1 to #4 with transformers from huggingface\\ntokenizer = AutoTokenizer.from_pretrained(\"neuralmind/bert-base-portuguese-cased\")\\nmodel_quali_old = AutoModelForSequenceClassification.from_pretrained(\"neuralmind/bert-base-portuguese-cased\", num_labels=81)\\n\\n# Define the optimizer\\noptimizer = AdamW(model_quali_old.parameters(), lr=1e-5)\\n\\nmodel_quali_old.train()  # Set the model to training mode\\n\\nfor row in df.itertuples():\\n    # concatenate the text\\n    # row.ocorrencia and row.ocorrencia_revogada are exclusive, text fragment \"revogada-ou-alterada\" will be present if ocorrencia_revogada is not NaN and \"vigente\" will be present if ocorrencia is not NaN\\n    if row.ocorrencia_revogada is not np.nan:\\n        text1 = f\"{preprocess_text(row.ementa)} {preprocess_text(row.artigo_1)}\"\\n        text2 = f\"R: {row.ocorrencia_revogada}\"\\n    else:\\n        text1 = f\"{preprocess_text(row.ementa)} {preprocess_text(row.artigo_1)}\"\\n        text2 = f\"V: {row.ocorrencia}\"\\n\\n    # tokenize the text\\n    tokens1 = tokenizer(text1, padding=True, truncation=True, max_length=196, return_tensors=\"pt\")\\n    tokens2 = tokenizer(text2, padding=True, truncation=True, max_length=316, return_tensors=\"pt\")\\n    tokens = {**tokens1, **tokens2}\\n\\n    # get the model\\'s labels\\n    labels = torch.tensor(list(row)[14:]).float()  # ensure it\\'s float\\n\\n    # Forward pass\\n    outputs = model_quali_old(**tokens)\\n\\n    # get the logits\\n    logits = outputs.logits\\n\\n    # Compute loss\\n    criterion = BCEWithLogitsLoss()\\n    loss = criterion(logits, labels.unsqueeze(0))  # add an extra dimension to labels to match logits\\' shape\\n\\n    # Backward pass\\n    loss.backward()\\n\\n    # Update weights\\n    optimizer.step()\\n\\n    # Clear gradients\\n    optimizer.zero_grad()\\n\\n#'"
     },
     "execution_count": 192,
     "metadata": {},
     "output_type": "execute_result"
    }
   ],
   "source": [
    "'''\n",
    "# normalize textual columns #1 to #4 with transformers from huggingface\n",
    "tokenizer = AutoTokenizer.from_pretrained(\"neuralmind/bert-base-portuguese-cased\")\n",
    "model_quali_old = AutoModelForSequenceClassification.from_pretrained(\"neuralmind/bert-base-portuguese-cased\", num_labels=81)\n",
    "\n",
    "# Define the optimizer\n",
    "optimizer = AdamW(model_quali_old.parameters(), lr=1e-5)\n",
    "\n",
    "model_quali_old.train()  # Set the model to training mode\n",
    "\n",
    "for row in df.itertuples():\n",
    "    # concatenate the text\n",
    "    # row.ocorrencia and row.ocorrencia_revogada are exclusive, text fragment \"revogada-ou-alterada\" will be present if ocorrencia_revogada is not NaN and \"vigente\" will be present if ocorrencia is not NaN\n",
    "    if row.ocorrencia_revogada is not np.nan:\n",
    "        text1 = f\"{preprocess_text(row.ementa)} {preprocess_text(row.artigo_1)}\"\n",
    "        text2 = f\"R: {row.ocorrencia_revogada}\"\n",
    "    else:\n",
    "        text1 = f\"{preprocess_text(row.ementa)} {preprocess_text(row.artigo_1)}\"\n",
    "        text2 = f\"V: {row.ocorrencia}\"\n",
    "\n",
    "    # tokenize the text\n",
    "    tokens1 = tokenizer(text1, padding=True, truncation=True, max_length=196, return_tensors=\"pt\")\n",
    "    tokens2 = tokenizer(text2, padding=True, truncation=True, max_length=316, return_tensors=\"pt\")\n",
    "    tokens = {**tokens1, **tokens2}\n",
    "\n",
    "    # get the model's labels\n",
    "    labels = torch.tensor(list(row)[14:]).float()  # ensure it's float\n",
    "\n",
    "    # Forward pass\n",
    "    outputs = model_quali_old(**tokens)\n",
    "\n",
    "    # get the logits\n",
    "    logits = outputs.logits\n",
    "\n",
    "    # Compute loss\n",
    "    criterion = BCEWithLogitsLoss()\n",
    "    loss = criterion(logits, labels.unsqueeze(0))  # add an extra dimension to labels to match logits' shape\n",
    "\n",
    "    # Backward pass\n",
    "    loss.backward()\n",
    "\n",
    "    # Update weights\n",
    "    optimizer.step()\n",
    "\n",
    "    # Clear gradients\n",
    "    optimizer.zero_grad()\n",
    "\n",
    "#'''"
   ],
   "metadata": {
    "collapsed": false,
    "ExecuteTime": {
     "end_time": "2023-07-28T05:17:05.971330418Z",
     "start_time": "2023-07-28T05:17:05.861462114Z"
    }
   }
  },
  {
   "cell_type": "raw",
   "source": [
    "Some weights of the model checkpoint at neuralmind/bert-base-portuguese-cased were not used when initializing BertForSequenceClassification: ['cls.seq_relationship.weight', 'cls.seq_relationship.bias', 'cls.predictions.decoder.weight', 'cls.predictions.bias', 'cls.predictions.transform.dense.weight', 'cls.predictions.transform.LayerNorm.bias', 'cls.predictions.transform.LayerNorm.weight', 'cls.predictions.transform.dense.bias']\n",
    "- This IS expected if you are initializing BertForSequenceClassification from the checkpoint of a model trained on another task or with another architecture (e.g. initializing a BertForSequenceClassification model from a BertForPreTraining model).\n",
    "- This IS NOT expected if you are initializing BertForSequenceClassification from the checkpoint of a model that you expect to be exactly identical (initializing a BertForSequenceClassification model from a BertForSequenceClassification model).\n",
    "Some weights of BertForSequenceClassification were not initialized from the model checkpoint at neuralmind/bert-base-portuguese-cased and are newly initialized: ['classifier.weight', 'classifier.bias']\n",
    "You should probably TRAIN this model on a down-stream task to be able to use it for predictions and inference.\n",
    "/home/keybot/.conda/envs/cenv-gpu/lib/python3.9/site-packages/transformers/optimization.py:391: FutureWarning: This implementation of AdamW is deprecated and will be removed in a future version. Use the PyTorch implementation torch.optim.AdamW instead, or set `no_deprecation_warning=True` to disable this warning\n",
    "  warnings.warn("
   ],
   "metadata": {
    "collapsed": false
   }
  },
  {
   "cell_type": "code",
   "execution_count": 193,
   "outputs": [],
   "source": [
    "# model_quali_old.save_pretrained(\"../../model_quali_old\")"
   ],
   "metadata": {
    "collapsed": false,
    "ExecuteTime": {
     "end_time": "2023-07-28T05:17:05.971443275Z",
     "start_time": "2023-07-28T05:17:05.861627135Z"
    }
   }
  },
  {
   "cell_type": "code",
   "execution_count": 194,
   "outputs": [],
   "source": [
    "# load the model\n",
    "# model_quali_old = AutoModelForSequenceClassification.from_pretrained(\"../../model_quali_old\", num_labels=81)"
   ],
   "metadata": {
    "collapsed": false,
    "ExecuteTime": {
     "end_time": "2023-07-28T05:17:05.971547629Z",
     "start_time": "2023-07-28T05:17:05.861707734Z"
    }
   }
  },
  {
   "cell_type": "markdown",
   "source": [
    "## Now with fine tuning and batch training"
   ],
   "metadata": {
    "collapsed": false
   }
  },
  {
   "cell_type": "code",
   "execution_count": 195,
   "outputs": [
    {
     "data": {
      "text/plain": "nan"
     },
     "execution_count": 195,
     "metadata": {},
     "output_type": "execute_result"
    }
   ],
   "source": [
    "df.iloc[:, 1:5].iloc[0][3]"
   ],
   "metadata": {
    "collapsed": false,
    "ExecuteTime": {
     "end_time": "2023-07-28T05:17:05.971778184Z",
     "start_time": "2023-07-28T05:17:05.861801838Z"
    }
   }
  },
  {
   "cell_type": "code",
   "execution_count": 196,
   "outputs": [],
   "source": [
    "# row = df.iloc[0][8]\n",
    "# display(row)\n",
    "# del row"
   ],
   "metadata": {
    "collapsed": false,
    "ExecuteTime": {
     "end_time": "2023-07-28T05:17:05.971889483Z",
     "start_time": "2023-07-28T05:17:05.861978190Z"
    }
   }
  },
  {
   "cell_type": "raw",
   "source": [
    "0.00111"
   ],
   "metadata": {
    "collapsed": false
   }
  },
  {
   "cell_type": "code",
   "execution_count": 197,
   "outputs": [],
   "source": [
    "# for row in df.itertuples():\n",
    "#     print(list(row)[9])\n",
    "#     break"
   ],
   "metadata": {
    "collapsed": false,
    "ExecuteTime": {
     "end_time": "2023-07-28T05:17:05.972012958Z",
     "start_time": "2023-07-28T05:17:05.862074236Z"
    }
   }
  },
  {
   "cell_type": "raw",
   "source": [
    "0.00111"
   ],
   "metadata": {
    "collapsed": false
   }
  },
  {
   "cell_type": "code",
   "execution_count": 198,
   "outputs": [],
   "source": [
    "# in itertuples there's an useless index in position 0, that makes it uses position 14 instead of 13"
   ],
   "metadata": {
    "collapsed": false,
    "ExecuteTime": {
     "end_time": "2023-07-28T05:17:05.972133266Z",
     "start_time": "2023-07-28T05:17:05.862170852Z"
    }
   }
  },
  {
   "cell_type": "code",
   "execution_count": 199,
   "outputs": [
    {
     "name": "stderr",
     "output_type": "stream",
     "text": [
      "Some weights of the model checkpoint at neuralmind/bert-base-portuguese-cased were not used when initializing BertForSequenceClassification: ['cls.predictions.transform.dense.bias', 'cls.predictions.transform.LayerNorm.bias', 'cls.predictions.decoder.weight', 'cls.predictions.transform.LayerNorm.weight', 'cls.predictions.bias', 'cls.predictions.transform.dense.weight', 'cls.seq_relationship.bias', 'cls.seq_relationship.weight']\n",
      "- This IS expected if you are initializing BertForSequenceClassification from the checkpoint of a model trained on another task or with another architecture (e.g. initializing a BertForSequenceClassification model from a BertForPreTraining model).\n",
      "- This IS NOT expected if you are initializing BertForSequenceClassification from the checkpoint of a model that you expect to be exactly identical (initializing a BertForSequenceClassification model from a BertForSequenceClassification model).\n",
      "Some weights of BertForSequenceClassification were not initialized from the model checkpoint at neuralmind/bert-base-portuguese-cased and are newly initialized: ['classifier.bias', 'classifier.weight']\n",
      "You should probably TRAIN this model on a down-stream task to be able to use it for predictions and inference.\n",
      "/home/keybot/.conda/envs/cenv-gpu/lib/python3.9/site-packages/transformers/optimization.py:391: FutureWarning: This implementation of AdamW is deprecated and will be removed in a future version. Use the PyTorch implementation torch.optim.AdamW instead, or set `no_deprecation_warning=True` to disable this warning\n",
      "  warnings.warn(\n"
     ]
    }
   ],
   "source": [
    "# '''\n",
    "# normalize textual columns #1 to #4 with transformers from huggingface\n",
    "tokenizer = AutoTokenizer.from_pretrained(\"neuralmind/bert-base-portuguese-cased\")\n",
    "model_quali = AutoModelForSequenceClassification.from_pretrained(\"neuralmind/bert-base-portuguese-cased\", num_labels=81)\n",
    "\n",
    "# Define the optimizer\n",
    "optimizer = AdamW(model_quali.parameters(), lr=1e-5)\n",
    "\n",
    "# Define criterion to compute loss\n",
    "criterion = BCEWithLogitsLoss()\n",
    "\n",
    "# Create a Dataset\n",
    "class LeiQualiDataset(torch.utils.data.Dataset):\n",
    "    def __init__(self, xy,  tokenizer):\n",
    "        self.xy = xy\n",
    "        self.tokenizer = tokenizer\n",
    "\n",
    "    def __getitem__(self, index):\n",
    "        xy_row = self.xy.iloc[index]\n",
    "        # concatenate the text\n",
    "        # row.ocorrencia and row.ocorrencia_revogada are exclusive, text fragment \"revogada-ou-alterada\" will be present if ocorrencia_revogada is not NaN and \"vigente\" will be present if ocorrencia is not NaN\n",
    "        if row[3] is not np.nan:\n",
    "            text1 = f\"{preprocess_text(xy_row[0])} {preprocess_text(xy_row[1])}\"\n",
    "            text2 = f\"R: {xy_row[3]}\"\n",
    "        else:\n",
    "            text1 = f\"{preprocess_text(xy_row[0])} {preprocess_text(xy_row[1])}\"\n",
    "            text2 = f\"V: {xy_row[2]}\"\n",
    "\n",
    "        # tokenize the text\n",
    "        tokens1 = self.tokenizer(text1, padding='max_length', truncation=True, max_length=196, return_tensors=\"pt\")\n",
    "        tokens2 = self.tokenizer(text2, padding='max_length', truncation=True, max_length=316, return_tensors=\"pt\")\n",
    "\n",
    "        # Create new tensors by concatenating the input_ids, attention_masks and token_type_ids\n",
    "        # and padding the first part to the maximum length of 512 tokens\n",
    "        input_ids = torch.cat([tokens1['input_ids'].squeeze(), tokens2['input_ids'].squeeze()], dim=-1)\n",
    "        attention_mask = torch.cat([tokens1['attention_mask'].squeeze(), tokens2['attention_mask'].squeeze()], dim=-1)\n",
    "\n",
    "        # Won't happen, I just have separated sentences, not question answers or anything like that\n",
    "        # # If the tokenizer returns 'token_type_ids', handle them as well\n",
    "        # if 'token_type_ids' in tokens1 and 'token_type_ids' in tokens2:\n",
    "        #     token_type_ids = torch.cat([tokens1['token_type_ids'], tokens2['token_type_ids']], dim=-1)\n",
    "        #     tokens = {'input_ids': input_ids, 'attention_mask': attention_mask, 'token_type_ids': token_type_ids}\n",
    "        # else:\n",
    "        #     tokens = {'input_ids': input_ids, 'attention_mask': attention_mask}\n",
    "        tokens = {'input_ids': input_ids, 'attention_mask': attention_mask}\n",
    "\n",
    "        # get the model's labels\n",
    "        labels = torch.tensor(xy_row[4:].values.astype(float)).float()  # ensure it's float\n",
    "        return tokens, labels\n",
    "\n",
    "    def __len__(self):\n",
    "        return len(self.xy)\n",
    "\n",
    "#'''"
   ],
   "metadata": {
    "collapsed": false,
    "ExecuteTime": {
     "end_time": "2023-07-28T05:17:07.653596414Z",
     "start_time": "2023-07-28T05:17:05.862269952Z"
    }
   }
  },
  {
   "cell_type": "code",
   "execution_count": 200,
   "outputs": [],
   "source": [
    "# # X will have only columns 1, 2, 3 and 4, which are ementa, artigo_1, ocorrencia and ocorrencia_revogada\n",
    "# # y will have the row.iloc[13:] equivalent, which are the labels\n",
    "# random_state = 409\n",
    "# X_train, X_test, y_train, y_test = train_test_split(df.iloc[:, 1:5], df.iloc[:, 13:], test_size=0.5, random_state=random_state)"
   ],
   "metadata": {
    "collapsed": false,
    "ExecuteTime": {
     "end_time": "2023-07-28T05:17:07.653795779Z",
     "start_time": "2023-07-28T05:17:07.648114526Z"
    }
   }
  },
  {
   "cell_type": "code",
   "execution_count": 201,
   "outputs": [],
   "source": [
    "# pd.concat([X_test, y_test], axis=1).iloc[0][4:].values.astype(float)"
   ],
   "metadata": {
    "collapsed": false,
    "ExecuteTime": {
     "end_time": "2023-07-28T05:17:07.714811553Z",
     "start_time": "2023-07-28T05:17:07.652608740Z"
    }
   }
  },
  {
   "cell_type": "raw",
   "source": [
    "array([1., 0., 0., 0., 1., 0., 0., 0., 0., 0., 0., 0., 1., 1., 0., 0., 0.,\n",
    "       0., 0., 0., 0., 0., 0., 0., 0., 0., 0., 0., 0., 0., 0., 0., 0., 0.,\n",
    "       1., 0., 0., 0., 0., 0., 0., 0., 0., 0., 0., 0., 0., 0., 0., 0., 1.,\n",
    "       0., 0., 0., 0., 0., 0., 0., 0., 0., 0., 0., 1., 0., 0., 0., 0., 0.,\n",
    "       0., 0., 0., 0., 0., 0., 0., 0., 0., 0., 1., 0., 1.])"
   ],
   "metadata": {
    "collapsed": false
   }
  },
  {
   "cell_type": "code",
   "execution_count": 202,
   "outputs": [],
   "source": [
    "# # Create DataLoader for training and testing (validation)\n",
    "# train_dataset = LeiQualiDataset(pd.concat([X_train, y_train], axis=1), tokenizer)\n",
    "# test_dataset = LeiQualiDataset(pd.concat([X_test, y_test], axis=1), tokenizer)\n",
    "# train_dataloader = DataLoader(train_dataset, batch_size=7, shuffle=True)\n",
    "# test_dataloader = DataLoader(test_dataset, batch_size=7)"
   ],
   "metadata": {
    "collapsed": false,
    "ExecuteTime": {
     "end_time": "2023-07-28T05:17:07.734585370Z",
     "start_time": "2023-07-28T05:17:07.659870175Z"
    }
   }
  },
  {
   "cell_type": "code",
   "execution_count": 203,
   "outputs": [],
   "source": [
    "# for epoch in range(25):\n",
    "#     # Training\n",
    "#     model_quali.train()\n",
    "#     for batch in train_dataloader:\n",
    "#         # Get data\n",
    "#         tokens, labels = batch\n",
    "# \n",
    "#         print(tokens)\n",
    "#         break\n",
    "#     break"
   ],
   "metadata": {
    "collapsed": false,
    "ExecuteTime": {
     "end_time": "2023-07-28T05:17:07.736059326Z",
     "start_time": "2023-07-28T05:17:07.663759770Z"
    }
   }
  },
  {
   "cell_type": "raw",
   "source": [
    "{'input_ids': tensor([[  101, 13058,   498,  ...,     0,     0,     0],\n",
    "        [  101,  2035, 22283,  ...,     0,     0,     0],\n",
    "        [  101,  2035, 22283,  ...,     0,     0,     0],\n",
    "        [  101, 10480,  9047,  ...,     0,     0,     0],\n",
    "        [  101, 13058,   498,  ...,     0,     0,     0],\n",
    "        [  101, 11518, 22278,  ...,     0,     0,     0]]), 'attention_mask': tensor([[1, 1, 1,  ..., 0, 0, 0],\n",
    "        [1, 1, 1,  ..., 0, 0, 0],\n",
    "        [1, 1, 1,  ..., 0, 0, 0],\n",
    "        [1, 1, 1,  ..., 0, 0, 0],\n",
    "        [1, 1, 1,  ..., 0, 0, 0],\n",
    "        [1, 1, 1,  ..., 0, 0, 0]])}\n"
   ],
   "metadata": {
    "collapsed": false
   }
  },
  {
   "cell_type": "code",
   "execution_count": 204,
   "outputs": [
    {
     "data": {
      "text/plain": "'\\nlast_average_f1_score = 0\\nepoch_range = 6\\nstart_time = time.time()\\nepoch_broken = 0\\nrandom_state = [0] * epoch_range\\nfor hyper_epoch in range(3):\\n    if epoch_broken > 2: break\\n    print(f\\'______________________\\nHyper epoch {hyper_epoch}\\n______________________\\n\\')\\n    for epoch in range(epoch_range):\\n        elapsed_time = time.time() - start_time\\n        if hyper_epoch == 0:\\n            random.seed(elapsed_time)\\n            # Generate a new random state for each epoch\\n            random_state[epoch] = random.randint(0, 409)\\n        # the dataframe will be sliced in epoch_range parts, each epoch will use 1/epoch_range of the dataframe\\n        df_slice = df[df.index % epoch_range == epoch]\\n        # X will have only columns 1, 2, 3 and 4, which are ementa, artigo_1, ocorrencia and ocorrencia_revogada\\n        # y will have the row.iloc[13:] equivalent, which are the labels\\n        X_train, X_test, y_train, y_test = train_test_split(df_slice.iloc[:, 1:5], df_slice.iloc[:, 13:], test_size=0.25, random_state=random_state[epoch])\\n        # Recreate DataLoader for training and testing (validation)\\n        train_dataset = LeiQualiDataset(pd.concat([X_train, y_train], axis=1), tokenizer)\\n        test_dataset = LeiQualiDataset(pd.concat([X_test, y_test], axis=1), tokenizer)\\n        train_dataloader = DataLoader(train_dataset, batch_size=7, shuffle=True)\\n        test_dataloader = DataLoader(test_dataset, batch_size=7)\\n\\n        print(f\"-- on hyper epoch {hyper_epoch} and using random state {random_state[epoch]} --\")\\n        print(f\"Epoch {epoch + 1} of {epoch_range} step: Training\\nElapsed time: {elapsed_time:.2f}s\")\\n        # Training\\n        model_quali.train()\\n        for batch in train_dataloader:\\n            # Get data\\n            tokens, labels = batch\\n    \\n            # Forward pass\\n            outputs = model_quali(**tokens)\\n    \\n            # Compute loss (unsqueezing labels to add extra one gives error)\\n            loss = criterion(outputs.logits, labels)\\n    \\n            # Backward pass\\n            loss.backward()\\n    \\n            # Update weights\\n            optimizer.step()\\n    \\n            # Clear gradients\\n            optimizer.zero_grad()\\n    \\n        elapsed_time = time.time() - start_time\\n        print(f\"-- on hyper epoch {hyper_epoch} and using random state {random_state[epoch]} --\")\\n        print(f\"Epoch {epoch + 1} of {epoch_range} step: Validation\\nElapsed time: {elapsed_time:.2f}s\")\\n        # Validation\\n        model_quali.eval()\\n        f1_scores = []\\n        with torch.no_grad():\\n            for batch in test_dataloader:\\n                # Get data\\n                tokens, labels = batch\\n                labels = (labels >= 0.5).float()  # convert probabilities to predictions\\n    \\n                # Forward pass\\n                outputs = model_quali(**tokens)\\n    \\n                # Compute probs\\n                probs = torch.sigmoid(outputs.logits)  # convert logits to probabilities\\n                preds = (probs >= 0.5).float()  # convert probabilities to predictions\\n    \\n                # Compute validation metrics here, e.g. F1 score\\n                # compare predictions with true labels\\n                f1_scores.append(f1_score(labels.numpy(), preds.numpy(), average=\\'samples\\'))  # or \\'micro\\', \\'macro\\', \\'weighted\\'\\n        # Calculate the average accuracy\\n        average_f1_score = np.mean(f1_scores)\\n        elapsed_time = time.time() - start_time\\n        print(f\"Average F1 score for epoch {epoch + 1} of {epoch_range}: {average_f1_score * 100:.2f}%\\nElapsed time: {elapsed_time:.2f}s\")\\n        if average_f1_score + 0.08 > last_average_f1_score:\\n            epoch_broken = 0\\n            torch.save(model_quali.state_dict(), \"../../model_quali.pt\")\\n            last_average_f1_score = average_f1_score\\n        else:\\n            epoch_broken += 1\\n            if epoch_broken > 2: break\\n#'"
     },
     "execution_count": 204,
     "metadata": {},
     "output_type": "execute_result"
    }
   ],
   "source": [
    "'''\n",
    "last_average_f1_score = 0\n",
    "epoch_range = 6\n",
    "start_time = time.time()\n",
    "epoch_broken = 0\n",
    "random_state = [0] * epoch_range\n",
    "for hyper_epoch in range(3):\n",
    "    if epoch_broken > 2: break\n",
    "    print(f'______________________\\nHyper epoch {hyper_epoch}\\n______________________\\n')\n",
    "    for epoch in range(epoch_range):\n",
    "        elapsed_time = time.time() - start_time\n",
    "        if hyper_epoch == 0:\n",
    "            random.seed(elapsed_time)\n",
    "            # Generate a new random state for each epoch\n",
    "            random_state[epoch] = random.randint(0, 409)\n",
    "        # the dataframe will be sliced in epoch_range parts, each epoch will use 1/epoch_range of the dataframe\n",
    "        df_slice = df[df.index % epoch_range == epoch]\n",
    "        # X will have only columns 1, 2, 3 and 4, which are ementa, artigo_1, ocorrencia and ocorrencia_revogada\n",
    "        # y will have the row.iloc[13:] equivalent, which are the labels\n",
    "        X_train, X_test, y_train, y_test = train_test_split(df_slice.iloc[:, 1:5], df_slice.iloc[:, 13:], test_size=0.25, random_state=random_state[epoch])\n",
    "        # Recreate DataLoader for training and testing (validation)\n",
    "        train_dataset = LeiQualiDataset(pd.concat([X_train, y_train], axis=1), tokenizer)\n",
    "        test_dataset = LeiQualiDataset(pd.concat([X_test, y_test], axis=1), tokenizer)\n",
    "        train_dataloader = DataLoader(train_dataset, batch_size=7, shuffle=True)\n",
    "        test_dataloader = DataLoader(test_dataset, batch_size=7)\n",
    "\n",
    "        print(f\"-- on hyper epoch {hyper_epoch} and using random state {random_state[epoch]} --\")\n",
    "        print(f\"Epoch {epoch + 1} of {epoch_range} step: Training\\nElapsed time: {elapsed_time:.2f}s\")\n",
    "        # Training\n",
    "        model_quali.train()\n",
    "        for batch in train_dataloader:\n",
    "            # Get data\n",
    "            tokens, labels = batch\n",
    "    \n",
    "            # Forward pass\n",
    "            outputs = model_quali(**tokens)\n",
    "    \n",
    "            # Compute loss (unsqueezing labels to add extra one gives error)\n",
    "            loss = criterion(outputs.logits, labels)\n",
    "    \n",
    "            # Backward pass\n",
    "            loss.backward()\n",
    "    \n",
    "            # Update weights\n",
    "            optimizer.step()\n",
    "    \n",
    "            # Clear gradients\n",
    "            optimizer.zero_grad()\n",
    "    \n",
    "        elapsed_time = time.time() - start_time\n",
    "        print(f\"-- on hyper epoch {hyper_epoch} and using random state {random_state[epoch]} --\")\n",
    "        print(f\"Epoch {epoch + 1} of {epoch_range} step: Validation\\nElapsed time: {elapsed_time:.2f}s\")\n",
    "        # Validation\n",
    "        model_quali.eval()\n",
    "        f1_scores = []\n",
    "        with torch.no_grad():\n",
    "            for batch in test_dataloader:\n",
    "                # Get data\n",
    "                tokens, labels = batch\n",
    "                labels = (labels >= 0.5).float()  # convert probabilities to predictions\n",
    "    \n",
    "                # Forward pass\n",
    "                outputs = model_quali(**tokens)\n",
    "    \n",
    "                # Compute probs\n",
    "                probs = torch.sigmoid(outputs.logits)  # convert logits to probabilities\n",
    "                preds = (probs >= 0.5).float()  # convert probabilities to predictions\n",
    "    \n",
    "                # Compute validation metrics here, e.g. F1 score\n",
    "                # compare predictions with true labels\n",
    "                f1_scores.append(f1_score(labels.numpy(), preds.numpy(), average='samples'))  # or 'micro', 'macro', 'weighted'\n",
    "        # Calculate the average accuracy\n",
    "        average_f1_score = np.mean(f1_scores)\n",
    "        elapsed_time = time.time() - start_time\n",
    "        print(f\"Average F1 score for epoch {epoch + 1} of {epoch_range}: {average_f1_score * 100:.2f}%\\nElapsed time: {elapsed_time:.2f}s\")\n",
    "        if average_f1_score + 0.08 > last_average_f1_score:\n",
    "            epoch_broken = 0\n",
    "            torch.save(model_quali.state_dict(), \"../../model_quali.pt\")\n",
    "            last_average_f1_score = average_f1_score\n",
    "        else:\n",
    "            epoch_broken += 1\n",
    "            if epoch_broken > 2: break\n",
    "#'''"
   ],
   "metadata": {
    "collapsed": false,
    "ExecuteTime": {
     "end_time": "2023-07-28T05:17:07.736583501Z",
     "start_time": "2023-07-28T05:17:07.704637934Z"
    }
   }
  },
  {
   "cell_type": "raw",
   "source": [],
   "metadata": {
    "collapsed": false
   }
  },
  {
   "cell_type": "raw",
   "source": [
    "______________________\n",
    "Hyper epoch 0\n",
    "______________________\n",
    "\n",
    "-- on hyper epoch 0 and using random state 355 --\n",
    "Epoch 1 of 6 step: Training\n",
    "Elapsed time: 0.00s\n",
    "-- on hyper epoch 0 and using random state 355 --\n",
    "Epoch 1 of 6 step: Validation\n",
    "Elapsed time: 215.71s\n",
    "Average F1 score for epoch 1 of 6: 32.77%\n",
    "Elapsed time: 234.64s\n",
    "-- on hyper epoch 0 and using random state 366 --\n",
    "Epoch 2 of 6 step: Training\n",
    "Elapsed time: 235.37s\n",
    "-- on hyper epoch 0 and using random state 366 --\n",
    "Epoch 2 of 6 step: Validation\n",
    "Elapsed time: 433.69s\n",
    "Average F1 score for epoch 2 of 6: 43.34%\n",
    "Elapsed time: 451.72s\n",
    "-- on hyper epoch 0 and using random state 128 --\n",
    "Epoch 3 of 6 step: Training\n",
    "Elapsed time: 452.52s\n",
    "-- on hyper epoch 0 and using random state 128 --\n",
    "Epoch 3 of 6 step: Validation\n",
    "Elapsed time: 628.32s\n",
    "Average F1 score for epoch 3 of 6: 48.14%\n",
    "Elapsed time: 646.11s\n",
    "-- on hyper epoch 0 and using random state 201 --\n",
    "Epoch 4 of 6 step: Training\n",
    "Elapsed time: 646.79s\n",
    "-- on hyper epoch 0 and using random state 201 --\n",
    "Epoch 4 of 6 step: Validation\n",
    "Elapsed time: 830.59s\n",
    "Average F1 score for epoch 4 of 6: 50.02%\n",
    "Elapsed time: 848.03s\n",
    "-- on hyper epoch 0 and using random state 226 --\n",
    "Epoch 5 of 6 step: Training\n",
    "Elapsed time: 848.68s\n",
    "-- on hyper epoch 0 and using random state 226 --\n",
    "Epoch 5 of 6 step: Validation\n",
    "Elapsed time: 1027.72s\n",
    "Average F1 score for epoch 5 of 6: 48.93%\n",
    "Elapsed time: 1045.67s\n",
    "-- on hyper epoch 0 and using random state 35 --\n",
    "Epoch 6 of 6 step: Training\n",
    "Elapsed time: 1046.28s\n",
    "-- on hyper epoch 0 and using random state 35 --\n",
    "Epoch 6 of 6 step: Validation\n",
    "Elapsed time: 1223.14s\n",
    "Average F1 score for epoch 6 of 6: 49.60%\n",
    "Elapsed time: 1241.16s\n",
    "______________________\n",
    "Hyper epoch 1\n",
    "______________________\n",
    "\n",
    "-- on hyper epoch 1 and using random state 355 --\n",
    "Epoch 1 of 6 step: Training\n",
    "Elapsed time: 1241.16s\n",
    "-- on hyper epoch 1 and using random state 355 --\n",
    "Epoch 1 of 6 step: Validation\n",
    "Elapsed time: 1415.46s\n",
    "Average F1 score for epoch 1 of 6: 46.72%\n",
    "Elapsed time: 1433.54s\n",
    "-- on hyper epoch 1 and using random state 366 --\n",
    "Epoch 2 of 6 step: Training\n",
    "Elapsed time: 1433.54s\n",
    "-- on hyper epoch 1 and using random state 366 --\n",
    "Epoch 2 of 6 step: Validation\n",
    "Elapsed time: 1614.40s\n",
    "Average F1 score for epoch 2 of 6: 48.02%\n",
    "Elapsed time: 1632.19s\n",
    "-- on hyper epoch 1 and using random state 128 --\n",
    "Epoch 3 of 6 step: Training\n",
    "Elapsed time: 1632.19s\n",
    "-- on hyper epoch 1 and using random state 128 --\n",
    "Epoch 3 of 6 step: Validation\n",
    "Elapsed time: 1813.58s\n",
    "Average F1 score for epoch 3 of 6: 48.54%\n",
    "Elapsed time: 1831.09s\n",
    "-- on hyper epoch 1 and using random state 201 --\n",
    "Epoch 4 of 6 step: Training\n",
    "Elapsed time: 1831.09s\n",
    "-- on hyper epoch 1 and using random state 201 --\n",
    "Epoch 4 of 6 step: Validation\n",
    "Elapsed time: 2007.55s\n",
    "Average F1 score for epoch 4 of 6: 49.40%\n",
    "Elapsed time: 2025.61s\n",
    "-- on hyper epoch 1 and using random state 226 --\n",
    "Epoch 5 of 6 step: Training\n",
    "Elapsed time: 2025.61s\n",
    "-- on hyper epoch 1 and using random state 226 --\n",
    "Epoch 5 of 6 step: Validation\n",
    "Elapsed time: 2214.37s\n",
    "Average F1 score for epoch 5 of 6: 52.15%\n",
    "Elapsed time: 2234.82s\n",
    "-- on hyper epoch 1 and using random state 35 --\n",
    "Epoch 6 of 6 step: Training\n",
    "Elapsed time: 2234.82s\n",
    "-- on hyper epoch 1 and using random state 35 --\n",
    "Epoch 6 of 6 step: Validation\n",
    "Elapsed time: 2447.93s\n",
    "Average F1 score for epoch 6 of 6: 49.21%\n",
    "Elapsed time: 2468.00s\n",
    "______________________\n",
    "Hyper epoch 2\n",
    "______________________\n",
    "\n",
    "-- on hyper epoch 2 and using random state 355 --\n",
    "Epoch 1 of 6 step: Training\n",
    "Elapsed time: 2468.00s\n",
    "-- on hyper epoch 2 and using random state 355 --\n",
    "Epoch 1 of 6 step: Validation\n",
    "Elapsed time: 2665.82s\n",
    "Average F1 score for epoch 1 of 6: 49.29%\n",
    "Elapsed time: 2684.22s\n",
    "-- on hyper epoch 2 and using random state 366 --\n",
    "Epoch 2 of 6 step: Training\n",
    "Elapsed time: 2684.22s\n",
    "-- on hyper epoch 2 and using random state 366 --\n",
    "Epoch 2 of 6 step: Validation\n",
    "Elapsed time: 2872.59s\n",
    "Average F1 score for epoch 2 of 6: 50.74%\n",
    "Elapsed time: 2890.85s\n",
    "-- on hyper epoch 2 and using random state 128 --\n",
    "Epoch 3 of 6 step: Training\n",
    "Elapsed time: 2890.85s\n",
    "-- on hyper epoch 2 and using random state 128 --\n",
    "Epoch 3 of 6 step: Validation\n",
    "Elapsed time: 3085.35s\n",
    "Average F1 score for epoch 3 of 6: 49.27%\n",
    "Elapsed time: 3104.18s\n",
    "-- on hyper epoch 2 and using random state 201 --\n",
    "Epoch 4 of 6 step: Training\n",
    "Elapsed time: 3104.18s\n",
    "-- on hyper epoch 2 and using random state 201 --\n",
    "Epoch 4 of 6 step: Validation\n",
    "Elapsed time: 3301.38s\n",
    "Average F1 score for epoch 4 of 6: 49.72%\n",
    "Elapsed time: 3320.13s\n",
    "-- on hyper epoch 2 and using random state 226 --\n",
    "Epoch 5 of 6 step: Training\n",
    "Elapsed time: 3320.13s\n",
    "-- on hyper epoch 2 and using random state 226 --\n",
    "Epoch 5 of 6 step: Validation\n",
    "Elapsed time: 3514.01s\n",
    "Average F1 score for epoch 5 of 6: 52.04%\n",
    "Elapsed time: 3532.95s\n",
    "-- on hyper epoch 2 and using random state 35 --\n",
    "Epoch 6 of 6 step: Training\n",
    "Elapsed time: 3532.95s\n",
    "-- on hyper epoch 2 and using random state 35 --\n",
    "Epoch 6 of 6 step: Validation\n",
    "Elapsed time: 3718.55s\n",
    "Average F1 score for epoch 6 of 6: 49.25%\n",
    "Elapsed time: 3737.29s\n"
   ],
   "metadata": {
    "collapsed": false
   }
  },
  {
   "cell_type": "code",
   "execution_count": 205,
   "outputs": [
    {
     "data": {
      "text/plain": "'\\n# THIS IS TO TEST THE OLD MODEL, WE GOT 52.04% IN THE UPDATED MODEL\\ndel model_quali\\n# load the model\\nmodel_quali_old = AutoModelForSequenceClassification.from_pretrained(\"../../model_quali_old\", num_labels=81)\\n\\nlast_average_f1_score = 0\\nepoch_range = 6\\nstart_time = time.time()\\nepoch_broken = 0\\nrandom_state = [0] * epoch_range\\nepoch = 4\\n\\nelapsed_time = time.time() - start_time\\n\\n# Generate a new random state for each epoch\\nrandom_state[epoch] = 226\\n# the dataframe will be sliced in epoch_range parts, each epoch will use 1/epoch_range of the dataframe\\ndf_slice = df[df.index % epoch_range == epoch]\\n# X will have only columns 1, 2, 3 and 4, which are ementa, artigo_1, ocorrencia and ocorrencia_revogada\\n# y will have the row.iloc[13:] equivalent, which are the labels\\nX_train, X_test, y_train, y_test = train_test_split(df_slice.iloc[:, 1:5], df_slice.iloc[:, 13:], test_size=0.25, random_state=random_state[epoch])\\n# Recreate DataLoader for training and testing (validation)\\ntrain_dataset = LeiQualiDataset(pd.concat([X_train, y_train], axis=1), tokenizer)\\ntest_dataset = LeiQualiDataset(pd.concat([X_test, y_test], axis=1), tokenizer)\\ntrain_dataloader = DataLoader(train_dataset, batch_size=7, shuffle=True)\\ntest_dataloader = DataLoader(test_dataset, batch_size=7)\\n\\nprint(f\"Epoch {epoch + 1} of {epoch_range} step: Validation\\nElapsed time: {elapsed_time:.2f}s\")\\n# Validation\\nmodel_quali_old.eval()\\nf1_scores = []\\nwith torch.no_grad():\\n    for batch in test_dataloader:\\n        # Get data\\n        tokens, labels = batch\\n        labels = (labels >= 0.5).float()  # convert probabilities to predictions\\n\\n        # Forward pass\\n        outputs = model_quali_old(**tokens)\\n\\n        # Compute probs\\n        probs = torch.sigmoid(outputs.logits)  # convert logits to probabilities\\n        preds = (probs >= 0.5).float()  # convert probabilities to predictions\\n\\n        # Compute validation metrics here, e.g. F1 score\\n        # compare predictions with true labels\\n        f1_scores.append(f1_score(labels.numpy(), preds.numpy(), average=\\'samples\\'))  # or \\'micro\\', \\'macro\\', \\'weighted\\'\\n# Calculate the average accuracy\\naverage_f1_score = np.mean(f1_scores)\\nelapsed_time = time.time() - start_time\\nprint(f\"Average F1 score for epoch {epoch} of {epoch_range}: {average_f1_score * 100:.2f}%\\nElapsed time: {elapsed_time:.2f}s\")\\n\\ndel model_quali_old\\n#'"
     },
     "execution_count": 205,
     "metadata": {},
     "output_type": "execute_result"
    }
   ],
   "source": [
    "'''\n",
    "# THIS IS TO TEST THE OLD MODEL, WE GOT 52.04% IN THE UPDATED MODEL\n",
    "del model_quali\n",
    "# load the model\n",
    "model_quali_old = AutoModelForSequenceClassification.from_pretrained(\"../../model_quali_old\", num_labels=81)\n",
    "\n",
    "last_average_f1_score = 0\n",
    "epoch_range = 6\n",
    "start_time = time.time()\n",
    "epoch_broken = 0\n",
    "random_state = [0] * epoch_range\n",
    "epoch = 4\n",
    "\n",
    "elapsed_time = time.time() - start_time\n",
    "\n",
    "# Generate a new random state for each epoch\n",
    "random_state[epoch] = 226\n",
    "# the dataframe will be sliced in epoch_range parts, each epoch will use 1/epoch_range of the dataframe\n",
    "df_slice = df[df.index % epoch_range == epoch]\n",
    "# X will have only columns 1, 2, 3 and 4, which are ementa, artigo_1, ocorrencia and ocorrencia_revogada\n",
    "# y will have the row.iloc[13:] equivalent, which are the labels\n",
    "X_train, X_test, y_train, y_test = train_test_split(df_slice.iloc[:, 1:5], df_slice.iloc[:, 13:], test_size=0.25, random_state=random_state[epoch])\n",
    "# Recreate DataLoader for training and testing (validation)\n",
    "train_dataset = LeiQualiDataset(pd.concat([X_train, y_train], axis=1), tokenizer)\n",
    "test_dataset = LeiQualiDataset(pd.concat([X_test, y_test], axis=1), tokenizer)\n",
    "train_dataloader = DataLoader(train_dataset, batch_size=7, shuffle=True)\n",
    "test_dataloader = DataLoader(test_dataset, batch_size=7)\n",
    "\n",
    "print(f\"Epoch {epoch + 1} of {epoch_range} step: Validation\\nElapsed time: {elapsed_time:.2f}s\")\n",
    "# Validation\n",
    "model_quali_old.eval()\n",
    "f1_scores = []\n",
    "with torch.no_grad():\n",
    "    for batch in test_dataloader:\n",
    "        # Get data\n",
    "        tokens, labels = batch\n",
    "        labels = (labels >= 0.5).float()  # convert probabilities to predictions\n",
    "\n",
    "        # Forward pass\n",
    "        outputs = model_quali_old(**tokens)\n",
    "\n",
    "        # Compute probs\n",
    "        probs = torch.sigmoid(outputs.logits)  # convert logits to probabilities\n",
    "        preds = (probs >= 0.5).float()  # convert probabilities to predictions\n",
    "\n",
    "        # Compute validation metrics here, e.g. F1 score\n",
    "        # compare predictions with true labels\n",
    "        f1_scores.append(f1_score(labels.numpy(), preds.numpy(), average='samples'))  # or 'micro', 'macro', 'weighted'\n",
    "# Calculate the average accuracy\n",
    "average_f1_score = np.mean(f1_scores)\n",
    "elapsed_time = time.time() - start_time\n",
    "print(f\"Average F1 score for epoch {epoch} of {epoch_range}: {average_f1_score * 100:.2f}%\\nElapsed time: {elapsed_time:.2f}s\")\n",
    "\n",
    "del model_quali_old\n",
    "#'''"
   ],
   "metadata": {
    "collapsed": false,
    "ExecuteTime": {
     "end_time": "2023-07-28T05:17:07.736956618Z",
     "start_time": "2023-07-28T05:17:07.704782852Z"
    }
   }
  },
  {
   "cell_type": "raw",
   "source": [
    "Epoch 5 of 6 step: Validation\n",
    "Elapsed time: 0.00s\n",
    "Average F1 score for epoch 4 of 6: 46.52%\n",
    "Elapsed time: 18.24s"
   ],
   "metadata": {
    "collapsed": false
   }
  },
  {
   "cell_type": "markdown",
   "source": [
    "# MODEL_QUALI.PT TRAINED! BETTER THAN THE OLD ONE, SOMEHOW, EVEN IF THE OLD ONE WAS RISKING OVERFITTING\n",
    "#### Next step: use the model to predict the labels of the dataframe\n",
    "##### After that we have to fit the predicted dataframe back to 247 rows, by taking the original_ids and the predicted labels and essembling them back together"
   ],
   "metadata": {
    "collapsed": false
   }
  },
  {
   "cell_type": "code",
   "execution_count": 206,
   "outputs": [
    {
     "name": "stderr",
     "output_type": "stream",
     "text": [
      "Some weights of the model checkpoint at neuralmind/bert-base-portuguese-cased were not used when initializing BertForSequenceClassification: ['cls.predictions.transform.dense.bias', 'cls.predictions.transform.LayerNorm.bias', 'cls.predictions.decoder.weight', 'cls.predictions.transform.LayerNorm.weight', 'cls.predictions.bias', 'cls.predictions.transform.dense.weight', 'cls.seq_relationship.bias', 'cls.seq_relationship.weight']\n",
      "- This IS expected if you are initializing BertForSequenceClassification from the checkpoint of a model trained on another task or with another architecture (e.g. initializing a BertForSequenceClassification model from a BertForPreTraining model).\n",
      "- This IS NOT expected if you are initializing BertForSequenceClassification from the checkpoint of a model that you expect to be exactly identical (initializing a BertForSequenceClassification model from a BertForSequenceClassification model).\n",
      "Some weights of BertForSequenceClassification were not initialized from the model checkpoint at neuralmind/bert-base-portuguese-cased and are newly initialized: ['classifier.bias', 'classifier.weight']\n",
      "You should probably TRAIN this model on a down-stream task to be able to use it for predictions and inference.\n"
     ]
    },
    {
     "data": {
      "text/plain": "<All keys matched successfully>"
     },
     "execution_count": 206,
     "metadata": {},
     "output_type": "execute_result"
    }
   ],
   "source": [
    "# load the model\n",
    "model_quali = AutoModelForSequenceClassification.from_pretrained(\"neuralmind/bert-base-portuguese-cased\", num_labels=81)\n",
    "# Load the weights\n",
    "model_quali.load_state_dict(torch.load(\"../../model_quali.pt\"))"
   ],
   "metadata": {
    "collapsed": false,
    "ExecuteTime": {
     "end_time": "2023-07-28T05:17:08.819015025Z",
     "start_time": "2023-07-28T05:17:07.704906315Z"
    }
   }
  },
  {
   "cell_type": "code",
   "execution_count": 207,
   "outputs": [
    {
     "name": "stdout",
     "output_type": "stream",
     "text": [
      "<class 'pandas.core.frame.DataFrame'>\n",
      "Int64Index: 2348 entries, 767 to 3382\n",
      "Data columns (total 94 columns):\n",
      " #   Column                                       Non-Null Count  Dtype  \n",
      "---  ------                                       --------------  -----  \n",
      " 0   original_id                                  2348 non-null   int64  \n",
      " 1   ementa                                       2348 non-null   object \n",
      " 2   artigo_1                                     2348 non-null   object \n",
      " 3   ocorrencia                                   2133 non-null   object \n",
      " 4   ocorrencia_revogada                          208 non-null    object \n",
      " 5   table_found                                  2348 non-null   int64  \n",
      " 6   outro_assunto                                2348 non-null   float64\n",
      " 7   n_palavras                                   2348 non-null   int64  \n",
      " 8   freq_assunto                                 2348 non-null   float64\n",
      " 9   artigo_1_revogado                            2348 non-null   int64  \n",
      " 10  internacional                                2348 non-null   float64\n",
      " 11  f                                            2348 non-null   float64\n",
      " 12  fx                                           2348 non-null   float64\n",
      " 13  dimensao_normativa                           0 non-null      float64\n",
      " 14  dimensao_ontológica                          0 non-null      float64\n",
      " 15  benevolencia_ameaça                          0 non-null      float64\n",
      " 16  benevolencia_benefício                       0 non-null      float64\n",
      " 17  benevolencia_neutra                          0 non-null      float64\n",
      " 18  funcao_social_segurança                      0 non-null      float64\n",
      " 19  funcao_social_segurança sexual               0 non-null      float64\n",
      " 20  funcao_social_ECA                            0 non-null      float64\n",
      " 21  funcao_social_valoração                      0 non-null      float64\n",
      " 22  funcao_social_inclusão                       0 non-null      float64\n",
      " 23  funcao_social_consumo                        0 non-null      float64\n",
      " 24  funcao_social_cultura                        0 non-null      float64\n",
      " 25  funcao_social_democracia                     0 non-null      float64\n",
      " 26  funcao_social_transparência                  0 non-null      float64\n",
      " 27  funcao_social_nacionalismo                   0 non-null      float64\n",
      " 28  funcao_social_educação                       0 non-null      float64\n",
      " 29  funcao_social_burocrática                    0 non-null      float64\n",
      " 30  funcao_social_indivíduo                      0 non-null      float64\n",
      " 31  funcao_social_propriedade                    0 non-null      float64\n",
      " 32  funcao_social_privacidade                    0 non-null      float64\n",
      " 33  funcao_social_controle                       0 non-null      float64\n",
      " 34  funcao_social_saúde                          0 non-null      float64\n",
      " 35  funcao_social_comunicação                    0 non-null      float64\n",
      " 36  funcao_social_organização comunitária        0 non-null      float64\n",
      " 37  funcao_social_direitos trabalhistas          0 non-null      float64\n",
      " 38  funcao_social_integridade                    0 non-null      float64\n",
      " 39  funcao_social_comercial                      0 non-null      float64\n",
      " 40  funcao_social_mediação                       0 non-null      float64\n",
      " 41  funcao_social_burocrático                    0 non-null      float64\n",
      " 42  funcao_social_fiscal                         0 non-null      float64\n",
      " 43  funcao_social_esporte                        0 non-null      float64\n",
      " 44  funcao_social_meio ambiente                  0 non-null      float64\n",
      " 45  funcao_social_ciência                        0 non-null      float64\n",
      " 46  funcao_social_assunto_ECA                    0 non-null      float64\n",
      " 47  funcao_social_assunto_transparência          0 non-null      float64\n",
      " 48  funcao_social_assunto_segurança              0 non-null      float64\n",
      " 49  funcao_social_assunto_segurança sexual       0 non-null      float64\n",
      " 50  funcao_social_assunto_democracia             0 non-null      float64\n",
      " 51  funcao_social_assunto_tributação             0 non-null      float64\n",
      " 52  funcao_social_assunto_direitos trabalhistas  0 non-null      float64\n",
      " 53  funcao_social_assunto_salário                0 non-null      float64\n",
      " 54  funcao_social_assunto_comercial              0 non-null      float64\n",
      " 55  funcao_social_assunto_burocrática            0 non-null      float64\n",
      " 56  funcao_social_assunto_mediação               0 non-null      float64\n",
      " 57  funcao_social_assunto_inclusão               0 non-null      float64\n",
      " 58  funcao_social_assunto_tansparência           0 non-null      float64\n",
      " 59  funcao_social_assunto_esporte                0 non-null      float64\n",
      " 60  funcao_social_assunto_fiscal                 0 non-null      float64\n",
      " 61  ramo_dogmatico_penal                         0 non-null      float64\n",
      " 62  ramo_dogmatico_civil                         0 non-null      float64\n",
      " 63  ramo_dogmatico_eleitoral                     0 non-null      float64\n",
      " 64  ramo_dogmatico_administrativo                0 non-null      float64\n",
      " 65  ramo_dogmatico_processual                    0 non-null      float64\n",
      " 66  ramo_dogmatico_trabalhista                   0 non-null      float64\n",
      " 67  ramo_dogmatico_orçamentário                  0 non-null      float64\n",
      " 68  ramo_dogmatico_tributário                    0 non-null      float64\n",
      " 69  ramo_dogmatico_comercial                     0 non-null      float64\n",
      " 70  ramo_sociologico_violência                   0 non-null      float64\n",
      " 71  ramo_sociologico_violência sexual            0 non-null      float64\n",
      " 72  ramo_sociologico_infância                    0 non-null      float64\n",
      " 73  ramo_sociologico_comunicação                 0 non-null      float64\n",
      " 74  ramo_sociologico_econômico                   0 non-null      float64\n",
      " 75  ramo_sociologico_político                    0 non-null      float64\n",
      " 76  ramo_sociologico_nacional                    0 non-null      float64\n",
      " 77  ramo_sociologico_burocrático                 0 non-null      float64\n",
      " 78  ramo_sociologico_educacional                 0 non-null      float64\n",
      " 79  ramo_sociologico_individualização            0 non-null      float64\n",
      " 80  ramo_sociologico_educação                    0 non-null      float64\n",
      " 81  ramo_sociologico_criminal                    0 non-null      float64\n",
      " 82  ramo_sociologico_segurança                   0 non-null      float64\n",
      " 83  ramo_sociologico_ciminal                     0 non-null      float64\n",
      " 84  ramo_sociologico_saúde                       0 non-null      float64\n",
      " 85  ramo_sociologico_trabalho                    0 non-null      float64\n",
      " 86  ramo_sociologico_ética                       0 non-null      float64\n",
      " 87  ramo_sociologico_rural                       0 non-null      float64\n",
      " 88  ramo_sociologico_cultura                     0 non-null      float64\n",
      " 89  ramo_sociologico_esporte                     0 non-null      float64\n",
      " 90  imposicao_reconhecimento_reconhece           0 non-null      float64\n",
      " 91  imposicao_reconhecimento_impõe               0 non-null      float64\n",
      " 92  ferramenta_ambiente_ambiente                 0 non-null      float64\n",
      " 93  ferramenta_ambiente_ferramenta               0 non-null      float64\n",
      "dtypes: float64(86), int64(4), object(4)\n",
      "memory usage: 1.7+ MB\n"
     ]
    }
   ],
   "source": [
    "# from df_all we do the opposite that we did to take the data for the training and testing\n",
    "# keep only the rows for which the column #13 is NaN\n",
    "df = df_all[df_all.iloc[:, 13].isna()]\n",
    "df.info()"
   ],
   "metadata": {
    "collapsed": false,
    "ExecuteTime": {
     "end_time": "2023-07-28T05:17:08.820577366Z",
     "start_time": "2023-07-28T05:17:08.799618763Z"
    }
   }
  },
  {
   "cell_type": "code",
   "execution_count": 208,
   "outputs": [
    {
     "name": "stderr",
     "output_type": "stream",
     "text": [
      "<ipython-input-208-fff8b4925071>:2: SettingWithCopyWarning: \n",
      "A value is trying to be set on a copy of a slice from a DataFrame.\n",
      "Try using .loc[row_indexer,col_indexer] = value instead\n",
      "\n",
      "See the caveats in the documentation: https://pandas.pydata.org/pandas-docs/stable/user_guide/indexing.html#returning-a-view-versus-a-copy\n",
      "  df['n_palavras'] = (df['n_palavras'] - df['n_palavras'].min()) / (df['n_palavras'].max() - df['n_palavras'].min())\n"
     ]
    },
    {
     "data": {
      "text/plain": "767     0.009286\n768     0.009286\n769     0.009286\n770     0.009286\n771     0.009286\n          ...   \n3378    1.000000\n3379    1.000000\n3380    0.000000\n3381    0.017215\n3382    0.017215\nName: n_palavras, Length: 2348, dtype: float64"
     },
     "metadata": {},
     "output_type": "display_data"
    }
   ],
   "source": [
    "# normalizethe column 'n_palavras' in the following way df_norm = (df - df.min()) / (df.max() - df.min())\n",
    "df['n_palavras'] = (df['n_palavras'] - df['n_palavras'].min()) / (df['n_palavras'].max() - df['n_palavras'].min())\n",
    "display(df.n_palavras)"
   ],
   "metadata": {
    "collapsed": false,
    "ExecuteTime": {
     "end_time": "2023-07-28T05:17:08.885512937Z",
     "start_time": "2023-07-28T05:17:08.821027592Z"
    }
   }
  },
  {
   "cell_type": "code",
   "execution_count": 209,
   "outputs": [
    {
     "data": {
      "text/plain": "'\\n# # X will have only columns 1, 2, 3 and 4, which are ementa, artigo_1, ocorrencia and ocorrencia_revogada\\n# # y will have the row.iloc[13:] equivalent, which are the labels\\n# X_train, X_test, y_train, y_test = train_test_split(df.iloc[:, 1:5], df.iloc[:, 13:], test_size=0.25, random_state=409)\\n# # Recreate DataLoader for training and testing (validation)\\n# train_dataset = LeiQualiDataset(pd.concat([X_train, y_train], axis=1), tokenizer)\\n# test_dataset = LeiQualiDataset(pd.concat([X_test, y_test], axis=1), tokenizer)\\n# train_dataloader = DataLoader(train_dataset, batch_size=7, shuffle=True)\\n# test_dataloader = DataLoader(test_dataset, batch_size=7)\\n\\n# The code above was for training, now my df has NaN values in df.iloc[:, 13:], so I have to predict them with df.iloc[:, 1:5]\\n\\npredict_dataset = LeiQualiDataset(pd.concat([df.iloc[:, 1:5], df.iloc[:, 13:]], axis=1), tokenizer)\\npredict_dataloader = DataLoader(predict_dataset, batch_size=7)\\n\\n# Put the model in eval mode\\nmodel_quali.eval()\\n\\n# Disable gradient calculations\\nwith torch.no_grad():\\n    predictions = []\\n    for batch in predict_dataloader:\\n        inputs, _ = batch\\n        outputs = model_quali(**inputs)\\n        # Get the predicted probabilities\\n        predicted_probs = torch.sigmoid(outputs.logits)\\n        predictions.append(predicted_probs)\\n\\n# Concatenate all batch predictions\\npredictions = torch.cat(predictions)\\n\\n# Convert predicted probabilities to binary predictions (0 or 1) using a threshold, e.g., 0.5\\nthreshold_a = 0.45\\nthreshold_b = 0.55\\nternary_predictions = torch.where(predictions < threshold_a, 0.0, torch.where(predictions > threshold_b, 1.0, 0.5))\\nlen(ternary_predictions)\\n#'"
     },
     "execution_count": 209,
     "metadata": {},
     "output_type": "execute_result"
    }
   ],
   "source": [
    "'''\n",
    "# # X will have only columns 1, 2, 3 and 4, which are ementa, artigo_1, ocorrencia and ocorrencia_revogada\n",
    "# # y will have the row.iloc[13:] equivalent, which are the labels\n",
    "# X_train, X_test, y_train, y_test = train_test_split(df.iloc[:, 1:5], df.iloc[:, 13:], test_size=0.25, random_state=409)\n",
    "# # Recreate DataLoader for training and testing (validation)\n",
    "# train_dataset = LeiQualiDataset(pd.concat([X_train, y_train], axis=1), tokenizer)\n",
    "# test_dataset = LeiQualiDataset(pd.concat([X_test, y_test], axis=1), tokenizer)\n",
    "# train_dataloader = DataLoader(train_dataset, batch_size=7, shuffle=True)\n",
    "# test_dataloader = DataLoader(test_dataset, batch_size=7)\n",
    "\n",
    "# The code above was for training, now my df has NaN values in df.iloc[:, 13:], so I have to predict them with df.iloc[:, 1:5]\n",
    "\n",
    "predict_dataset = LeiQualiDataset(pd.concat([df.iloc[:, 1:5], df.iloc[:, 13:]], axis=1), tokenizer)\n",
    "predict_dataloader = DataLoader(predict_dataset, batch_size=7)\n",
    "\n",
    "# Put the model in eval mode\n",
    "model_quali.eval()\n",
    "\n",
    "# Disable gradient calculations\n",
    "with torch.no_grad():\n",
    "    predictions = []\n",
    "    for batch in predict_dataloader:\n",
    "        inputs, _ = batch\n",
    "        outputs = model_quali(**inputs)\n",
    "        # Get the predicted probabilities\n",
    "        predicted_probs = torch.sigmoid(outputs.logits)\n",
    "        predictions.append(predicted_probs)\n",
    "\n",
    "# Concatenate all batch predictions\n",
    "predictions = torch.cat(predictions)\n",
    "\n",
    "# Convert predicted probabilities to binary predictions (0 or 1) using a threshold, e.g., 0.5\n",
    "threshold_a = 0.45\n",
    "threshold_b = 0.55\n",
    "ternary_predictions = torch.where(predictions < threshold_a, 0.0, torch.where(predictions > threshold_b, 1.0, 0.5))\n",
    "len(ternary_predictions)\n",
    "#'''"
   ],
   "metadata": {
    "collapsed": false,
    "ExecuteTime": {
     "end_time": "2023-07-28T05:17:08.905295521Z",
     "start_time": "2023-07-28T05:17:08.831781919Z"
    }
   }
  },
  {
   "cell_type": "raw",
   "source": [
    "2348"
   ],
   "metadata": {
    "collapsed": false
   }
  },
  {
   "cell_type": "code",
   "execution_count": 210,
   "outputs": [],
   "source": [
    "# ternary_predictions"
   ],
   "metadata": {
    "collapsed": false,
    "ExecuteTime": {
     "end_time": "2023-07-28T05:17:08.905545453Z",
     "start_time": "2023-07-28T05:17:08.874730323Z"
    }
   }
  },
  {
   "cell_type": "raw",
   "source": [
    "tensor([[1.0000, 0.5000, 0.0000,  ..., 1.0000, 0.0000, 1.0000],\n",
    "        [1.0000, 0.5000, 0.0000,  ..., 1.0000, 0.0000, 1.0000],\n",
    "        [1.0000, 0.5000, 0.0000,  ..., 1.0000, 0.0000, 1.0000],\n",
    "        ...,\n",
    "        [1.0000, 0.5000, 0.0000,  ..., 1.0000, 0.0000, 1.0000],\n",
    "        [1.0000, 0.5000, 0.0000,  ..., 1.0000, 0.0000, 1.0000],\n",
    "        [1.0000, 0.5000, 0.0000,  ..., 1.0000, 0.0000, 1.0000]])"
   ],
   "metadata": {
    "collapsed": false
   }
  },
  {
   "cell_type": "code",
   "execution_count": 211,
   "outputs": [],
   "source": [
    "# # Convert the tensor of predictions to a DataFrame\n",
    "# ternary_predictions_df = pd.DataFrame(ternary_predictions.numpy(), columns=df.columns[13:], index=df.index)\n",
    "# \n",
    "# # Replace the NaN values in df.iloc[:, 13:] with your predictions\n",
    "# df.iloc[:, 13:] = df.iloc[:, 13:].fillna(value=ternary_predictions_df)\n",
    "# df.info()"
   ],
   "metadata": {
    "collapsed": false,
    "ExecuteTime": {
     "end_time": "2023-07-28T05:17:08.905712139Z",
     "start_time": "2023-07-28T05:17:08.874883924Z"
    }
   }
  },
  {
   "cell_type": "raw",
   "source": [
    "<class 'pandas.core.frame.DataFrame'>\n",
    "Int64Index: 2348 entries, 767 to 3382\n",
    "Data columns (total 94 columns):\n",
    " #   Column                                       Non-Null Count  Dtype  \n",
    "---  ------                                       --------------  -----  \n",
    " 0   original_id                                  2348 non-null   int64  \n",
    " 1   ementa                                       2348 non-null   object \n",
    " 2   artigo_1                                     2348 non-null   object \n",
    " 3   ocorrencia                                   2133 non-null   object \n",
    " 4   ocorrencia_revogada                          208 non-null    object \n",
    " 5   table_found                                  2348 non-null   int64  \n",
    " 6   outro_assunto                                2348 non-null   float64\n",
    " 7   n_palavras                                   2348 non-null   float64\n",
    " 8   freq_assunto                                 2348 non-null   float64\n",
    " 9   artigo_1_revogado                            2348 non-null   int64  \n",
    " 10  internacional                                2348 non-null   float64\n",
    " 11  f                                            2348 non-null   float64\n",
    " 12  fx                                           2348 non-null   float64\n",
    " 13  dimensao_normativa                           2348 non-null   float64\n",
    " 14  dimensao_ontológica                          2348 non-null   float64\n",
    " 15  benevolencia_ameaça                          2348 non-null   float64\n",
    " 16  benevolencia_benefício                       2348 non-null   float64\n",
    " 17  benevolencia_neutra                          2348 non-null   float64\n",
    " 18  funcao_social_segurança                      2348 non-null   float64\n",
    " 19  funcao_social_segurança sexual               2348 non-null   float64\n",
    " 20  funcao_social_ECA                            2348 non-null   float64\n",
    " 21  funcao_social_valoração                      2348 non-null   float64\n",
    " 22  funcao_social_inclusão                       2348 non-null   float64\n",
    " 23  funcao_social_consumo                        2348 non-null   float64\n",
    " 24  funcao_social_cultura                        2348 non-null   float64\n",
    " 25  funcao_social_democracia                     2348 non-null   float64\n",
    " 26  funcao_social_transparência                  2348 non-null   float64\n",
    " 27  funcao_social_nacionalismo                   2348 non-null   float64\n",
    " 28  funcao_social_educação                       2348 non-null   float64\n",
    " 29  funcao_social_burocrática                    2348 non-null   float64\n",
    " 30  funcao_social_indivíduo                      2348 non-null   float64\n",
    " 31  funcao_social_propriedade                    2348 non-null   float64\n",
    " 32  funcao_social_privacidade                    2348 non-null   float64\n",
    " 33  funcao_social_controle                       2348 non-null   float64\n",
    " 34  funcao_social_saúde                          2348 non-null   float64\n",
    " 35  funcao_social_comunicação                    2348 non-null   float64\n",
    " 36  funcao_social_organização comunitária        2348 non-null   float64\n",
    " 37  funcao_social_direitos trabalhistas          2348 non-null   float64\n",
    " 38  funcao_social_integridade                    2348 non-null   float64\n",
    " 39  funcao_social_comercial                      2348 non-null   float64\n",
    " 40  funcao_social_mediação                       2348 non-null   float64\n",
    " 41  funcao_social_burocrático                    2348 non-null   float64\n",
    " 42  funcao_social_fiscal                         2348 non-null   float64\n",
    " 43  funcao_social_esporte                        2348 non-null   float64\n",
    " 44  funcao_social_meio ambiente                  2348 non-null   float64\n",
    " 45  funcao_social_ciência                        2348 non-null   float64\n",
    " 46  funcao_social_assunto_ECA                    2348 non-null   float64\n",
    " 47  funcao_social_assunto_transparência          2348 non-null   float64\n",
    " 48  funcao_social_assunto_segurança              2348 non-null   float64\n",
    " 49  funcao_social_assunto_segurança sexual       2348 non-null   float64\n",
    " 50  funcao_social_assunto_democracia             2348 non-null   float64\n",
    " 51  funcao_social_assunto_tributação             2348 non-null   float64\n",
    " 52  funcao_social_assunto_direitos trabalhistas  2348 non-null   float64\n",
    " 53  funcao_social_assunto_salário                2348 non-null   float64\n",
    " 54  funcao_social_assunto_comercial              2348 non-null   float64\n",
    " 55  funcao_social_assunto_burocrática            2348 non-null   float64\n",
    " 56  funcao_social_assunto_mediação               2348 non-null   float64\n",
    " 57  funcao_social_assunto_inclusão               2348 non-null   float64\n",
    " 58  funcao_social_assunto_tansparência           2348 non-null   float64\n",
    " 59  funcao_social_assunto_esporte                2348 non-null   float64\n",
    " 60  funcao_social_assunto_fiscal                 2348 non-null   float64\n",
    " 61  ramo_dogmatico_penal                         2348 non-null   float64\n",
    " 62  ramo_dogmatico_civil                         2348 non-null   float64\n",
    " 63  ramo_dogmatico_eleitoral                     2348 non-null   float64\n",
    " 64  ramo_dogmatico_administrativo                2348 non-null   float64\n",
    " 65  ramo_dogmatico_processual                    2348 non-null   float64\n",
    " 66  ramo_dogmatico_trabalhista                   2348 non-null   float64\n",
    " 67  ramo_dogmatico_orçamentário                  2348 non-null   float64\n",
    " 68  ramo_dogmatico_tributário                    2348 non-null   float64\n",
    " 69  ramo_dogmatico_comercial                     2348 non-null   float64\n",
    " 70  ramo_sociologico_violência                   2348 non-null   float64\n",
    " 71  ramo_sociologico_violência sexual            2348 non-null   float64\n",
    " 72  ramo_sociologico_infância                    2348 non-null   float64\n",
    " 73  ramo_sociologico_comunicação                 2348 non-null   float64\n",
    " 74  ramo_sociologico_econômico                   2348 non-null   float64\n",
    " 75  ramo_sociologico_político                    2348 non-null   float64\n",
    " 76  ramo_sociologico_nacional                    2348 non-null   float64\n",
    " 77  ramo_sociologico_burocrático                 2348 non-null   float64\n",
    " 78  ramo_sociologico_educacional                 2348 non-null   float64\n",
    " 79  ramo_sociologico_individualização            2348 non-null   float64\n",
    " 80  ramo_sociologico_educação                    2348 non-null   float64\n",
    " 81  ramo_sociologico_criminal                    2348 non-null   float64\n",
    " 82  ramo_sociologico_segurança                   2348 non-null   float64\n",
    " 83  ramo_sociologico_ciminal                     2348 non-null   float64\n",
    " 84  ramo_sociologico_saúde                       2348 non-null   float64\n",
    " 85  ramo_sociologico_trabalho                    2348 non-null   float64\n",
    " 86  ramo_sociologico_ética                       2348 non-null   float64\n",
    " 87  ramo_sociologico_rural                       2348 non-null   float64\n",
    " 88  ramo_sociologico_cultura                     2348 non-null   float64\n",
    " 89  ramo_sociologico_esporte                     2348 non-null   float64\n",
    " 90  imposicao_reconhecimento_reconhece           2348 non-null   float64\n",
    " 91  imposicao_reconhecimento_impõe               2348 non-null   float64\n",
    " 92  ferramenta_ambiente_ambiente                 2348 non-null   float64\n",
    " 93  ferramenta_ambiente_ferramenta               2348 non-null   float64\n",
    "dtypes: float64(87), int64(3), object(4)\n",
    "memory usage: 1.7+ MB\n",
    "\n",
    "<ipython-input-71-72c85ee844b9>:5: SettingWithCopyWarning: \n",
    "A value is trying to be set on a copy of a slice from a DataFrame.\n",
    "Try using .loc[row_indexer,col_indexer] = value instead\n",
    "\n",
    "See the caveats in the documentation: https://pandas.pydata.org/pandas-docs/stable/user_guide/indexing.html#returning-a-view-versus-a-copy\n",
    "  df.iloc[:, 13:] = df.iloc[:, 13:].fillna(value=ternary_predictions_df)\n"
   ],
   "metadata": {
    "collapsed": false
   }
  },
  {
   "cell_type": "code",
   "execution_count": 212,
   "outputs": [],
   "source": [
    "# save df in a csv file\n",
    "# df.to_csv('../../df_ternary_predictions.csv', index=False)"
   ],
   "metadata": {
    "collapsed": false,
    "ExecuteTime": {
     "end_time": "2023-07-28T05:17:08.905908645Z",
     "start_time": "2023-07-28T05:17:08.874985284Z"
    }
   }
  },
  {
   "cell_type": "markdown",
   "source": [
    "Maybe you're wonder why am I saving and loading this file.\n",
    "It is because it takes 20 minutes to run the commented code above, so I kept the results.\n",
    "It was the same thing with the transformers model."
   ],
   "metadata": {
    "collapsed": false
   }
  },
  {
   "cell_type": "code",
   "execution_count": 213,
   "outputs": [
    {
     "name": "stdout",
     "output_type": "stream",
     "text": [
      "<class 'pandas.core.frame.DataFrame'>\n",
      "RangeIndex: 2348 entries, 0 to 2347\n",
      "Data columns (total 94 columns):\n",
      " #   Column                                       Non-Null Count  Dtype  \n",
      "---  ------                                       --------------  -----  \n",
      " 0   original_id                                  2348 non-null   int64  \n",
      " 1   ementa                                       2348 non-null   object \n",
      " 2   artigo_1                                     2348 non-null   object \n",
      " 3   ocorrencia                                   2133 non-null   object \n",
      " 4   ocorrencia_revogada                          208 non-null    object \n",
      " 5   table_found                                  2348 non-null   int64  \n",
      " 6   outro_assunto                                2348 non-null   float64\n",
      " 7   n_palavras                                   2348 non-null   float64\n",
      " 8   freq_assunto                                 2348 non-null   float64\n",
      " 9   artigo_1_revogado                            2348 non-null   int64  \n",
      " 10  internacional                                2348 non-null   float64\n",
      " 11  f                                            2348 non-null   float64\n",
      " 12  fx                                           2348 non-null   float64\n",
      " 13  dimensao_normativa                           2348 non-null   float64\n",
      " 14  dimensao_ontológica                          2348 non-null   float64\n",
      " 15  benevolencia_ameaça                          2348 non-null   float64\n",
      " 16  benevolencia_benefício                       2348 non-null   float64\n",
      " 17  benevolencia_neutra                          2348 non-null   float64\n",
      " 18  funcao_social_segurança                      2348 non-null   float64\n",
      " 19  funcao_social_segurança sexual               2348 non-null   float64\n",
      " 20  funcao_social_ECA                            2348 non-null   float64\n",
      " 21  funcao_social_valoração                      2348 non-null   float64\n",
      " 22  funcao_social_inclusão                       2348 non-null   float64\n",
      " 23  funcao_social_consumo                        2348 non-null   float64\n",
      " 24  funcao_social_cultura                        2348 non-null   float64\n",
      " 25  funcao_social_democracia                     2348 non-null   float64\n",
      " 26  funcao_social_transparência                  2348 non-null   float64\n",
      " 27  funcao_social_nacionalismo                   2348 non-null   float64\n",
      " 28  funcao_social_educação                       2348 non-null   float64\n",
      " 29  funcao_social_burocrática                    2348 non-null   float64\n",
      " 30  funcao_social_indivíduo                      2348 non-null   float64\n",
      " 31  funcao_social_propriedade                    2348 non-null   float64\n",
      " 32  funcao_social_privacidade                    2348 non-null   float64\n",
      " 33  funcao_social_controle                       2348 non-null   float64\n",
      " 34  funcao_social_saúde                          2348 non-null   float64\n",
      " 35  funcao_social_comunicação                    2348 non-null   float64\n",
      " 36  funcao_social_organização comunitária        2348 non-null   float64\n",
      " 37  funcao_social_direitos trabalhistas          2348 non-null   float64\n",
      " 38  funcao_social_integridade                    2348 non-null   float64\n",
      " 39  funcao_social_comercial                      2348 non-null   float64\n",
      " 40  funcao_social_mediação                       2348 non-null   float64\n",
      " 41  funcao_social_burocrático                    2348 non-null   float64\n",
      " 42  funcao_social_fiscal                         2348 non-null   float64\n",
      " 43  funcao_social_esporte                        2348 non-null   float64\n",
      " 44  funcao_social_meio ambiente                  2348 non-null   float64\n",
      " 45  funcao_social_ciência                        2348 non-null   float64\n",
      " 46  funcao_social_assunto_ECA                    2348 non-null   float64\n",
      " 47  funcao_social_assunto_transparência          2348 non-null   float64\n",
      " 48  funcao_social_assunto_segurança              2348 non-null   float64\n",
      " 49  funcao_social_assunto_segurança sexual       2348 non-null   float64\n",
      " 50  funcao_social_assunto_democracia             2348 non-null   float64\n",
      " 51  funcao_social_assunto_tributação             2348 non-null   float64\n",
      " 52  funcao_social_assunto_direitos trabalhistas  2348 non-null   float64\n",
      " 53  funcao_social_assunto_salário                2348 non-null   float64\n",
      " 54  funcao_social_assunto_comercial              2348 non-null   float64\n",
      " 55  funcao_social_assunto_burocrática            2348 non-null   float64\n",
      " 56  funcao_social_assunto_mediação               2348 non-null   float64\n",
      " 57  funcao_social_assunto_inclusão               2348 non-null   float64\n",
      " 58  funcao_social_assunto_tansparência           2348 non-null   float64\n",
      " 59  funcao_social_assunto_esporte                2348 non-null   float64\n",
      " 60  funcao_social_assunto_fiscal                 2348 non-null   float64\n",
      " 61  ramo_dogmatico_penal                         2348 non-null   float64\n",
      " 62  ramo_dogmatico_civil                         2348 non-null   float64\n",
      " 63  ramo_dogmatico_eleitoral                     2348 non-null   float64\n",
      " 64  ramo_dogmatico_administrativo                2348 non-null   float64\n",
      " 65  ramo_dogmatico_processual                    2348 non-null   float64\n",
      " 66  ramo_dogmatico_trabalhista                   2348 non-null   float64\n",
      " 67  ramo_dogmatico_orçamentário                  2348 non-null   float64\n",
      " 68  ramo_dogmatico_tributário                    2348 non-null   float64\n",
      " 69  ramo_dogmatico_comercial                     2348 non-null   float64\n",
      " 70  ramo_sociologico_violência                   2348 non-null   float64\n",
      " 71  ramo_sociologico_violência sexual            2348 non-null   float64\n",
      " 72  ramo_sociologico_infância                    2348 non-null   float64\n",
      " 73  ramo_sociologico_comunicação                 2348 non-null   float64\n",
      " 74  ramo_sociologico_econômico                   2348 non-null   float64\n",
      " 75  ramo_sociologico_político                    2348 non-null   float64\n",
      " 76  ramo_sociologico_nacional                    2348 non-null   float64\n",
      " 77  ramo_sociologico_burocrático                 2348 non-null   float64\n",
      " 78  ramo_sociologico_educacional                 2348 non-null   float64\n",
      " 79  ramo_sociologico_individualização            2348 non-null   float64\n",
      " 80  ramo_sociologico_educação                    2348 non-null   float64\n",
      " 81  ramo_sociologico_criminal                    2348 non-null   float64\n",
      " 82  ramo_sociologico_segurança                   2348 non-null   float64\n",
      " 83  ramo_sociologico_ciminal                     2348 non-null   float64\n",
      " 84  ramo_sociologico_saúde                       2348 non-null   float64\n",
      " 85  ramo_sociologico_trabalho                    2348 non-null   float64\n",
      " 86  ramo_sociologico_ética                       2348 non-null   float64\n",
      " 87  ramo_sociologico_rural                       2348 non-null   float64\n",
      " 88  ramo_sociologico_cultura                     2348 non-null   float64\n",
      " 89  ramo_sociologico_esporte                     2348 non-null   float64\n",
      " 90  imposicao_reconhecimento_reconhece           2348 non-null   float64\n",
      " 91  imposicao_reconhecimento_impõe               2348 non-null   float64\n",
      " 92  ferramenta_ambiente_ambiente                 2348 non-null   float64\n",
      " 93  ferramenta_ambiente_ferramenta               2348 non-null   float64\n",
      "dtypes: float64(87), int64(3), object(4)\n",
      "memory usage: 1.7+ MB\n"
     ]
    }
   ],
   "source": [
    "# load df from a csv file\n",
    "df = pd.read_csv('../../df_ternary_predictions.csv')\n",
    "df.info()"
   ],
   "metadata": {
    "collapsed": false,
    "ExecuteTime": {
     "end_time": "2023-07-28T05:17:09.104927348Z",
     "start_time": "2023-07-28T05:17:08.875066726Z"
    }
   }
  },
  {
   "cell_type": "markdown",
   "source": [
    "# Fit back to 247 rows\n",
    "### Now it is time\n",
    "##### to fit the predicted dataframe back to 247 rows, by taking the original_ids and the predicted labels and essembling them back togethe\n",
    "Actually, I will fit it back to the df_all that has all the occurrences first, then I essemble it back to the df_247."
   ],
   "metadata": {
    "collapsed": false
   }
  },
  {
   "cell_type": "code",
   "execution_count": 214,
   "outputs": [],
   "source": [
    "df_all_backup = df_all.copy()"
   ],
   "metadata": {
    "collapsed": false,
    "ExecuteTime": {
     "end_time": "2023-07-28T05:17:09.105388134Z",
     "start_time": "2023-07-28T05:17:08.918016633Z"
    }
   }
  },
  {
   "cell_type": "code",
   "execution_count": 215,
   "outputs": [
    {
     "data": {
      "text/plain": "      original_id                                             ementa  \\\n0               1  Altera o Título VI da Parte Especial do Decret...   \n1               2  Estabelece princípios, garantias, direitos e d...   \n2               2  Estabelece princípios, garantias, direitos e d...   \n3               2  Estabelece princípios, garantias, direitos e d...   \n4               2  Estabelece princípios, garantias, direitos e d...   \n5               2  Estabelece princípios, garantias, direitos e d...   \n6               2  Estabelece princípios, garantias, direitos e d...   \n7               2  Estabelece princípios, garantias, direitos e d...   \n8               2  Estabelece princípios, garantias, direitos e d...   \n9               2  Estabelece princípios, garantias, direitos e d...   \n760            61  Dispõe sobre as medidas excepcionais relativas...   \n761            61  Dispõe sobre as medidas excepcionais relativas...   \n762            61  Dispõe sobre as medidas excepcionais relativas...   \n763            61  Dispõe sobre as medidas excepcionais relativas...   \n764            61  Dispõe sobre as medidas excepcionais relativas...   \n765            61  Dispõe sobre as medidas excepcionais relativas...   \n766            62  Abre ao Orçamento Fiscal da União, em favor do...   \n767            63  Institui a Política Nacional de Assistência Té...   \n768            63  Institui a Política Nacional de Assistência Té...   \n769            63  Institui a Política Nacional de Assistência Té...   \n3373          245        Aprova a Consolidação das Leis do Trabalho.   \n3374          245        Aprova a Consolidação das Leis do Trabalho.   \n3375          245        Aprova a Consolidação das Leis do Trabalho.   \n3376          245        Aprova a Consolidação das Leis do Trabalho.   \n3377          245        Aprova a Consolidação das Leis do Trabalho.   \n3378          245        Aprova a Consolidação das Leis do Trabalho.   \n3379          245        Aprova a Consolidação das Leis do Trabalho.   \n3380          246               Institui o Código de Processo Civil.   \n3381          247                           Institui o Código Civil.   \n3382          247                           Institui o Código Civil.   \n\n                                               artigo_1  \\\n0     Esta Lei altera o Título VI da Parte Especial ...   \n1     Esta Lei estabelece princípios, garantias, dir...   \n2     Esta Lei estabelece princípios, garantias, dir...   \n3     Esta Lei estabelece princípios, garantias, dir...   \n4     Esta Lei estabelece princípios, garantias, dir...   \n5     Esta Lei estabelece princípios, garantias, dir...   \n6     Esta Lei estabelece princípios, garantias, dir...   \n7     Esta Lei estabelece princípios, garantias, dir...   \n8     Esta Lei estabelece princípios, garantias, dir...   \n9     Esta Lei estabelece princípios, garantias, dir...   \n760   Esta Lei dispõe sobre as medidas excepcionais ...   \n761   Esta Lei dispõe sobre as medidas excepcionais ...   \n762   Esta Lei dispõe sobre as medidas excepcionais ...   \n763   Esta Lei dispõe sobre as medidas excepcionais ...   \n764   Esta Lei dispõe sobre as medidas excepcionais ...   \n765   Esta Lei dispõe sobre as medidas excepcionais ...   \n766   Fica aberto ao Orçamento Fiscal da União (Lei ...   \n767   Fica instituída a Política Nacional de Assistê...   \n768   Fica instituída a Política Nacional de Assistê...   \n769   Fica instituída a Política Nacional de Assistê...   \n3373  Fica aprovada a Consolidação das Leis do Traba...   \n3374  Fica aprovada a Consolidação das Leis do Traba...   \n3375  Fica aprovada a Consolidação das Leis do Traba...   \n3376  Fica aprovada a Consolidação das Leis do Traba...   \n3377  Fica aprovada a Consolidação das Leis do Traba...   \n3378  Fica aprovada a Consolidação das Leis do Traba...   \n3379  Fica aprovada a Consolidação das Leis do Traba...   \n3380  A jurisdição civil, contenciosa e voluntária, ...   \n3381  Toda pessoa é capaz de direitos e deveres na o...   \n3382  Toda pessoa é capaz de direitos e deveres na o...   \n\n                                             ocorrencia  \\\n0      _o_ incorre nas penas previstas caput deste a...   \n1      esta lei estabelece princípios garantias dire...   \n2      disciplina uso internet brasil tem como funda...   \n3      disciplina uso internet brasil tem seguintes ...   \n4     viii liberdade dos modelos negócios promovidos...   \n5      disciplina uso internet brasil tem por objeti...   \n6                         direito acesso internet todos   \n7     iii inovação fomento ampla difusão novas tecno...   \n8      adesão padrões tecnológicos abertos que permi...   \n9      internet sistema constituído conjunto protoco...   \n760    contratação bens serviços logística tecnologi...   \n761        sítios internet especializados domínio amplo   \n762    nos casos licitação modalidade pregão eletrôn...   \n763    plano nacional operacionalização vacinação co...   \n764    administração pública disponibilizará sítio o...   \n765    insumos bens serviços logística tecnologia in...   \n766                                                 NaN   \n767    promover desenvolvimento apropriação inovaçõe...   \n768   parágrafo único será dada publicidade chamada ...   \n769    contratos todas demais ações pronater serão o...   \n3373                                                NaN   \n3374                                                NaN   \n3375                                                NaN   \n3376                                                NaN   \n3377                                                NaN   \n3378                                                NaN   \n3379                                                NaN   \n3380                                                NaN   \n3381                                                NaN   \n3382                                                NaN   \n\n                                    ocorrencia_revogada  table_found  \\\n0                                                   NaN            0   \n1                                                   NaN            0   \n2                                                   NaN            0   \n3                                                   NaN            0   \n4                                                   NaN            0   \n5                                                   NaN            0   \n6                                                   NaN            0   \n7                                                   NaN            0   \n8                                                   NaN            0   \n9                                                   NaN            0   \n760                                                 NaN            0   \n761                                                 NaN            0   \n762                                                 NaN            0   \n763                                                 NaN            0   \n764                                                 NaN            0   \n765                                                 NaN            0   \n766                                                 NaN            0   \n767                                                 NaN            0   \n768                                                 NaN            0   \n769                                                 NaN            0   \n3373   auto infração será registrado meio eletrônico...            0   \n3374   documentos sujeitos inspeção poderão ser apre...            0   \n3375   documentos sujeitos inspeção poderão ser apre...            0   \n3376   valor multa será reduzido trinta por cento in...            0   \n3377   valor multa será reduzido cinquenta por cento...            0   \n3378   valor multa será reduzido trinta por cento in...            0   \n3379   valor multa será reduzido cinquenta por cento...            0   \n3380                                                NaN            0   \n3381   pessoas jurídicas direito privado sem prejuíz...            0   \n3382   pessoas jurídicas direito privado sem prejuíz...            0   \n\n      outro_assunto  n_palavras  freq_assunto  artigo_1_revogado  ...  \\\n0               1.0        1799       0.00111                  0  ...   \n1               0.0        6698       0.01911                  0  ...   \n2               0.0        6698       0.01911                  0  ...   \n3               0.0        6698       0.01911                  0  ...   \n4               0.0        6698       0.01911                  0  ...   \n5               0.0        6698       0.01911                  0  ...   \n6               0.0        6698       0.01911                  0  ...   \n7               0.0        6698       0.01911                  0  ...   \n8               0.0        6698       0.01911                  0  ...   \n9               0.0        6698       0.01911                  0  ...   \n760             0.0        3710       0.00270                  0  ...   \n761             0.0        3710       0.00270                  0  ...   \n762             0.0        3710       0.00270                  0  ...   \n763             0.0        3710       0.00270                  0  ...   \n764             0.0        3710       0.00270                  0  ...   \n765             0.0        3710       0.00270                  0  ...   \n766             0.0        3000       0.00700                  0  ...   \n767             1.0        2301       0.00391                  0  ...   \n768             1.0        2301       0.00391                  0  ...   \n769             1.0        2301       0.00391                  0  ...   \n3373            1.0      217821       0.00057                  0  ...   \n3374            1.0      217821       0.00057                  0  ...   \n3375            1.0      217821       0.00057                  0  ...   \n3376            1.0      217821       0.00057                  0  ...   \n3377            1.0      217821       0.00057                  0  ...   \n3378            1.0      217821       0.00057                  0  ...   \n3379            1.0      217821       0.00057                  0  ...   \n3380            1.0         281       0.00000                  1  ...   \n3381            1.0        4026       0.00050                  0  ...   \n3382            1.0        4026       0.00050                  0  ...   \n\n      ramo_sociologico_saúde  ramo_sociologico_trabalho  \\\n0                        0.0                        0.0   \n1                        0.0                        0.0   \n2                        0.0                        0.0   \n3                        0.0                        0.0   \n4                        0.0                        0.0   \n5                        0.0                        0.0   \n6                        0.0                        0.0   \n7                        0.0                        0.0   \n8                        0.0                        0.0   \n9                        0.0                        0.0   \n760                      1.0                        0.0   \n761                      1.0                        0.0   \n762                      1.0                        0.0   \n763                      1.0                        0.0   \n764                      1.0                        0.0   \n765                      1.0                        0.0   \n766                      0.0                        0.0   \n767                      NaN                        NaN   \n768                      NaN                        NaN   \n769                      NaN                        NaN   \n3373                     NaN                        NaN   \n3374                     NaN                        NaN   \n3375                     NaN                        NaN   \n3376                     NaN                        NaN   \n3377                     NaN                        NaN   \n3378                     NaN                        NaN   \n3379                     NaN                        NaN   \n3380                     NaN                        NaN   \n3381                     NaN                        NaN   \n3382                     NaN                        NaN   \n\n      ramo_sociologico_ética  ramo_sociologico_rural  \\\n0                        0.0                     0.0   \n1                        0.0                     0.0   \n2                        0.0                     0.0   \n3                        0.0                     0.0   \n4                        0.0                     0.0   \n5                        0.0                     0.0   \n6                        0.0                     0.0   \n7                        0.0                     0.0   \n8                        0.0                     0.0   \n9                        0.0                     0.0   \n760                      0.0                     0.0   \n761                      0.0                     0.0   \n762                      0.0                     0.0   \n763                      0.0                     0.0   \n764                      0.0                     0.0   \n765                      0.0                     0.0   \n766                      0.0                     0.0   \n767                      NaN                     NaN   \n768                      NaN                     NaN   \n769                      NaN                     NaN   \n3373                     NaN                     NaN   \n3374                     NaN                     NaN   \n3375                     NaN                     NaN   \n3376                     NaN                     NaN   \n3377                     NaN                     NaN   \n3378                     NaN                     NaN   \n3379                     NaN                     NaN   \n3380                     NaN                     NaN   \n3381                     NaN                     NaN   \n3382                     NaN                     NaN   \n\n      ramo_sociologico_cultura  ramo_sociologico_esporte  \\\n0                          0.0                       0.0   \n1                          0.0                       0.0   \n2                          0.0                       0.0   \n3                          0.0                       0.0   \n4                          0.0                       0.0   \n5                          0.0                       0.0   \n6                          0.0                       0.0   \n7                          0.0                       0.0   \n8                          0.0                       0.0   \n9                          0.0                       0.0   \n760                        0.0                       0.0   \n761                        0.0                       0.0   \n762                        0.0                       0.0   \n763                        0.0                       0.0   \n764                        0.0                       0.0   \n765                        0.0                       0.0   \n766                        0.0                       0.0   \n767                        NaN                       NaN   \n768                        NaN                       NaN   \n769                        NaN                       NaN   \n3373                       NaN                       NaN   \n3374                       NaN                       NaN   \n3375                       NaN                       NaN   \n3376                       NaN                       NaN   \n3377                       NaN                       NaN   \n3378                       NaN                       NaN   \n3379                       NaN                       NaN   \n3380                       NaN                       NaN   \n3381                       NaN                       NaN   \n3382                       NaN                       NaN   \n\n      imposicao_reconhecimento_reconhece  imposicao_reconhecimento_impõe  \\\n0                                    1.0                             0.0   \n1                                    1.0                             0.0   \n2                                    1.0                             0.0   \n3                                    1.0                             0.0   \n4                                    1.0                             0.0   \n5                                    1.0                             0.0   \n6                                    1.0                             0.0   \n7                                    1.0                             0.0   \n8                                    1.0                             0.0   \n9                                    1.0                             0.0   \n760                                  0.0                             1.0   \n761                                  0.0                             1.0   \n762                                  0.0                             1.0   \n763                                  0.0                             1.0   \n764                                  0.0                             1.0   \n765                                  0.0                             1.0   \n766                                  0.0                             0.0   \n767                                  NaN                             NaN   \n768                                  NaN                             NaN   \n769                                  NaN                             NaN   \n3373                                 NaN                             NaN   \n3374                                 NaN                             NaN   \n3375                                 NaN                             NaN   \n3376                                 NaN                             NaN   \n3377                                 NaN                             NaN   \n3378                                 NaN                             NaN   \n3379                                 NaN                             NaN   \n3380                                 NaN                             NaN   \n3381                                 NaN                             NaN   \n3382                                 NaN                             NaN   \n\n      ferramenta_ambiente_ambiente  ferramenta_ambiente_ferramenta  \n0                              1.0                             0.0  \n1                              1.0                             1.0  \n2                              1.0                             1.0  \n3                              1.0                             1.0  \n4                              1.0                             1.0  \n5                              1.0                             1.0  \n6                              1.0                             1.0  \n7                              1.0                             1.0  \n8                              1.0                             1.0  \n9                              1.0                             1.0  \n760                            0.0                             1.0  \n761                            0.0                             1.0  \n762                            0.0                             1.0  \n763                            0.0                             1.0  \n764                            0.0                             1.0  \n765                            0.0                             1.0  \n766                            0.0                             1.0  \n767                            NaN                             NaN  \n768                            NaN                             NaN  \n769                            NaN                             NaN  \n3373                           NaN                             NaN  \n3374                           NaN                             NaN  \n3375                           NaN                             NaN  \n3376                           NaN                             NaN  \n3377                           NaN                             NaN  \n3378                           NaN                             NaN  \n3379                           NaN                             NaN  \n3380                           NaN                             NaN  \n3381                           NaN                             NaN  \n3382                           NaN                             NaN  \n\n[30 rows x 94 columns]",
      "text/html": "<div>\n<style scoped>\n    .dataframe tbody tr th:only-of-type {\n        vertical-align: middle;\n    }\n\n    .dataframe tbody tr th {\n        vertical-align: top;\n    }\n\n    .dataframe thead th {\n        text-align: right;\n    }\n</style>\n<table border=\"1\" class=\"dataframe\">\n  <thead>\n    <tr style=\"text-align: right;\">\n      <th></th>\n      <th>original_id</th>\n      <th>ementa</th>\n      <th>artigo_1</th>\n      <th>ocorrencia</th>\n      <th>ocorrencia_revogada</th>\n      <th>table_found</th>\n      <th>outro_assunto</th>\n      <th>n_palavras</th>\n      <th>freq_assunto</th>\n      <th>artigo_1_revogado</th>\n      <th>...</th>\n      <th>ramo_sociologico_saúde</th>\n      <th>ramo_sociologico_trabalho</th>\n      <th>ramo_sociologico_ética</th>\n      <th>ramo_sociologico_rural</th>\n      <th>ramo_sociologico_cultura</th>\n      <th>ramo_sociologico_esporte</th>\n      <th>imposicao_reconhecimento_reconhece</th>\n      <th>imposicao_reconhecimento_impõe</th>\n      <th>ferramenta_ambiente_ambiente</th>\n      <th>ferramenta_ambiente_ferramenta</th>\n    </tr>\n  </thead>\n  <tbody>\n    <tr>\n      <th>0</th>\n      <td>1</td>\n      <td>Altera o Título VI da Parte Especial do Decret...</td>\n      <td>Esta Lei altera o Título VI da Parte Especial ...</td>\n      <td>_o_ incorre nas penas previstas caput deste a...</td>\n      <td>NaN</td>\n      <td>0</td>\n      <td>1.0</td>\n      <td>1799</td>\n      <td>0.00111</td>\n      <td>0</td>\n      <td>...</td>\n      <td>0.0</td>\n      <td>0.0</td>\n      <td>0.0</td>\n      <td>0.0</td>\n      <td>0.0</td>\n      <td>0.0</td>\n      <td>1.0</td>\n      <td>0.0</td>\n      <td>1.0</td>\n      <td>0.0</td>\n    </tr>\n    <tr>\n      <th>1</th>\n      <td>2</td>\n      <td>Estabelece princípios, garantias, direitos e d...</td>\n      <td>Esta Lei estabelece princípios, garantias, dir...</td>\n      <td>esta lei estabelece princípios garantias dire...</td>\n      <td>NaN</td>\n      <td>0</td>\n      <td>0.0</td>\n      <td>6698</td>\n      <td>0.01911</td>\n      <td>0</td>\n      <td>...</td>\n      <td>0.0</td>\n      <td>0.0</td>\n      <td>0.0</td>\n      <td>0.0</td>\n      <td>0.0</td>\n      <td>0.0</td>\n      <td>1.0</td>\n      <td>0.0</td>\n      <td>1.0</td>\n      <td>1.0</td>\n    </tr>\n    <tr>\n      <th>2</th>\n      <td>2</td>\n      <td>Estabelece princípios, garantias, direitos e d...</td>\n      <td>Esta Lei estabelece princípios, garantias, dir...</td>\n      <td>disciplina uso internet brasil tem como funda...</td>\n      <td>NaN</td>\n      <td>0</td>\n      <td>0.0</td>\n      <td>6698</td>\n      <td>0.01911</td>\n      <td>0</td>\n      <td>...</td>\n      <td>0.0</td>\n      <td>0.0</td>\n      <td>0.0</td>\n      <td>0.0</td>\n      <td>0.0</td>\n      <td>0.0</td>\n      <td>1.0</td>\n      <td>0.0</td>\n      <td>1.0</td>\n      <td>1.0</td>\n    </tr>\n    <tr>\n      <th>3</th>\n      <td>2</td>\n      <td>Estabelece princípios, garantias, direitos e d...</td>\n      <td>Esta Lei estabelece princípios, garantias, dir...</td>\n      <td>disciplina uso internet brasil tem seguintes ...</td>\n      <td>NaN</td>\n      <td>0</td>\n      <td>0.0</td>\n      <td>6698</td>\n      <td>0.01911</td>\n      <td>0</td>\n      <td>...</td>\n      <td>0.0</td>\n      <td>0.0</td>\n      <td>0.0</td>\n      <td>0.0</td>\n      <td>0.0</td>\n      <td>0.0</td>\n      <td>1.0</td>\n      <td>0.0</td>\n      <td>1.0</td>\n      <td>1.0</td>\n    </tr>\n    <tr>\n      <th>4</th>\n      <td>2</td>\n      <td>Estabelece princípios, garantias, direitos e d...</td>\n      <td>Esta Lei estabelece princípios, garantias, dir...</td>\n      <td>viii liberdade dos modelos negócios promovidos...</td>\n      <td>NaN</td>\n      <td>0</td>\n      <td>0.0</td>\n      <td>6698</td>\n      <td>0.01911</td>\n      <td>0</td>\n      <td>...</td>\n      <td>0.0</td>\n      <td>0.0</td>\n      <td>0.0</td>\n      <td>0.0</td>\n      <td>0.0</td>\n      <td>0.0</td>\n      <td>1.0</td>\n      <td>0.0</td>\n      <td>1.0</td>\n      <td>1.0</td>\n    </tr>\n    <tr>\n      <th>5</th>\n      <td>2</td>\n      <td>Estabelece princípios, garantias, direitos e d...</td>\n      <td>Esta Lei estabelece princípios, garantias, dir...</td>\n      <td>disciplina uso internet brasil tem por objeti...</td>\n      <td>NaN</td>\n      <td>0</td>\n      <td>0.0</td>\n      <td>6698</td>\n      <td>0.01911</td>\n      <td>0</td>\n      <td>...</td>\n      <td>0.0</td>\n      <td>0.0</td>\n      <td>0.0</td>\n      <td>0.0</td>\n      <td>0.0</td>\n      <td>0.0</td>\n      <td>1.0</td>\n      <td>0.0</td>\n      <td>1.0</td>\n      <td>1.0</td>\n    </tr>\n    <tr>\n      <th>6</th>\n      <td>2</td>\n      <td>Estabelece princípios, garantias, direitos e d...</td>\n      <td>Esta Lei estabelece princípios, garantias, dir...</td>\n      <td>direito acesso internet todos</td>\n      <td>NaN</td>\n      <td>0</td>\n      <td>0.0</td>\n      <td>6698</td>\n      <td>0.01911</td>\n      <td>0</td>\n      <td>...</td>\n      <td>0.0</td>\n      <td>0.0</td>\n      <td>0.0</td>\n      <td>0.0</td>\n      <td>0.0</td>\n      <td>0.0</td>\n      <td>1.0</td>\n      <td>0.0</td>\n      <td>1.0</td>\n      <td>1.0</td>\n    </tr>\n    <tr>\n      <th>7</th>\n      <td>2</td>\n      <td>Estabelece princípios, garantias, direitos e d...</td>\n      <td>Esta Lei estabelece princípios, garantias, dir...</td>\n      <td>iii inovação fomento ampla difusão novas tecno...</td>\n      <td>NaN</td>\n      <td>0</td>\n      <td>0.0</td>\n      <td>6698</td>\n      <td>0.01911</td>\n      <td>0</td>\n      <td>...</td>\n      <td>0.0</td>\n      <td>0.0</td>\n      <td>0.0</td>\n      <td>0.0</td>\n      <td>0.0</td>\n      <td>0.0</td>\n      <td>1.0</td>\n      <td>0.0</td>\n      <td>1.0</td>\n      <td>1.0</td>\n    </tr>\n    <tr>\n      <th>8</th>\n      <td>2</td>\n      <td>Estabelece princípios, garantias, direitos e d...</td>\n      <td>Esta Lei estabelece princípios, garantias, dir...</td>\n      <td>adesão padrões tecnológicos abertos que permi...</td>\n      <td>NaN</td>\n      <td>0</td>\n      <td>0.0</td>\n      <td>6698</td>\n      <td>0.01911</td>\n      <td>0</td>\n      <td>...</td>\n      <td>0.0</td>\n      <td>0.0</td>\n      <td>0.0</td>\n      <td>0.0</td>\n      <td>0.0</td>\n      <td>0.0</td>\n      <td>1.0</td>\n      <td>0.0</td>\n      <td>1.0</td>\n      <td>1.0</td>\n    </tr>\n    <tr>\n      <th>9</th>\n      <td>2</td>\n      <td>Estabelece princípios, garantias, direitos e d...</td>\n      <td>Esta Lei estabelece princípios, garantias, dir...</td>\n      <td>internet sistema constituído conjunto protoco...</td>\n      <td>NaN</td>\n      <td>0</td>\n      <td>0.0</td>\n      <td>6698</td>\n      <td>0.01911</td>\n      <td>0</td>\n      <td>...</td>\n      <td>0.0</td>\n      <td>0.0</td>\n      <td>0.0</td>\n      <td>0.0</td>\n      <td>0.0</td>\n      <td>0.0</td>\n      <td>1.0</td>\n      <td>0.0</td>\n      <td>1.0</td>\n      <td>1.0</td>\n    </tr>\n    <tr>\n      <th>760</th>\n      <td>61</td>\n      <td>Dispõe sobre as medidas excepcionais relativas...</td>\n      <td>Esta Lei dispõe sobre as medidas excepcionais ...</td>\n      <td>contratação bens serviços logística tecnologi...</td>\n      <td>NaN</td>\n      <td>0</td>\n      <td>0.0</td>\n      <td>3710</td>\n      <td>0.00270</td>\n      <td>0</td>\n      <td>...</td>\n      <td>1.0</td>\n      <td>0.0</td>\n      <td>0.0</td>\n      <td>0.0</td>\n      <td>0.0</td>\n      <td>0.0</td>\n      <td>0.0</td>\n      <td>1.0</td>\n      <td>0.0</td>\n      <td>1.0</td>\n    </tr>\n    <tr>\n      <th>761</th>\n      <td>61</td>\n      <td>Dispõe sobre as medidas excepcionais relativas...</td>\n      <td>Esta Lei dispõe sobre as medidas excepcionais ...</td>\n      <td>sítios internet especializados domínio amplo</td>\n      <td>NaN</td>\n      <td>0</td>\n      <td>0.0</td>\n      <td>3710</td>\n      <td>0.00270</td>\n      <td>0</td>\n      <td>...</td>\n      <td>1.0</td>\n      <td>0.0</td>\n      <td>0.0</td>\n      <td>0.0</td>\n      <td>0.0</td>\n      <td>0.0</td>\n      <td>0.0</td>\n      <td>1.0</td>\n      <td>0.0</td>\n      <td>1.0</td>\n    </tr>\n    <tr>\n      <th>762</th>\n      <td>61</td>\n      <td>Dispõe sobre as medidas excepcionais relativas...</td>\n      <td>Esta Lei dispõe sobre as medidas excepcionais ...</td>\n      <td>nos casos licitação modalidade pregão eletrôn...</td>\n      <td>NaN</td>\n      <td>0</td>\n      <td>0.0</td>\n      <td>3710</td>\n      <td>0.00270</td>\n      <td>0</td>\n      <td>...</td>\n      <td>1.0</td>\n      <td>0.0</td>\n      <td>0.0</td>\n      <td>0.0</td>\n      <td>0.0</td>\n      <td>0.0</td>\n      <td>0.0</td>\n      <td>1.0</td>\n      <td>0.0</td>\n      <td>1.0</td>\n    </tr>\n    <tr>\n      <th>763</th>\n      <td>61</td>\n      <td>Dispõe sobre as medidas excepcionais relativas...</td>\n      <td>Esta Lei dispõe sobre as medidas excepcionais ...</td>\n      <td>plano nacional operacionalização vacinação co...</td>\n      <td>NaN</td>\n      <td>0</td>\n      <td>0.0</td>\n      <td>3710</td>\n      <td>0.00270</td>\n      <td>0</td>\n      <td>...</td>\n      <td>1.0</td>\n      <td>0.0</td>\n      <td>0.0</td>\n      <td>0.0</td>\n      <td>0.0</td>\n      <td>0.0</td>\n      <td>0.0</td>\n      <td>1.0</td>\n      <td>0.0</td>\n      <td>1.0</td>\n    </tr>\n    <tr>\n      <th>764</th>\n      <td>61</td>\n      <td>Dispõe sobre as medidas excepcionais relativas...</td>\n      <td>Esta Lei dispõe sobre as medidas excepcionais ...</td>\n      <td>administração pública disponibilizará sítio o...</td>\n      <td>NaN</td>\n      <td>0</td>\n      <td>0.0</td>\n      <td>3710</td>\n      <td>0.00270</td>\n      <td>0</td>\n      <td>...</td>\n      <td>1.0</td>\n      <td>0.0</td>\n      <td>0.0</td>\n      <td>0.0</td>\n      <td>0.0</td>\n      <td>0.0</td>\n      <td>0.0</td>\n      <td>1.0</td>\n      <td>0.0</td>\n      <td>1.0</td>\n    </tr>\n    <tr>\n      <th>765</th>\n      <td>61</td>\n      <td>Dispõe sobre as medidas excepcionais relativas...</td>\n      <td>Esta Lei dispõe sobre as medidas excepcionais ...</td>\n      <td>insumos bens serviços logística tecnologia in...</td>\n      <td>NaN</td>\n      <td>0</td>\n      <td>0.0</td>\n      <td>3710</td>\n      <td>0.00270</td>\n      <td>0</td>\n      <td>...</td>\n      <td>1.0</td>\n      <td>0.0</td>\n      <td>0.0</td>\n      <td>0.0</td>\n      <td>0.0</td>\n      <td>0.0</td>\n      <td>0.0</td>\n      <td>1.0</td>\n      <td>0.0</td>\n      <td>1.0</td>\n    </tr>\n    <tr>\n      <th>766</th>\n      <td>62</td>\n      <td>Abre ao Orçamento Fiscal da União, em favor do...</td>\n      <td>Fica aberto ao Orçamento Fiscal da União (Lei ...</td>\n      <td>NaN</td>\n      <td>NaN</td>\n      <td>0</td>\n      <td>0.0</td>\n      <td>3000</td>\n      <td>0.00700</td>\n      <td>0</td>\n      <td>...</td>\n      <td>0.0</td>\n      <td>0.0</td>\n      <td>0.0</td>\n      <td>0.0</td>\n      <td>0.0</td>\n      <td>0.0</td>\n      <td>0.0</td>\n      <td>0.0</td>\n      <td>0.0</td>\n      <td>1.0</td>\n    </tr>\n    <tr>\n      <th>767</th>\n      <td>63</td>\n      <td>Institui a Política Nacional de Assistência Té...</td>\n      <td>Fica instituída a Política Nacional de Assistê...</td>\n      <td>promover desenvolvimento apropriação inovaçõe...</td>\n      <td>NaN</td>\n      <td>0</td>\n      <td>1.0</td>\n      <td>2301</td>\n      <td>0.00391</td>\n      <td>0</td>\n      <td>...</td>\n      <td>NaN</td>\n      <td>NaN</td>\n      <td>NaN</td>\n      <td>NaN</td>\n      <td>NaN</td>\n      <td>NaN</td>\n      <td>NaN</td>\n      <td>NaN</td>\n      <td>NaN</td>\n      <td>NaN</td>\n    </tr>\n    <tr>\n      <th>768</th>\n      <td>63</td>\n      <td>Institui a Política Nacional de Assistência Té...</td>\n      <td>Fica instituída a Política Nacional de Assistê...</td>\n      <td>parágrafo único será dada publicidade chamada ...</td>\n      <td>NaN</td>\n      <td>0</td>\n      <td>1.0</td>\n      <td>2301</td>\n      <td>0.00391</td>\n      <td>0</td>\n      <td>...</td>\n      <td>NaN</td>\n      <td>NaN</td>\n      <td>NaN</td>\n      <td>NaN</td>\n      <td>NaN</td>\n      <td>NaN</td>\n      <td>NaN</td>\n      <td>NaN</td>\n      <td>NaN</td>\n      <td>NaN</td>\n    </tr>\n    <tr>\n      <th>769</th>\n      <td>63</td>\n      <td>Institui a Política Nacional de Assistência Té...</td>\n      <td>Fica instituída a Política Nacional de Assistê...</td>\n      <td>contratos todas demais ações pronater serão o...</td>\n      <td>NaN</td>\n      <td>0</td>\n      <td>1.0</td>\n      <td>2301</td>\n      <td>0.00391</td>\n      <td>0</td>\n      <td>...</td>\n      <td>NaN</td>\n      <td>NaN</td>\n      <td>NaN</td>\n      <td>NaN</td>\n      <td>NaN</td>\n      <td>NaN</td>\n      <td>NaN</td>\n      <td>NaN</td>\n      <td>NaN</td>\n      <td>NaN</td>\n    </tr>\n    <tr>\n      <th>3373</th>\n      <td>245</td>\n      <td>Aprova a Consolidação das Leis do Trabalho.</td>\n      <td>Fica aprovada a Consolidação das Leis do Traba...</td>\n      <td>NaN</td>\n      <td>auto infração será registrado meio eletrônico...</td>\n      <td>0</td>\n      <td>1.0</td>\n      <td>217821</td>\n      <td>0.00057</td>\n      <td>0</td>\n      <td>...</td>\n      <td>NaN</td>\n      <td>NaN</td>\n      <td>NaN</td>\n      <td>NaN</td>\n      <td>NaN</td>\n      <td>NaN</td>\n      <td>NaN</td>\n      <td>NaN</td>\n      <td>NaN</td>\n      <td>NaN</td>\n    </tr>\n    <tr>\n      <th>3374</th>\n      <td>245</td>\n      <td>Aprova a Consolidação das Leis do Trabalho.</td>\n      <td>Fica aprovada a Consolidação das Leis do Traba...</td>\n      <td>NaN</td>\n      <td>documentos sujeitos inspeção poderão ser apre...</td>\n      <td>0</td>\n      <td>1.0</td>\n      <td>217821</td>\n      <td>0.00057</td>\n      <td>0</td>\n      <td>...</td>\n      <td>NaN</td>\n      <td>NaN</td>\n      <td>NaN</td>\n      <td>NaN</td>\n      <td>NaN</td>\n      <td>NaN</td>\n      <td>NaN</td>\n      <td>NaN</td>\n      <td>NaN</td>\n      <td>NaN</td>\n    </tr>\n    <tr>\n      <th>3375</th>\n      <td>245</td>\n      <td>Aprova a Consolidação das Leis do Trabalho.</td>\n      <td>Fica aprovada a Consolidação das Leis do Traba...</td>\n      <td>NaN</td>\n      <td>documentos sujeitos inspeção poderão ser apre...</td>\n      <td>0</td>\n      <td>1.0</td>\n      <td>217821</td>\n      <td>0.00057</td>\n      <td>0</td>\n      <td>...</td>\n      <td>NaN</td>\n      <td>NaN</td>\n      <td>NaN</td>\n      <td>NaN</td>\n      <td>NaN</td>\n      <td>NaN</td>\n      <td>NaN</td>\n      <td>NaN</td>\n      <td>NaN</td>\n      <td>NaN</td>\n    </tr>\n    <tr>\n      <th>3376</th>\n      <td>245</td>\n      <td>Aprova a Consolidação das Leis do Trabalho.</td>\n      <td>Fica aprovada a Consolidação das Leis do Traba...</td>\n      <td>NaN</td>\n      <td>valor multa será reduzido trinta por cento in...</td>\n      <td>0</td>\n      <td>1.0</td>\n      <td>217821</td>\n      <td>0.00057</td>\n      <td>0</td>\n      <td>...</td>\n      <td>NaN</td>\n      <td>NaN</td>\n      <td>NaN</td>\n      <td>NaN</td>\n      <td>NaN</td>\n      <td>NaN</td>\n      <td>NaN</td>\n      <td>NaN</td>\n      <td>NaN</td>\n      <td>NaN</td>\n    </tr>\n    <tr>\n      <th>3377</th>\n      <td>245</td>\n      <td>Aprova a Consolidação das Leis do Trabalho.</td>\n      <td>Fica aprovada a Consolidação das Leis do Traba...</td>\n      <td>NaN</td>\n      <td>valor multa será reduzido cinquenta por cento...</td>\n      <td>0</td>\n      <td>1.0</td>\n      <td>217821</td>\n      <td>0.00057</td>\n      <td>0</td>\n      <td>...</td>\n      <td>NaN</td>\n      <td>NaN</td>\n      <td>NaN</td>\n      <td>NaN</td>\n      <td>NaN</td>\n      <td>NaN</td>\n      <td>NaN</td>\n      <td>NaN</td>\n      <td>NaN</td>\n      <td>NaN</td>\n    </tr>\n    <tr>\n      <th>3378</th>\n      <td>245</td>\n      <td>Aprova a Consolidação das Leis do Trabalho.</td>\n      <td>Fica aprovada a Consolidação das Leis do Traba...</td>\n      <td>NaN</td>\n      <td>valor multa será reduzido trinta por cento in...</td>\n      <td>0</td>\n      <td>1.0</td>\n      <td>217821</td>\n      <td>0.00057</td>\n      <td>0</td>\n      <td>...</td>\n      <td>NaN</td>\n      <td>NaN</td>\n      <td>NaN</td>\n      <td>NaN</td>\n      <td>NaN</td>\n      <td>NaN</td>\n      <td>NaN</td>\n      <td>NaN</td>\n      <td>NaN</td>\n      <td>NaN</td>\n    </tr>\n    <tr>\n      <th>3379</th>\n      <td>245</td>\n      <td>Aprova a Consolidação das Leis do Trabalho.</td>\n      <td>Fica aprovada a Consolidação das Leis do Traba...</td>\n      <td>NaN</td>\n      <td>valor multa será reduzido cinquenta por cento...</td>\n      <td>0</td>\n      <td>1.0</td>\n      <td>217821</td>\n      <td>0.00057</td>\n      <td>0</td>\n      <td>...</td>\n      <td>NaN</td>\n      <td>NaN</td>\n      <td>NaN</td>\n      <td>NaN</td>\n      <td>NaN</td>\n      <td>NaN</td>\n      <td>NaN</td>\n      <td>NaN</td>\n      <td>NaN</td>\n      <td>NaN</td>\n    </tr>\n    <tr>\n      <th>3380</th>\n      <td>246</td>\n      <td>Institui o Código de Processo Civil.</td>\n      <td>A jurisdição civil, contenciosa e voluntária, ...</td>\n      <td>NaN</td>\n      <td>NaN</td>\n      <td>0</td>\n      <td>1.0</td>\n      <td>281</td>\n      <td>0.00000</td>\n      <td>1</td>\n      <td>...</td>\n      <td>NaN</td>\n      <td>NaN</td>\n      <td>NaN</td>\n      <td>NaN</td>\n      <td>NaN</td>\n      <td>NaN</td>\n      <td>NaN</td>\n      <td>NaN</td>\n      <td>NaN</td>\n      <td>NaN</td>\n    </tr>\n    <tr>\n      <th>3381</th>\n      <td>247</td>\n      <td>Institui o Código Civil.</td>\n      <td>Toda pessoa é capaz de direitos e deveres na o...</td>\n      <td>NaN</td>\n      <td>pessoas jurídicas direito privado sem prejuíz...</td>\n      <td>0</td>\n      <td>1.0</td>\n      <td>4026</td>\n      <td>0.00050</td>\n      <td>0</td>\n      <td>...</td>\n      <td>NaN</td>\n      <td>NaN</td>\n      <td>NaN</td>\n      <td>NaN</td>\n      <td>NaN</td>\n      <td>NaN</td>\n      <td>NaN</td>\n      <td>NaN</td>\n      <td>NaN</td>\n      <td>NaN</td>\n    </tr>\n    <tr>\n      <th>3382</th>\n      <td>247</td>\n      <td>Institui o Código Civil.</td>\n      <td>Toda pessoa é capaz de direitos e deveres na o...</td>\n      <td>NaN</td>\n      <td>pessoas jurídicas direito privado sem prejuíz...</td>\n      <td>0</td>\n      <td>1.0</td>\n      <td>4026</td>\n      <td>0.00050</td>\n      <td>0</td>\n      <td>...</td>\n      <td>NaN</td>\n      <td>NaN</td>\n      <td>NaN</td>\n      <td>NaN</td>\n      <td>NaN</td>\n      <td>NaN</td>\n      <td>NaN</td>\n      <td>NaN</td>\n      <td>NaN</td>\n      <td>NaN</td>\n    </tr>\n  </tbody>\n</table>\n<p>30 rows × 94 columns</p>\n</div>"
     },
     "execution_count": 215,
     "metadata": {},
     "output_type": "execute_result"
    }
   ],
   "source": [
    "# pd.concat([df_all.head(10), df_all.tail(10)]), but add the ones with 61 and 62 original ids in the middle: \n",
    "pd.concat([df_all.iloc[:10, :], df_all.iloc[760:770, :], df_all.iloc[-10:, :]])"
   ],
   "metadata": {
    "collapsed": false,
    "ExecuteTime": {
     "end_time": "2023-07-28T05:17:09.109228084Z",
     "start_time": "2023-07-28T05:17:08.931943816Z"
    }
   }
  },
  {
   "cell_type": "code",
   "execution_count": 216,
   "outputs": [
    {
     "data": {
      "text/plain": "      original_id                                             ementa  \\\n0               1  Altera o Título VI da Parte Especial do Decret...   \n1               2  Estabelece princípios, garantias, direitos e d...   \n2               2  Estabelece princípios, garantias, direitos e d...   \n3               2  Estabelece princípios, garantias, direitos e d...   \n4               2  Estabelece princípios, garantias, direitos e d...   \n5               2  Estabelece princípios, garantias, direitos e d...   \n6               2  Estabelece princípios, garantias, direitos e d...   \n7               2  Estabelece princípios, garantias, direitos e d...   \n8               2  Estabelece princípios, garantias, direitos e d...   \n9               2  Estabelece princípios, garantias, direitos e d...   \n760            61  Dispõe sobre as medidas excepcionais relativas...   \n761            61  Dispõe sobre as medidas excepcionais relativas...   \n762            61  Dispõe sobre as medidas excepcionais relativas...   \n763            61  Dispõe sobre as medidas excepcionais relativas...   \n764            61  Dispõe sobre as medidas excepcionais relativas...   \n765            61  Dispõe sobre as medidas excepcionais relativas...   \n766            62  Abre ao Orçamento Fiscal da União, em favor do...   \n767            63  Institui a Política Nacional de Assistência Té...   \n768            63  Institui a Política Nacional de Assistência Té...   \n769            63  Institui a Política Nacional de Assistência Té...   \n3373          245        Aprova a Consolidação das Leis do Trabalho.   \n3374          245        Aprova a Consolidação das Leis do Trabalho.   \n3375          245        Aprova a Consolidação das Leis do Trabalho.   \n3376          245        Aprova a Consolidação das Leis do Trabalho.   \n3377          245        Aprova a Consolidação das Leis do Trabalho.   \n3378          245        Aprova a Consolidação das Leis do Trabalho.   \n3379          245        Aprova a Consolidação das Leis do Trabalho.   \n3380          246               Institui o Código de Processo Civil.   \n3381          247                           Institui o Código Civil.   \n3382          247                           Institui o Código Civil.   \n\n                                               artigo_1  \\\n0     Esta Lei altera o Título VI da Parte Especial ...   \n1     Esta Lei estabelece princípios, garantias, dir...   \n2     Esta Lei estabelece princípios, garantias, dir...   \n3     Esta Lei estabelece princípios, garantias, dir...   \n4     Esta Lei estabelece princípios, garantias, dir...   \n5     Esta Lei estabelece princípios, garantias, dir...   \n6     Esta Lei estabelece princípios, garantias, dir...   \n7     Esta Lei estabelece princípios, garantias, dir...   \n8     Esta Lei estabelece princípios, garantias, dir...   \n9     Esta Lei estabelece princípios, garantias, dir...   \n760   Esta Lei dispõe sobre as medidas excepcionais ...   \n761   Esta Lei dispõe sobre as medidas excepcionais ...   \n762   Esta Lei dispõe sobre as medidas excepcionais ...   \n763   Esta Lei dispõe sobre as medidas excepcionais ...   \n764   Esta Lei dispõe sobre as medidas excepcionais ...   \n765   Esta Lei dispõe sobre as medidas excepcionais ...   \n766   Fica aberto ao Orçamento Fiscal da União (Lei ...   \n767   Fica instituída a Política Nacional de Assistê...   \n768   Fica instituída a Política Nacional de Assistê...   \n769   Fica instituída a Política Nacional de Assistê...   \n3373  Fica aprovada a Consolidação das Leis do Traba...   \n3374  Fica aprovada a Consolidação das Leis do Traba...   \n3375  Fica aprovada a Consolidação das Leis do Traba...   \n3376  Fica aprovada a Consolidação das Leis do Traba...   \n3377  Fica aprovada a Consolidação das Leis do Traba...   \n3378  Fica aprovada a Consolidação das Leis do Traba...   \n3379  Fica aprovada a Consolidação das Leis do Traba...   \n3380  A jurisdição civil, contenciosa e voluntária, ...   \n3381  Toda pessoa é capaz de direitos e deveres na o...   \n3382  Toda pessoa é capaz de direitos e deveres na o...   \n\n                                             ocorrencia  \\\n0      _o_ incorre nas penas previstas caput deste a...   \n1      esta lei estabelece princípios garantias dire...   \n2      disciplina uso internet brasil tem como funda...   \n3      disciplina uso internet brasil tem seguintes ...   \n4     viii liberdade dos modelos negócios promovidos...   \n5      disciplina uso internet brasil tem por objeti...   \n6                         direito acesso internet todos   \n7     iii inovação fomento ampla difusão novas tecno...   \n8      adesão padrões tecnológicos abertos que permi...   \n9      internet sistema constituído conjunto protoco...   \n760    contratação bens serviços logística tecnologi...   \n761        sítios internet especializados domínio amplo   \n762    nos casos licitação modalidade pregão eletrôn...   \n763    plano nacional operacionalização vacinação co...   \n764    administração pública disponibilizará sítio o...   \n765    insumos bens serviços logística tecnologia in...   \n766                                                 NaN   \n767    promover desenvolvimento apropriação inovaçõe...   \n768   parágrafo único será dada publicidade chamada ...   \n769    contratos todas demais ações pronater serão o...   \n3373                                                NaN   \n3374                                                NaN   \n3375                                                NaN   \n3376                                                NaN   \n3377                                                NaN   \n3378                                                NaN   \n3379                                                NaN   \n3380                                                NaN   \n3381                                                NaN   \n3382                                                NaN   \n\n                                    ocorrencia_revogada  table_found  \\\n0                                                   NaN            0   \n1                                                   NaN            0   \n2                                                   NaN            0   \n3                                                   NaN            0   \n4                                                   NaN            0   \n5                                                   NaN            0   \n6                                                   NaN            0   \n7                                                   NaN            0   \n8                                                   NaN            0   \n9                                                   NaN            0   \n760                                                 NaN            0   \n761                                                 NaN            0   \n762                                                 NaN            0   \n763                                                 NaN            0   \n764                                                 NaN            0   \n765                                                 NaN            0   \n766                                                 NaN            0   \n767                                                 NaN            0   \n768                                                 NaN            0   \n769                                                 NaN            0   \n3373   auto infração será registrado meio eletrônico...            0   \n3374   documentos sujeitos inspeção poderão ser apre...            0   \n3375   documentos sujeitos inspeção poderão ser apre...            0   \n3376   valor multa será reduzido trinta por cento in...            0   \n3377   valor multa será reduzido cinquenta por cento...            0   \n3378   valor multa será reduzido trinta por cento in...            0   \n3379   valor multa será reduzido cinquenta por cento...            0   \n3380                                                NaN            0   \n3381   pessoas jurídicas direito privado sem prejuíz...            0   \n3382   pessoas jurídicas direito privado sem prejuíz...            0   \n\n      outro_assunto  n_palavras  freq_assunto  artigo_1_revogado  ...  \\\n0               1.0        1799       0.00111                  0  ...   \n1               0.0        6698       0.01911                  0  ...   \n2               0.0        6698       0.01911                  0  ...   \n3               0.0        6698       0.01911                  0  ...   \n4               0.0        6698       0.01911                  0  ...   \n5               0.0        6698       0.01911                  0  ...   \n6               0.0        6698       0.01911                  0  ...   \n7               0.0        6698       0.01911                  0  ...   \n8               0.0        6698       0.01911                  0  ...   \n9               0.0        6698       0.01911                  0  ...   \n760             0.0        3710       0.00270                  0  ...   \n761             0.0        3710       0.00270                  0  ...   \n762             0.0        3710       0.00270                  0  ...   \n763             0.0        3710       0.00270                  0  ...   \n764             0.0        3710       0.00270                  0  ...   \n765             0.0        3710       0.00270                  0  ...   \n766             0.0        3000       0.00700                  0  ...   \n767             1.0        2301       0.00391                  0  ...   \n768             1.0        2301       0.00391                  0  ...   \n769             1.0        2301       0.00391                  0  ...   \n3373            1.0      217821       0.00057                  0  ...   \n3374            1.0      217821       0.00057                  0  ...   \n3375            1.0      217821       0.00057                  0  ...   \n3376            1.0      217821       0.00057                  0  ...   \n3377            1.0      217821       0.00057                  0  ...   \n3378            1.0      217821       0.00057                  0  ...   \n3379            1.0      217821       0.00057                  0  ...   \n3380            1.0         281       0.00000                  1  ...   \n3381            1.0        4026       0.00050                  0  ...   \n3382            1.0        4026       0.00050                  0  ...   \n\n      ramo_sociologico_saúde  ramo_sociologico_trabalho  \\\n0                        0.0                        0.0   \n1                        0.0                        0.0   \n2                        0.0                        0.0   \n3                        0.0                        0.0   \n4                        0.0                        0.0   \n5                        0.0                        0.0   \n6                        0.0                        0.0   \n7                        0.0                        0.0   \n8                        0.0                        0.0   \n9                        0.0                        0.0   \n760                      1.0                        0.0   \n761                      1.0                        0.0   \n762                      1.0                        0.0   \n763                      1.0                        0.0   \n764                      1.0                        0.0   \n765                      1.0                        0.0   \n766                      0.0                        0.0   \n767                      0.0                        0.0   \n768                      0.0                        0.0   \n769                      0.0                        0.0   \n3373                     0.0                        0.0   \n3374                     0.0                        0.0   \n3375                     0.0                        0.0   \n3376                     0.0                        0.0   \n3377                     0.0                        0.0   \n3378                     0.0                        0.0   \n3379                     0.0                        0.0   \n3380                     0.0                        0.0   \n3381                     0.0                        0.0   \n3382                     0.0                        0.0   \n\n      ramo_sociologico_ética  ramo_sociologico_rural  \\\n0                        0.0                     0.0   \n1                        0.0                     0.0   \n2                        0.0                     0.0   \n3                        0.0                     0.0   \n4                        0.0                     0.0   \n5                        0.0                     0.0   \n6                        0.0                     0.0   \n7                        0.0                     0.0   \n8                        0.0                     0.0   \n9                        0.0                     0.0   \n760                      0.0                     0.0   \n761                      0.0                     0.0   \n762                      0.0                     0.0   \n763                      0.0                     0.0   \n764                      0.0                     0.0   \n765                      0.0                     0.0   \n766                      0.0                     0.0   \n767                      0.0                     0.0   \n768                      0.0                     0.0   \n769                      0.0                     0.0   \n3373                     0.0                     0.0   \n3374                     0.0                     0.0   \n3375                     0.0                     0.0   \n3376                     0.0                     0.0   \n3377                     0.0                     0.0   \n3378                     0.0                     0.0   \n3379                     0.0                     0.0   \n3380                     0.0                     0.0   \n3381                     0.0                     0.0   \n3382                     0.0                     0.0   \n\n      ramo_sociologico_cultura  ramo_sociologico_esporte  \\\n0                          0.0                       0.0   \n1                          0.0                       0.0   \n2                          0.0                       0.0   \n3                          0.0                       0.0   \n4                          0.0                       0.0   \n5                          0.0                       0.0   \n6                          0.0                       0.0   \n7                          0.0                       0.0   \n8                          0.0                       0.0   \n9                          0.0                       0.0   \n760                        0.0                       0.0   \n761                        0.0                       0.0   \n762                        0.0                       0.0   \n763                        0.0                       0.0   \n764                        0.0                       0.0   \n765                        0.0                       0.0   \n766                        0.0                       0.0   \n767                        0.0                       0.0   \n768                        0.0                       0.0   \n769                        0.0                       0.0   \n3373                       0.0                       0.0   \n3374                       0.0                       0.0   \n3375                       0.0                       0.0   \n3376                       0.0                       0.0   \n3377                       0.0                       0.0   \n3378                       0.0                       0.0   \n3379                       0.0                       0.0   \n3380                       0.0                       0.0   \n3381                       0.0                       0.0   \n3382                       0.0                       0.0   \n\n      imposicao_reconhecimento_reconhece  imposicao_reconhecimento_impõe  \\\n0                                    1.0                             0.0   \n1                                    1.0                             0.0   \n2                                    1.0                             0.0   \n3                                    1.0                             0.0   \n4                                    1.0                             0.0   \n5                                    1.0                             0.0   \n6                                    1.0                             0.0   \n7                                    1.0                             0.0   \n8                                    1.0                             0.0   \n9                                    1.0                             0.0   \n760                                  0.0                             1.0   \n761                                  0.0                             1.0   \n762                                  0.0                             1.0   \n763                                  0.0                             1.0   \n764                                  0.0                             1.0   \n765                                  0.0                             1.0   \n766                                  0.0                             0.0   \n767                                  0.0                             1.0   \n768                                  0.0                             1.0   \n769                                  0.0                             1.0   \n3373                                 0.0                             1.0   \n3374                                 0.5                             1.0   \n3375                                 0.5                             1.0   \n3376                                 0.0                             1.0   \n3377                                 0.0                             1.0   \n3378                                 0.0                             1.0   \n3379                                 0.0                             1.0   \n3380                                 0.0                             1.0   \n3381                                 0.5                             1.0   \n3382                                 0.5                             1.0   \n\n      ferramenta_ambiente_ambiente  ferramenta_ambiente_ferramenta  \n0                              1.0                             0.0  \n1                              1.0                             1.0  \n2                              1.0                             1.0  \n3                              1.0                             1.0  \n4                              1.0                             1.0  \n5                              1.0                             1.0  \n6                              1.0                             1.0  \n7                              1.0                             1.0  \n8                              1.0                             1.0  \n9                              1.0                             1.0  \n760                            0.0                             1.0  \n761                            0.0                             1.0  \n762                            0.0                             1.0  \n763                            0.0                             1.0  \n764                            0.0                             1.0  \n765                            0.0                             1.0  \n766                            0.0                             1.0  \n767                            0.0                             1.0  \n768                            0.0                             1.0  \n769                            0.0                             1.0  \n3373                           0.0                             1.0  \n3374                           0.0                             1.0  \n3375                           0.0                             1.0  \n3376                           0.0                             1.0  \n3377                           0.0                             1.0  \n3378                           0.0                             1.0  \n3379                           0.0                             1.0  \n3380                           0.0                             1.0  \n3381                           0.0                             1.0  \n3382                           0.0                             1.0  \n\n[30 rows x 94 columns]",
      "text/html": "<div>\n<style scoped>\n    .dataframe tbody tr th:only-of-type {\n        vertical-align: middle;\n    }\n\n    .dataframe tbody tr th {\n        vertical-align: top;\n    }\n\n    .dataframe thead th {\n        text-align: right;\n    }\n</style>\n<table border=\"1\" class=\"dataframe\">\n  <thead>\n    <tr style=\"text-align: right;\">\n      <th></th>\n      <th>original_id</th>\n      <th>ementa</th>\n      <th>artigo_1</th>\n      <th>ocorrencia</th>\n      <th>ocorrencia_revogada</th>\n      <th>table_found</th>\n      <th>outro_assunto</th>\n      <th>n_palavras</th>\n      <th>freq_assunto</th>\n      <th>artigo_1_revogado</th>\n      <th>...</th>\n      <th>ramo_sociologico_saúde</th>\n      <th>ramo_sociologico_trabalho</th>\n      <th>ramo_sociologico_ética</th>\n      <th>ramo_sociologico_rural</th>\n      <th>ramo_sociologico_cultura</th>\n      <th>ramo_sociologico_esporte</th>\n      <th>imposicao_reconhecimento_reconhece</th>\n      <th>imposicao_reconhecimento_impõe</th>\n      <th>ferramenta_ambiente_ambiente</th>\n      <th>ferramenta_ambiente_ferramenta</th>\n    </tr>\n  </thead>\n  <tbody>\n    <tr>\n      <th>0</th>\n      <td>1</td>\n      <td>Altera o Título VI da Parte Especial do Decret...</td>\n      <td>Esta Lei altera o Título VI da Parte Especial ...</td>\n      <td>_o_ incorre nas penas previstas caput deste a...</td>\n      <td>NaN</td>\n      <td>0</td>\n      <td>1.0</td>\n      <td>1799</td>\n      <td>0.00111</td>\n      <td>0</td>\n      <td>...</td>\n      <td>0.0</td>\n      <td>0.0</td>\n      <td>0.0</td>\n      <td>0.0</td>\n      <td>0.0</td>\n      <td>0.0</td>\n      <td>1.0</td>\n      <td>0.0</td>\n      <td>1.0</td>\n      <td>0.0</td>\n    </tr>\n    <tr>\n      <th>1</th>\n      <td>2</td>\n      <td>Estabelece princípios, garantias, direitos e d...</td>\n      <td>Esta Lei estabelece princípios, garantias, dir...</td>\n      <td>esta lei estabelece princípios garantias dire...</td>\n      <td>NaN</td>\n      <td>0</td>\n      <td>0.0</td>\n      <td>6698</td>\n      <td>0.01911</td>\n      <td>0</td>\n      <td>...</td>\n      <td>0.0</td>\n      <td>0.0</td>\n      <td>0.0</td>\n      <td>0.0</td>\n      <td>0.0</td>\n      <td>0.0</td>\n      <td>1.0</td>\n      <td>0.0</td>\n      <td>1.0</td>\n      <td>1.0</td>\n    </tr>\n    <tr>\n      <th>2</th>\n      <td>2</td>\n      <td>Estabelece princípios, garantias, direitos e d...</td>\n      <td>Esta Lei estabelece princípios, garantias, dir...</td>\n      <td>disciplina uso internet brasil tem como funda...</td>\n      <td>NaN</td>\n      <td>0</td>\n      <td>0.0</td>\n      <td>6698</td>\n      <td>0.01911</td>\n      <td>0</td>\n      <td>...</td>\n      <td>0.0</td>\n      <td>0.0</td>\n      <td>0.0</td>\n      <td>0.0</td>\n      <td>0.0</td>\n      <td>0.0</td>\n      <td>1.0</td>\n      <td>0.0</td>\n      <td>1.0</td>\n      <td>1.0</td>\n    </tr>\n    <tr>\n      <th>3</th>\n      <td>2</td>\n      <td>Estabelece princípios, garantias, direitos e d...</td>\n      <td>Esta Lei estabelece princípios, garantias, dir...</td>\n      <td>disciplina uso internet brasil tem seguintes ...</td>\n      <td>NaN</td>\n      <td>0</td>\n      <td>0.0</td>\n      <td>6698</td>\n      <td>0.01911</td>\n      <td>0</td>\n      <td>...</td>\n      <td>0.0</td>\n      <td>0.0</td>\n      <td>0.0</td>\n      <td>0.0</td>\n      <td>0.0</td>\n      <td>0.0</td>\n      <td>1.0</td>\n      <td>0.0</td>\n      <td>1.0</td>\n      <td>1.0</td>\n    </tr>\n    <tr>\n      <th>4</th>\n      <td>2</td>\n      <td>Estabelece princípios, garantias, direitos e d...</td>\n      <td>Esta Lei estabelece princípios, garantias, dir...</td>\n      <td>viii liberdade dos modelos negócios promovidos...</td>\n      <td>NaN</td>\n      <td>0</td>\n      <td>0.0</td>\n      <td>6698</td>\n      <td>0.01911</td>\n      <td>0</td>\n      <td>...</td>\n      <td>0.0</td>\n      <td>0.0</td>\n      <td>0.0</td>\n      <td>0.0</td>\n      <td>0.0</td>\n      <td>0.0</td>\n      <td>1.0</td>\n      <td>0.0</td>\n      <td>1.0</td>\n      <td>1.0</td>\n    </tr>\n    <tr>\n      <th>5</th>\n      <td>2</td>\n      <td>Estabelece princípios, garantias, direitos e d...</td>\n      <td>Esta Lei estabelece princípios, garantias, dir...</td>\n      <td>disciplina uso internet brasil tem por objeti...</td>\n      <td>NaN</td>\n      <td>0</td>\n      <td>0.0</td>\n      <td>6698</td>\n      <td>0.01911</td>\n      <td>0</td>\n      <td>...</td>\n      <td>0.0</td>\n      <td>0.0</td>\n      <td>0.0</td>\n      <td>0.0</td>\n      <td>0.0</td>\n      <td>0.0</td>\n      <td>1.0</td>\n      <td>0.0</td>\n      <td>1.0</td>\n      <td>1.0</td>\n    </tr>\n    <tr>\n      <th>6</th>\n      <td>2</td>\n      <td>Estabelece princípios, garantias, direitos e d...</td>\n      <td>Esta Lei estabelece princípios, garantias, dir...</td>\n      <td>direito acesso internet todos</td>\n      <td>NaN</td>\n      <td>0</td>\n      <td>0.0</td>\n      <td>6698</td>\n      <td>0.01911</td>\n      <td>0</td>\n      <td>...</td>\n      <td>0.0</td>\n      <td>0.0</td>\n      <td>0.0</td>\n      <td>0.0</td>\n      <td>0.0</td>\n      <td>0.0</td>\n      <td>1.0</td>\n      <td>0.0</td>\n      <td>1.0</td>\n      <td>1.0</td>\n    </tr>\n    <tr>\n      <th>7</th>\n      <td>2</td>\n      <td>Estabelece princípios, garantias, direitos e d...</td>\n      <td>Esta Lei estabelece princípios, garantias, dir...</td>\n      <td>iii inovação fomento ampla difusão novas tecno...</td>\n      <td>NaN</td>\n      <td>0</td>\n      <td>0.0</td>\n      <td>6698</td>\n      <td>0.01911</td>\n      <td>0</td>\n      <td>...</td>\n      <td>0.0</td>\n      <td>0.0</td>\n      <td>0.0</td>\n      <td>0.0</td>\n      <td>0.0</td>\n      <td>0.0</td>\n      <td>1.0</td>\n      <td>0.0</td>\n      <td>1.0</td>\n      <td>1.0</td>\n    </tr>\n    <tr>\n      <th>8</th>\n      <td>2</td>\n      <td>Estabelece princípios, garantias, direitos e d...</td>\n      <td>Esta Lei estabelece princípios, garantias, dir...</td>\n      <td>adesão padrões tecnológicos abertos que permi...</td>\n      <td>NaN</td>\n      <td>0</td>\n      <td>0.0</td>\n      <td>6698</td>\n      <td>0.01911</td>\n      <td>0</td>\n      <td>...</td>\n      <td>0.0</td>\n      <td>0.0</td>\n      <td>0.0</td>\n      <td>0.0</td>\n      <td>0.0</td>\n      <td>0.0</td>\n      <td>1.0</td>\n      <td>0.0</td>\n      <td>1.0</td>\n      <td>1.0</td>\n    </tr>\n    <tr>\n      <th>9</th>\n      <td>2</td>\n      <td>Estabelece princípios, garantias, direitos e d...</td>\n      <td>Esta Lei estabelece princípios, garantias, dir...</td>\n      <td>internet sistema constituído conjunto protoco...</td>\n      <td>NaN</td>\n      <td>0</td>\n      <td>0.0</td>\n      <td>6698</td>\n      <td>0.01911</td>\n      <td>0</td>\n      <td>...</td>\n      <td>0.0</td>\n      <td>0.0</td>\n      <td>0.0</td>\n      <td>0.0</td>\n      <td>0.0</td>\n      <td>0.0</td>\n      <td>1.0</td>\n      <td>0.0</td>\n      <td>1.0</td>\n      <td>1.0</td>\n    </tr>\n    <tr>\n      <th>760</th>\n      <td>61</td>\n      <td>Dispõe sobre as medidas excepcionais relativas...</td>\n      <td>Esta Lei dispõe sobre as medidas excepcionais ...</td>\n      <td>contratação bens serviços logística tecnologi...</td>\n      <td>NaN</td>\n      <td>0</td>\n      <td>0.0</td>\n      <td>3710</td>\n      <td>0.00270</td>\n      <td>0</td>\n      <td>...</td>\n      <td>1.0</td>\n      <td>0.0</td>\n      <td>0.0</td>\n      <td>0.0</td>\n      <td>0.0</td>\n      <td>0.0</td>\n      <td>0.0</td>\n      <td>1.0</td>\n      <td>0.0</td>\n      <td>1.0</td>\n    </tr>\n    <tr>\n      <th>761</th>\n      <td>61</td>\n      <td>Dispõe sobre as medidas excepcionais relativas...</td>\n      <td>Esta Lei dispõe sobre as medidas excepcionais ...</td>\n      <td>sítios internet especializados domínio amplo</td>\n      <td>NaN</td>\n      <td>0</td>\n      <td>0.0</td>\n      <td>3710</td>\n      <td>0.00270</td>\n      <td>0</td>\n      <td>...</td>\n      <td>1.0</td>\n      <td>0.0</td>\n      <td>0.0</td>\n      <td>0.0</td>\n      <td>0.0</td>\n      <td>0.0</td>\n      <td>0.0</td>\n      <td>1.0</td>\n      <td>0.0</td>\n      <td>1.0</td>\n    </tr>\n    <tr>\n      <th>762</th>\n      <td>61</td>\n      <td>Dispõe sobre as medidas excepcionais relativas...</td>\n      <td>Esta Lei dispõe sobre as medidas excepcionais ...</td>\n      <td>nos casos licitação modalidade pregão eletrôn...</td>\n      <td>NaN</td>\n      <td>0</td>\n      <td>0.0</td>\n      <td>3710</td>\n      <td>0.00270</td>\n      <td>0</td>\n      <td>...</td>\n      <td>1.0</td>\n      <td>0.0</td>\n      <td>0.0</td>\n      <td>0.0</td>\n      <td>0.0</td>\n      <td>0.0</td>\n      <td>0.0</td>\n      <td>1.0</td>\n      <td>0.0</td>\n      <td>1.0</td>\n    </tr>\n    <tr>\n      <th>763</th>\n      <td>61</td>\n      <td>Dispõe sobre as medidas excepcionais relativas...</td>\n      <td>Esta Lei dispõe sobre as medidas excepcionais ...</td>\n      <td>plano nacional operacionalização vacinação co...</td>\n      <td>NaN</td>\n      <td>0</td>\n      <td>0.0</td>\n      <td>3710</td>\n      <td>0.00270</td>\n      <td>0</td>\n      <td>...</td>\n      <td>1.0</td>\n      <td>0.0</td>\n      <td>0.0</td>\n      <td>0.0</td>\n      <td>0.0</td>\n      <td>0.0</td>\n      <td>0.0</td>\n      <td>1.0</td>\n      <td>0.0</td>\n      <td>1.0</td>\n    </tr>\n    <tr>\n      <th>764</th>\n      <td>61</td>\n      <td>Dispõe sobre as medidas excepcionais relativas...</td>\n      <td>Esta Lei dispõe sobre as medidas excepcionais ...</td>\n      <td>administração pública disponibilizará sítio o...</td>\n      <td>NaN</td>\n      <td>0</td>\n      <td>0.0</td>\n      <td>3710</td>\n      <td>0.00270</td>\n      <td>0</td>\n      <td>...</td>\n      <td>1.0</td>\n      <td>0.0</td>\n      <td>0.0</td>\n      <td>0.0</td>\n      <td>0.0</td>\n      <td>0.0</td>\n      <td>0.0</td>\n      <td>1.0</td>\n      <td>0.0</td>\n      <td>1.0</td>\n    </tr>\n    <tr>\n      <th>765</th>\n      <td>61</td>\n      <td>Dispõe sobre as medidas excepcionais relativas...</td>\n      <td>Esta Lei dispõe sobre as medidas excepcionais ...</td>\n      <td>insumos bens serviços logística tecnologia in...</td>\n      <td>NaN</td>\n      <td>0</td>\n      <td>0.0</td>\n      <td>3710</td>\n      <td>0.00270</td>\n      <td>0</td>\n      <td>...</td>\n      <td>1.0</td>\n      <td>0.0</td>\n      <td>0.0</td>\n      <td>0.0</td>\n      <td>0.0</td>\n      <td>0.0</td>\n      <td>0.0</td>\n      <td>1.0</td>\n      <td>0.0</td>\n      <td>1.0</td>\n    </tr>\n    <tr>\n      <th>766</th>\n      <td>62</td>\n      <td>Abre ao Orçamento Fiscal da União, em favor do...</td>\n      <td>Fica aberto ao Orçamento Fiscal da União (Lei ...</td>\n      <td>NaN</td>\n      <td>NaN</td>\n      <td>0</td>\n      <td>0.0</td>\n      <td>3000</td>\n      <td>0.00700</td>\n      <td>0</td>\n      <td>...</td>\n      <td>0.0</td>\n      <td>0.0</td>\n      <td>0.0</td>\n      <td>0.0</td>\n      <td>0.0</td>\n      <td>0.0</td>\n      <td>0.0</td>\n      <td>0.0</td>\n      <td>0.0</td>\n      <td>1.0</td>\n    </tr>\n    <tr>\n      <th>767</th>\n      <td>63</td>\n      <td>Institui a Política Nacional de Assistência Té...</td>\n      <td>Fica instituída a Política Nacional de Assistê...</td>\n      <td>promover desenvolvimento apropriação inovaçõe...</td>\n      <td>NaN</td>\n      <td>0</td>\n      <td>1.0</td>\n      <td>2301</td>\n      <td>0.00391</td>\n      <td>0</td>\n      <td>...</td>\n      <td>0.0</td>\n      <td>0.0</td>\n      <td>0.0</td>\n      <td>0.0</td>\n      <td>0.0</td>\n      <td>0.0</td>\n      <td>0.0</td>\n      <td>1.0</td>\n      <td>0.0</td>\n      <td>1.0</td>\n    </tr>\n    <tr>\n      <th>768</th>\n      <td>63</td>\n      <td>Institui a Política Nacional de Assistência Té...</td>\n      <td>Fica instituída a Política Nacional de Assistê...</td>\n      <td>parágrafo único será dada publicidade chamada ...</td>\n      <td>NaN</td>\n      <td>0</td>\n      <td>1.0</td>\n      <td>2301</td>\n      <td>0.00391</td>\n      <td>0</td>\n      <td>...</td>\n      <td>0.0</td>\n      <td>0.0</td>\n      <td>0.0</td>\n      <td>0.0</td>\n      <td>0.0</td>\n      <td>0.0</td>\n      <td>0.0</td>\n      <td>1.0</td>\n      <td>0.0</td>\n      <td>1.0</td>\n    </tr>\n    <tr>\n      <th>769</th>\n      <td>63</td>\n      <td>Institui a Política Nacional de Assistência Té...</td>\n      <td>Fica instituída a Política Nacional de Assistê...</td>\n      <td>contratos todas demais ações pronater serão o...</td>\n      <td>NaN</td>\n      <td>0</td>\n      <td>1.0</td>\n      <td>2301</td>\n      <td>0.00391</td>\n      <td>0</td>\n      <td>...</td>\n      <td>0.0</td>\n      <td>0.0</td>\n      <td>0.0</td>\n      <td>0.0</td>\n      <td>0.0</td>\n      <td>0.0</td>\n      <td>0.0</td>\n      <td>1.0</td>\n      <td>0.0</td>\n      <td>1.0</td>\n    </tr>\n    <tr>\n      <th>3373</th>\n      <td>245</td>\n      <td>Aprova a Consolidação das Leis do Trabalho.</td>\n      <td>Fica aprovada a Consolidação das Leis do Traba...</td>\n      <td>NaN</td>\n      <td>auto infração será registrado meio eletrônico...</td>\n      <td>0</td>\n      <td>1.0</td>\n      <td>217821</td>\n      <td>0.00057</td>\n      <td>0</td>\n      <td>...</td>\n      <td>0.0</td>\n      <td>0.0</td>\n      <td>0.0</td>\n      <td>0.0</td>\n      <td>0.0</td>\n      <td>0.0</td>\n      <td>0.0</td>\n      <td>1.0</td>\n      <td>0.0</td>\n      <td>1.0</td>\n    </tr>\n    <tr>\n      <th>3374</th>\n      <td>245</td>\n      <td>Aprova a Consolidação das Leis do Trabalho.</td>\n      <td>Fica aprovada a Consolidação das Leis do Traba...</td>\n      <td>NaN</td>\n      <td>documentos sujeitos inspeção poderão ser apre...</td>\n      <td>0</td>\n      <td>1.0</td>\n      <td>217821</td>\n      <td>0.00057</td>\n      <td>0</td>\n      <td>...</td>\n      <td>0.0</td>\n      <td>0.0</td>\n      <td>0.0</td>\n      <td>0.0</td>\n      <td>0.0</td>\n      <td>0.0</td>\n      <td>0.5</td>\n      <td>1.0</td>\n      <td>0.0</td>\n      <td>1.0</td>\n    </tr>\n    <tr>\n      <th>3375</th>\n      <td>245</td>\n      <td>Aprova a Consolidação das Leis do Trabalho.</td>\n      <td>Fica aprovada a Consolidação das Leis do Traba...</td>\n      <td>NaN</td>\n      <td>documentos sujeitos inspeção poderão ser apre...</td>\n      <td>0</td>\n      <td>1.0</td>\n      <td>217821</td>\n      <td>0.00057</td>\n      <td>0</td>\n      <td>...</td>\n      <td>0.0</td>\n      <td>0.0</td>\n      <td>0.0</td>\n      <td>0.0</td>\n      <td>0.0</td>\n      <td>0.0</td>\n      <td>0.5</td>\n      <td>1.0</td>\n      <td>0.0</td>\n      <td>1.0</td>\n    </tr>\n    <tr>\n      <th>3376</th>\n      <td>245</td>\n      <td>Aprova a Consolidação das Leis do Trabalho.</td>\n      <td>Fica aprovada a Consolidação das Leis do Traba...</td>\n      <td>NaN</td>\n      <td>valor multa será reduzido trinta por cento in...</td>\n      <td>0</td>\n      <td>1.0</td>\n      <td>217821</td>\n      <td>0.00057</td>\n      <td>0</td>\n      <td>...</td>\n      <td>0.0</td>\n      <td>0.0</td>\n      <td>0.0</td>\n      <td>0.0</td>\n      <td>0.0</td>\n      <td>0.0</td>\n      <td>0.0</td>\n      <td>1.0</td>\n      <td>0.0</td>\n      <td>1.0</td>\n    </tr>\n    <tr>\n      <th>3377</th>\n      <td>245</td>\n      <td>Aprova a Consolidação das Leis do Trabalho.</td>\n      <td>Fica aprovada a Consolidação das Leis do Traba...</td>\n      <td>NaN</td>\n      <td>valor multa será reduzido cinquenta por cento...</td>\n      <td>0</td>\n      <td>1.0</td>\n      <td>217821</td>\n      <td>0.00057</td>\n      <td>0</td>\n      <td>...</td>\n      <td>0.0</td>\n      <td>0.0</td>\n      <td>0.0</td>\n      <td>0.0</td>\n      <td>0.0</td>\n      <td>0.0</td>\n      <td>0.0</td>\n      <td>1.0</td>\n      <td>0.0</td>\n      <td>1.0</td>\n    </tr>\n    <tr>\n      <th>3378</th>\n      <td>245</td>\n      <td>Aprova a Consolidação das Leis do Trabalho.</td>\n      <td>Fica aprovada a Consolidação das Leis do Traba...</td>\n      <td>NaN</td>\n      <td>valor multa será reduzido trinta por cento in...</td>\n      <td>0</td>\n      <td>1.0</td>\n      <td>217821</td>\n      <td>0.00057</td>\n      <td>0</td>\n      <td>...</td>\n      <td>0.0</td>\n      <td>0.0</td>\n      <td>0.0</td>\n      <td>0.0</td>\n      <td>0.0</td>\n      <td>0.0</td>\n      <td>0.0</td>\n      <td>1.0</td>\n      <td>0.0</td>\n      <td>1.0</td>\n    </tr>\n    <tr>\n      <th>3379</th>\n      <td>245</td>\n      <td>Aprova a Consolidação das Leis do Trabalho.</td>\n      <td>Fica aprovada a Consolidação das Leis do Traba...</td>\n      <td>NaN</td>\n      <td>valor multa será reduzido cinquenta por cento...</td>\n      <td>0</td>\n      <td>1.0</td>\n      <td>217821</td>\n      <td>0.00057</td>\n      <td>0</td>\n      <td>...</td>\n      <td>0.0</td>\n      <td>0.0</td>\n      <td>0.0</td>\n      <td>0.0</td>\n      <td>0.0</td>\n      <td>0.0</td>\n      <td>0.0</td>\n      <td>1.0</td>\n      <td>0.0</td>\n      <td>1.0</td>\n    </tr>\n    <tr>\n      <th>3380</th>\n      <td>246</td>\n      <td>Institui o Código de Processo Civil.</td>\n      <td>A jurisdição civil, contenciosa e voluntária, ...</td>\n      <td>NaN</td>\n      <td>NaN</td>\n      <td>0</td>\n      <td>1.0</td>\n      <td>281</td>\n      <td>0.00000</td>\n      <td>1</td>\n      <td>...</td>\n      <td>0.0</td>\n      <td>0.0</td>\n      <td>0.0</td>\n      <td>0.0</td>\n      <td>0.0</td>\n      <td>0.0</td>\n      <td>0.0</td>\n      <td>1.0</td>\n      <td>0.0</td>\n      <td>1.0</td>\n    </tr>\n    <tr>\n      <th>3381</th>\n      <td>247</td>\n      <td>Institui o Código Civil.</td>\n      <td>Toda pessoa é capaz de direitos e deveres na o...</td>\n      <td>NaN</td>\n      <td>pessoas jurídicas direito privado sem prejuíz...</td>\n      <td>0</td>\n      <td>1.0</td>\n      <td>4026</td>\n      <td>0.00050</td>\n      <td>0</td>\n      <td>...</td>\n      <td>0.0</td>\n      <td>0.0</td>\n      <td>0.0</td>\n      <td>0.0</td>\n      <td>0.0</td>\n      <td>0.0</td>\n      <td>0.5</td>\n      <td>1.0</td>\n      <td>0.0</td>\n      <td>1.0</td>\n    </tr>\n    <tr>\n      <th>3382</th>\n      <td>247</td>\n      <td>Institui o Código Civil.</td>\n      <td>Toda pessoa é capaz de direitos e deveres na o...</td>\n      <td>NaN</td>\n      <td>pessoas jurídicas direito privado sem prejuíz...</td>\n      <td>0</td>\n      <td>1.0</td>\n      <td>4026</td>\n      <td>0.00050</td>\n      <td>0</td>\n      <td>...</td>\n      <td>0.0</td>\n      <td>0.0</td>\n      <td>0.0</td>\n      <td>0.0</td>\n      <td>0.0</td>\n      <td>0.0</td>\n      <td>0.5</td>\n      <td>1.0</td>\n      <td>0.0</td>\n      <td>1.0</td>\n    </tr>\n  </tbody>\n</table>\n<p>30 rows × 94 columns</p>\n</div>"
     },
     "execution_count": 216,
     "metadata": {},
     "output_type": "execute_result"
    }
   ],
   "source": [
    "# fit back to df_all\n",
    "# all rows that match df_all[df_all.iloc[:, 13].isna()] will receive df.iloc[:, 13:] values in the same order as they appear in df_all\n",
    "df_all.loc[df_all.iloc[:, 13].isna(), df.columns[13:]] = df.iloc[:, 13:].values\n",
    "\n",
    "# pd.concat([df_all.head(10), df_all.tail(10)]), but add the ones with 61 and 62 original ids in the middle: \n",
    "pd.concat([df_all.iloc[:10, :], df_all.iloc[760:770, :], df_all.iloc[-10:, :]])"
   ],
   "metadata": {
    "collapsed": false,
    "ExecuteTime": {
     "end_time": "2023-07-28T05:17:09.111049584Z",
     "start_time": "2023-07-28T05:17:08.998012327Z"
    }
   }
  },
  {
   "cell_type": "code",
   "execution_count": 217,
   "outputs": [
    {
     "name": "stdout",
     "output_type": "stream",
     "text": [
      "<class 'pandas.core.frame.DataFrame'>\n",
      "RangeIndex: 3383 entries, 0 to 3382\n",
      "Data columns (total 94 columns):\n",
      " #   Column                                       Non-Null Count  Dtype  \n",
      "---  ------                                       --------------  -----  \n",
      " 0   original_id                                  3383 non-null   int64  \n",
      " 1   ementa                                       3383 non-null   object \n",
      " 2   artigo_1                                     3383 non-null   object \n",
      " 3   ocorrencia                                   3095 non-null   object \n",
      " 4   ocorrencia_revogada                          276 non-null    object \n",
      " 5   table_found                                  3383 non-null   int64  \n",
      " 6   outro_assunto                                3383 non-null   float64\n",
      " 7   n_palavras                                   3383 non-null   int64  \n",
      " 8   freq_assunto                                 3383 non-null   float64\n",
      " 9   artigo_1_revogado                            3383 non-null   int64  \n",
      " 10  internacional                                3383 non-null   float64\n",
      " 11  f                                            3383 non-null   float64\n",
      " 12  fx                                           3383 non-null   float64\n",
      " 13  dimensao_normativa                           3383 non-null   float64\n",
      " 14  dimensao_ontológica                          3383 non-null   float64\n",
      " 15  benevolencia_ameaça                          3383 non-null   float64\n",
      " 16  benevolencia_benefício                       3383 non-null   float64\n",
      " 17  benevolencia_neutra                          3383 non-null   float64\n",
      " 18  funcao_social_segurança                      3383 non-null   float64\n",
      " 19  funcao_social_segurança sexual               3383 non-null   float64\n",
      " 20  funcao_social_ECA                            3383 non-null   float64\n",
      " 21  funcao_social_valoração                      3383 non-null   float64\n",
      " 22  funcao_social_inclusão                       3383 non-null   float64\n",
      " 23  funcao_social_consumo                        3383 non-null   float64\n",
      " 24  funcao_social_cultura                        3383 non-null   float64\n",
      " 25  funcao_social_democracia                     3383 non-null   float64\n",
      " 26  funcao_social_transparência                  3383 non-null   float64\n",
      " 27  funcao_social_nacionalismo                   3383 non-null   float64\n",
      " 28  funcao_social_educação                       3383 non-null   float64\n",
      " 29  funcao_social_burocrática                    3383 non-null   float64\n",
      " 30  funcao_social_indivíduo                      3383 non-null   float64\n",
      " 31  funcao_social_propriedade                    3383 non-null   float64\n",
      " 32  funcao_social_privacidade                    3383 non-null   float64\n",
      " 33  funcao_social_controle                       3383 non-null   float64\n",
      " 34  funcao_social_saúde                          3383 non-null   float64\n",
      " 35  funcao_social_comunicação                    3383 non-null   float64\n",
      " 36  funcao_social_organização comunitária        3383 non-null   float64\n",
      " 37  funcao_social_direitos trabalhistas          3383 non-null   float64\n",
      " 38  funcao_social_integridade                    3383 non-null   float64\n",
      " 39  funcao_social_comercial                      3383 non-null   float64\n",
      " 40  funcao_social_mediação                       3383 non-null   float64\n",
      " 41  funcao_social_burocrático                    3383 non-null   float64\n",
      " 42  funcao_social_fiscal                         3383 non-null   float64\n",
      " 43  funcao_social_esporte                        3383 non-null   float64\n",
      " 44  funcao_social_meio ambiente                  3383 non-null   float64\n",
      " 45  funcao_social_ciência                        3383 non-null   float64\n",
      " 46  funcao_social_assunto_ECA                    3383 non-null   float64\n",
      " 47  funcao_social_assunto_transparência          3383 non-null   float64\n",
      " 48  funcao_social_assunto_segurança              3383 non-null   float64\n",
      " 49  funcao_social_assunto_segurança sexual       3383 non-null   float64\n",
      " 50  funcao_social_assunto_democracia             3383 non-null   float64\n",
      " 51  funcao_social_assunto_tributação             3383 non-null   float64\n",
      " 52  funcao_social_assunto_direitos trabalhistas  3383 non-null   float64\n",
      " 53  funcao_social_assunto_salário                3383 non-null   float64\n",
      " 54  funcao_social_assunto_comercial              3383 non-null   float64\n",
      " 55  funcao_social_assunto_burocrática            3383 non-null   float64\n",
      " 56  funcao_social_assunto_mediação               3383 non-null   float64\n",
      " 57  funcao_social_assunto_inclusão               3383 non-null   float64\n",
      " 58  funcao_social_assunto_tansparência           3383 non-null   float64\n",
      " 59  funcao_social_assunto_esporte                3383 non-null   float64\n",
      " 60  funcao_social_assunto_fiscal                 3383 non-null   float64\n",
      " 61  ramo_dogmatico_penal                         3383 non-null   float64\n",
      " 62  ramo_dogmatico_civil                         3383 non-null   float64\n",
      " 63  ramo_dogmatico_eleitoral                     3383 non-null   float64\n",
      " 64  ramo_dogmatico_administrativo                3383 non-null   float64\n",
      " 65  ramo_dogmatico_processual                    3383 non-null   float64\n",
      " 66  ramo_dogmatico_trabalhista                   3383 non-null   float64\n",
      " 67  ramo_dogmatico_orçamentário                  3383 non-null   float64\n",
      " 68  ramo_dogmatico_tributário                    3383 non-null   float64\n",
      " 69  ramo_dogmatico_comercial                     3383 non-null   float64\n",
      " 70  ramo_sociologico_violência                   3383 non-null   float64\n",
      " 71  ramo_sociologico_violência sexual            3383 non-null   float64\n",
      " 72  ramo_sociologico_infância                    3383 non-null   float64\n",
      " 73  ramo_sociologico_comunicação                 3383 non-null   float64\n",
      " 74  ramo_sociologico_econômico                   3383 non-null   float64\n",
      " 75  ramo_sociologico_político                    3383 non-null   float64\n",
      " 76  ramo_sociologico_nacional                    3383 non-null   float64\n",
      " 77  ramo_sociologico_burocrático                 3383 non-null   float64\n",
      " 78  ramo_sociologico_educacional                 3383 non-null   float64\n",
      " 79  ramo_sociologico_individualização            3383 non-null   float64\n",
      " 80  ramo_sociologico_educação                    3383 non-null   float64\n",
      " 81  ramo_sociologico_criminal                    3383 non-null   float64\n",
      " 82  ramo_sociologico_segurança                   3383 non-null   float64\n",
      " 83  ramo_sociologico_ciminal                     3383 non-null   float64\n",
      " 84  ramo_sociologico_saúde                       3383 non-null   float64\n",
      " 85  ramo_sociologico_trabalho                    3383 non-null   float64\n",
      " 86  ramo_sociologico_ética                       3383 non-null   float64\n",
      " 87  ramo_sociologico_rural                       3383 non-null   float64\n",
      " 88  ramo_sociologico_cultura                     3383 non-null   float64\n",
      " 89  ramo_sociologico_esporte                     3383 non-null   float64\n",
      " 90  imposicao_reconhecimento_reconhece           3383 non-null   float64\n",
      " 91  imposicao_reconhecimento_impõe               3383 non-null   float64\n",
      " 92  ferramenta_ambiente_ambiente                 3383 non-null   float64\n",
      " 93  ferramenta_ambiente_ferramenta               3383 non-null   float64\n",
      "dtypes: float64(86), int64(4), object(4)\n",
      "memory usage: 2.4+ MB\n"
     ]
    }
   ],
   "source": [
    "df_all.info()"
   ],
   "metadata": {
    "collapsed": false,
    "ExecuteTime": {
     "end_time": "2023-07-28T05:17:09.123348875Z",
     "start_time": "2023-07-28T05:17:09.081346676Z"
    }
   }
  },
  {
   "cell_type": "markdown",
   "source": [
    "# Time to essemble it back to df (with the original number of rows, 247)"
   ],
   "metadata": {
    "collapsed": false
   }
  },
  {
   "cell_type": "code",
   "execution_count": 218,
   "outputs": [
    {
     "data": {
      "text/plain": "             original_id                                             ementa  \\\noriginal_id                                                                   \n1                      1  Altera o Título VI da Parte Especial do Decret...   \n2                      2  Estabelece princípios, garantias, direitos e d...   \n3                      3  Obriga o fornecedor de ingresso para evento cu...   \n4                      4  Dispõe sobre propaganda, financiamento e prest...   \n5                      5  Normatiza a divulgação de documentos instituci...   \n\n                                                      artigo_1  table_found  \\\noriginal_id                                                                   \n1            Esta Lei altera o Título VI da Parte Especial ...            0   \n2            Esta Lei estabelece princípios, garantias, dir...            0   \n3            O fornecedor de ingresso para evento cultural ...            0   \n4            A Lei nº 9.504, de 30 de setembro de 1997, pas...            0   \n5            Esta Lei normatiza a divulgação de documentos ...            0   \n\n             outro_assunto  n_palavras  freq_assunto  artigo_1_revogado  \\\noriginal_id                                                               \n1                      1.0        1799       0.00111                  0   \n2                      0.0        6698       0.01911                  0   \n3                      0.0         328       0.00610                  0   \n4                      1.0        1434       0.00279                  0   \n5                      0.0         181       0.04972                  0   \n\n             internacional    f  ...  ramo_sociologico_saúde  \\\noriginal_id                      ...                           \n1                      0.0  1.0  ...                     0.0   \n2                      0.0  0.0  ...                     0.0   \n3                      0.0  0.0  ...                     0.0   \n4                      0.0  1.0  ...                     0.0   \n5                      0.0  0.0  ...                     0.0   \n\n             ramo_sociologico_trabalho  ramo_sociologico_ética  \\\noriginal_id                                                      \n1                                  0.0                     0.0   \n2                                  0.0                     0.0   \n3                                  0.0                     0.0   \n4                                  0.0                     0.0   \n5                                  0.0                     0.0   \n\n             ramo_sociologico_rural  ramo_sociologico_cultura  \\\noriginal_id                                                     \n1                               0.0                       0.0   \n2                               0.0                       0.0   \n3                               0.0                       0.0   \n4                               0.0                       0.0   \n5                               0.0                       0.0   \n\n             ramo_sociologico_esporte  imposicao_reconhecimento_reconhece  \\\noriginal_id                                                                 \n1                                 0.0                                 1.0   \n2                                 0.0                                 1.0   \n3                                 0.0                                 0.0   \n4                                 0.0                                 0.0   \n5                                 0.0                                 0.0   \n\n             imposicao_reconhecimento_impõe  ferramenta_ambiente_ambiente  \\\noriginal_id                                                                 \n1                                       0.0                           1.0   \n2                                       0.0                           1.0   \n3                                       1.0                           1.0   \n4                                       1.0                           0.0   \n5                                       1.0                           1.0   \n\n             ferramenta_ambiente_ferramenta  \noriginal_id                                  \n1                                       0.0  \n2                                       1.0  \n3                                       0.0  \n4                                       1.0  \n5                                       0.0  \n\n[5 rows x 92 columns]",
      "text/html": "<div>\n<style scoped>\n    .dataframe tbody tr th:only-of-type {\n        vertical-align: middle;\n    }\n\n    .dataframe tbody tr th {\n        vertical-align: top;\n    }\n\n    .dataframe thead th {\n        text-align: right;\n    }\n</style>\n<table border=\"1\" class=\"dataframe\">\n  <thead>\n    <tr style=\"text-align: right;\">\n      <th></th>\n      <th>original_id</th>\n      <th>ementa</th>\n      <th>artigo_1</th>\n      <th>table_found</th>\n      <th>outro_assunto</th>\n      <th>n_palavras</th>\n      <th>freq_assunto</th>\n      <th>artigo_1_revogado</th>\n      <th>internacional</th>\n      <th>f</th>\n      <th>...</th>\n      <th>ramo_sociologico_saúde</th>\n      <th>ramo_sociologico_trabalho</th>\n      <th>ramo_sociologico_ética</th>\n      <th>ramo_sociologico_rural</th>\n      <th>ramo_sociologico_cultura</th>\n      <th>ramo_sociologico_esporte</th>\n      <th>imposicao_reconhecimento_reconhece</th>\n      <th>imposicao_reconhecimento_impõe</th>\n      <th>ferramenta_ambiente_ambiente</th>\n      <th>ferramenta_ambiente_ferramenta</th>\n    </tr>\n    <tr>\n      <th>original_id</th>\n      <th></th>\n      <th></th>\n      <th></th>\n      <th></th>\n      <th></th>\n      <th></th>\n      <th></th>\n      <th></th>\n      <th></th>\n      <th></th>\n      <th></th>\n      <th></th>\n      <th></th>\n      <th></th>\n      <th></th>\n      <th></th>\n      <th></th>\n      <th></th>\n      <th></th>\n      <th></th>\n      <th></th>\n    </tr>\n  </thead>\n  <tbody>\n    <tr>\n      <th>1</th>\n      <td>1</td>\n      <td>Altera o Título VI da Parte Especial do Decret...</td>\n      <td>Esta Lei altera o Título VI da Parte Especial ...</td>\n      <td>0</td>\n      <td>1.0</td>\n      <td>1799</td>\n      <td>0.00111</td>\n      <td>0</td>\n      <td>0.0</td>\n      <td>1.0</td>\n      <td>...</td>\n      <td>0.0</td>\n      <td>0.0</td>\n      <td>0.0</td>\n      <td>0.0</td>\n      <td>0.0</td>\n      <td>0.0</td>\n      <td>1.0</td>\n      <td>0.0</td>\n      <td>1.0</td>\n      <td>0.0</td>\n    </tr>\n    <tr>\n      <th>2</th>\n      <td>2</td>\n      <td>Estabelece princípios, garantias, direitos e d...</td>\n      <td>Esta Lei estabelece princípios, garantias, dir...</td>\n      <td>0</td>\n      <td>0.0</td>\n      <td>6698</td>\n      <td>0.01911</td>\n      <td>0</td>\n      <td>0.0</td>\n      <td>0.0</td>\n      <td>...</td>\n      <td>0.0</td>\n      <td>0.0</td>\n      <td>0.0</td>\n      <td>0.0</td>\n      <td>0.0</td>\n      <td>0.0</td>\n      <td>1.0</td>\n      <td>0.0</td>\n      <td>1.0</td>\n      <td>1.0</td>\n    </tr>\n    <tr>\n      <th>3</th>\n      <td>3</td>\n      <td>Obriga o fornecedor de ingresso para evento cu...</td>\n      <td>O fornecedor de ingresso para evento cultural ...</td>\n      <td>0</td>\n      <td>0.0</td>\n      <td>328</td>\n      <td>0.00610</td>\n      <td>0</td>\n      <td>0.0</td>\n      <td>0.0</td>\n      <td>...</td>\n      <td>0.0</td>\n      <td>0.0</td>\n      <td>0.0</td>\n      <td>0.0</td>\n      <td>0.0</td>\n      <td>0.0</td>\n      <td>0.0</td>\n      <td>1.0</td>\n      <td>1.0</td>\n      <td>0.0</td>\n    </tr>\n    <tr>\n      <th>4</th>\n      <td>4</td>\n      <td>Dispõe sobre propaganda, financiamento e prest...</td>\n      <td>A Lei nº 9.504, de 30 de setembro de 1997, pas...</td>\n      <td>0</td>\n      <td>1.0</td>\n      <td>1434</td>\n      <td>0.00279</td>\n      <td>0</td>\n      <td>0.0</td>\n      <td>1.0</td>\n      <td>...</td>\n      <td>0.0</td>\n      <td>0.0</td>\n      <td>0.0</td>\n      <td>0.0</td>\n      <td>0.0</td>\n      <td>0.0</td>\n      <td>0.0</td>\n      <td>1.0</td>\n      <td>0.0</td>\n      <td>1.0</td>\n    </tr>\n    <tr>\n      <th>5</th>\n      <td>5</td>\n      <td>Normatiza a divulgação de documentos instituci...</td>\n      <td>Esta Lei normatiza a divulgação de documentos ...</td>\n      <td>0</td>\n      <td>0.0</td>\n      <td>181</td>\n      <td>0.04972</td>\n      <td>0</td>\n      <td>0.0</td>\n      <td>0.0</td>\n      <td>...</td>\n      <td>0.0</td>\n      <td>0.0</td>\n      <td>0.0</td>\n      <td>0.0</td>\n      <td>0.0</td>\n      <td>0.0</td>\n      <td>0.0</td>\n      <td>1.0</td>\n      <td>1.0</td>\n      <td>0.0</td>\n    </tr>\n  </tbody>\n</table>\n<p>5 rows × 92 columns</p>\n</div>"
     },
     "metadata": {},
     "output_type": "display_data"
    }
   ],
   "source": [
    "df = df_all\n",
    "\n",
    "# Step 1: Drop the 'ocorrencia' and 'ocorrencia_revogada' columns\n",
    "df.drop(['ocorrencia', 'ocorrencia_revogada'], axis=1, inplace=True)\n",
    "\n",
    "# Step 2: Group the DataFrame by 'original_id' and compute the mean of the columns from 13 onwards\n",
    "grouped_means = df.iloc[:, 13:].groupby(df['original_id']).mean()\n",
    "\n",
    "# Step 3: Apply the ternary operation to the columns using the thresholds a and b\n",
    "threshold_a = 0.25\n",
    "threshold_b = 0.75\n",
    "grouped_means = grouped_means.applymap(lambda x: 0.0 if x < threshold_a else 1.0 if x > threshold_b else 0.5)\n",
    "\n",
    "# Step 4: For columns from 0 to 12, get the first value for each 'original_id'\n",
    "first_values = df.iloc[:, :13].groupby(df['original_id']).first()\n",
    "\n",
    "# Step 5: Concatenate the two DataFrames\n",
    "df = pd.concat([first_values, grouped_means], axis=1)\n",
    "\n",
    "display(df.head())"
   ],
   "metadata": {
    "collapsed": false,
    "ExecuteTime": {
     "end_time": "2023-07-28T05:17:09.157695715Z",
     "start_time": "2023-07-28T05:17:09.081486097Z"
    }
   }
  },
  {
   "cell_type": "code",
   "execution_count": 219,
   "outputs": [
    {
     "name": "stdout",
     "output_type": "stream",
     "text": [
      "<class 'pandas.core.frame.DataFrame'>\n",
      "Int64Index: 247 entries, 1 to 247\n",
      "Data columns (total 92 columns):\n",
      " #   Column                                       Non-Null Count  Dtype  \n",
      "---  ------                                       --------------  -----  \n",
      " 0   original_id                                  247 non-null    int64  \n",
      " 1   ementa                                       247 non-null    object \n",
      " 2   artigo_1                                     247 non-null    object \n",
      " 3   table_found                                  247 non-null    int64  \n",
      " 4   outro_assunto                                247 non-null    float64\n",
      " 5   n_palavras                                   247 non-null    int64  \n",
      " 6   freq_assunto                                 247 non-null    float64\n",
      " 7   artigo_1_revogado                            247 non-null    int64  \n",
      " 8   internacional                                247 non-null    float64\n",
      " 9   f                                            247 non-null    float64\n",
      " 10  fx                                           247 non-null    float64\n",
      " 11  dimensao_normativa                           247 non-null    float64\n",
      " 12  dimensao_ontológica                          247 non-null    float64\n",
      " 13  benevolencia_ameaça                          247 non-null    float64\n",
      " 14  benevolencia_benefício                       247 non-null    float64\n",
      " 15  benevolencia_neutra                          247 non-null    float64\n",
      " 16  funcao_social_segurança                      247 non-null    float64\n",
      " 17  funcao_social_segurança sexual               247 non-null    float64\n",
      " 18  funcao_social_ECA                            247 non-null    float64\n",
      " 19  funcao_social_valoração                      247 non-null    float64\n",
      " 20  funcao_social_inclusão                       247 non-null    float64\n",
      " 21  funcao_social_consumo                        247 non-null    float64\n",
      " 22  funcao_social_cultura                        247 non-null    float64\n",
      " 23  funcao_social_democracia                     247 non-null    float64\n",
      " 24  funcao_social_transparência                  247 non-null    float64\n",
      " 25  funcao_social_nacionalismo                   247 non-null    float64\n",
      " 26  funcao_social_educação                       247 non-null    float64\n",
      " 27  funcao_social_burocrática                    247 non-null    float64\n",
      " 28  funcao_social_indivíduo                      247 non-null    float64\n",
      " 29  funcao_social_propriedade                    247 non-null    float64\n",
      " 30  funcao_social_privacidade                    247 non-null    float64\n",
      " 31  funcao_social_controle                       247 non-null    float64\n",
      " 32  funcao_social_saúde                          247 non-null    float64\n",
      " 33  funcao_social_comunicação                    247 non-null    float64\n",
      " 34  funcao_social_organização comunitária        247 non-null    float64\n",
      " 35  funcao_social_direitos trabalhistas          247 non-null    float64\n",
      " 36  funcao_social_integridade                    247 non-null    float64\n",
      " 37  funcao_social_comercial                      247 non-null    float64\n",
      " 38  funcao_social_mediação                       247 non-null    float64\n",
      " 39  funcao_social_burocrático                    247 non-null    float64\n",
      " 40  funcao_social_fiscal                         247 non-null    float64\n",
      " 41  funcao_social_esporte                        247 non-null    float64\n",
      " 42  funcao_social_meio ambiente                  247 non-null    float64\n",
      " 43  funcao_social_ciência                        247 non-null    float64\n",
      " 44  funcao_social_assunto_ECA                    247 non-null    float64\n",
      " 45  funcao_social_assunto_transparência          247 non-null    float64\n",
      " 46  funcao_social_assunto_segurança              247 non-null    float64\n",
      " 47  funcao_social_assunto_segurança sexual       247 non-null    float64\n",
      " 48  funcao_social_assunto_democracia             247 non-null    float64\n",
      " 49  funcao_social_assunto_tributação             247 non-null    float64\n",
      " 50  funcao_social_assunto_direitos trabalhistas  247 non-null    float64\n",
      " 51  funcao_social_assunto_salário                247 non-null    float64\n",
      " 52  funcao_social_assunto_comercial              247 non-null    float64\n",
      " 53  funcao_social_assunto_burocrática            247 non-null    float64\n",
      " 54  funcao_social_assunto_mediação               247 non-null    float64\n",
      " 55  funcao_social_assunto_inclusão               247 non-null    float64\n",
      " 56  funcao_social_assunto_tansparência           247 non-null    float64\n",
      " 57  funcao_social_assunto_esporte                247 non-null    float64\n",
      " 58  funcao_social_assunto_fiscal                 247 non-null    float64\n",
      " 59  ramo_dogmatico_penal                         247 non-null    float64\n",
      " 60  ramo_dogmatico_civil                         247 non-null    float64\n",
      " 61  ramo_dogmatico_eleitoral                     247 non-null    float64\n",
      " 62  ramo_dogmatico_administrativo                247 non-null    float64\n",
      " 63  ramo_dogmatico_processual                    247 non-null    float64\n",
      " 64  ramo_dogmatico_trabalhista                   247 non-null    float64\n",
      " 65  ramo_dogmatico_orçamentário                  247 non-null    float64\n",
      " 66  ramo_dogmatico_tributário                    247 non-null    float64\n",
      " 67  ramo_dogmatico_comercial                     247 non-null    float64\n",
      " 68  ramo_sociologico_violência                   247 non-null    float64\n",
      " 69  ramo_sociologico_violência sexual            247 non-null    float64\n",
      " 70  ramo_sociologico_infância                    247 non-null    float64\n",
      " 71  ramo_sociologico_comunicação                 247 non-null    float64\n",
      " 72  ramo_sociologico_econômico                   247 non-null    float64\n",
      " 73  ramo_sociologico_político                    247 non-null    float64\n",
      " 74  ramo_sociologico_nacional                    247 non-null    float64\n",
      " 75  ramo_sociologico_burocrático                 247 non-null    float64\n",
      " 76  ramo_sociologico_educacional                 247 non-null    float64\n",
      " 77  ramo_sociologico_individualização            247 non-null    float64\n",
      " 78  ramo_sociologico_educação                    247 non-null    float64\n",
      " 79  ramo_sociologico_criminal                    247 non-null    float64\n",
      " 80  ramo_sociologico_segurança                   247 non-null    float64\n",
      " 81  ramo_sociologico_ciminal                     247 non-null    float64\n",
      " 82  ramo_sociologico_saúde                       247 non-null    float64\n",
      " 83  ramo_sociologico_trabalho                    247 non-null    float64\n",
      " 84  ramo_sociologico_ética                       247 non-null    float64\n",
      " 85  ramo_sociologico_rural                       247 non-null    float64\n",
      " 86  ramo_sociologico_cultura                     247 non-null    float64\n",
      " 87  ramo_sociologico_esporte                     247 non-null    float64\n",
      " 88  imposicao_reconhecimento_reconhece           247 non-null    float64\n",
      " 89  imposicao_reconhecimento_impõe               247 non-null    float64\n",
      " 90  ferramenta_ambiente_ambiente                 247 non-null    float64\n",
      " 91  ferramenta_ambiente_ferramenta               247 non-null    float64\n",
      "dtypes: float64(86), int64(4), object(2)\n",
      "memory usage: 179.5+ KB\n"
     ]
    }
   ],
   "source": [
    "df.info()"
   ],
   "metadata": {
    "collapsed": false,
    "ExecuteTime": {
     "end_time": "2023-07-28T05:17:09.271375405Z",
     "start_time": "2023-07-28T05:17:09.111507133Z"
    }
   }
  },
  {
   "cell_type": "code",
   "execution_count": 223,
   "outputs": [],
   "source": [
    "# rename original_id to id\n",
    "df.rename(columns={'original_id': 'id'}, inplace=True)\n",
    "\n",
    "# save df in a csv file\n",
    "# df.to_csv('../../df_predicted.csv', index=False)"
   ],
   "metadata": {
    "collapsed": false,
    "ExecuteTime": {
     "end_time": "2023-07-28T05:19:29.643220688Z",
     "start_time": "2023-07-28T05:19:29.567425934Z"
    }
   }
  },
  {
   "cell_type": "markdown",
   "source": [
    "### Obs: table_found is all 0. Something went wrong here. Deleted on the google sheets and on the next cell."
   ],
   "metadata": {
    "collapsed": false
   }
  },
  {
   "cell_type": "code",
   "execution_count": 224,
   "outputs": [],
   "source": [
    "df.drop(['table_found'], axis=1, inplace=True)"
   ],
   "metadata": {
    "collapsed": false,
    "ExecuteTime": {
     "end_time": "2023-07-28T05:30:13.659105239Z",
     "start_time": "2023-07-28T05:30:13.571940040Z"
    }
   }
  },
  {
   "cell_type": "code",
   "execution_count": 225,
   "outputs": [
    {
     "name": "stdout",
     "output_type": "stream",
     "text": [
      "<class 'pandas.core.frame.DataFrame'>\n",
      "Int64Index: 247 entries, 1 to 247\n",
      "Data columns (total 91 columns):\n",
      " #   Column                                       Non-Null Count  Dtype  \n",
      "---  ------                                       --------------  -----  \n",
      " 0   id                                           247 non-null    int64  \n",
      " 1   ementa                                       247 non-null    object \n",
      " 2   artigo_1                                     247 non-null    object \n",
      " 3   outro_assunto                                247 non-null    float64\n",
      " 4   n_palavras                                   247 non-null    int64  \n",
      " 5   freq_assunto                                 247 non-null    float64\n",
      " 6   artigo_1_revogado                            247 non-null    int64  \n",
      " 7   internacional                                247 non-null    float64\n",
      " 8   f                                            247 non-null    float64\n",
      " 9   fx                                           247 non-null    float64\n",
      " 10  dimensao_normativa                           247 non-null    float64\n",
      " 11  dimensao_ontológica                          247 non-null    float64\n",
      " 12  benevolencia_ameaça                          247 non-null    float64\n",
      " 13  benevolencia_benefício                       247 non-null    float64\n",
      " 14  benevolencia_neutra                          247 non-null    float64\n",
      " 15  funcao_social_segurança                      247 non-null    float64\n",
      " 16  funcao_social_segurança sexual               247 non-null    float64\n",
      " 17  funcao_social_ECA                            247 non-null    float64\n",
      " 18  funcao_social_valoração                      247 non-null    float64\n",
      " 19  funcao_social_inclusão                       247 non-null    float64\n",
      " 20  funcao_social_consumo                        247 non-null    float64\n",
      " 21  funcao_social_cultura                        247 non-null    float64\n",
      " 22  funcao_social_democracia                     247 non-null    float64\n",
      " 23  funcao_social_transparência                  247 non-null    float64\n",
      " 24  funcao_social_nacionalismo                   247 non-null    float64\n",
      " 25  funcao_social_educação                       247 non-null    float64\n",
      " 26  funcao_social_burocrática                    247 non-null    float64\n",
      " 27  funcao_social_indivíduo                      247 non-null    float64\n",
      " 28  funcao_social_propriedade                    247 non-null    float64\n",
      " 29  funcao_social_privacidade                    247 non-null    float64\n",
      " 30  funcao_social_controle                       247 non-null    float64\n",
      " 31  funcao_social_saúde                          247 non-null    float64\n",
      " 32  funcao_social_comunicação                    247 non-null    float64\n",
      " 33  funcao_social_organização comunitária        247 non-null    float64\n",
      " 34  funcao_social_direitos trabalhistas          247 non-null    float64\n",
      " 35  funcao_social_integridade                    247 non-null    float64\n",
      " 36  funcao_social_comercial                      247 non-null    float64\n",
      " 37  funcao_social_mediação                       247 non-null    float64\n",
      " 38  funcao_social_burocrático                    247 non-null    float64\n",
      " 39  funcao_social_fiscal                         247 non-null    float64\n",
      " 40  funcao_social_esporte                        247 non-null    float64\n",
      " 41  funcao_social_meio ambiente                  247 non-null    float64\n",
      " 42  funcao_social_ciência                        247 non-null    float64\n",
      " 43  funcao_social_assunto_ECA                    247 non-null    float64\n",
      " 44  funcao_social_assunto_transparência          247 non-null    float64\n",
      " 45  funcao_social_assunto_segurança              247 non-null    float64\n",
      " 46  funcao_social_assunto_segurança sexual       247 non-null    float64\n",
      " 47  funcao_social_assunto_democracia             247 non-null    float64\n",
      " 48  funcao_social_assunto_tributação             247 non-null    float64\n",
      " 49  funcao_social_assunto_direitos trabalhistas  247 non-null    float64\n",
      " 50  funcao_social_assunto_salário                247 non-null    float64\n",
      " 51  funcao_social_assunto_comercial              247 non-null    float64\n",
      " 52  funcao_social_assunto_burocrática            247 non-null    float64\n",
      " 53  funcao_social_assunto_mediação               247 non-null    float64\n",
      " 54  funcao_social_assunto_inclusão               247 non-null    float64\n",
      " 55  funcao_social_assunto_tansparência           247 non-null    float64\n",
      " 56  funcao_social_assunto_esporte                247 non-null    float64\n",
      " 57  funcao_social_assunto_fiscal                 247 non-null    float64\n",
      " 58  ramo_dogmatico_penal                         247 non-null    float64\n",
      " 59  ramo_dogmatico_civil                         247 non-null    float64\n",
      " 60  ramo_dogmatico_eleitoral                     247 non-null    float64\n",
      " 61  ramo_dogmatico_administrativo                247 non-null    float64\n",
      " 62  ramo_dogmatico_processual                    247 non-null    float64\n",
      " 63  ramo_dogmatico_trabalhista                   247 non-null    float64\n",
      " 64  ramo_dogmatico_orçamentário                  247 non-null    float64\n",
      " 65  ramo_dogmatico_tributário                    247 non-null    float64\n",
      " 66  ramo_dogmatico_comercial                     247 non-null    float64\n",
      " 67  ramo_sociologico_violência                   247 non-null    float64\n",
      " 68  ramo_sociologico_violência sexual            247 non-null    float64\n",
      " 69  ramo_sociologico_infância                    247 non-null    float64\n",
      " 70  ramo_sociologico_comunicação                 247 non-null    float64\n",
      " 71  ramo_sociologico_econômico                   247 non-null    float64\n",
      " 72  ramo_sociologico_político                    247 non-null    float64\n",
      " 73  ramo_sociologico_nacional                    247 non-null    float64\n",
      " 74  ramo_sociologico_burocrático                 247 non-null    float64\n",
      " 75  ramo_sociologico_educacional                 247 non-null    float64\n",
      " 76  ramo_sociologico_individualização            247 non-null    float64\n",
      " 77  ramo_sociologico_educação                    247 non-null    float64\n",
      " 78  ramo_sociologico_criminal                    247 non-null    float64\n",
      " 79  ramo_sociologico_segurança                   247 non-null    float64\n",
      " 80  ramo_sociologico_ciminal                     247 non-null    float64\n",
      " 81  ramo_sociologico_saúde                       247 non-null    float64\n",
      " 82  ramo_sociologico_trabalho                    247 non-null    float64\n",
      " 83  ramo_sociologico_ética                       247 non-null    float64\n",
      " 84  ramo_sociologico_rural                       247 non-null    float64\n",
      " 85  ramo_sociologico_cultura                     247 non-null    float64\n",
      " 86  ramo_sociologico_esporte                     247 non-null    float64\n",
      " 87  imposicao_reconhecimento_reconhece           247 non-null    float64\n",
      " 88  imposicao_reconhecimento_impõe               247 non-null    float64\n",
      " 89  ferramenta_ambiente_ambiente                 247 non-null    float64\n",
      " 90  ferramenta_ambiente_ferramenta               247 non-null    float64\n",
      "dtypes: float64(86), int64(3), object(2)\n",
      "memory usage: 177.5+ KB\n"
     ]
    }
   ],
   "source": [
    "df.info()"
   ],
   "metadata": {
    "collapsed": false,
    "ExecuteTime": {
     "end_time": "2023-07-28T05:30:19.825887929Z",
     "start_time": "2023-07-28T05:30:19.794076039Z"
    }
   }
  },
  {
   "cell_type": "markdown",
   "source": [
    "______"
   ],
   "metadata": {
    "collapsed": false
   }
  },
  {
   "cell_type": "markdown",
   "source": [
    "______"
   ],
   "metadata": {
    "collapsed": false
   }
  },
  {
   "cell_type": "markdown",
   "source": [
    "______"
   ],
   "metadata": {
    "collapsed": false
   }
  },
  {
   "cell_type": "markdown",
   "source": [
    "______"
   ],
   "metadata": {
    "collapsed": false
   }
  },
  {
   "cell_type": "code",
   "execution_count": 220,
   "outputs": [
    {
     "data": {
      "text/plain": "'\\nfrom keras.models import Sequential\\nfrom keras.layers import Dense\\nfrom sklearn.model_selection import train_test_split\\nfrom sklearn.preprocessing import MultiLabelBinarizer\\nfrom sklearn.feature_extraction.text import TfidfVectorizer\\nfrom scipy.sparse import hstack\\n#'"
     },
     "execution_count": 220,
     "metadata": {},
     "output_type": "execute_result"
    }
   ],
   "source": [
    "'''\n",
    "from keras.models import Sequential\n",
    "from keras.layers import Dense\n",
    "from sklearn.model_selection import train_test_split\n",
    "from sklearn.preprocessing import MultiLabelBinarizer\n",
    "from sklearn.feature_extraction.text import TfidfVectorizer\n",
    "from scipy.sparse import hstack\n",
    "#'''"
   ],
   "metadata": {
    "collapsed": false,
    "ExecuteTime": {
     "end_time": "2023-07-28T05:17:09.304801231Z",
     "start_time": "2023-07-28T05:17:09.125427105Z"
    }
   }
  },
  {
   "cell_type": "markdown",
   "source": [
    "My code previously:\n",
    "print(\"All occurrences that are current:\\n\" + \"[\"+\";\".join(all_occ_curr[:2])+\",...,\"+\";\".join(all_occ_curr[-2:])+\"]\")\n",
    "print(\"All occurrences that are not current:\\n\" + \"[\"+\";\".join(all_occ_ncurr[:2])+\";...;\"+\";\".join(all_occ_ncurr[-2:])+\"]\")\n",
    "My console:\n",
    "All occurrences that are current:\n",
    "[ disciplina uso internet brasil tem como fundamento respeito liberdade expressão bem como;disciplina uso internet brasil tem seguintes princípios;...; iniciativas públicas fomento cultura digital promoção internet como ferramenta social devem;promover inclusão digital]\n",
    "All occurrences that are not current:\n",
    "[vii aplicações internet conjunto funcionalidades que podem ser acessadas por meio terminal conectado internet redação dada pela medida provisória rejeitada;viii registros acesso aplicações internet conjunto informações referentes data hora uso uma determinada aplicação internet partir determinado endereço redação dada pela medida provisória rejeitada;...; utilização ensino uso aplicações internet sítios eletrônicos tecnologia informação com objetivo violar patente marca registrada direito autoral outros direitos propriedade intelectual incluído pela medida provisória rejeitada;poderá ocorrer por meio eletrônico acordo com regras uso rede social incluído pela medida provisória rejeitada]\n",
    "\n",
    "I have a pandas DataFrame with 247 rows, and I have 247 text files (complete laws), what you have just saw was my lists all_occ_curr and all_occ_ncurr, it shows only the important fragments of the text files, so I avoid making the AI read the entire file for no reason. Now, these lists columns on my df, each row is a string separated by \";\". My pandas df has some of it's columns completely filled by automation, that have some objective data such as word counts, subject match counts, mentions of other laws, which laws, etc... If it can be useful for machine learning, I'm all up to use those. On the other hand I have 61 rows of 9 columns filled by hand, these columns are (pt-br):\n",
    "dimensão,benevolência,função social,função social especificamente ligada ao assunto,ramo (dogmático) do direito,ramo (sociológico) do direito,imposição/reconhecimento (pelo jurídico),ferramenta/ambiente.\n",
    "My idea is to train a neural network with these 61 completed rows and be able to predict the values for these 9 columns for the other 186 rows. 61 values are the training set, they have the right answer to feedback after all.\n",
    "I want to use keras to for deep learning, I will have 21 X columns and 9 y columns."
   ],
   "metadata": {
    "collapsed": false
   }
  },
  {
   "cell_type": "markdown",
   "source": [
    "Based on your description, it seems like you want to apply a multi-label classification model, where each of your documents (laws) can have multiple labels (the 9 columns you mentioned).\n",
    "\n",
    "You're correct that Keras can be used for this kind of task. The general steps would be as follows:\n",
    "\n",
    "1. **Preprocess the text**: Convert the text into a format that can be used by a machine learning model. This could be a simple bag-of-words model or a more complex model like TF-IDF or word embeddings.\n",
    "\n",
    "2. **Transform the labels**: The labels will need to be converted into a format that can be used by a machine learning model. For multi-label classification, this will typically be a binary matrix where each row corresponds to a document and each column corresponds to a label. If a document has a particular label, the corresponding entry in the matrix will be 1, otherwise it will be 0.\n",
    "\n",
    "3. **Split the data into a training and validation set**: This will allow you to evaluate the performance of the model.\n",
    "\n",
    "4. **Create the model**: This will be a neural network with an input layer that accepts the preprocessed text, one or more hidden layers, and an output layer with a number of units equal to the number of labels. Because this is a multi-label classification problem, the output layer will typically use a sigmoid activation function, which will allow each unit to output a value between 0 and 1 independently of the other units.\n",
    "\n",
    "5. **Compile the model**: When you compile the model, you'll need to specify the loss function and the optimizer. For multi-label classification, the binary crossentropy loss is often used. The optimizer could be something like Adam or RMSprop.\n",
    "\n",
    "6. **Train the model**: Fit the model to the training data for a certain number of epochs. You can also provide the validation data to monitor the validation loss and accuracy during training.\n",
    "\n",
    "7. **Evaluate the model**: Use the model to make predictions on the validation data and evaluate the performance of the model.\n",
    "\n",
    "8. **Predict on new data**: Once you're satisfied with your model's performance, you can use it to predict the labels of the 186 rows you haven't labeled yet.\n",
    "\n",
    "Here is a simplified example:\n",
    "\n",
    "```python\n",
    "from keras.models import Sequential\n",
    "from keras.layers import Dense\n",
    "from sklearn.preprocessing import MultiLabelBinarizer\n",
    "from sklearn.model_selection import train_test_split\n",
    "from sklearn.feature_extraction.text import TfidfVectorizer\n",
    "\n",
    "# Preprocess the text\n",
    "vectorizer = TfidfVectorizer()\n",
    "X = vectorizer.fit_transform(df['text'])\n",
    "\n",
    "# Transform the labels\n",
    "mlb = MultiLabelBinarizer()\n",
    "y = mlb.fit_transform(df['labels'])\n",
    "\n",
    "# Split the data\n",
    "X_train, X_test, y_train, y_test = train_test_split(X, y, test_size=0.2, random_state=42)\n",
    "\n",
    "# Create the model\n",
    "model = Sequential()\n",
    "model.add(Dense(128, input_dim=X.shape[1], activation='relu'))\n",
    "model.add(Dense(y.shape[1], activation='sigmoid'))\n",
    "\n",
    "# Compile the model\n",
    "model.compile(loss='binary_crossentropy', optimizer='adam')\n",
    "\n",
    "# Train the model\n",
    "model.fit(X_train, y_train, epochs=10, batch_size=32, validation_data=(X_test, y_test))\n",
    "\n",
    "# Evaluate the model\n",
    "loss, accuracy = model.evaluate(X_test, y_test)\n",
    "print('Loss:', loss)\n",
    "print('Accuracy:', accuracy)\n",
    "\n",
    "# Predict on new data\n",
    "new_data = vectorizer.transform(new_text)\n",
    "predictions = model.predict(new_data)\n",
    "labels = mlb.inverse_transform(predictions)\n",
    "```\n",
    "\n",
    "This is a basic example and might not work perfectly for your specific problem. You might need to adjust the preprocessing, the model architecture, the loss function, the optimizer, or other parts of the code. Additionally, deep learning models often require a lot of data to train effectively. If your dataset is small, you might want to consider using a simpler model like Naive Bayes or SVM, or you might want to use techniques like data augmentation to increase the size of your dataset."
   ],
   "metadata": {
    "collapsed": false
   }
  },
  {
   "cell_type": "code",
   "execution_count": 221,
   "outputs": [],
   "source": [
    "# df['freq_assunto'] = df['freq_assunto'].str.replace(',', '.').str.replace('%', '').astype(float) / 100"
   ],
   "metadata": {
    "collapsed": false,
    "ExecuteTime": {
     "end_time": "2023-07-28T05:17:09.305092820Z",
     "start_time": "2023-07-28T05:17:09.168038570Z"
    }
   }
  },
  {
   "cell_type": "code",
   "execution_count": 222,
   "outputs": [
    {
     "data": {
      "text/plain": "\"\\n# Preprocess the text\\nvectorizer = TfidfVectorizer()\\n\\n# Compute TF-IDF vectors for accepted text and rejected text separately\\nX_accepted = vectorizer.fit_transform(df['all_occ_curr'])\\nX_rejected = vectorizer.fit_transform(df['all_occ_ncurr'])\\n\\n# Manually adjust the vectors\\nX_accepted *= 1.0  # weight for accepted text\\nX_rejected *= 0.3  # weight for rejected text\\n\\nX_fs_accepted = vectorizer.fit_transform(df['quais_f'])\\nX_fxs_accepted = vectorizer.fit_transform(df['quais_fx'])\\nX_fs_rejected = vectorizer.fit_transform(df['quais_f_o'])\\nX_fxs_rejected = vectorizer.fit_transform(df['quais_fx_o'])\\n\\n# Manually adjust the vectors\\nX_fs_accepted *= 1.0  # weight for accepted text\\nX_fxs_accepted *= 1.0  # weight for accepted text\\nX_fs_rejected *= 0.01  # weight for rejected text\\nX_fxs_rejected *= 0.01  # weight for rejected text\\n\\n# X columns:\\n# data,assunto: emenda lei [f()] / é emendado [f(x)],outro assunto [o],assunto,n_palavras,freq_assunto,quais_f,quais_fx,quais_f_o,quais_fx_o,epígrafe,ementa,Artigo 1º,URL,Artigo 1 revogado,efetivamente revogada [r],table_found,all_occ_curr,all_occ_ncurr\\n\\n# Combine the vectors\\nX = hstack([X_accepted, X_rejected,\\n            vectorizer.fit_transform(df['table_found'].fillna('zero').replace('f', 'UMum').astype(str)),\\n            vectorizer.fit_transform(df['assunto: emenda lei [f()] / é emendado [f(x)]'].fillna('zero').replace('f()', 'UMum').replace(';f()', 'UMum').replace('f(x)', 'dois').replace('f();f(x)', 'tres').astype(str)),\\n            vectorizer.fit_transform(df['outro assunto [o]'].fillna('zero').replace('o', 'UMum').replace('o;?', 'UMum').astype(str)),\\n            vectorizer.fit_transform(df['assunto'].astype(str)),\\n            vectorizer.fit_transform(df['freq_assunto'].astype(str)),\\n            X_accepted, X_fxs_accepted, X_fs_rejected, X_fxs_rejected,\\n            vectorizer.fit_transform(df['ementa']),\\n            vectorizer.fit_transform(df['Artigo 1º']),\\n            vectorizer.fit_transform(df['Artigo 1 revogado'].fillna('zero').replace('r', 'dois').replace('1/2r', 'UMum').astype(str)),\\n            vectorizer.fit_transform(df['efetivamente revogada [r]'].fillna('zero').replace('r', 'dois').replace('1/2r', 'UMum').astype(str))], format='csr')\\n\\n# y columns:\\n# dimensão,benevolência,função social,função social especificamente ligada ao assunto,ramo (dogmático) do direito,ramo (sociológico) do direito,imposição/reconhecimento (pelo jurídico),ferramenta/ambiente\\n\\nys = [df['dimensão'],\\n      df['benevolência'],\\n      df['função social'],\\n      df['função social especificamente ligada ao assunto'],\\n      df['ramo (dogmático) do direito'],\\n      df['ramo (sociológico) do direito'],\\n      df['imposição/reconhecimento (pelo jurídico)'],\\n      df['ferramenta/ambiente']]\\n\\nindex_to_name = {\\n    0: 'dimensão',\\n    1: 'benevolência',\\n    2: 'função social',\\n    3: 'função social especificamente ligada ao assunto',\\n    4: 'ramo (dogmático) do direito',\\n    5: 'ramo (sociológico) do direito',\\n    6: 'imposição/reconhecimento (pelo jurídico)',\\n    7: 'ferramenta/ambiente'\\n}\\n\\nfor idx, o_y in enumerate(ys):\\n    X_labeled = X[:61]  # the first 61 rows (labeled data)\\n    y_labeled = y[:61]\\n\\n    # Transform the labels\\n    mlb = MultiLabelBinarizer()\\n    y = mlb.fit_transform(o_y.astype(str).str.split(';').apply(lambda x: [i.strip() for i in x if i.strip() != '']))\\n\\n    # Split the labeled data into a training set and a validation set\\n    X_train, X_test, y_train, y_test = train_test_split(X_labeled, y_labeled, test_size=0.3, random_state=42)\\n\\n    # Create the model\\n    model = Sequential()\\n    model.add(Dense(128, input_dim=X.shape[1], activation='relu'))\\n    model.add(Dense(y.shape[1], activation='sigmoid'))\\n\\n    # Compile the model\\n    model.compile(loss='binary_crossentropy', optimizer='adam')\\n\\n    # Train the model\\n    model.fit(X_train, y_train, epochs=10, batch_size=32, validation_data=(X_test, y_test))\\n\\n    # Evaluate the model\\n    loss, accuracy = model.evaluate(X_test, y_test)\\n    print(f'Loss[{idx}]:', loss)\\n    print(f'Accuracy[{idx}]:', accuracy)\\n\\n    # Predict on new data\\n    for jdx, _ in enumerate(X[61:]):\\n        new_data = X[61+jdx:61+jdx+1]\\n        predictions = model.predict(new_data)\\n        df.at[61+jdx, index_to_name[idx]] = mlb.inverse_transform(predictions)[0]\\n#\""
     },
     "execution_count": 222,
     "metadata": {},
     "output_type": "execute_result"
    }
   ],
   "source": [
    "'''\n",
    "# Preprocess the text\n",
    "vectorizer = TfidfVectorizer()\n",
    "\n",
    "# Compute TF-IDF vectors for accepted text and rejected text separately\n",
    "X_accepted = vectorizer.fit_transform(df['all_occ_curr'])\n",
    "X_rejected = vectorizer.fit_transform(df['all_occ_ncurr'])\n",
    "\n",
    "# Manually adjust the vectors\n",
    "X_accepted *= 1.0  # weight for accepted text\n",
    "X_rejected *= 0.3  # weight for rejected text\n",
    "\n",
    "X_fs_accepted = vectorizer.fit_transform(df['quais_f'])\n",
    "X_fxs_accepted = vectorizer.fit_transform(df['quais_fx'])\n",
    "X_fs_rejected = vectorizer.fit_transform(df['quais_f_o'])\n",
    "X_fxs_rejected = vectorizer.fit_transform(df['quais_fx_o'])\n",
    "\n",
    "# Manually adjust the vectors\n",
    "X_fs_accepted *= 1.0  # weight for accepted text\n",
    "X_fxs_accepted *= 1.0  # weight for accepted text\n",
    "X_fs_rejected *= 0.01  # weight for rejected text\n",
    "X_fxs_rejected *= 0.01  # weight for rejected text\n",
    "\n",
    "# X columns:\n",
    "# data,assunto: emenda lei [f()] / é emendado [f(x)],outro assunto [o],assunto,n_palavras,freq_assunto,quais_f,quais_fx,quais_f_o,quais_fx_o,epígrafe,ementa,Artigo 1º,URL,Artigo 1 revogado,efetivamente revogada [r],table_found,all_occ_curr,all_occ_ncurr\n",
    "\n",
    "# Combine the vectors\n",
    "X = hstack([X_accepted, X_rejected,\n",
    "            vectorizer.fit_transform(df['table_found'].fillna('zero').replace('f', 'UMum').astype(str)),\n",
    "            vectorizer.fit_transform(df['assunto: emenda lei [f()] / é emendado [f(x)]'].fillna('zero').replace('f()', 'UMum').replace(';f()', 'UMum').replace('f(x)', 'dois').replace('f();f(x)', 'tres').astype(str)),\n",
    "            vectorizer.fit_transform(df['outro assunto [o]'].fillna('zero').replace('o', 'UMum').replace('o;?', 'UMum').astype(str)),\n",
    "            vectorizer.fit_transform(df['assunto'].astype(str)),\n",
    "            vectorizer.fit_transform(df['freq_assunto'].astype(str)),\n",
    "            X_accepted, X_fxs_accepted, X_fs_rejected, X_fxs_rejected,\n",
    "            vectorizer.fit_transform(df['ementa']),\n",
    "            vectorizer.fit_transform(df['Artigo 1º']),\n",
    "            vectorizer.fit_transform(df['Artigo 1 revogado'].fillna('zero').replace('r', 'dois').replace('1/2r', 'UMum').astype(str)),\n",
    "            vectorizer.fit_transform(df['efetivamente revogada [r]'].fillna('zero').replace('r', 'dois').replace('1/2r', 'UMum').astype(str))], format='csr')\n",
    "\n",
    "# y columns:\n",
    "# dimensão,benevolência,função social,função social especificamente ligada ao assunto,ramo (dogmático) do direito,ramo (sociológico) do direito,imposição/reconhecimento (pelo jurídico),ferramenta/ambiente\n",
    "\n",
    "ys = [df['dimensão'],\n",
    "      df['benevolência'],\n",
    "      df['função social'],\n",
    "      df['função social especificamente ligada ao assunto'],\n",
    "      df['ramo (dogmático) do direito'],\n",
    "      df['ramo (sociológico) do direito'],\n",
    "      df['imposição/reconhecimento (pelo jurídico)'],\n",
    "      df['ferramenta/ambiente']]\n",
    "\n",
    "index_to_name = {\n",
    "    0: 'dimensão',\n",
    "    1: 'benevolência',\n",
    "    2: 'função social',\n",
    "    3: 'função social especificamente ligada ao assunto',\n",
    "    4: 'ramo (dogmático) do direito',\n",
    "    5: 'ramo (sociológico) do direito',\n",
    "    6: 'imposição/reconhecimento (pelo jurídico)',\n",
    "    7: 'ferramenta/ambiente'\n",
    "}\n",
    "\n",
    "for idx, o_y in enumerate(ys):\n",
    "    X_labeled = X[:61]  # the first 61 rows (labeled data)\n",
    "    y_labeled = y[:61]\n",
    "\n",
    "    # Transform the labels\n",
    "    mlb = MultiLabelBinarizer()\n",
    "    y = mlb.fit_transform(o_y.astype(str).str.split(';').apply(lambda x: [i.strip() for i in x if i.strip() != '']))\n",
    "\n",
    "    # Split the labeled data into a training set and a validation set\n",
    "    X_train, X_test, y_train, y_test = train_test_split(X_labeled, y_labeled, test_size=0.3, random_state=42)\n",
    "\n",
    "    # Create the model\n",
    "    model = Sequential()\n",
    "    model.add(Dense(128, input_dim=X.shape[1], activation='relu'))\n",
    "    model.add(Dense(y.shape[1], activation='sigmoid'))\n",
    "\n",
    "    # Compile the model\n",
    "    model.compile(loss='binary_crossentropy', optimizer='adam')\n",
    "\n",
    "    # Train the model\n",
    "    model.fit(X_train, y_train, epochs=10, batch_size=32, validation_data=(X_test, y_test))\n",
    "\n",
    "    # Evaluate the model\n",
    "    loss, accuracy = model.evaluate(X_test, y_test)\n",
    "    print(f'Loss[{idx}]:', loss)\n",
    "    print(f'Accuracy[{idx}]:', accuracy)\n",
    "\n",
    "    # Predict on new data\n",
    "    for jdx, _ in enumerate(X[61:]):\n",
    "        new_data = X[61+jdx:61+jdx+1]\n",
    "        predictions = model.predict(new_data)\n",
    "        df.at[61+jdx, index_to_name[idx]] = mlb.inverse_transform(predictions)[0]\n",
    "#'''"
   ],
   "metadata": {
    "collapsed": false,
    "ExecuteTime": {
     "end_time": "2023-07-28T05:17:09.305831315Z",
     "start_time": "2023-07-28T05:17:09.168135713Z"
    }
   }
  }
 ],
 "metadata": {
  "kernelspec": {
   "display_name": "Python 3",
   "language": "python",
   "name": "python3"
  },
  "language_info": {
   "codemirror_mode": {
    "name": "ipython",
    "version": 2
   },
   "file_extension": ".py",
   "mimetype": "text/x-python",
   "name": "python",
   "nbconvert_exporter": "python",
   "pygments_lexer": "ipython2",
   "version": "2.7.6"
  }
 },
 "nbformat": 4,
 "nbformat_minor": 0
}
