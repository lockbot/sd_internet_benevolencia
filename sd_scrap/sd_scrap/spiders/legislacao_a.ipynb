{
 "cells": [
  {
   "cell_type": "code",
   "execution_count": 153,
   "metadata": {
    "collapsed": true,
    "ExecuteTime": {
     "end_time": "2023-07-20T04:31:34.489831230Z",
     "start_time": "2023-07-20T04:31:34.446045595Z"
    }
   },
   "outputs": [],
   "source": [
    "import pandas as pd\n",
    "import re"
   ]
  },
  {
   "cell_type": "code",
   "execution_count": 154,
   "outputs": [],
   "source": [
    "df_imp = pd.read_csv('../../importador.csv', index_col='id').sort_index()"
   ],
   "metadata": {
    "collapsed": false,
    "ExecuteTime": {
     "end_time": "2023-07-20T04:31:37.368520234Z",
     "start_time": "2023-07-20T04:31:37.351089553Z"
    }
   }
  },
  {
   "cell_type": "code",
   "execution_count": 5,
   "outputs": [
    {
     "data": {
      "text/plain": "                                        epígrafe  \\\nid                                                 \n1         LEI Nº 12.015, DE 7 DE AGOSTO DE 2009.   \n2          LEI Nº 12.965, DE 23 DE ABRIL DE 2014   \n3       LEI Nº 13.179, DE 22 DE OUTUBRO DE 2015.   \n4          LEI Nº 11.300, DE 10 DE MAIO DE 2006.   \n5         LEI Nº 12.686, DE 18 DE JULHO DE 2012.   \n6           LEI Nº 13.828, DE 13 DE MAIO DE 2019   \n7       LEI Nº 9.755, DE 16 DE DEZEMBRO DE 1998.   \n8          LEI Nº 14.172, DE 10 DE JUNHO DE 2021   \n9         LEI Nº 11.341, DE 7 DE AGOSTO DE 2006.   \n10     LEI Nº 11.829, DE 25 DE NOVEMBRO DE 2008.   \n238     LEI Nº 13.898, DE 11 DE NOVEMBRO DE 2019   \n239         LEI Nº 8.666, DE 21 DE JUNHO DE 1993   \n240         LEI Nº 11.977, DE 7 DE JULHO DE 2009   \n241       LEI Nº 14.194, DE 20 DE AGOSTO DE 2021   \n242       LEI Nº 13.473, DE 8 DE AGOSTO DE 2017.   \n243     LEI Nº 6.404, DE 15 DE DEZEMBRO DE 1976.   \n244      LEI Nº 9.503, DE 23 DE SETEMBRO DE 1997   \n245  DECRETO-LEI Nº 5.452, DE 1º DE MAIO DE 1943   \n246      LEI Nº 5.869, DE 11 DE JANEIRO DE 1973.   \n247      LEI Nº 10.406, DE 10 DE JANEIRO DE 2002   \n\n                                                ementa  \\\nid                                                       \n1    Altera o Título VI da Parte Especial do Decret...   \n2    Estabelece princípios, garantias, direitos e d...   \n3    Obriga o fornecedor de ingresso para evento cu...   \n4    Dispõe sobre propaganda, financiamento e prest...   \n5    Normatiza a divulgação de documentos instituci...   \n6    Altera a Lei nº 12.485, de 12 de setembro de 2...   \n7    Dispõe sobre a criação de \"homepage\" na \"Inter...   \n8    Dispõe sobre a garantia de acesso à internet, ...   \n9    Altera o parágrafo único do art. 541 do Código...   \n10   Altera a Lei nº 8.069, de 13 de julho de 1990 ...   \n238  Dispõe sobre as diretrizes para a elaboração e...   \n239  Regulamenta o art. 37, inciso XXI, da Constitu...   \n240  Dispõe sobre o Programa Minha Casa, Minha Vida...   \n241  Dispõe sobre as diretrizes para a elaboração e...   \n242  Dispõe sobre as diretrizes para a elaboração e...   \n243              Dispõe sobre as Sociedades por Ações.   \n244          Institui o Código de Trânsito Brasileiro.   \n245        Aprova a Consolidação das Leis do Trabalho.   \n246               Institui o Código de Processo Civil.   \n247                           Institui o Código Civil.   \n\n                                             Artigo 1º Artigo 1 revogado  \\\nid                                                                         \n1    Esta Lei altera o Título VI da Parte Especial ...               NaN   \n2    Esta Lei estabelece princípios, garantias, dir...               NaN   \n3    O fornecedor de ingresso para evento cultural ...               NaN   \n4    A Lei nº 9.504, de 30 de setembro de 1997, pas...               NaN   \n5    Esta Lei normatiza a divulgação de documentos ...               NaN   \n6    Esta Lei altera a Lei nº 12.485, de 12 de sete...               NaN   \n7    O Tribunal de Contas da União criará _homepage...               NaN   \n8    Esta Lei dispõe sobre a assistência da União a...               NaN   \n9    O parágrafo único do art. 541 da Lei nº 5.869,...               NaN   \n10   Os arts. 240 e 241 da Lei nº 8.069, de 13 de j...               NaN   \n238  São estabelecidas, em cumprimento ao disposto ...               NaN   \n239  Esta Lei estabelece normas gerais sobre licita...               NaN   \n240  O Programa Minha Casa, Minha Vida - PMCMV comp...               NaN   \n241  São estabelecidas, em cumprimento ao disposto ...               NaN   \n242  São estabelecidas, em cumprimento ao disposto ...               NaN   \n243  A companhia ou sociedade anônima terá o capita...               NaN   \n244  O trânsito de qualquer natureza nas vias terre...               NaN   \n245  Fica aprovada a Consolidação das Leis do Traba...               NaN   \n246  A jurisdição civil, contenciosa e voluntária, ...                 r   \n247  Toda pessoa é capaz de direitos e deveres na o...               NaN   \n\n                                                   URL    file_name  \nid                                                                   \n1    https://www.planalto.gov.br/ccivil_03/_ato2007...       l12015  \n2    https://www.planalto.gov.br/ccivil_03/_ato2011...       l12965  \n3    https://www.planalto.gov.br/ccivil_03/_ato2015...       l13179  \n4    https://www.planalto.gov.br/ccivil_03/_ato2004...       l11300  \n5    https://www.planalto.gov.br/ccivil_03/_ato2011...       l12686  \n6    https://www.planalto.gov.br/ccivil_03/_ato2019...       l13828  \n7    https://www.planalto.gov.br/ccivil_03/leis/l97...        l9755  \n8    https://www.planalto.gov.br/ccivil_03/_ato2019...       l14172  \n9    https://www.planalto.gov.br/ccivil_03/_ato2004...       l11341  \n10   https://www.planalto.gov.br/ccivil_03/_ato2007...       l11829  \n238  https://www.planalto.gov.br/ccivil_03/_ato2019...       l13898  \n239  https://www.planalto.gov.br/ccivil_03/leis/l86...    l8666cons  \n240  https://www.planalto.gov.br/ccivil_03/_ato2007...       l11977  \n241  https://www.planalto.gov.br/ccivil_03/_ato2019...       l14194  \n242  https://www.planalto.gov.br/ccivil_03/_ato2015...       l13473  \n243  https://www.planalto.gov.br/ccivil_03/leis/l64...  l6404consol  \n244  https://www.planalto.gov.br/ccivil_03/leis/l95...        l9503  \n245  https://www.planalto.gov.br/ccivil_03/decreto-...      del5452  \n246  https://www.planalto.gov.br/ccivil_03/leis/l58...        l5869  \n247  https://www.planalto.gov.br/ccivil_03/leis/200...       l10406  ",
      "text/html": "<div>\n<style scoped>\n    .dataframe tbody tr th:only-of-type {\n        vertical-align: middle;\n    }\n\n    .dataframe tbody tr th {\n        vertical-align: top;\n    }\n\n    .dataframe thead th {\n        text-align: right;\n    }\n</style>\n<table border=\"1\" class=\"dataframe\">\n  <thead>\n    <tr style=\"text-align: right;\">\n      <th></th>\n      <th>epígrafe</th>\n      <th>ementa</th>\n      <th>Artigo 1º</th>\n      <th>Artigo 1 revogado</th>\n      <th>URL</th>\n      <th>file_name</th>\n    </tr>\n    <tr>\n      <th>id</th>\n      <th></th>\n      <th></th>\n      <th></th>\n      <th></th>\n      <th></th>\n      <th></th>\n    </tr>\n  </thead>\n  <tbody>\n    <tr>\n      <th>1</th>\n      <td>LEI Nº 12.015, DE 7 DE AGOSTO DE 2009.</td>\n      <td>Altera o Título VI da Parte Especial do Decret...</td>\n      <td>Esta Lei altera o Título VI da Parte Especial ...</td>\n      <td>NaN</td>\n      <td>https://www.planalto.gov.br/ccivil_03/_ato2007...</td>\n      <td>l12015</td>\n    </tr>\n    <tr>\n      <th>2</th>\n      <td>LEI Nº 12.965, DE 23 DE ABRIL DE 2014</td>\n      <td>Estabelece princípios, garantias, direitos e d...</td>\n      <td>Esta Lei estabelece princípios, garantias, dir...</td>\n      <td>NaN</td>\n      <td>https://www.planalto.gov.br/ccivil_03/_ato2011...</td>\n      <td>l12965</td>\n    </tr>\n    <tr>\n      <th>3</th>\n      <td>LEI Nº 13.179, DE 22 DE OUTUBRO DE 2015.</td>\n      <td>Obriga o fornecedor de ingresso para evento cu...</td>\n      <td>O fornecedor de ingresso para evento cultural ...</td>\n      <td>NaN</td>\n      <td>https://www.planalto.gov.br/ccivil_03/_ato2015...</td>\n      <td>l13179</td>\n    </tr>\n    <tr>\n      <th>4</th>\n      <td>LEI Nº 11.300, DE 10 DE MAIO DE 2006.</td>\n      <td>Dispõe sobre propaganda, financiamento e prest...</td>\n      <td>A Lei nº 9.504, de 30 de setembro de 1997, pas...</td>\n      <td>NaN</td>\n      <td>https://www.planalto.gov.br/ccivil_03/_ato2004...</td>\n      <td>l11300</td>\n    </tr>\n    <tr>\n      <th>5</th>\n      <td>LEI Nº 12.686, DE 18 DE JULHO DE 2012.</td>\n      <td>Normatiza a divulgação de documentos instituci...</td>\n      <td>Esta Lei normatiza a divulgação de documentos ...</td>\n      <td>NaN</td>\n      <td>https://www.planalto.gov.br/ccivil_03/_ato2011...</td>\n      <td>l12686</td>\n    </tr>\n    <tr>\n      <th>6</th>\n      <td>LEI Nº 13.828, DE 13 DE MAIO DE 2019</td>\n      <td>Altera a Lei nº 12.485, de 12 de setembro de 2...</td>\n      <td>Esta Lei altera a Lei nº 12.485, de 12 de sete...</td>\n      <td>NaN</td>\n      <td>https://www.planalto.gov.br/ccivil_03/_ato2019...</td>\n      <td>l13828</td>\n    </tr>\n    <tr>\n      <th>7</th>\n      <td>LEI Nº 9.755, DE 16 DE DEZEMBRO DE 1998.</td>\n      <td>Dispõe sobre a criação de \"homepage\" na \"Inter...</td>\n      <td>O Tribunal de Contas da União criará _homepage...</td>\n      <td>NaN</td>\n      <td>https://www.planalto.gov.br/ccivil_03/leis/l97...</td>\n      <td>l9755</td>\n    </tr>\n    <tr>\n      <th>8</th>\n      <td>LEI Nº 14.172, DE 10 DE JUNHO DE 2021</td>\n      <td>Dispõe sobre a garantia de acesso à internet, ...</td>\n      <td>Esta Lei dispõe sobre a assistência da União a...</td>\n      <td>NaN</td>\n      <td>https://www.planalto.gov.br/ccivil_03/_ato2019...</td>\n      <td>l14172</td>\n    </tr>\n    <tr>\n      <th>9</th>\n      <td>LEI Nº 11.341, DE 7 DE AGOSTO DE 2006.</td>\n      <td>Altera o parágrafo único do art. 541 do Código...</td>\n      <td>O parágrafo único do art. 541 da Lei nº 5.869,...</td>\n      <td>NaN</td>\n      <td>https://www.planalto.gov.br/ccivil_03/_ato2004...</td>\n      <td>l11341</td>\n    </tr>\n    <tr>\n      <th>10</th>\n      <td>LEI Nº 11.829, DE 25 DE NOVEMBRO DE 2008.</td>\n      <td>Altera a Lei nº 8.069, de 13 de julho de 1990 ...</td>\n      <td>Os arts. 240 e 241 da Lei nº 8.069, de 13 de j...</td>\n      <td>NaN</td>\n      <td>https://www.planalto.gov.br/ccivil_03/_ato2007...</td>\n      <td>l11829</td>\n    </tr>\n    <tr>\n      <th>238</th>\n      <td>LEI Nº 13.898, DE 11 DE NOVEMBRO DE 2019</td>\n      <td>Dispõe sobre as diretrizes para a elaboração e...</td>\n      <td>São estabelecidas, em cumprimento ao disposto ...</td>\n      <td>NaN</td>\n      <td>https://www.planalto.gov.br/ccivil_03/_ato2019...</td>\n      <td>l13898</td>\n    </tr>\n    <tr>\n      <th>239</th>\n      <td>LEI Nº 8.666, DE 21 DE JUNHO DE 1993</td>\n      <td>Regulamenta o art. 37, inciso XXI, da Constitu...</td>\n      <td>Esta Lei estabelece normas gerais sobre licita...</td>\n      <td>NaN</td>\n      <td>https://www.planalto.gov.br/ccivil_03/leis/l86...</td>\n      <td>l8666cons</td>\n    </tr>\n    <tr>\n      <th>240</th>\n      <td>LEI Nº 11.977, DE 7 DE JULHO DE 2009</td>\n      <td>Dispõe sobre o Programa Minha Casa, Minha Vida...</td>\n      <td>O Programa Minha Casa, Minha Vida - PMCMV comp...</td>\n      <td>NaN</td>\n      <td>https://www.planalto.gov.br/ccivil_03/_ato2007...</td>\n      <td>l11977</td>\n    </tr>\n    <tr>\n      <th>241</th>\n      <td>LEI Nº 14.194, DE 20 DE AGOSTO DE 2021</td>\n      <td>Dispõe sobre as diretrizes para a elaboração e...</td>\n      <td>São estabelecidas, em cumprimento ao disposto ...</td>\n      <td>NaN</td>\n      <td>https://www.planalto.gov.br/ccivil_03/_ato2019...</td>\n      <td>l14194</td>\n    </tr>\n    <tr>\n      <th>242</th>\n      <td>LEI Nº 13.473, DE 8 DE AGOSTO DE 2017.</td>\n      <td>Dispõe sobre as diretrizes para a elaboração e...</td>\n      <td>São estabelecidas, em cumprimento ao disposto ...</td>\n      <td>NaN</td>\n      <td>https://www.planalto.gov.br/ccivil_03/_ato2015...</td>\n      <td>l13473</td>\n    </tr>\n    <tr>\n      <th>243</th>\n      <td>LEI Nº 6.404, DE 15 DE DEZEMBRO DE 1976.</td>\n      <td>Dispõe sobre as Sociedades por Ações.</td>\n      <td>A companhia ou sociedade anônima terá o capita...</td>\n      <td>NaN</td>\n      <td>https://www.planalto.gov.br/ccivil_03/leis/l64...</td>\n      <td>l6404consol</td>\n    </tr>\n    <tr>\n      <th>244</th>\n      <td>LEI Nº 9.503, DE 23 DE SETEMBRO DE 1997</td>\n      <td>Institui o Código de Trânsito Brasileiro.</td>\n      <td>O trânsito de qualquer natureza nas vias terre...</td>\n      <td>NaN</td>\n      <td>https://www.planalto.gov.br/ccivil_03/leis/l95...</td>\n      <td>l9503</td>\n    </tr>\n    <tr>\n      <th>245</th>\n      <td>DECRETO-LEI Nº 5.452, DE 1º DE MAIO DE 1943</td>\n      <td>Aprova a Consolidação das Leis do Trabalho.</td>\n      <td>Fica aprovada a Consolidação das Leis do Traba...</td>\n      <td>NaN</td>\n      <td>https://www.planalto.gov.br/ccivil_03/decreto-...</td>\n      <td>del5452</td>\n    </tr>\n    <tr>\n      <th>246</th>\n      <td>LEI Nº 5.869, DE 11 DE JANEIRO DE 1973.</td>\n      <td>Institui o Código de Processo Civil.</td>\n      <td>A jurisdição civil, contenciosa e voluntária, ...</td>\n      <td>r</td>\n      <td>https://www.planalto.gov.br/ccivil_03/leis/l58...</td>\n      <td>l5869</td>\n    </tr>\n    <tr>\n      <th>247</th>\n      <td>LEI Nº 10.406, DE 10 DE JANEIRO DE 2002</td>\n      <td>Institui o Código Civil.</td>\n      <td>Toda pessoa é capaz de direitos e deveres na o...</td>\n      <td>NaN</td>\n      <td>https://www.planalto.gov.br/ccivil_03/leis/200...</td>\n      <td>l10406</td>\n    </tr>\n  </tbody>\n</table>\n</div>"
     },
     "execution_count": 5,
     "metadata": {},
     "output_type": "execute_result"
    }
   ],
   "source": [
    "pd.concat([df_imp.head(10), df_imp.tail(10)])"
   ],
   "metadata": {
    "collapsed": false,
    "ExecuteTime": {
     "end_time": "2023-07-19T23:27:30.099623743Z",
     "start_time": "2023-07-19T23:27:30.029983060Z"
    }
   }
  },
  {
   "cell_type": "code",
   "execution_count": 7,
   "outputs": [
    {
     "name": "stdout",
     "output_type": "stream",
     "text": [
      "<class 'pandas.core.frame.DataFrame'>\n",
      "Int64Index: 247 entries, 1 to 247\n",
      "Data columns (total 6 columns):\n",
      " #   Column             Non-Null Count  Dtype \n",
      "---  ------             --------------  ----- \n",
      " 0   epígrafe           247 non-null    object\n",
      " 1   ementa             247 non-null    object\n",
      " 2   Artigo 1º          247 non-null    object\n",
      " 3   Artigo 1 revogado  8 non-null      object\n",
      " 4   URL                247 non-null    object\n",
      " 5   file_name          247 non-null    object\n",
      "dtypes: object(6)\n",
      "memory usage: 21.6+ KB\n"
     ]
    }
   ],
   "source": [
    "df_imp.info()"
   ],
   "metadata": {
    "collapsed": false,
    "ExecuteTime": {
     "end_time": "2023-07-19T23:28:00.613585101Z",
     "start_time": "2023-07-19T23:28:00.584876708Z"
    }
   }
  },
  {
   "cell_type": "code",
   "execution_count": 8,
   "outputs": [
    {
     "data": {
      "text/plain": "                                      epígrafe  \\\ncount                                      247   \nunique                                     247   \ntop     LEI Nº 12.015, DE 7 DE AGOSTO DE 2009.   \nfreq                                         1   \n\n                                                   ementa  \\\ncount                                                 247   \nunique                                                246   \ntop     Altera a Lei nº 10.933, de 11 de agosto de 200...   \nfreq                                                    2   \n\n                                                Artigo 1º Artigo 1 revogado  \\\ncount                                                 247                 8   \nunique                                                247                 1   \ntop     Esta Lei altera o Título VI da Parte Especial ...                 r   \nfreq                                                    1                 8   \n\n                                                      URL file_name  \ncount                                                 247       247  \nunique                                                247       247  \ntop     https://www.planalto.gov.br/ccivil_03/_ato2007...    l12015  \nfreq                                                    1         1  ",
      "text/html": "<div>\n<style scoped>\n    .dataframe tbody tr th:only-of-type {\n        vertical-align: middle;\n    }\n\n    .dataframe tbody tr th {\n        vertical-align: top;\n    }\n\n    .dataframe thead th {\n        text-align: right;\n    }\n</style>\n<table border=\"1\" class=\"dataframe\">\n  <thead>\n    <tr style=\"text-align: right;\">\n      <th></th>\n      <th>epígrafe</th>\n      <th>ementa</th>\n      <th>Artigo 1º</th>\n      <th>Artigo 1 revogado</th>\n      <th>URL</th>\n      <th>file_name</th>\n    </tr>\n  </thead>\n  <tbody>\n    <tr>\n      <th>count</th>\n      <td>247</td>\n      <td>247</td>\n      <td>247</td>\n      <td>8</td>\n      <td>247</td>\n      <td>247</td>\n    </tr>\n    <tr>\n      <th>unique</th>\n      <td>247</td>\n      <td>246</td>\n      <td>247</td>\n      <td>1</td>\n      <td>247</td>\n      <td>247</td>\n    </tr>\n    <tr>\n      <th>top</th>\n      <td>LEI Nº 12.015, DE 7 DE AGOSTO DE 2009.</td>\n      <td>Altera a Lei nº 10.933, de 11 de agosto de 200...</td>\n      <td>Esta Lei altera o Título VI da Parte Especial ...</td>\n      <td>r</td>\n      <td>https://www.planalto.gov.br/ccivil_03/_ato2007...</td>\n      <td>l12015</td>\n    </tr>\n    <tr>\n      <th>freq</th>\n      <td>1</td>\n      <td>2</td>\n      <td>1</td>\n      <td>8</td>\n      <td>1</td>\n      <td>1</td>\n    </tr>\n  </tbody>\n</table>\n</div>"
     },
     "execution_count": 8,
     "metadata": {},
     "output_type": "execute_result"
    }
   ],
   "source": [
    "df_imp.describe()"
   ],
   "metadata": {
    "collapsed": false,
    "ExecuteTime": {
     "end_time": "2023-07-19T23:30:14.854347197Z",
     "start_time": "2023-07-19T23:30:14.847001965Z"
    }
   }
  },
  {
   "cell_type": "code",
   "execution_count": 10,
   "outputs": [
    {
     "name": "stdout",
     "output_type": "stream",
     "text": [
      "<class 'pandas.core.frame.DataFrame'>\n",
      "Int64Index: 247 entries, 1 to 247\n",
      "Data columns (total 6 columns):\n",
      " #   Column             Non-Null Count  Dtype \n",
      "---  ------             --------------  ----- \n",
      " 0   epígrafe           247 non-null    object\n",
      " 1   ementa             247 non-null    object\n",
      " 2   Artigo 1º          247 non-null    object\n",
      " 3   Artigo 1 revogado  247 non-null    bool  \n",
      " 4   URL                247 non-null    object\n",
      " 5   file_name          247 non-null    object\n",
      "dtypes: bool(1), object(5)\n",
      "memory usage: 19.9+ KB\n"
     ]
    }
   ],
   "source": [
    "# replace 'Artigo 1 revogado' NaN values with Boolean False and 'r' with Boolean True\n",
    "df_imp['Artigo 1 revogado'] = df_imp['Artigo 1 revogado'].fillna(False).replace('r', True)\n",
    "df_imp.info()"
   ],
   "metadata": {
    "collapsed": false,
    "ExecuteTime": {
     "end_time": "2023-07-19T23:32:26.279976026Z",
     "start_time": "2023-07-19T23:32:26.267036759Z"
    }
   }
  },
  {
   "cell_type": "code",
   "execution_count": 13,
   "outputs": [
    {
     "data": {
      "text/plain": "                                        epígrafe  \\\nid                                                 \n1         LEI Nº 12.015, DE 7 DE AGOSTO DE 2009.   \n2          LEI Nº 12.965, DE 23 DE ABRIL DE 2014   \n3       LEI Nº 13.179, DE 22 DE OUTUBRO DE 2015.   \n4          LEI Nº 11.300, DE 10 DE MAIO DE 2006.   \n5         LEI Nº 12.686, DE 18 DE JULHO DE 2012.   \n6           LEI Nº 13.828, DE 13 DE MAIO DE 2019   \n7       LEI Nº 9.755, DE 16 DE DEZEMBRO DE 1998.   \n8          LEI Nº 14.172, DE 10 DE JUNHO DE 2021   \n9         LEI Nº 11.341, DE 7 DE AGOSTO DE 2006.   \n10     LEI Nº 11.829, DE 25 DE NOVEMBRO DE 2008.   \n238     LEI Nº 13.898, DE 11 DE NOVEMBRO DE 2019   \n239         LEI Nº 8.666, DE 21 DE JUNHO DE 1993   \n240         LEI Nº 11.977, DE 7 DE JULHO DE 2009   \n241       LEI Nº 14.194, DE 20 DE AGOSTO DE 2021   \n242       LEI Nº 13.473, DE 8 DE AGOSTO DE 2017.   \n243     LEI Nº 6.404, DE 15 DE DEZEMBRO DE 1976.   \n244      LEI Nº 9.503, DE 23 DE SETEMBRO DE 1997   \n245  DECRETO-LEI Nº 5.452, DE 1º DE MAIO DE 1943   \n246      LEI Nº 5.869, DE 11 DE JANEIRO DE 1973.   \n247      LEI Nº 10.406, DE 10 DE JANEIRO DE 2002   \n\n                                                ementa  \\\nid                                                       \n1    Altera o Título VI da Parte Especial do Decret...   \n2    Estabelece princípios, garantias, direitos e d...   \n3    Obriga o fornecedor de ingresso para evento cu...   \n4    Dispõe sobre propaganda, financiamento e prest...   \n5    Normatiza a divulgação de documentos instituci...   \n6    Altera a Lei nº 12.485, de 12 de setembro de 2...   \n7    Dispõe sobre a criação de \"homepage\" na \"Inter...   \n8    Dispõe sobre a garantia de acesso à internet, ...   \n9    Altera o parágrafo único do art. 541 do Código...   \n10   Altera a Lei nº 8.069, de 13 de julho de 1990 ...   \n238  Dispõe sobre as diretrizes para a elaboração e...   \n239  Regulamenta o art. 37, inciso XXI, da Constitu...   \n240  Dispõe sobre o Programa Minha Casa, Minha Vida...   \n241  Dispõe sobre as diretrizes para a elaboração e...   \n242  Dispõe sobre as diretrizes para a elaboração e...   \n243              Dispõe sobre as Sociedades por Ações.   \n244          Institui o Código de Trânsito Brasileiro.   \n245        Aprova a Consolidação das Leis do Trabalho.   \n246               Institui o Código de Processo Civil.   \n247                           Institui o Código Civil.   \n\n                                             Artigo 1º  Artigo 1 revogado  \\\nid                                                                          \n1    Esta Lei altera o Título VI da Parte Especial ...              False   \n2    Esta Lei estabelece princípios, garantias, dir...              False   \n3    O fornecedor de ingresso para evento cultural ...              False   \n4    A Lei nº 9.504, de 30 de setembro de 1997, pas...              False   \n5    Esta Lei normatiza a divulgação de documentos ...              False   \n6    Esta Lei altera a Lei nº 12.485, de 12 de sete...              False   \n7    O Tribunal de Contas da União criará _homepage...              False   \n8    Esta Lei dispõe sobre a assistência da União a...              False   \n9    O parágrafo único do art. 541 da Lei nº 5.869,...              False   \n10   Os arts. 240 e 241 da Lei nº 8.069, de 13 de j...              False   \n238  São estabelecidas, em cumprimento ao disposto ...              False   \n239  Esta Lei estabelece normas gerais sobre licita...              False   \n240  O Programa Minha Casa, Minha Vida - PMCMV comp...              False   \n241  São estabelecidas, em cumprimento ao disposto ...              False   \n242  São estabelecidas, em cumprimento ao disposto ...              False   \n243  A companhia ou sociedade anônima terá o capita...              False   \n244  O trânsito de qualquer natureza nas vias terre...              False   \n245  Fica aprovada a Consolidação das Leis do Traba...              False   \n246  A jurisdição civil, contenciosa e voluntária, ...               True   \n247  Toda pessoa é capaz de direitos e deveres na o...              False   \n\n                                                   URL    file_name  \nid                                                                   \n1    https://www.planalto.gov.br/ccivil_03/_ato2007...       l12015  \n2    https://www.planalto.gov.br/ccivil_03/_ato2011...       l12965  \n3    https://www.planalto.gov.br/ccivil_03/_ato2015...       l13179  \n4    https://www.planalto.gov.br/ccivil_03/_ato2004...       l11300  \n5    https://www.planalto.gov.br/ccivil_03/_ato2011...       l12686  \n6    https://www.planalto.gov.br/ccivil_03/_ato2019...       l13828  \n7    https://www.planalto.gov.br/ccivil_03/leis/l97...        l9755  \n8    https://www.planalto.gov.br/ccivil_03/_ato2019...       l14172  \n9    https://www.planalto.gov.br/ccivil_03/_ato2004...       l11341  \n10   https://www.planalto.gov.br/ccivil_03/_ato2007...       l11829  \n238  https://www.planalto.gov.br/ccivil_03/_ato2019...       l13898  \n239  https://www.planalto.gov.br/ccivil_03/leis/l86...    l8666cons  \n240  https://www.planalto.gov.br/ccivil_03/_ato2007...       l11977  \n241  https://www.planalto.gov.br/ccivil_03/_ato2019...       l14194  \n242  https://www.planalto.gov.br/ccivil_03/_ato2015...       l13473  \n243  https://www.planalto.gov.br/ccivil_03/leis/l64...  l6404consol  \n244  https://www.planalto.gov.br/ccivil_03/leis/l95...        l9503  \n245  https://www.planalto.gov.br/ccivil_03/decreto-...      del5452  \n246  https://www.planalto.gov.br/ccivil_03/leis/l58...        l5869  \n247  https://www.planalto.gov.br/ccivil_03/leis/200...       l10406  ",
      "text/html": "<div>\n<style scoped>\n    .dataframe tbody tr th:only-of-type {\n        vertical-align: middle;\n    }\n\n    .dataframe tbody tr th {\n        vertical-align: top;\n    }\n\n    .dataframe thead th {\n        text-align: right;\n    }\n</style>\n<table border=\"1\" class=\"dataframe\">\n  <thead>\n    <tr style=\"text-align: right;\">\n      <th></th>\n      <th>epígrafe</th>\n      <th>ementa</th>\n      <th>Artigo 1º</th>\n      <th>Artigo 1 revogado</th>\n      <th>URL</th>\n      <th>file_name</th>\n    </tr>\n    <tr>\n      <th>id</th>\n      <th></th>\n      <th></th>\n      <th></th>\n      <th></th>\n      <th></th>\n      <th></th>\n    </tr>\n  </thead>\n  <tbody>\n    <tr>\n      <th>1</th>\n      <td>LEI Nº 12.015, DE 7 DE AGOSTO DE 2009.</td>\n      <td>Altera o Título VI da Parte Especial do Decret...</td>\n      <td>Esta Lei altera o Título VI da Parte Especial ...</td>\n      <td>False</td>\n      <td>https://www.planalto.gov.br/ccivil_03/_ato2007...</td>\n      <td>l12015</td>\n    </tr>\n    <tr>\n      <th>2</th>\n      <td>LEI Nº 12.965, DE 23 DE ABRIL DE 2014</td>\n      <td>Estabelece princípios, garantias, direitos e d...</td>\n      <td>Esta Lei estabelece princípios, garantias, dir...</td>\n      <td>False</td>\n      <td>https://www.planalto.gov.br/ccivil_03/_ato2011...</td>\n      <td>l12965</td>\n    </tr>\n    <tr>\n      <th>3</th>\n      <td>LEI Nº 13.179, DE 22 DE OUTUBRO DE 2015.</td>\n      <td>Obriga o fornecedor de ingresso para evento cu...</td>\n      <td>O fornecedor de ingresso para evento cultural ...</td>\n      <td>False</td>\n      <td>https://www.planalto.gov.br/ccivil_03/_ato2015...</td>\n      <td>l13179</td>\n    </tr>\n    <tr>\n      <th>4</th>\n      <td>LEI Nº 11.300, DE 10 DE MAIO DE 2006.</td>\n      <td>Dispõe sobre propaganda, financiamento e prest...</td>\n      <td>A Lei nº 9.504, de 30 de setembro de 1997, pas...</td>\n      <td>False</td>\n      <td>https://www.planalto.gov.br/ccivil_03/_ato2004...</td>\n      <td>l11300</td>\n    </tr>\n    <tr>\n      <th>5</th>\n      <td>LEI Nº 12.686, DE 18 DE JULHO DE 2012.</td>\n      <td>Normatiza a divulgação de documentos instituci...</td>\n      <td>Esta Lei normatiza a divulgação de documentos ...</td>\n      <td>False</td>\n      <td>https://www.planalto.gov.br/ccivil_03/_ato2011...</td>\n      <td>l12686</td>\n    </tr>\n    <tr>\n      <th>6</th>\n      <td>LEI Nº 13.828, DE 13 DE MAIO DE 2019</td>\n      <td>Altera a Lei nº 12.485, de 12 de setembro de 2...</td>\n      <td>Esta Lei altera a Lei nº 12.485, de 12 de sete...</td>\n      <td>False</td>\n      <td>https://www.planalto.gov.br/ccivil_03/_ato2019...</td>\n      <td>l13828</td>\n    </tr>\n    <tr>\n      <th>7</th>\n      <td>LEI Nº 9.755, DE 16 DE DEZEMBRO DE 1998.</td>\n      <td>Dispõe sobre a criação de \"homepage\" na \"Inter...</td>\n      <td>O Tribunal de Contas da União criará _homepage...</td>\n      <td>False</td>\n      <td>https://www.planalto.gov.br/ccivil_03/leis/l97...</td>\n      <td>l9755</td>\n    </tr>\n    <tr>\n      <th>8</th>\n      <td>LEI Nº 14.172, DE 10 DE JUNHO DE 2021</td>\n      <td>Dispõe sobre a garantia de acesso à internet, ...</td>\n      <td>Esta Lei dispõe sobre a assistência da União a...</td>\n      <td>False</td>\n      <td>https://www.planalto.gov.br/ccivil_03/_ato2019...</td>\n      <td>l14172</td>\n    </tr>\n    <tr>\n      <th>9</th>\n      <td>LEI Nº 11.341, DE 7 DE AGOSTO DE 2006.</td>\n      <td>Altera o parágrafo único do art. 541 do Código...</td>\n      <td>O parágrafo único do art. 541 da Lei nº 5.869,...</td>\n      <td>False</td>\n      <td>https://www.planalto.gov.br/ccivil_03/_ato2004...</td>\n      <td>l11341</td>\n    </tr>\n    <tr>\n      <th>10</th>\n      <td>LEI Nº 11.829, DE 25 DE NOVEMBRO DE 2008.</td>\n      <td>Altera a Lei nº 8.069, de 13 de julho de 1990 ...</td>\n      <td>Os arts. 240 e 241 da Lei nº 8.069, de 13 de j...</td>\n      <td>False</td>\n      <td>https://www.planalto.gov.br/ccivil_03/_ato2007...</td>\n      <td>l11829</td>\n    </tr>\n    <tr>\n      <th>238</th>\n      <td>LEI Nº 13.898, DE 11 DE NOVEMBRO DE 2019</td>\n      <td>Dispõe sobre as diretrizes para a elaboração e...</td>\n      <td>São estabelecidas, em cumprimento ao disposto ...</td>\n      <td>False</td>\n      <td>https://www.planalto.gov.br/ccivil_03/_ato2019...</td>\n      <td>l13898</td>\n    </tr>\n    <tr>\n      <th>239</th>\n      <td>LEI Nº 8.666, DE 21 DE JUNHO DE 1993</td>\n      <td>Regulamenta o art. 37, inciso XXI, da Constitu...</td>\n      <td>Esta Lei estabelece normas gerais sobre licita...</td>\n      <td>False</td>\n      <td>https://www.planalto.gov.br/ccivil_03/leis/l86...</td>\n      <td>l8666cons</td>\n    </tr>\n    <tr>\n      <th>240</th>\n      <td>LEI Nº 11.977, DE 7 DE JULHO DE 2009</td>\n      <td>Dispõe sobre o Programa Minha Casa, Minha Vida...</td>\n      <td>O Programa Minha Casa, Minha Vida - PMCMV comp...</td>\n      <td>False</td>\n      <td>https://www.planalto.gov.br/ccivil_03/_ato2007...</td>\n      <td>l11977</td>\n    </tr>\n    <tr>\n      <th>241</th>\n      <td>LEI Nº 14.194, DE 20 DE AGOSTO DE 2021</td>\n      <td>Dispõe sobre as diretrizes para a elaboração e...</td>\n      <td>São estabelecidas, em cumprimento ao disposto ...</td>\n      <td>False</td>\n      <td>https://www.planalto.gov.br/ccivil_03/_ato2019...</td>\n      <td>l14194</td>\n    </tr>\n    <tr>\n      <th>242</th>\n      <td>LEI Nº 13.473, DE 8 DE AGOSTO DE 2017.</td>\n      <td>Dispõe sobre as diretrizes para a elaboração e...</td>\n      <td>São estabelecidas, em cumprimento ao disposto ...</td>\n      <td>False</td>\n      <td>https://www.planalto.gov.br/ccivil_03/_ato2015...</td>\n      <td>l13473</td>\n    </tr>\n    <tr>\n      <th>243</th>\n      <td>LEI Nº 6.404, DE 15 DE DEZEMBRO DE 1976.</td>\n      <td>Dispõe sobre as Sociedades por Ações.</td>\n      <td>A companhia ou sociedade anônima terá o capita...</td>\n      <td>False</td>\n      <td>https://www.planalto.gov.br/ccivil_03/leis/l64...</td>\n      <td>l6404consol</td>\n    </tr>\n    <tr>\n      <th>244</th>\n      <td>LEI Nº 9.503, DE 23 DE SETEMBRO DE 1997</td>\n      <td>Institui o Código de Trânsito Brasileiro.</td>\n      <td>O trânsito de qualquer natureza nas vias terre...</td>\n      <td>False</td>\n      <td>https://www.planalto.gov.br/ccivil_03/leis/l95...</td>\n      <td>l9503</td>\n    </tr>\n    <tr>\n      <th>245</th>\n      <td>DECRETO-LEI Nº 5.452, DE 1º DE MAIO DE 1943</td>\n      <td>Aprova a Consolidação das Leis do Trabalho.</td>\n      <td>Fica aprovada a Consolidação das Leis do Traba...</td>\n      <td>False</td>\n      <td>https://www.planalto.gov.br/ccivil_03/decreto-...</td>\n      <td>del5452</td>\n    </tr>\n    <tr>\n      <th>246</th>\n      <td>LEI Nº 5.869, DE 11 DE JANEIRO DE 1973.</td>\n      <td>Institui o Código de Processo Civil.</td>\n      <td>A jurisdição civil, contenciosa e voluntária, ...</td>\n      <td>True</td>\n      <td>https://www.planalto.gov.br/ccivil_03/leis/l58...</td>\n      <td>l5869</td>\n    </tr>\n    <tr>\n      <th>247</th>\n      <td>LEI Nº 10.406, DE 10 DE JANEIRO DE 2002</td>\n      <td>Institui o Código Civil.</td>\n      <td>Toda pessoa é capaz de direitos e deveres na o...</td>\n      <td>False</td>\n      <td>https://www.planalto.gov.br/ccivil_03/leis/200...</td>\n      <td>l10406</td>\n    </tr>\n  </tbody>\n</table>\n</div>"
     },
     "execution_count": 13,
     "metadata": {},
     "output_type": "execute_result"
    }
   ],
   "source": [
    "pd.concat([df_imp.head(10), df_imp.tail(10)])"
   ],
   "metadata": {
    "collapsed": false,
    "ExecuteTime": {
     "end_time": "2023-07-19T23:33:27.272070774Z",
     "start_time": "2023-07-19T23:33:27.259558260Z"
    }
   }
  },
  {
   "cell_type": "code",
   "execution_count": 155,
   "outputs": [],
   "source": [
    "with open('../../busca.txt', 'r') as f:\n",
    "    busca = '../../' + f.read()"
   ],
   "metadata": {
    "collapsed": false,
    "ExecuteTime": {
     "end_time": "2023-07-20T04:33:10.079771778Z",
     "start_time": "2023-07-20T04:33:10.038767133Z"
    }
   }
  },
  {
   "cell_type": "code",
   "execution_count": 42,
   "outputs": [
    {
     "data": {
      "text/plain": "id\n1      12015\n2      12965\n3      13179\n4      11300\n5      12686\n       ...  \n243     6404\n244     9503\n245     5452\n246     5869\n247    10406\nName: nº lei, Length: 247, dtype: int64"
     },
     "execution_count": 42,
     "metadata": {},
     "output_type": "execute_result"
    }
   ],
   "source": [
    "def extract_number(s):\n",
    "    match = re.search(r'Nº (\\d+\\.?\\d*)', s)\n",
    "    return int(re.sub(\"\\.\", \"\", match.group(1))) if match else None\n",
    "\n",
    "df_imp['nº lei'] = df_imp['epígrafe'].apply(extract_number)\n",
    "df_imp['nº lei']"
   ],
   "metadata": {
    "collapsed": false,
    "ExecuteTime": {
     "end_time": "2023-07-20T01:01:32.836607458Z",
     "start_time": "2023-07-20T01:01:32.817038157Z"
    }
   }
  },
  {
   "cell_type": "code",
   "execution_count": 143,
   "outputs": [
    {
     "name": "stdout",
     "output_type": "stream",
     "text": [
      "[{'ação': None, 'tipo_lei': 'l', 'no': 9100, 'assunto': False}, {'ação': None, 'tipo_lei': 'l', 'no': 4737, 'assunto': True}, {'ação': None, 'tipo_lei': 'l', 'no': 11300, 'assunto': True}, {'ação': None, 'tipo_lei': 'l', 'no': 12034, 'assunto': True}, {'ação': 'altera', 'tipo_lei': 'l', 'no': 9096, 'assunto': True}]\n",
      "[{'ação': 'redação dada', 'tipo_lei': 'l', 'no': 12891, 'assunto': True}, {'ação': 'incluído', 'tipo_lei': 'l', 'no': 12891, 'assunto': True}, {'ação': 'redação\\ndada', 'tipo_lei': 'l', 'no': 11300, 'assunto': True}, {'ação': 'revogado', 'tipo_lei': 'l', 'no': 11300, 'assunto': True}, {'ação': 'redação dada', 'tipo_lei': 'l', 'no': 12976, 'assunto': False}, {'ação': 'redação dada', 'tipo_lei': 'l', 'no': 13488, 'assunto': True}, {'ação': 'redação dada', 'tipo_lei': 'l', 'no': 13165, 'assunto': True}, {'ação': 'redação dada', 'tipo_lei': 'l', 'no': 10740, 'assunto': False}, {'ação': 'incluído', 'tipo_lei': 'l', 'no': 13488, 'assunto': True}, {'ação': 'redação dada', 'tipo_lei': 'l', 'no': 14192, 'assunto': True}, {'ação': 'incluído', 'tipo_lei': 'l', 'no': 13165, 'assunto': True}, {'ação': 'incluído', 'tipo_lei': 'l', 'no': 12976, 'assunto': False}, {'ação': 'redação dada', 'tipo_lei': 'l', 'no': 14211, 'assunto': False}, {'ação': 'redação dada', 'tipo_lei': 'l', 'no': 12034, 'assunto': True}, {'ação': 'incluído', 'tipo_lei': 'l', 'no': 12034, 'assunto': True}, {'ação': 'redação\\ndada', 'tipo_lei': 'l', 'no': 12891, 'assunto': True}, {'ação': 'redação dada', 'tipo_lei': 'l', 'no': 12875, 'assunto': False}, {'ação': 'redação dada', 'tipo_lei': 'l', 'no': 9840, 'assunto': False}, {'ação': 'redação dada', 'tipo_lei': 'l', 'no': 13487, 'assunto': False}, {'ação': 'incluído', 'tipo_lei': 'l', 'no': 13878, 'assunto': False}, {'ação': 'incluído', 'tipo_lei': 'l', 'no': 9840, 'assunto': False}, {'ação': 'incluído', 'tipo_lei': 'l', 'no': 13487, 'assunto': False}, {'ação': 'incluído', 'tipo_lei': 'l', 'no': 14208, 'assunto': False}, {'ação': 'redação\\ndada', 'tipo_lei': 'l', 'no': 13488, 'assunto': True}, {'ação': 'revogado', 'tipo_lei': 'l', 'no': 13488, 'assunto': True}, {'ação': 'incluído', 'tipo_lei': 'l', 'no': 12875, 'assunto': False}, {'ação': 'redação\\ndada', 'tipo_lei': 'l', 'no': 13165, 'assunto': True}, {'ação': 'revogado', 'tipo_lei': 'l', 'no': 13165, 'assunto': True}, {'ação': 'redação dada', 'tipo_lei': 'l', 'no': 13107, 'assunto': False}, {'ação': 'redação dada', 'tipo_lei': 'l', 'no': 11300, 'assunto': True}, {'ação': 'incluído', 'tipo_lei': 'l', 'no': 11300, 'assunto': True}, {'ação': 'redação dada', 'tipo_lei': 'l', 'no': 14356, 'assunto': False}, {'ação': 'redação dada', 'tipo_lei': 'l', 'no': 13877, 'assunto': True}, {'ação': 'revogada', 'tipo_lei': 'l', 'no': 10740, 'assunto': False}, {'ação': 'incluído', 'tipo_lei': 'l', 'no': 14356, 'assunto': False}, {'ação': 'redação dada', 'tipo_lei': 'l', 'no': 12350, 'assunto': False}, {'ação': 'redação dada', 'tipo_lei': 'l', 'no': 10408, 'assunto': False}, {'ação': 'incluído', 'tipo_lei': 'l', 'no': 13877, 'assunto': True}, {'ação': 'incluído', 'tipo_lei': 'l', 'no': 12350, 'assunto': False}, {'ação': 'único', 'tipo_lei': 'l', 'no': 12034, 'assunto': True}, {'ação': 'redação\\ndada', 'tipo_lei': 'l', 'no': 12034, 'assunto': True}, {'ação': 'revogado', 'tipo_lei': 'l', 'no': 12034, 'assunto': True}, {'ação': 'definidos', 'tipo_lei': 'l', 'no': 10406, 'assunto': True}, {'ação': 'incluído', 'tipo_lei': 'l', 'no': 10408, 'assunto': False}, {'ação': 'incluído dada', 'tipo_lei': 'l', 'no': 13488, 'assunto': True}, {'ação': 'revogado', 'tipo_lei': 'l', 'no': 9840, 'assunto': False}]\n"
     ]
    }
   ],
   "source": [
    "'''\n",
    "i = 55\n",
    "file_name = df_imp.iloc[i].file_name\n",
    "with open(busca + \"/txt_laws/\" + file_name + \".txt\", 'r') as f:\n",
    "    f_read = f.read()\n",
    "\n",
    "    all_tera = re.findall(r'([Aa]ltera|[Rr]evoga|[Rr]etifica|[Mm]odifica|[, ]e [ao])\\s.*?([Dd]ecreto\\n?-\\n?[Ll]ei|[Ll]ei|[Ll]ei\\s[Cc]omplementar)\\s[^0-9.]+(\\d[\\.\\d]*)', f_read)\n",
    "    vigora = re.findall(r'([Dd]ecreto\\n?-\\n?[Ll]ei|[Ll]ei|[Ll]ei\\s[Cc]omplementar)\\s[^0-9.]+(\\d[\\.\\d]*).?.[dD][eE]\\s\\d\\d?\\s[dD][eE]\\s\\w+\\s[dD][eE]\\s\\d\\d\\d\\d.?\\spassa\\sa\\s', f_read)\n",
    "    list_all_tera = []\n",
    "    all_terado = re.findall(r'([\\wí]+|[\\wí]+\\sdada)(?=\\spel[ao]\\s\\w*-?([Dd]ecreto\\n?-\\n?[Ll]ei|[Ll]ei|[Ll]ei\\s[Cc]omplementar))[^0-9.]+(\\d[\\.\\d]*)', f_read)\n",
    "    list_all_terado = []\n",
    "\n",
    "    law_type_translation = {\n",
    "        'lei': 'l',\n",
    "        'decreto-lei': 'dl',\n",
    "        'leicomplementar': 'lc'\n",
    "    }\n",
    "    last_action = None\n",
    "    for action, law_type, number in all_tera:\n",
    "        action = action.lower()\n",
    "        law_type = re.sub(r'\\s', \"\", law_type.lower())\n",
    "\n",
    "        law_type = law_type_translation[law_type]\n",
    "\n",
    "        if action in [' e o', ',e o', ' e a', ',e a']:\n",
    "            action = last_action\n",
    "        else:\n",
    "            last_action = action\n",
    "\n",
    "        list_all_tera.append((action, law_type, number))\n",
    "    for law_type, number in vigora:\n",
    "        law_type = re.sub(r'\\s', \"\", law_type.lower())\n",
    "\n",
    "        law_type = law_type_translation[law_type]\n",
    "\n",
    "        list_all_tera.append(('altera', law_type, number))\n",
    "\n",
    "    set_tera_dict = set(list_all_tera)\n",
    "    list_all_tera = []\n",
    "    for action, law_type, number in set_tera_dict:\n",
    "        no = int(re.sub(r'\\.', \"\", number))\n",
    "        found_assunto = no in df_imp['nº lei'].values\n",
    "        tera_dict = {\n",
    "            'ação': action,\n",
    "            'tipo_lei': law_type,\n",
    "            'no': no,\n",
    "            'assunto': found_assunto\n",
    "        }\n",
    "        list_all_tera.append(tera_dict)\n",
    "\n",
    "    for action, law_type, number in all_terado:\n",
    "        action = action.lower()\n",
    "        law_type = re.sub(r'\\s', \"\", law_type.lower())\n",
    "\n",
    "        law_type = law_type_translation[law_type]\n",
    "\n",
    "        list_all_terado.append((action, law_type, number))\n",
    "\n",
    "    set_terado_dict = set(list_all_terado)\n",
    "    list_all_terado = []\n",
    "    for action, law_type, number in set_terado_dict:\n",
    "        no = int(re.sub(r'\\.', \"\", number))\n",
    "        found_assunto = no in df_imp['nº lei'].values\n",
    "        terado_dict = {\n",
    "            'ação': action,\n",
    "            'tipo_lei': law_type,\n",
    "            'no': no,\n",
    "            'assunto': found_assunto\n",
    "        }\n",
    "        list_all_terado.append(terado_dict)\n",
    "# f_read\n",
    "# len(all_tera)\n",
    "print(list_all_tera)\n",
    "print(list_all_terado)\n",
    "#'''"
   ],
   "metadata": {
    "collapsed": false,
    "ExecuteTime": {
     "end_time": "2023-07-20T04:08:35.649530945Z",
     "start_time": "2023-07-20T04:08:35.543178969Z"
    }
   }
  },
  {
   "cell_type": "code",
   "execution_count": 140,
   "outputs": [
    {
     "data": {
      "text/plain": "'f()'"
     },
     "execution_count": 140,
     "metadata": {},
     "output_type": "execute_result"
    }
   ],
   "source": [
    "'''\n",
    "list_all_tera_true = [item for item in list_all_tera if item['assunto']]\n",
    "list_all_terado_true = [item for item in list_all_terado if item['assunto']]\n",
    "\n",
    "if list_all_tera_true and list_all_terado_true:\n",
    "    f_or_fx = \"f();f(x)\"\n",
    "elif list_all_tera_true:\n",
    "    f_or_fx = \"f()\"\n",
    "elif list_all_terado_true:\n",
    "    f_or_fx = \"f(x)\"\n",
    "else:\n",
    "    f_or_fx = \"\"\n",
    "\n",
    "f_or_fx\n",
    "#'''"
   ],
   "metadata": {
    "collapsed": false,
    "ExecuteTime": {
     "end_time": "2023-07-20T03:57:15.187973377Z",
     "start_time": "2023-07-20T03:57:15.174760119Z"
    }
   }
  },
  {
   "cell_type": "code",
   "execution_count": 152,
   "outputs": [
    {
     "name": "stdout",
     "output_type": "stream",
     "text": [
      "(None, 'l', 4737);(None, 'l', 11300);(None, 'l', 12034);('altera', 'l', 9096)\n",
      "('redação dada', 'l', 12891);('incluído', 'l', 12891);('redação\\ndada', 'l', 11300);('revogado', 'l', 11300)\n",
      "(None, 'l', 9100)\n",
      "('redação dada', 'l', 12976)\n"
     ]
    }
   ],
   "source": [
    "'''\n",
    "# Let's first recreate your lists of dictionaries\n",
    "list_all_tera = [{'ação': None, 'tipo_lei': 'l', 'no': 9100, 'assunto': False}, {'ação': None, 'tipo_lei': 'l', 'no': 4737, 'assunto': True}, {'ação': None, 'tipo_lei': 'l', 'no': 11300, 'assunto': True}, {'ação': None, 'tipo_lei': 'l', 'no': 12034, 'assunto': True}, {'ação': 'altera', 'tipo_lei': 'l', 'no': 9096, 'assunto': True}]\n",
    "list_all_terado = [{'ação': 'redação dada', 'tipo_lei': 'l', 'no': 12891, 'assunto': True}, {'ação': 'incluído', 'tipo_lei': 'l', 'no': 12891, 'assunto': True}, {'ação': 'redação\\ndada', 'tipo_lei': 'l', 'no': 11300, 'assunto': True}, {'ação': 'revogado', 'tipo_lei': 'l', 'no': 11300, 'assunto': True}, {'ação': 'redação dada', 'tipo_lei': 'l', 'no': 12976, 'assunto': False}]\n",
    "\n",
    "# Filter the lists based on 'assunto'\n",
    "quais_f = [(item['ação'], item['tipo_lei'], item['no']) for item in list_all_tera if item['assunto']]\n",
    "quais_fx = [(item['ação'], item['tipo_lei'], item['no']) for item in list_all_terado if item['assunto']]\n",
    "quais_f_o = [(item['ação'], item['tipo_lei'], item['no']) for item in list_all_tera if not item['assunto']]\n",
    "quais_fx_o = [(item['ação'], item['tipo_lei'], item['no']) for item in list_all_terado if not item['assunto']]\n",
    "\n",
    "# Convert the lists of tuples into strings\n",
    "quais_f_str = ';'.join(map(str, quais_f))\n",
    "quais_fx_str = ';'.join(map(str, quais_fx))\n",
    "quais_f_o_str = ';'.join(map(str, quais_f_o))\n",
    "quais_fx_o_str = ';'.join(map(str, quais_fx_o))\n",
    "\n",
    "print(quais_f_str)\n",
    "print(quais_fx_str)\n",
    "print(quais_f_o_str)\n",
    "print(quais_fx_o_str)\n",
    "#'''"
   ],
   "metadata": {
    "collapsed": false,
    "ExecuteTime": {
     "end_time": "2023-07-20T04:25:43.449977351Z",
     "start_time": "2023-07-20T04:25:43.408079061Z"
    }
   }
  },
  {
   "cell_type": "code",
   "execution_count": 133,
   "outputs": [
    {
     "name": "stdout",
     "output_type": "stream",
     "text": [
      "(128, 40588, 0.0031536414703853357)\n"
     ]
    }
   ],
   "source": [
    "'''\n",
    "def calculate_frequency(text, regex):\n",
    "    # Find all occurrences of the terms in the text\n",
    "    matches = re.findall(regex, text, re.IGNORECASE)\n",
    "\n",
    "    # Count the total number of words in the text\n",
    "    total_words = len(re.findall(r'\\b\\w+\\b', text))\n",
    "\n",
    "    # Calculate the frequency\n",
    "    frequency = len(matches) / total_words\n",
    "\n",
    "    return len(matches), total_words, frequency\n",
    "\n",
    "regex = r'internet|on-line|online|tecnol|digital|computador|computaciona|eletron|eletrôn|não presencial|virtual|virtuais|banda.larga| redes?\\s|veículo de comunicação social'\n",
    "print(calculate_frequency(f_read, regex))\n",
    "#'''"
   ],
   "metadata": {
    "collapsed": false,
    "ExecuteTime": {
     "end_time": "2023-07-20T03:45:06.320180652Z",
     "start_time": "2023-07-20T03:45:06.275573007Z"
    }
   }
  },
  {
   "cell_type": "code",
   "execution_count": 134,
   "outputs": [
    {
     "data": {
      "text/plain": "False"
     },
     "execution_count": 134,
     "metadata": {},
     "output_type": "execute_result"
    }
   ],
   "source": [
    "# response = True if re.search(regex, df_imp.iloc[i].ementa) else False\n",
    "# response"
   ],
   "metadata": {
    "collapsed": false,
    "ExecuteTime": {
     "end_time": "2023-07-20T03:45:10.572070464Z",
     "start_time": "2023-07-20T03:45:10.559320045Z"
    }
   }
  },
  {
   "cell_type": "code",
   "execution_count": 135,
   "outputs": [
    {
     "data": {
      "text/plain": "False"
     },
     "execution_count": 135,
     "metadata": {},
     "output_type": "execute_result"
    }
   ],
   "source": [
    "# response = True if re.search(regex, df_imp.iloc[i]['Artigo 1º']) else False\n",
    "# response"
   ],
   "metadata": {
    "collapsed": false,
    "ExecuteTime": {
     "end_time": "2023-07-20T03:45:13.331618658Z",
     "start_time": "2023-07-20T03:45:13.299721878Z"
    }
   }
  },
  {
   "cell_type": "code",
   "execution_count": 136,
   "outputs": [
    {
     "data": {
      "text/plain": "'o'"
     },
     "execution_count": 136,
     "metadata": {},
     "output_type": "execute_result"
    }
   ],
   "source": [
    "# response = \"\" if re.search(regex, df_imp.iloc[i].ementa) or re.search(regex, df_imp.iloc[i].ementa) else \"o\"\n",
    "# response"
   ],
   "metadata": {
    "collapsed": false,
    "ExecuteTime": {
     "end_time": "2023-07-20T03:45:16.105809865Z",
     "start_time": "2023-07-20T03:45:16.101453121Z"
    }
   }
  },
  {
   "cell_type": "code",
   "execution_count": 131,
   "outputs": [
    {
     "data": {
      "text/plain": "id\n1      o\n2       \n3       \n4      o\n5       \n      ..\n243    o\n244    o\n245    o\n246    o\n247    o\nName: o, Length: 247, dtype: object"
     },
     "execution_count": 131,
     "metadata": {},
     "output_type": "execute_result"
    }
   ],
   "source": [
    "# df_imp['o'] = df_imp.apply(lambda row: \"\" if re.search(regex, row['ementa'], re.IGNORECASE) or re.search(regex, row['Artigo 1º'], re.IGNORECASE) else \"o\", axis=1)\n",
    "# df_imp['o']"
   ],
   "metadata": {
    "collapsed": false,
    "ExecuteTime": {
     "end_time": "2023-07-20T03:40:08.696906054Z",
     "start_time": "2023-07-20T03:40:08.647459464Z"
    }
   }
  },
  {
   "cell_type": "markdown",
   "source": [
    "# Now test everything in a loop"
   ],
   "metadata": {
    "collapsed": false
   }
  },
  {
   "cell_type": "code",
   "execution_count": 157,
   "outputs": [],
   "source": [
    "with open('../../busca.txt', 'r') as f:\n",
    "    busca = '../../' + f.read()\n",
    "\n",
    "def extract_number(s):\n",
    "    match = re.search(r'Nº (\\d+\\.?\\d*)', s)\n",
    "    return int(re.sub(\"\\.\", \"\", match.group(1))) if match else None\n",
    "\n",
    "df_imp['nº lei'] = df_imp['epígrafe'].apply(extract_number)\n",
    "\n",
    "regex = r'internet|on-line|online|tecnol|digital|computador|computaciona|eletron|eletrôn|não presencial|virtual|virtuais|banda.larga| redes?\\s|veículo de comunicação social'"
   ],
   "metadata": {
    "collapsed": false,
    "ExecuteTime": {
     "end_time": "2023-07-20T05:11:10.022743576Z",
     "start_time": "2023-07-20T05:11:09.981305898Z"
    }
   }
  },
  {
   "cell_type": "code",
   "execution_count": 158,
   "outputs": [],
   "source": [
    "def lists_of_law_interaction(file_name):\n",
    "    with open(busca + \"/txt_laws/\" + file_name + \".txt\", 'r') as f:\n",
    "        f_r = f.read()\n",
    "\n",
    "        all_tera_tmp = re.findall(r'([Aa]ltera|[Rr]evoga|[Rr]etifica|[Mm]odifica|[, ]e [ao])\\s.*?([Dd]ecreto\\n?-\\n?[Ll]ei|[Ll]ei|[Ll]ei\\s[Cc]omplementar)\\s[^0-9.]+(\\d[\\.\\d]*)', f_r)\n",
    "        vigora = re.findall(r'([Dd]ecreto\\n?-\\n?[Ll]ei|[Ll]ei|[Ll]ei\\s[Cc]omplementar)\\s[^0-9.]+(\\d[\\.\\d]*).?.[dD][eE]\\s\\d\\d?\\s[dD][eE]\\s\\w+\\s[dD][eE]\\s\\d\\d\\d\\d.?\\spassa\\sa\\s', f_r)\n",
    "        list_all_tera = []\n",
    "        all_terado_tmp = re.findall(r'([\\wí]+|[\\wí]+\\sdada)(?=\\spel[ao]\\s\\w*-?([Dd]ecreto\\n?-\\n?[Ll]ei|[Ll]ei|[Ll]ei\\s[Cc]omplementar))[^0-9.]+(\\d[\\.\\d]*)', f_r)\n",
    "        list_all_terado = []\n",
    "\n",
    "        law_type_translation = {\n",
    "            'lei': 'l',\n",
    "            'decreto-lei': 'dl',\n",
    "            'leicomplementar': 'lc'\n",
    "        }\n",
    "        last_action = None\n",
    "        for action, law_type, number in all_tera_tmp:\n",
    "            action = action.lower()\n",
    "            law_type = re.sub(r'\\s', \"\", law_type.lower())\n",
    "\n",
    "            law_type = law_type_translation[law_type]\n",
    "\n",
    "            if action in [' e o', ',e o', ' e a', ',e a']:\n",
    "                action = last_action\n",
    "            else:\n",
    "                last_action = action\n",
    "\n",
    "            list_all_tera.append((action, law_type, number))\n",
    "        for law_type, number in vigora:\n",
    "            law_type = re.sub(r'\\s', \"\", law_type.lower())\n",
    "\n",
    "            law_type = law_type_translation[law_type]\n",
    "\n",
    "            list_all_tera.append(('altera', law_type, number))\n",
    "\n",
    "        set_tera_dict = set(list_all_tera)\n",
    "        list_all_tera = []\n",
    "        for action, law_type, number in set_tera_dict:\n",
    "            no = int(re.sub(r'\\.', \"\", number))\n",
    "            found_assunto = no in df_imp['nº lei'].values\n",
    "            tera_dict = {\n",
    "                'ação': action,\n",
    "                'tipo_lei': law_type,\n",
    "                'no': no,\n",
    "                'assunto': found_assunto\n",
    "            }\n",
    "            list_all_tera.append(tera_dict)\n",
    "\n",
    "        for action, law_type, number in all_terado_tmp:\n",
    "            action = action.lower()\n",
    "            law_type = re.sub(r'\\s', \"\", law_type.lower())\n",
    "\n",
    "            law_type = law_type_translation[law_type]\n",
    "\n",
    "            list_all_terado.append((action, law_type, number))\n",
    "\n",
    "        set_terado_dict = set(list_all_terado)\n",
    "        list_all_terado = []\n",
    "        for action, law_type, number in set_terado_dict:\n",
    "            no = int(re.sub(r'\\.', \"\", number))\n",
    "            found_assunto = no in df_imp['nº lei'].values\n",
    "            terado_dict = {\n",
    "                'ação': action,\n",
    "                'tipo_lei': law_type,\n",
    "                'no': no,\n",
    "                'assunto': found_assunto\n",
    "            }\n",
    "            list_all_terado.append(terado_dict)\n",
    "\n",
    "    return f_r, list_all_tera, list_all_terado"
   ],
   "metadata": {
    "collapsed": false,
    "ExecuteTime": {
     "end_time": "2023-07-20T05:11:13.862848912Z",
     "start_time": "2023-07-20T05:11:13.816166153Z"
    }
   }
  },
  {
   "cell_type": "code",
   "execution_count": 159,
   "outputs": [],
   "source": [
    "def f_or_fx(list_all_tera, list_all_terado):\n",
    "    list_all_tera_true = [item for item in list_all_tera if item['assunto']]\n",
    "    list_all_terado_true = [item for item in list_all_terado if item['assunto']]\n",
    "\n",
    "    if list_all_tera_true and list_all_terado_true:\n",
    "        none_either_or_both_f_fx = \"f();f(x)\"\n",
    "    elif list_all_tera_true:\n",
    "        none_either_or_both_f_fx = \"f()\"\n",
    "    elif list_all_terado_true:\n",
    "        none_either_or_both_f_fx = \"f(x)\"\n",
    "    else:\n",
    "        none_either_or_both_f_fx = \"\"\n",
    "\n",
    "    # Filter the lists based on 'assunto'\n",
    "    quais_f_temp = [(item['ação'], item['tipo_lei'], item['no']) for item in list_all_tera if item['assunto']]\n",
    "    quais_fx_temp = [(item['ação'], item['tipo_lei'], item['no']) for item in list_all_terado if item['assunto']]\n",
    "    quais_f_o_temp = [(item['ação'], item['tipo_lei'], item['no']) for item in list_all_tera if not item['assunto']]\n",
    "    quais_fx_o_temp = [(item['ação'], item['tipo_lei'], item['no']) for item in list_all_terado if not item['assunto']]\n",
    "\n",
    "    # Convert the lists of tuples into strings\n",
    "    quais_f_str = ';'.join(map(str, quais_f_temp))\n",
    "    quais_fx_str = ';'.join(map(str, quais_fx_temp))\n",
    "    quais_f_o_str = ';'.join(map(str, quais_f_o_temp))\n",
    "    quais_fx_o_str = ';'.join(map(str, quais_fx_o_temp))\n",
    "\n",
    "    return none_either_or_both_f_fx, quais_f_str, quais_fx_str, quais_f_o_str, quais_fx_o_str"
   ],
   "metadata": {
    "collapsed": false,
    "ExecuteTime": {
     "end_time": "2023-07-20T05:11:15.760561401Z",
     "start_time": "2023-07-20T05:11:15.722015451Z"
    }
   }
  },
  {
   "cell_type": "code",
   "execution_count": 160,
   "outputs": [],
   "source": [
    "def calculate_frequency(text, regex):\n",
    "    # Find all occurrences of the terms in the text\n",
    "    matches = re.findall(regex, text, re.IGNORECASE)\n",
    "\n",
    "    # Count the total number of words in the text\n",
    "    total_words = len(re.findall(r'\\b\\w+\\b', text))\n",
    "\n",
    "    # Calculate the frequency\n",
    "    frequency = len(matches) / total_words\n",
    "\n",
    "    return len(matches), total_words, frequency"
   ],
   "metadata": {
    "collapsed": false,
    "ExecuteTime": {
     "end_time": "2023-07-20T05:11:17.084911108Z",
     "start_time": "2023-07-20T05:11:16.987838487Z"
    }
   }
  },
  {
   "cell_type": "code",
   "execution_count": 168,
   "outputs": [],
   "source": [
    "# for row in df_imp.itertuples():\n",
    "# for i, row in df_imp.iterrows():\n",
    "# -- inside -- df.loc[index, 'column_name'] = some_value\n",
    "def create_assunto_and_f_columns(row):\n",
    "    file_name = row.file_name\n",
    "    f_read, all_tera, all_terado = lists_of_law_interaction(file_name)\n",
    "    f_fx, quais_f, quais_fx, quais_f_o, quais_fx_o = f_or_fx(all_tera, all_terado)\n",
    "    matches, total_words, frequency = calculate_frequency(f_read, regex)\n",
    "    row['f_or_fx'] = f_fx\n",
    "    row['quais_f'] = quais_f\n",
    "    row['quais_fx'] = quais_fx\n",
    "    row['quais_f_o'] = quais_f_o\n",
    "    row['quais_fx_o'] = quais_fx_o\n",
    "    row['assunto'] = matches\n",
    "    row['n_palavras'] = total_words\n",
    "    row['freq_assunto'] = frequency\n",
    "\n",
    "    return row"
   ],
   "metadata": {
    "collapsed": false,
    "ExecuteTime": {
     "end_time": "2023-07-20T05:13:08.535452969Z",
     "start_time": "2023-07-20T05:13:08.522760263Z"
    }
   }
  },
  {
   "cell_type": "code",
   "execution_count": 169,
   "outputs": [],
   "source": [
    "df = df_imp.apply(create_assunto_and_f_columns, axis=1)"
   ],
   "metadata": {
    "collapsed": false,
    "ExecuteTime": {
     "end_time": "2023-07-20T05:13:23.058632054Z",
     "start_time": "2023-07-20T05:13:10.668989391Z"
    }
   }
  },
  {
   "cell_type": "code",
   "execution_count": 170,
   "outputs": [
    {
     "data": {
      "text/plain": "id\n1      o\n2       \n3       \n4      o\n5       \n      ..\n243    o\n244    o\n245    o\n246    o\n247    o\nName: o, Length: 247, dtype: object"
     },
     "execution_count": 170,
     "metadata": {},
     "output_type": "execute_result"
    }
   ],
   "source": [
    "df['o'] = df_imp.apply(lambda row: \"\" if re.search(regex, row['ementa'], re.IGNORECASE) or re.search(regex, row['Artigo 1º'], re.IGNORECASE) else \"o\", axis=1)\n",
    "df['o']"
   ],
   "metadata": {
    "collapsed": false,
    "ExecuteTime": {
     "end_time": "2023-07-20T05:13:25.580966718Z",
     "start_time": "2023-07-20T05:13:25.522443230Z"
    }
   }
  },
  {
   "cell_type": "code",
   "execution_count": 172,
   "outputs": [
    {
     "data": {
      "text/plain": "                                        epígrafe  \\\nid                                                 \n1         LEI Nº 12.015, DE 7 DE AGOSTO DE 2009.   \n2          LEI Nº 12.965, DE 23 DE ABRIL DE 2014   \n3       LEI Nº 13.179, DE 22 DE OUTUBRO DE 2015.   \n4          LEI Nº 11.300, DE 10 DE MAIO DE 2006.   \n5         LEI Nº 12.686, DE 18 DE JULHO DE 2012.   \n..                                           ...   \n243     LEI Nº 6.404, DE 15 DE DEZEMBRO DE 1976.   \n244      LEI Nº 9.503, DE 23 DE SETEMBRO DE 1997   \n245  DECRETO-LEI Nº 5.452, DE 1º DE MAIO DE 1943   \n246      LEI Nº 5.869, DE 11 DE JANEIRO DE 1973.   \n247      LEI Nº 10.406, DE 10 DE JANEIRO DE 2002   \n\n                                                ementa  \\\nid                                                       \n1    Altera o Título VI da Parte Especial do Decret...   \n2    Estabelece princípios, garantias, direitos e d...   \n3    Obriga o fornecedor de ingresso para evento cu...   \n4    Dispõe sobre propaganda, financiamento e prest...   \n5    Normatiza a divulgação de documentos instituci...   \n..                                                 ...   \n243              Dispõe sobre as Sociedades por Ações.   \n244          Institui o Código de Trânsito Brasileiro.   \n245        Aprova a Consolidação das Leis do Trabalho.   \n246               Institui o Código de Processo Civil.   \n247                           Institui o Código Civil.   \n\n                                             Artigo 1º Artigo 1 revogado  \\\nid                                                                         \n1    Esta Lei altera o Título VI da Parte Especial ...               NaN   \n2    Esta Lei estabelece princípios, garantias, dir...               NaN   \n3    O fornecedor de ingresso para evento cultural ...               NaN   \n4    A Lei nº 9.504, de 30 de setembro de 1997, pas...               NaN   \n5    Esta Lei normatiza a divulgação de documentos ...               NaN   \n..                                                 ...               ...   \n243  A companhia ou sociedade anônima terá o capita...               NaN   \n244  O trânsito de qualquer natureza nas vias terre...               NaN   \n245  Fica aprovada a Consolidação das Leis do Traba...               NaN   \n246  A jurisdição civil, contenciosa e voluntária, ...                 r   \n247  Toda pessoa é capaz de direitos e deveres na o...               NaN   \n\n                                                   URL    file_name  nº lei  \\\nid                                                                            \n1    https://www.planalto.gov.br/ccivil_03/_ato2007...       l12015   12015   \n2    https://www.planalto.gov.br/ccivil_03/_ato2011...       l12965   12965   \n3    https://www.planalto.gov.br/ccivil_03/_ato2015...       l13179   13179   \n4    https://www.planalto.gov.br/ccivil_03/_ato2004...       l11300   11300   \n5    https://www.planalto.gov.br/ccivil_03/_ato2011...       l12686   12686   \n..                                                 ...          ...     ...   \n243  https://www.planalto.gov.br/ccivil_03/leis/l64...  l6404consol    6404   \n244  https://www.planalto.gov.br/ccivil_03/leis/l95...        l9503    9503   \n245  https://www.planalto.gov.br/ccivil_03/decreto-...      del5452    5452   \n246  https://www.planalto.gov.br/ccivil_03/leis/l58...        l5869    5869   \n247  https://www.planalto.gov.br/ccivil_03/leis/200...       l10406   10406   \n\n      f_or_fx                                            quais_f  \\\nid                                                                 \n1         f()  (None, 'l', 4737);(None, 'l', 11300);(None, 'l...   \n2        f(x)  (None, 'l', 4737);(None, 'l', 11300);(None, 'l...   \n3              (None, 'l', 4737);(None, 'l', 11300);(None, 'l...   \n4         f()  (None, 'l', 4737);(None, 'l', 11300);(None, 'l...   \n5              (None, 'l', 4737);(None, 'l', 11300);(None, 'l...   \n..        ...                                                ...   \n243  f();f(x)  (None, 'l', 4737);(None, 'l', 11300);(None, 'l...   \n244  f();f(x)  (None, 'l', 4737);(None, 'l', 11300);(None, 'l...   \n245  f();f(x)  (None, 'l', 4737);(None, 'l', 11300);(None, 'l...   \n246            (None, 'l', 4737);(None, 'l', 11300);(None, 'l...   \n247      f(x)  (None, 'l', 4737);(None, 'l', 11300);(None, 'l...   \n\n                                              quais_fx          quais_f_o  \\\nid                                                                          \n1    ('redação dada', 'l', 12891);('incluído', 'l',...  (None, 'l', 9100)   \n2    ('redação dada', 'l', 12891);('incluído', 'l',...  (None, 'l', 9100)   \n3    ('redação dada', 'l', 12891);('incluído', 'l',...  (None, 'l', 9100)   \n4    ('redação dada', 'l', 12891);('incluído', 'l',...  (None, 'l', 9100)   \n5    ('redação dada', 'l', 12891);('incluído', 'l',...  (None, 'l', 9100)   \n..                                                 ...                ...   \n243  ('redação dada', 'l', 12891);('incluído', 'l',...  (None, 'l', 9100)   \n244  ('redação dada', 'l', 12891);('incluído', 'l',...  (None, 'l', 9100)   \n245  ('redação dada', 'l', 12891);('incluído', 'l',...  (None, 'l', 9100)   \n246  ('redação dada', 'l', 12891);('incluído', 'l',...  (None, 'l', 9100)   \n247  ('redação dada', 'l', 12891);('incluído', 'l',...  (None, 'l', 9100)   \n\n                       quais_fx_o  assunto  n_palavras  freq_assunto  o  \nid                                                                       \n1    ('redação dada', 'l', 12976)        2        1799      0.001112  o  \n2    ('redação dada', 'l', 12976)      128        6698      0.019110     \n3    ('redação dada', 'l', 12976)        2         328      0.006098     \n4    ('redação dada', 'l', 12976)        4        1434      0.002789  o  \n5    ('redação dada', 'l', 12976)        9         181      0.049724     \n..                            ...      ...         ...           ... ..  \n243  ('redação dada', 'l', 12976)       19       60010      0.000317  o  \n244  ('redação dada', 'l', 12976)       59       62198      0.000949  o  \n245  ('redação dada', 'l', 12976)      124      217821      0.000569  o  \n246  ('redação dada', 'l', 12976)        0         281      0.000000  o  \n247  ('redação dada', 'l', 12976)        2        4026      0.000497  o  \n\n[247 rows x 16 columns]",
      "text/html": "<div>\n<style scoped>\n    .dataframe tbody tr th:only-of-type {\n        vertical-align: middle;\n    }\n\n    .dataframe tbody tr th {\n        vertical-align: top;\n    }\n\n    .dataframe thead th {\n        text-align: right;\n    }\n</style>\n<table border=\"1\" class=\"dataframe\">\n  <thead>\n    <tr style=\"text-align: right;\">\n      <th></th>\n      <th>epígrafe</th>\n      <th>ementa</th>\n      <th>Artigo 1º</th>\n      <th>Artigo 1 revogado</th>\n      <th>URL</th>\n      <th>file_name</th>\n      <th>nº lei</th>\n      <th>f_or_fx</th>\n      <th>quais_f</th>\n      <th>quais_fx</th>\n      <th>quais_f_o</th>\n      <th>quais_fx_o</th>\n      <th>assunto</th>\n      <th>n_palavras</th>\n      <th>freq_assunto</th>\n      <th>o</th>\n    </tr>\n    <tr>\n      <th>id</th>\n      <th></th>\n      <th></th>\n      <th></th>\n      <th></th>\n      <th></th>\n      <th></th>\n      <th></th>\n      <th></th>\n      <th></th>\n      <th></th>\n      <th></th>\n      <th></th>\n      <th></th>\n      <th></th>\n      <th></th>\n      <th></th>\n    </tr>\n  </thead>\n  <tbody>\n    <tr>\n      <th>1</th>\n      <td>LEI Nº 12.015, DE 7 DE AGOSTO DE 2009.</td>\n      <td>Altera o Título VI da Parte Especial do Decret...</td>\n      <td>Esta Lei altera o Título VI da Parte Especial ...</td>\n      <td>NaN</td>\n      <td>https://www.planalto.gov.br/ccivil_03/_ato2007...</td>\n      <td>l12015</td>\n      <td>12015</td>\n      <td>f()</td>\n      <td>(None, 'l', 4737);(None, 'l', 11300);(None, 'l...</td>\n      <td>('redação dada', 'l', 12891);('incluído', 'l',...</td>\n      <td>(None, 'l', 9100)</td>\n      <td>('redação dada', 'l', 12976)</td>\n      <td>2</td>\n      <td>1799</td>\n      <td>0.001112</td>\n      <td>o</td>\n    </tr>\n    <tr>\n      <th>2</th>\n      <td>LEI Nº 12.965, DE 23 DE ABRIL DE 2014</td>\n      <td>Estabelece princípios, garantias, direitos e d...</td>\n      <td>Esta Lei estabelece princípios, garantias, dir...</td>\n      <td>NaN</td>\n      <td>https://www.planalto.gov.br/ccivil_03/_ato2011...</td>\n      <td>l12965</td>\n      <td>12965</td>\n      <td>f(x)</td>\n      <td>(None, 'l', 4737);(None, 'l', 11300);(None, 'l...</td>\n      <td>('redação dada', 'l', 12891);('incluído', 'l',...</td>\n      <td>(None, 'l', 9100)</td>\n      <td>('redação dada', 'l', 12976)</td>\n      <td>128</td>\n      <td>6698</td>\n      <td>0.019110</td>\n      <td></td>\n    </tr>\n    <tr>\n      <th>3</th>\n      <td>LEI Nº 13.179, DE 22 DE OUTUBRO DE 2015.</td>\n      <td>Obriga o fornecedor de ingresso para evento cu...</td>\n      <td>O fornecedor de ingresso para evento cultural ...</td>\n      <td>NaN</td>\n      <td>https://www.planalto.gov.br/ccivil_03/_ato2015...</td>\n      <td>l13179</td>\n      <td>13179</td>\n      <td></td>\n      <td>(None, 'l', 4737);(None, 'l', 11300);(None, 'l...</td>\n      <td>('redação dada', 'l', 12891);('incluído', 'l',...</td>\n      <td>(None, 'l', 9100)</td>\n      <td>('redação dada', 'l', 12976)</td>\n      <td>2</td>\n      <td>328</td>\n      <td>0.006098</td>\n      <td></td>\n    </tr>\n    <tr>\n      <th>4</th>\n      <td>LEI Nº 11.300, DE 10 DE MAIO DE 2006.</td>\n      <td>Dispõe sobre propaganda, financiamento e prest...</td>\n      <td>A Lei nº 9.504, de 30 de setembro de 1997, pas...</td>\n      <td>NaN</td>\n      <td>https://www.planalto.gov.br/ccivil_03/_ato2004...</td>\n      <td>l11300</td>\n      <td>11300</td>\n      <td>f()</td>\n      <td>(None, 'l', 4737);(None, 'l', 11300);(None, 'l...</td>\n      <td>('redação dada', 'l', 12891);('incluído', 'l',...</td>\n      <td>(None, 'l', 9100)</td>\n      <td>('redação dada', 'l', 12976)</td>\n      <td>4</td>\n      <td>1434</td>\n      <td>0.002789</td>\n      <td>o</td>\n    </tr>\n    <tr>\n      <th>5</th>\n      <td>LEI Nº 12.686, DE 18 DE JULHO DE 2012.</td>\n      <td>Normatiza a divulgação de documentos instituci...</td>\n      <td>Esta Lei normatiza a divulgação de documentos ...</td>\n      <td>NaN</td>\n      <td>https://www.planalto.gov.br/ccivil_03/_ato2011...</td>\n      <td>l12686</td>\n      <td>12686</td>\n      <td></td>\n      <td>(None, 'l', 4737);(None, 'l', 11300);(None, 'l...</td>\n      <td>('redação dada', 'l', 12891);('incluído', 'l',...</td>\n      <td>(None, 'l', 9100)</td>\n      <td>('redação dada', 'l', 12976)</td>\n      <td>9</td>\n      <td>181</td>\n      <td>0.049724</td>\n      <td></td>\n    </tr>\n    <tr>\n      <th>...</th>\n      <td>...</td>\n      <td>...</td>\n      <td>...</td>\n      <td>...</td>\n      <td>...</td>\n      <td>...</td>\n      <td>...</td>\n      <td>...</td>\n      <td>...</td>\n      <td>...</td>\n      <td>...</td>\n      <td>...</td>\n      <td>...</td>\n      <td>...</td>\n      <td>...</td>\n      <td>...</td>\n    </tr>\n    <tr>\n      <th>243</th>\n      <td>LEI Nº 6.404, DE 15 DE DEZEMBRO DE 1976.</td>\n      <td>Dispõe sobre as Sociedades por Ações.</td>\n      <td>A companhia ou sociedade anônima terá o capita...</td>\n      <td>NaN</td>\n      <td>https://www.planalto.gov.br/ccivil_03/leis/l64...</td>\n      <td>l6404consol</td>\n      <td>6404</td>\n      <td>f();f(x)</td>\n      <td>(None, 'l', 4737);(None, 'l', 11300);(None, 'l...</td>\n      <td>('redação dada', 'l', 12891);('incluído', 'l',...</td>\n      <td>(None, 'l', 9100)</td>\n      <td>('redação dada', 'l', 12976)</td>\n      <td>19</td>\n      <td>60010</td>\n      <td>0.000317</td>\n      <td>o</td>\n    </tr>\n    <tr>\n      <th>244</th>\n      <td>LEI Nº 9.503, DE 23 DE SETEMBRO DE 1997</td>\n      <td>Institui o Código de Trânsito Brasileiro.</td>\n      <td>O trânsito de qualquer natureza nas vias terre...</td>\n      <td>NaN</td>\n      <td>https://www.planalto.gov.br/ccivil_03/leis/l95...</td>\n      <td>l9503</td>\n      <td>9503</td>\n      <td>f();f(x)</td>\n      <td>(None, 'l', 4737);(None, 'l', 11300);(None, 'l...</td>\n      <td>('redação dada', 'l', 12891);('incluído', 'l',...</td>\n      <td>(None, 'l', 9100)</td>\n      <td>('redação dada', 'l', 12976)</td>\n      <td>59</td>\n      <td>62198</td>\n      <td>0.000949</td>\n      <td>o</td>\n    </tr>\n    <tr>\n      <th>245</th>\n      <td>DECRETO-LEI Nº 5.452, DE 1º DE MAIO DE 1943</td>\n      <td>Aprova a Consolidação das Leis do Trabalho.</td>\n      <td>Fica aprovada a Consolidação das Leis do Traba...</td>\n      <td>NaN</td>\n      <td>https://www.planalto.gov.br/ccivil_03/decreto-...</td>\n      <td>del5452</td>\n      <td>5452</td>\n      <td>f();f(x)</td>\n      <td>(None, 'l', 4737);(None, 'l', 11300);(None, 'l...</td>\n      <td>('redação dada', 'l', 12891);('incluído', 'l',...</td>\n      <td>(None, 'l', 9100)</td>\n      <td>('redação dada', 'l', 12976)</td>\n      <td>124</td>\n      <td>217821</td>\n      <td>0.000569</td>\n      <td>o</td>\n    </tr>\n    <tr>\n      <th>246</th>\n      <td>LEI Nº 5.869, DE 11 DE JANEIRO DE 1973.</td>\n      <td>Institui o Código de Processo Civil.</td>\n      <td>A jurisdição civil, contenciosa e voluntária, ...</td>\n      <td>r</td>\n      <td>https://www.planalto.gov.br/ccivil_03/leis/l58...</td>\n      <td>l5869</td>\n      <td>5869</td>\n      <td></td>\n      <td>(None, 'l', 4737);(None, 'l', 11300);(None, 'l...</td>\n      <td>('redação dada', 'l', 12891);('incluído', 'l',...</td>\n      <td>(None, 'l', 9100)</td>\n      <td>('redação dada', 'l', 12976)</td>\n      <td>0</td>\n      <td>281</td>\n      <td>0.000000</td>\n      <td>o</td>\n    </tr>\n    <tr>\n      <th>247</th>\n      <td>LEI Nº 10.406, DE 10 DE JANEIRO DE 2002</td>\n      <td>Institui o Código Civil.</td>\n      <td>Toda pessoa é capaz de direitos e deveres na o...</td>\n      <td>NaN</td>\n      <td>https://www.planalto.gov.br/ccivil_03/leis/200...</td>\n      <td>l10406</td>\n      <td>10406</td>\n      <td>f(x)</td>\n      <td>(None, 'l', 4737);(None, 'l', 11300);(None, 'l...</td>\n      <td>('redação dada', 'l', 12891);('incluído', 'l',...</td>\n      <td>(None, 'l', 9100)</td>\n      <td>('redação dada', 'l', 12976)</td>\n      <td>2</td>\n      <td>4026</td>\n      <td>0.000497</td>\n      <td>o</td>\n    </tr>\n  </tbody>\n</table>\n<p>247 rows × 16 columns</p>\n</div>"
     },
     "execution_count": 172,
     "metadata": {},
     "output_type": "execute_result"
    }
   ],
   "source": [
    "df"
   ],
   "metadata": {
    "collapsed": false,
    "ExecuteTime": {
     "end_time": "2023-07-20T05:13:37.654544987Z",
     "start_time": "2023-07-20T05:13:37.613125323Z"
    }
   }
  },
  {
   "cell_type": "code",
   "execution_count": 176,
   "outputs": [],
   "source": [
    "df.to_csv('../../importador_frequenciado.csv', index=True, encoding='utf-8-sig')"
   ],
   "metadata": {
    "collapsed": false,
    "ExecuteTime": {
     "end_time": "2023-07-20T05:18:55.446617596Z",
     "start_time": "2023-07-20T05:18:55.434682226Z"
    }
   }
  },
  {
   "cell_type": "code",
   "execution_count": null,
   "outputs": [],
   "source": [],
   "metadata": {
    "collapsed": false
   }
  }
 ],
 "metadata": {
  "kernelspec": {
   "display_name": "Python 3",
   "language": "python",
   "name": "python3"
  },
  "language_info": {
   "codemirror_mode": {
    "name": "ipython",
    "version": 2
   },
   "file_extension": ".py",
   "mimetype": "text/x-python",
   "name": "python",
   "nbconvert_exporter": "python",
   "pygments_lexer": "ipython2",
   "version": "2.7.6"
  }
 },
 "nbformat": 4,
 "nbformat_minor": 0
}
